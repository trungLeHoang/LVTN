{
  "nbformat": 4,
  "nbformat_minor": 0,
  "metadata": {
    "colab": {
      "name": "Load_Data.ipynb",
      "provenance": [],
      "collapsed_sections": [
        "6h97hlZMz4Sy"
      ],
      "include_colab_link": true
    },
    "kernelspec": {
      "display_name": "Python 3",
      "language": "python",
      "name": "python3"
    },
    "language_info": {
      "codemirror_mode": {
        "name": "ipython",
        "version": 3
      },
      "file_extension": ".py",
      "mimetype": "text/x-python",
      "name": "python",
      "nbconvert_exporter": "python",
      "pygments_lexer": "ipython3",
      "version": "3.6.10"
    }
  },
  "cells": [
    {
      "cell_type": "markdown",
      "metadata": {
        "id": "view-in-github",
        "colab_type": "text"
      },
      "source": [
        "<a href=\"https://colab.research.google.com/github/trungLeHoang/LVTN/blob/main/Load_Data.ipynb\" target=\"_parent\"><img src=\"https://colab.research.google.com/assets/colab-badge.svg\" alt=\"Open In Colab\"/></a>"
      ]
    },
    {
      "cell_type": "code",
      "metadata": {
        "colab": {
          "base_uri": "https://localhost:8080/"
        },
        "id": "PjyuMXgUIjxD",
        "outputId": "a5c1446a-c5d6-4fab-f0be-a3508eaeb750"
      },
      "source": [
        "from google.colab import drive\n",
        "drive.mount('/content/drive')"
      ],
      "execution_count": null,
      "outputs": [
        {
          "output_type": "stream",
          "name": "stdout",
          "text": [
            "Drive already mounted at /content/drive; to attempt to forcibly remount, call drive.mount(\"/content/drive\", force_remount=True).\n"
          ]
        }
      ]
    },
    {
      "cell_type": "markdown",
      "metadata": {
        "id": "M--pwLuJz8Uq"
      },
      "source": [
        "# Code LVTN dự đoán thời gian sống của pin"
      ]
    },
    {
      "cell_type": "code",
      "metadata": {
        "id": "Td3-00s0d4M1"
      },
      "source": [
        "import pandas as pd\n",
        "import numpy as np\n",
        "import os\n",
        "import random\n",
        "import scipy.io"
      ],
      "execution_count": null,
      "outputs": []
    },
    {
      "cell_type": "markdown",
      "metadata": {
        "id": "6h97hlZMz4Sy"
      },
      "source": [
        "## Define Load Data functions from NASA Dataset"
      ]
    },
    {
      "cell_type": "code",
      "metadata": {
        "id": "BZIIZ46JfySm"
      },
      "source": [
        "def build_files(folder_to_exclude, src_dir=os.getcwd()):\n",
        "    data_folder = os.path.join(src_dir, 'data')\n",
        "    dict_files = {}\n",
        "    for directory in os.listdir(data_folder):\n",
        "        fullpath_dir = os.path.join(data_folder, directory)\n",
        "        if os.path.isdir(fullpath_dir) and directory not in folder_to_exclude:\n",
        "            dict_files[directory] = [os.path.join(fullpath_dir, file) for file\n",
        "                                     in os.listdir(fullpath_dir) if\n",
        "                                     file.endswith('.mat')]\n",
        "\n",
        "    return dict_files"
      ],
      "execution_count": null,
      "outputs": []
    },
    {
      "cell_type": "code",
      "metadata": {
        "id": "VWuZp4ulliVf"
      },
      "source": [
        "def _convert_matlab_datetime_vector_to_utc(date_vector):\n",
        "    \"\"\"Convert matlab datetime format into a UTC format\"\"\"\n",
        "    # f'{val:02}' TODO\n",
        "    string_time = str(int(date_vector[0])) + \"-\" + \\\n",
        "        f'{int(date_vector[1]):02}' + \"-\" + \\\n",
        "        f'{int(date_vector[2]):02}' + \"T\" + \\\n",
        "        f'{int(date_vector[3]):02}' + \":\" + \\\n",
        "        f'{int(date_vector[4]):02}' + \":\" + \\\n",
        "        f'{float(date_vector[5]):06.3f}'\n",
        "\n",
        "    return string_time\n",
        "\n",
        "\n",
        "def _format_temperature(temp):\n",
        "    \"\"\"There are 3 main temparatures, if they are close we want to put them in the same category\"\"\"\n",
        "    # /!\\Disclaimer/!\\ This is completly related to the NASA battery dataset.\n",
        "    if temp < 6:\n",
        "        return 4\n",
        "    elif temp < 26:\n",
        "        return 24\n",
        "    else:\n",
        "        return 43"
      ],
      "execution_count": null,
      "outputs": []
    },
    {
      "cell_type": "code",
      "metadata": {
        "id": "y168j2TXlkn2"
      },
      "source": [
        "def extract_charge_from_item(item):\n",
        "    dict_item = {}\n",
        "\n",
        "    dict_item[\"test_type\"] = item[0][0]  # charge impedence discharge\n",
        "    dict_item[\"ambiant_temp\"] = _format_temperature(item[1][0][0])  # temperature: 4 ~24 ~43\n",
        "    dict_item[\"datetime\"] = _convert_matlab_datetime_vector_to_utc(item[2][0])\n",
        "\n",
        "    dict_item[\"voltage_measured\"] = item[3][0][0][0][0]  # Battery terminal voltage (Volts) floats\n",
        "    dict_item[\"current_measured\"] = item[3][0][0][1][0]  # Battery output current (Amps) floats\n",
        "    dict_item[\"temperature_measured\"] = item[3][0][0][2][0]  # Battery temperature (degree C) floats\n",
        "    dict_item[\"current_charge\"] = item[3][0][0][3][0]  # Current measured at charger (Amps) floats\n",
        "    dict_item[\"voltage_charge\"] = item[3][0][0][4][0]  # Voltage measured at charger (Volts) floats\n",
        "    # MEH\n",
        "    dict_item[\"time\"] = item[3][0][0][5][0]  # Time vector for the cycle (secs) floats\n",
        "\n",
        "    return dict_item\n",
        "\n",
        "\n",
        "def extract_discharge_from_item(item):\n",
        "    dict_item = {}\n",
        "\n",
        "    dict_item[\"test_type\"] = item[0][0]  # charge impedence discharge\n",
        "    dict_item[\"ambiant_temp\"] = _format_temperature(item[1][0][0])  # temperature: 4 ~24 ~43\n",
        "    dict_item[\"datetime\"] = _convert_matlab_datetime_vector_to_utc(item[2][0])\n",
        "\n",
        "    dict_item[\"voltage_measured\"] = item[3][0][0][0][0]  # Battery terminal voltage (Volts) floats\n",
        "    dict_item[\"current_measured\"] = item[3][0][0][1][0]  # Battery output current (Amps) flaots\n",
        "    dict_item[\"temperature_measured\"] = item[3][0][0][2][0]  # Battery temperature (degree C) floats\n",
        "    dict_item[\"current_charge\"] = item[3][0][0][3][0]  # Current measured at charger (Amps) floats\n",
        "    dict_item[\"voltage_charge\"] = item[3][0][0][4][0]  # Voltage measured at charger (Volts) floats\n",
        "    # MEH\n",
        "    dict_item[\"time\"] = item[3][0][0][5][0]  # Time vector for the cycle (secs) floats\n",
        "    dict_item[\"capacity\"] = item[3][0][0][6][0]  # Battery capacity (Ahr) for discharge till 2.7V float_\n",
        "\n",
        "    return dict_item\n",
        "\n",
        "\n",
        "def extract_impedance_from_item(item):\n",
        "    dict_item = {}\n",
        "\n",
        "    dict_item[\"test_type\"] = item[0][0]  # charge impedence discharge\n",
        "    dict_item[\"ambiant_temp\"] = _format_temperature(item[1][0][0])  # temperature: 4 ~24 ~43\n",
        "    dict_item[\"datetime\"] = _convert_matlab_datetime_vector_to_utc(item[2][0])\n",
        "\n",
        "    dict_item[\"sense_current\"] = item[3][0][0][0][0]  # Current in sense branch (Amps)| Complexes\n",
        "    dict_item[\"sense_current_real\"] = np.array([complx.real for complx in dict_item[\"sense_current\"]])\n",
        "    dict_item[\"sense_current_imag\"] = np.array([complx.imag for complx in dict_item[\"sense_current\"]])\n",
        "\n",
        "    dict_item[\"battery_current\"] = item[3][0][0][1][0]  # Current in battery branch (Amps)| Complexes\n",
        "    dict_item[\"battery_current_real\"] = np.array([complx.real for complx in dict_item[\"battery_current\"]])\n",
        "    dict_item[\"battery_current_imag\"] = np.array([complx.imag for complx in dict_item[\"battery_current\"]])\n",
        "\n",
        "    dict_item[\"current_ratio\"] = item[3][0][0][2][0]  # Ratio of the above currents| Complexes\n",
        "    dict_item[\"current_ratio_real\"] = np.array([complx.real for complx in dict_item[\"current_ratio\"]])\n",
        "    dict_item[\"current_ratio_imag\"] = np.array([complx.imag for complx in dict_item[\"current_ratio\"]])\n",
        "\n",
        "    # Battery impedance (Ohms) computed from raw data| Complexes\n",
        "    dict_item[\"battery_impedance\"] = np.array([val[0] for val in item[3][0][0][3]])\n",
        "    dict_item[\"battery_impedance_real\"] = np.array([complx.real for complx in dict_item[\"battery_impedance\"]])\n",
        "    dict_item[\"battery_impedance_imag\"] = np.array([complx.imag for complx in dict_item[\"battery_impedance\"]])\n",
        "\n",
        "    # Calibrated and smoothed battery impedance (Ohms)| Complexes\n",
        "    dict_item[\"rectified_impedance\"] = np.array([val[0] for val in item[3][0][0][4]])\n",
        "    dict_item[\"rectified_impedance_real\"] = np.array([complx.real for complx in dict_item[\"rectified_impedance\"]])\n",
        "    dict_item[\"rectified_impedance_imag\"] = np.array([complx.imag for complx in dict_item[\"rectified_impedance\"]])\n",
        "\n",
        "    dict_item[\"re\"] = item[3][0][0][5][0][0]  # Estimated electrolyte resistance (Ohms)| float_\n",
        "    dict_item[\"rct\"] = item[3][0][0][6][0][0]  # Estimated charge transfer resistance (Ohms)| float_\n",
        "\n",
        "    return dict_item"
      ],
      "execution_count": null,
      "outputs": []
    },
    {
      "cell_type": "code",
      "metadata": {
        "id": "zGhI-vB_lrkg"
      },
      "source": [
        "def _filter_mat(mat, test_type):\n",
        "    \"\"\"Keep only one type (e.g. impedance) from the matlab file\"\"\"\n",
        "    return [x for x in mat if x[0][0] == test_type]\n",
        "\n",
        "\n",
        "def _split_mat(mat):\n",
        "    \"\"\"Split matlab file into charge/discharge/impedance\"\"\"\n",
        "    raw_charge_items = _filter_mat(mat, \"charge\")\n",
        "    raw_discharge_items = _filter_mat(mat, \"discharge\")\n",
        "    raw_impedance_items = _filter_mat(mat, \"impedance\")\n",
        "\n",
        "    return raw_charge_items, raw_discharge_items, raw_impedance_items\n",
        "\n",
        "\n",
        "def _load_mat_file(filepath):\n",
        "    \"\"\"Load the matlab file\"\"\"\n",
        "    filename = os.path.split(filepath)[-1].split(\".\")[0]\n",
        "    raw_mat = scipy.io.loadmat(filepath)\n",
        "    mat = raw_mat[filename][0][0][0][0]\n",
        "\n",
        "    return mat"
      ],
      "execution_count": null,
      "outputs": []
    },
    {
      "cell_type": "code",
      "metadata": {
        "id": "dtomrOedl0du"
      },
      "source": [
        "def extract_charge_discharge_impedance(filepath):\n",
        "    mat = _load_mat_file(filepath)\n",
        "\n",
        "    raw_charge_items, raw_discharge_items, raw_impedance_items = _split_mat(mat)\n",
        "\n",
        "    charge_items = [extract_charge_from_item(raw_charge) for raw_charge in raw_charge_items]\n",
        "    discharge_items = [extract_discharge_from_item(raw_discharge) for raw_discharge in raw_discharge_items]\n",
        "    impedance_items = [extract_impedance_from_item(raw_impedance) for raw_impedance in raw_impedance_items]\n",
        "\n",
        "    return charge_items, discharge_items, impedance_items"
      ],
      "execution_count": null,
      "outputs": []
    },
    {
      "cell_type": "code",
      "metadata": {
        "id": "jLAS7YELf0kg"
      },
      "source": [
        "def extract_charge_items(charge, battery_nb, charge_nb):\n",
        "    df_charge = pd.DataFrame(\n",
        "        columns=['battery_nb', 'datetime', 'charge_nb',\n",
        "                 'voltage_measured', 'current_measured',\n",
        "                 'temperature_measured', 'current_charge',\n",
        "                 'voltage_charge', 'ambiant_temp']\n",
        "    )\n",
        "    df_charge['voltage_measured'] = charge['voltage_measured']\n",
        "    df_charge['current_measured'] = charge['current_measured']\n",
        "    df_charge['temperature_measured'] = charge[\n",
        "        'temperature_measured']\n",
        "    df_charge['current_charge'] = charge['current_charge']\n",
        "    df_charge['voltage_charge'] = charge['voltage_charge']\n",
        "    df_charge['ambiant_temp'] = charge['ambiant_temp']\n",
        "    df_charge['battery_nb'] = [battery_nb] * len(\n",
        "        charge['voltage_measured'])\n",
        "    df_charge['charge_nb'] = [charge_nb] * len(\n",
        "        charge['voltage_measured'])\n",
        "    df_charge['datetime'] = pd.Timestamp(\n",
        "        charge['datetime']) + pd.to_timedelta(charge['time'],\n",
        "                                              unit='s')\n",
        "\n",
        "    return df_charge\n",
        "\n",
        "\n",
        "def extract_discharge_items(discharge, battery_nb, discharge_nb):\n",
        "    df_discharge = pd.DataFrame(\n",
        "        columns=['battery_nb', 'datetime', 'discharge_nb',\n",
        "                 'voltage_measured', 'current_measured',\n",
        "                 'temperature_measured', 'current_charge',\n",
        "                 'voltage_charge', 'capacity', 'ambiant_temp']\n",
        "    )\n",
        "    df_discharge['voltage_measured'] = discharge[\n",
        "        'voltage_measured']\n",
        "    df_discharge['current_measured'] = discharge[\n",
        "        'current_measured']\n",
        "    df_discharge['temperature_measured'] = discharge[\n",
        "        'temperature_measured']\n",
        "    df_discharge['current_charge'] = discharge['current_charge']\n",
        "    df_discharge['voltage_charge'] = discharge['voltage_charge']\n",
        "    df_discharge['capacity'] = discharge['capacity'][0] if len(\n",
        "        discharge['capacity']) > 0 else [np.NaN] * len(\n",
        "        discharge['voltage_measured'])\n",
        "    df_discharge['ambiant_temp'] = discharge['ambiant_temp']\n",
        "    df_discharge['battery_nb'] = [battery_nb] * len(\n",
        "        discharge['voltage_measured'])\n",
        "    df_discharge['discharge_nb'] = [discharge_nb] * len(\n",
        "        discharge['voltage_measured'])\n",
        "    df_discharge['datetime'] = pd.Timestamp(\n",
        "        discharge['datetime']) + pd.to_timedelta(\n",
        "        discharge['time'], unit='s')\n",
        "\n",
        "    return df_discharge"
      ],
      "execution_count": null,
      "outputs": []
    },
    {
      "cell_type": "code",
      "metadata": {
        "id": "6FdC-f_1gfZh"
      },
      "source": [
        "def mat_to_pandas(files, bat_to_keep):\n",
        "    df = pd.DataFrame()\n",
        "    for folder_name, filepaths in files.items():\n",
        "        for filepath in filepaths:\n",
        "            battery_nb = int(\n",
        "                os.path.splitext(os.path.basename(filepath))[0].replace('B', '')\n",
        "            )\n",
        "            charge_nb = 1\n",
        "            discharge_nb = 1\n",
        "\n",
        "            if battery_nb in bat_to_keep:\n",
        "                charge_items, discharge_items, impedance_items = extract_charge_discharge_impedance(filepath)\n",
        "\n",
        "                for charge in charge_items:\n",
        "                    df_charge = extract_charge_items(charge, battery_nb, charge_nb)\n",
        "                    df = df.append(df_charge, ignore_index=True, sort=False)\n",
        "\n",
        "                    charge_nb = charge_nb + 1\n",
        "\n",
        "                for discharge in discharge_items:\n",
        "                    df_discharge = extract_discharge_items(discharge, battery_nb, discharge_nb)\n",
        "                    df = df.append(df_discharge, ignore_index=True, sort=False)\n",
        "\n",
        "                    discharge_nb = discharge_nb + 1\n",
        "    print(\"Datas loaded !\")\n",
        "    return df"
      ],
      "execution_count": null,
      "outputs": []
    },
    {
      "cell_type": "markdown",
      "metadata": {
        "id": "9CI8UaamRkBT"
      },
      "source": [
        "## Chuẩn hóa dữ liệu"
      ]
    },
    {
      "cell_type": "code",
      "metadata": {
        "id": "2Li6m1GegiMK"
      },
      "source": [
        "\n",
        "def get_splitted_datas(df):\n",
        "  \"\"\"cross_validation with 3 cross\"\"\"\n",
        "  reach_cv_threshold = 0.02 # once the charge_voltage reach cv closer to this threshold, we say it reach cv\n",
        "  # thresold_voltage_constant=0.05 # so voi 5 tk phia sau\n",
        "  baterys=df['battery_nb'].astype('category').values.categories\n",
        "  batery={} #dictionary store blocks of \n",
        "  for b in baterys:\n",
        "    index=0\n",
        "    data=df.loc[df['battery_nb']==b]\n",
        "    cycles=data['charge_nb'].astype('category').values.categories # quantity cycles\n",
        "    extract_points=[0.35,  0.52,  0.70,  0.88,  0.90,  0.92,  0.94,  0.96,  0.98,  0.99,  1] \n",
        "    data_batery=[]\n",
        "    cv=4.2\n",
        "    # drop first, last cycle\n",
        "    for i in range(1,len(cycles)-2):\n",
        "      cycle=data.loc[data['charge_nb']==cycles[i]]\n",
        "      data_cycle=[]\n",
        "      \n",
        "      #x2, x3\n",
        "      x2=0\n",
        "      x3=0\n",
        "      k=0 # cv position\n",
        "      for c in range(2,len(cycle)):\n",
        "        if (cycle['voltage_measured'].iloc[c]-cv)**2 < reach_cv_threshold**2:\n",
        "          k=c\n",
        "          break\n",
        "      for c in range(2,len(cycle)):\n",
        "        if c<k:\n",
        "          x2+=cycle['current_measured'].iloc[c]\n",
        "        else:\n",
        "          x3+=cycle['current_measured'].iloc[c]\n",
        "\n",
        "      #x4, x5\n",
        "      x4=cycle.iloc[len(cycle)-1]['voltage_measured']\n",
        "      x5=cycle.iloc[len(cycle)-1]['current_measured']\n",
        "\n",
        "      #capacity\n",
        "      capacity=data.loc[data['discharge_nb']==cycles[i]]['capacity'].iloc[0]\n",
        "      #peak\n",
        "      peak=0\n",
        "      peak_threshold = 1.004\n",
        "      temp_mean = 0\n",
        "      if i>5:\n",
        "        for j in range(5):\n",
        "          temp_mean = temp_mean + data.loc[data['discharge_nb']==cycles[i-j]]['capacity'].iloc[0]\n",
        "        temp_mean=temp_mean/5\n",
        "        if capacity>temp_mean*peak_threshold:\n",
        "          peak=1\n",
        "\n",
        "      # [U, I, T, x2, x3, x4, x5, capacity, peak] x 11\n",
        "      for x in extract_points:\n",
        "        point=[]\n",
        "        point.append(cycle.iloc[int(x*len(cycle))-1]['voltage_measured'])\n",
        "        point.append(cycle.iloc[int(x*len(cycle))-1]['current_measured'])\n",
        "        point.append(cycle.iloc[int(x*len(cycle))-1]['temperature_measured'])\n",
        "        point.append(x2)\n",
        "        point.append(x3)\n",
        "        point.append(x4)\n",
        "        point.append(x5)\n",
        "        point.append(capacity)\n",
        "        point.append(peak)\n",
        "        data_cycle.append(point)\n",
        "      # add info 1 cycle\n",
        "      data_batery.append(data_cycle)\n",
        "    batery[str(b)]=data_batery\n",
        "  return batery"
      ],
      "execution_count": null,
      "outputs": []
    },
    {
      "cell_type": "code",
      "metadata": {
        "id": "esnuerXKgpuE"
      },
      "source": [
        "def generate_X_Y_peak(X_train): #to move peak to output\n",
        "  n, s, f = X_train.shape\n",
        "  n_cycle = 10\n",
        "  n_next_cycle = 2\n",
        "  n_output_data = 2 # one for soh, one for peak\n",
        "  X = np.zeros((n-n_cycle +1 - n_next_cycle, n_cycle, s, f))\n",
        "  Y = np.zeros((n-n_cycle +1 - n_next_cycle, n_next_cycle, n_output_data))\n",
        "  for i in range(len(X)):\n",
        "    X[i] = X_train[i:i+n_cycle,:,:]\n",
        "    Y[i,0,0] = X_train[i+n_cycle,0,-1]\n",
        "    Y[i,0,1] = X_train[i+n_cycle+1,0,-1]\n",
        "    Y[i,1,0] = X_train[i+n_cycle,0,-2]\n",
        "    Y[i,1,1] = X_train[i+n_cycle+1,0,-2]\n",
        "  return X, Y\n"
      ],
      "execution_count": null,
      "outputs": []
    },
    {
      "cell_type": "code",
      "metadata": {
        "id": "fwie-fUcGGfN"
      },
      "source": [
        "def normalized_col(df):\n",
        "    normalized_col = (df-df.min())/(df.max()-df.min())\n",
        "    return normalized_col\n",
        "\n",
        "def min_max_normalize_data(df):\n",
        "  normalized_df = df.copy()\n",
        "  normalized_df['voltage_measured'] = normalized_col(normalized_df['voltage_measured'])\n",
        "  normalized_df['current_measured'] = normalized_col(normalized_df['current_measured'])\n",
        "  normalized_df['temperature_measured'] = normalized_col(normalized_df['temperature_measured'])\n",
        "  normalized_df['capacity'] = normalized_col(normalized_df['capacity'])\n",
        "  return normalized_df"
      ],
      "execution_count": null,
      "outputs": []
    },
    {
      "cell_type": "code",
      "metadata": {
        "id": "So-YRBV1guKy"
      },
      "source": [
        "def get_data_frame(\n",
        "        folder_to_exclude=['BatteryAgingARC-FY08Q4'],\n",
        "        batteries_to_keep=[5,6,7,18],\n",
        "        # batteries_to_keep=[5],\n",
        "        src_dir=\"/content/drive/MyDrive/Colab_Notebooks\"\n",
        "):\n",
        "    dict_files = build_files(\n",
        "        folder_to_exclude=folder_to_exclude,\n",
        "        src_dir=src_dir\n",
        "    )\n",
        "    df = mat_to_pandas(files=dict_files, bat_to_keep=batteries_to_keep)\n",
        "    # normalized_df = min_max_normalize_data(df)\n",
        "    return df"
      ],
      "execution_count": null,
      "outputs": []
    },
    {
      "cell_type": "code",
      "metadata": {
        "id": "C2SVn3YUHOkw"
      },
      "source": [
        "df = get_data_frame()"
      ],
      "execution_count": null,
      "outputs": []
    },
    {
      "cell_type": "code",
      "metadata": {
        "id": "hmVZl-OVHWEW"
      },
      "source": [
        "a=get_splitted_datas(df)"
      ],
      "execution_count": null,
      "outputs": []
    },
    {
      "cell_type": "markdown",
      "metadata": {
        "id": "J2tL73HOKeZP"
      },
      "source": [
        "### Test data output"
      ]
    },
    {
      "cell_type": "code",
      "metadata": {
        "colab": {
          "base_uri": "https://localhost:8080/"
        },
        "id": "SwRWg7_eMQpb",
        "outputId": "e75f942d-1861-4d30-9435-c8ab3f764883"
      },
      "source": [
        "print(len(a['5']))#167 cycles\n",
        "print(len(a['5'][0]))# 11 points\n",
        "len(a['5'][0][0])# 9 features"
      ],
      "execution_count": null,
      "outputs": [
        {
          "output_type": "stream",
          "name": "stdout",
          "text": [
            "167\n",
            "11\n"
          ]
        },
        {
          "output_type": "execute_result",
          "data": {
            "text/plain": [
              "9"
            ]
          },
          "metadata": {},
          "execution_count": 211
        }
      ]
    },
    {
      "cell_type": "code",
      "metadata": {
        "colab": {
          "base_uri": "https://localhost:8080/"
        },
        "id": "4_HhSt4gvwdR",
        "outputId": "f0416927-34bc-4d6a-839e-6e419f097980"
      },
      "source": [
        "print(len(a['6']))#167 cycles\n",
        "print(len(a['6'][0]))# 11 points\n",
        "len(a['6'][0][0])# 9 features"
      ],
      "execution_count": null,
      "outputs": [
        {
          "output_type": "stream",
          "name": "stdout",
          "text": [
            "167\n",
            "11\n"
          ]
        },
        {
          "output_type": "execute_result",
          "data": {
            "text/plain": [
              "9"
            ]
          },
          "metadata": {},
          "execution_count": 212
        }
      ]
    },
    {
      "cell_type": "code",
      "metadata": {
        "colab": {
          "base_uri": "https://localhost:8080/"
        },
        "id": "-FtH7er_yjcT",
        "outputId": "0bca2c84-9efa-4964-d413-baaef4a3a8a0"
      },
      "source": [
        "print(len(a['7']))#167 cycles\n",
        "print(len(a['7'][0]))# 11 points\n",
        "len(a['7'][0][0])# 9 features"
      ],
      "execution_count": null,
      "outputs": [
        {
          "output_type": "stream",
          "name": "stdout",
          "text": [
            "167\n",
            "11\n"
          ]
        },
        {
          "output_type": "execute_result",
          "data": {
            "text/plain": [
              "9"
            ]
          },
          "metadata": {},
          "execution_count": 214
        }
      ]
    },
    {
      "cell_type": "code",
      "metadata": {
        "colab": {
          "base_uri": "https://localhost:8080/"
        },
        "id": "9AQvmYBTynbO",
        "outputId": "73339273-95cb-4a9f-b011-a1ab13b59bba"
      },
      "source": [
        "print(len(a['18']))#167 cycles\n",
        "print(len(a['18'][0]))# 11 points\n",
        "len(a['18'][0][0])# 9 features"
      ],
      "execution_count": null,
      "outputs": [
        {
          "output_type": "stream",
          "name": "stdout",
          "text": [
            "131\n",
            "11\n"
          ]
        },
        {
          "output_type": "execute_result",
          "data": {
            "text/plain": [
              "9"
            ]
          },
          "metadata": {},
          "execution_count": 215
        }
      ]
    },
    {
      "cell_type": "code",
      "metadata": {
        "colab": {
          "base_uri": "https://localhost:8080/"
        },
        "id": "nrGLDCFXNGYF",
        "outputId": "b1a0bf3b-2aa5-48d3-e165-0fc113786119"
      },
      "source": [
        "data_set_5=np.array(a['5'])\n",
        "data_set_5.shape"
      ],
      "execution_count": null,
      "outputs": [
        {
          "output_type": "execute_result",
          "data": {
            "text/plain": [
              "(167, 11, 9)"
            ]
          },
          "metadata": {},
          "execution_count": 216
        }
      ]
    },
    {
      "cell_type": "code",
      "metadata": {
        "colab": {
          "base_uri": "https://localhost:8080/"
        },
        "id": "i4ioK1e41aV9",
        "outputId": "a6abf81d-d2a1-44f7-c523-1ff3c6ad98a8"
      },
      "source": [
        "data_set_6=np.array(a['6'])\n",
        "data_set_6.shape"
      ],
      "execution_count": null,
      "outputs": [
        {
          "output_type": "execute_result",
          "data": {
            "text/plain": [
              "(167, 11, 9)"
            ]
          },
          "metadata": {},
          "execution_count": 218
        }
      ]
    },
    {
      "cell_type": "code",
      "metadata": {
        "colab": {
          "base_uri": "https://localhost:8080/"
        },
        "id": "820C0T8s1brb",
        "outputId": "b149cd23-b256-4776-92b8-7979a9bdd28e"
      },
      "source": [
        "data_set_7=np.array(a['7'])\n",
        "data_set_7.shape"
      ],
      "execution_count": null,
      "outputs": [
        {
          "output_type": "execute_result",
          "data": {
            "text/plain": [
              "(167, 11, 9)"
            ]
          },
          "metadata": {},
          "execution_count": 217
        }
      ]
    },
    {
      "cell_type": "code",
      "metadata": {
        "colab": {
          "base_uri": "https://localhost:8080/"
        },
        "id": "tuLLNsiK1fMM",
        "outputId": "ef3ca0c7-5167-47ec-ae40-0a0e38467085"
      },
      "source": [
        "data_set_18=np.array(a['18'])\n",
        "data_set_18.shape"
      ],
      "execution_count": null,
      "outputs": [
        {
          "output_type": "execute_result",
          "data": {
            "text/plain": [
              "(131, 11, 9)"
            ]
          },
          "metadata": {},
          "execution_count": 222
        }
      ]
    },
    {
      "cell_type": "code",
      "metadata": {
        "colab": {
          "base_uri": "https://localhost:8080/"
        },
        "id": "k8XyVeaGNDBR",
        "outputId": "8e9c873d-c25d-4331-def8-82f67083307c"
      },
      "source": [
        "for i in range(len(data_set_18)):\n",
        "  for j in range(len(data_set_18[i])):\n",
        "    for k in range(len(data_set_18[i][j])):\n",
        "      if np.isnan(data_set_18[i][j][k]):\n",
        "        print(i)"
      ],
      "execution_count": null,
      "outputs": [
        {
          "output_type": "stream",
          "name": "stdout",
          "text": [
            "44\n",
            "44\n",
            "44\n",
            "44\n",
            "44\n",
            "44\n",
            "44\n",
            "44\n",
            "44\n",
            "44\n",
            "44\n"
          ]
        }
      ]
    },
    {
      "cell_type": "code",
      "metadata": {
        "id": "llifbwjRWaAI"
      },
      "source": [
        "data_set_18=np.delete(data_set_18,(44),axis=0)"
      ],
      "execution_count": null,
      "outputs": []
    },
    {
      "cell_type": "code",
      "metadata": {
        "colab": {
          "base_uri": "https://localhost:8080/"
        },
        "id": "ZCwwWR8sXjan",
        "outputId": "5293b46f-4bf0-4c36-cffe-e5c760e6b2b2"
      },
      "source": [
        "data_set_18.shape"
      ],
      "execution_count": null,
      "outputs": [
        {
          "output_type": "execute_result",
          "data": {
            "text/plain": [
              "(130, 11, 9)"
            ]
          },
          "metadata": {},
          "execution_count": 225
        }
      ]
    },
    {
      "cell_type": "code",
      "metadata": {
        "id": "HrKA_qNxOpOI"
      },
      "source": [
        "X_5,Y_5 =generate_X_Y_peak(data_set_5)\n",
        "X_6,Y_6 =generate_X_Y_peak(data_set_6)\n",
        "X_7,Y_7 =generate_X_Y_peak(data_set_7)\n",
        "X_18,Y_18 =generate_X_Y_peak(data_set_18)"
      ],
      "execution_count": null,
      "outputs": []
    },
    {
      "cell_type": "code",
      "metadata": {
        "colab": {
          "base_uri": "https://localhost:8080/"
        },
        "id": "QHdIxhvQOvVX",
        "outputId": "070f441a-6e7f-4be0-de4f-6d93722c7fb3"
      },
      "source": [
        "X_5.shape"
      ],
      "execution_count": null,
      "outputs": [
        {
          "output_type": "execute_result",
          "data": {
            "text/plain": [
              "(156, 10, 11, 9)"
            ]
          },
          "metadata": {},
          "execution_count": 227
        }
      ]
    },
    {
      "cell_type": "code",
      "metadata": {
        "colab": {
          "base_uri": "https://localhost:8080/"
        },
        "id": "Bjnwc7dPOyWC",
        "outputId": "c18ba062-f05d-449c-9dd1-da8b2ca6a8b8"
      },
      "source": [
        "X_6.shape"
      ],
      "execution_count": null,
      "outputs": [
        {
          "output_type": "execute_result",
          "data": {
            "text/plain": [
              "(156, 10, 11, 9)"
            ]
          },
          "metadata": {},
          "execution_count": 228
        }
      ]
    },
    {
      "cell_type": "code",
      "metadata": {
        "colab": {
          "base_uri": "https://localhost:8080/"
        },
        "id": "tvRNw2kI2Eq4",
        "outputId": "08c63035-b9fa-4698-c494-f87cb899fad5"
      },
      "source": [
        "X_7.shape"
      ],
      "execution_count": null,
      "outputs": [
        {
          "output_type": "execute_result",
          "data": {
            "text/plain": [
              "(156, 10, 11, 9)"
            ]
          },
          "metadata": {},
          "execution_count": 229
        }
      ]
    },
    {
      "cell_type": "code",
      "metadata": {
        "colab": {
          "base_uri": "https://localhost:8080/"
        },
        "id": "VGD22uFo2FmH",
        "outputId": "a7b28fea-a9ef-4da3-d67e-e001787100a6"
      },
      "source": [
        "X_18.shape"
      ],
      "execution_count": null,
      "outputs": [
        {
          "output_type": "execute_result",
          "data": {
            "text/plain": [
              "(119, 10, 11, 9)"
            ]
          },
          "metadata": {},
          "execution_count": 230
        }
      ]
    },
    {
      "cell_type": "code",
      "metadata": {
        "colab": {
          "base_uri": "https://localhost:8080/",
          "height": 296
        },
        "id": "mcAMMlU0O3NY",
        "outputId": "eafe3c0a-dcce-454a-e4eb-0742d64a5e30"
      },
      "source": [
        "\n",
        "import matplotlib.pyplot as plt\n",
        "plt.plot(data_set_5[:,0,7],label='Pin B0005',color='red')\n",
        "plt.plot(data_set_6[:,0,7],label='Pin B0006',color='green')\n",
        "plt.plot(data_set_7[:,0,7],label='Pin B0007',color='black')\n",
        "plt.plot(data_set_18[:,0,7],label='Pin B0018',color='blue')\n",
        "plt.xlabel('Cycles')\n",
        "plt.yticks([])\n",
        "plt.title('Sự thay đổi dung lượng của từng viên pin theo cycles')\n",
        "plt.legend(loc='best')\n",
        "plt.show()"
      ],
      "execution_count": null,
      "outputs": [
        {
          "output_type": "display_data",
          "data": {
            "image/png": "[encoded data removed]",
            "text/plain": [
              "<Figure size 432x288 with 1 Axes>"
            ]
          },
          "metadata": {
            "needs_background": "light"
          }
        }
      ]
    },
    {
      "cell_type": "markdown",
      "metadata": {
        "id": "qm45Y_UVKlIN"
      },
      "source": [
        "### Cross Validation"
      ]
    },
    {
      "cell_type": "markdown",
      "metadata": {
        "id": "H5wi-w9YIqQt"
      },
      "source": [
        "\n",
        "*   X_train, Y_train\n",
        "*   X_val, Y_val\n",
        "*   X_test, Y_test\n",
        "\n",
        "\n",
        "\n",
        "\n",
        "\n",
        "\n",
        "\n",
        "\n",
        "\n",
        "\n",
        "\n",
        "\n"
      ]
    },
    {
      "cell_type": "code",
      "metadata": {
        "id": "RCpn0Q7G2OKq"
      },
      "source": [
        "cross = [0.2, 0.4, 0.7, 1] \n",
        "first_167=round(cross[0]*X_5.shape[0])\n",
        "second_167=round(cross[1]*X_5.shape[0])\n",
        "third_167=round(cross[2]*X_5.shape[0])\n",
        "\n",
        "first_131=round(cross[0]*X_18.shape[0])\n",
        "second_131=round(cross[1]*X_18.shape[0])\n",
        "third_131=round(cross[2]*X_18.shape[0])\n",
        "#####\n",
        "#                         \"Cross 1\"\n",
        "#####\n",
        "#X_test, Y_test\n",
        "X_test= X_5[:first_167]  \n",
        "X_test=np.concatenate((X_test, X_6[first_167:second_167]), axis=0)     \n",
        "X_test=np.concatenate((X_test, X_7[second_167:third_167]), axis=0)     \n",
        "X_test=np.concatenate((X_test, X_18[third_131:]), axis=0) \n",
        "\n",
        "Y_test= Y_5[:first_167]   \n",
        "Y_test=np.concatenate((Y_test, Y_6[first_167:second_167]), axis=0)  \n",
        "Y_test=np.concatenate((Y_test, Y_7[second_167:third_167]), axis=0) \n",
        "Y_test=np.concatenate((Y_test, Y_18[third_131:]), axis=0)      \n",
        "\n",
        "#X_train, Y_train\n",
        "X_train=X_5[first_167:third_167]                                                                     \n",
        "X_train=np.concatenate((X_train, X_6[:first_167]), axis=0)                              \n",
        "X_train=np.concatenate((X_train, X_6[second_167:third_167]), axis=0)  \n",
        "X_train=np.concatenate((X_train, X_7[:second_167]), axis=0)                        \n",
        "X_train=np.concatenate((X_train, X_18[:second_131]), axis=0)    \n",
        "\n",
        "Y_train=Y_5[first_167:third_167]    \n",
        "Y_train=np.concatenate((Y_train, Y_6[:first_167]), axis=0)                              \n",
        "Y_train=np.concatenate((Y_train, Y_6[second_167:third_167]), axis=0)  \n",
        "Y_train=np.concatenate((Y_train, Y_7[:second_167]), axis=0)                        \n",
        "Y_train=np.concatenate((Y_train, Y_18[:second_131]), axis=0)  \n",
        "\n",
        "#X_val, T_val\n",
        "X_val=X_5[third_167:]\n",
        "X_val=np.concatenate((X_val, X_6[third_167:]), axis=0)   \n",
        "X_val=np.concatenate((X_val, X_7[third_167:]), axis=0) \n",
        "X_val=np.concatenate((X_val, X_18[second_131:third_131]), axis=0) \n",
        "\n",
        "Y_val=Y_5[third_167:]\n",
        "Y_val=np.concatenate((Y_val, Y_6[third_167:]), axis=0)   \n",
        "Y_val=np.concatenate((Y_val, Y_7[third_167:]), axis=0) \n",
        "Y_val=np.concatenate((Y_val, Y_18[second_131:third_131]), axis=0) \n",
        "\n",
        "#####\n",
        "#                         \"Cross 2\"\n",
        "#####\n",
        "#X_test, Y_test\n",
        "X_test= np.concatenate((X_test, X_5[:first_167]), axis=0) \n",
        "X_test=np.concatenate((X_test, X_6[first_167:second_167]), axis=0)     \n",
        "X_test=np.concatenate((X_test, X_7[second_167:third_167]), axis=0)     \n",
        "X_test=np.concatenate((X_test, X_18[third_131:]), axis=0) \n",
        "\n",
        "Y_test= np.concatenate((Y_test, Y_5[:first_167]), axis=0)   \n",
        "Y_test=np.concatenate((Y_test, Y_6[first_167:second_167]), axis=0)  \n",
        "Y_test=np.concatenate((Y_test, Y_7[second_167:third_167]), axis=0) \n",
        "Y_test=np.concatenate((Y_test, Y_18[third_131:]), axis=0)      \n",
        "\n",
        "#X_train, Y_train\n",
        "X_train=np.concatenate((X_train, X_5[first_167:second_167]), axis=0)                                                                     \n",
        "X_train=np.concatenate((X_train, X_5[third_167:]), axis=0)                              \n",
        "X_train=np.concatenate((X_train, X_6[:first_167]), axis=0) \n",
        "X_train=np.concatenate((X_train, X_6[third_167:]), axis=0)   \n",
        "X_train=np.concatenate((X_train, X_7[:first_167]), axis=0) \n",
        "X_train=np.concatenate((X_train, X_7[third_167:]), axis=0)                         \n",
        "X_train=np.concatenate((X_train, X_18[:first_131]), axis=0)    \n",
        "X_train=np.concatenate((X_train, X_18[second_131:third_131]), axis=0) \n",
        "\n",
        "Y_train=np.concatenate((Y_train, Y_5[first_167:second_167]), axis=0)                                                                     \n",
        "Y_train=np.concatenate((Y_train, Y_5[third_167:]), axis=0)                              \n",
        "Y_train=np.concatenate((Y_train, Y_6[:first_167]), axis=0) \n",
        "Y_train=np.concatenate((Y_train, Y_6[third_167:]), axis=0)   \n",
        "Y_train=np.concatenate((Y_train, Y_7[:first_167]), axis=0) \n",
        "Y_train=np.concatenate((Y_train, Y_7[third_167:]), axis=0)                         \n",
        "Y_train=np.concatenate((Y_train, Y_18[:first_131]), axis=0)    \n",
        "Y_train=np.concatenate((Y_train, Y_18[second_131:third_131]), axis=0)  \n",
        "\n",
        "#X_val, T_val\n",
        "X_val=np.concatenate((X_val, X_5[second_167:third_167]), axis=0)  \n",
        "X_val=np.concatenate((X_val, X_6[second_167:third_167]), axis=0)   \n",
        "X_val=np.concatenate((X_val, X_7[first_167:second_167]), axis=0) \n",
        "X_val=np.concatenate((X_val, X_18[first_131:second_131]), axis=0) \n",
        "\n",
        "Y_val=np.concatenate((Y_val, Y_5[second_167:third_167]), axis=0)  \n",
        "Y_val=np.concatenate((Y_val, Y_6[second_167:third_167]), axis=0)   \n",
        "Y_val=np.concatenate((Y_val, Y_7[first_167:second_167]), axis=0) \n",
        "Y_val=np.concatenate((Y_val, Y_18[first_131:second_131]), axis=0)\n",
        "\n",
        "\n",
        "#####\n",
        "#                         \"Cross 3\"\n",
        "#####\n",
        "#X_test, Y_test\n",
        "X_test= np.concatenate((X_test, X_5[:first_167]), axis=0) \n",
        "X_test=np.concatenate((X_test, X_6[first_167:second_167]), axis=0)     \n",
        "X_test=np.concatenate((X_test, X_7[second_167:third_167]), axis=0)     \n",
        "X_test=np.concatenate((X_test, X_18[third_131:]), axis=0) \n",
        "\n",
        "Y_test= np.concatenate((Y_test, Y_5[:first_167]), axis=0)   \n",
        "Y_test=np.concatenate((Y_test, Y_6[first_167:second_167]), axis=0)  \n",
        "Y_test=np.concatenate((Y_test, Y_7[second_167:third_167]), axis=0) \n",
        "Y_test=np.concatenate((Y_test, Y_18[third_131:]), axis=0)       \n",
        "\n",
        "#X_train, Y_train\n",
        "X_train=np.concatenate((X_train, X_5[second_167:]), axis=0)                                                                    \n",
        "X_train=np.concatenate((X_train, X_6[second_167:]), axis=0)                              \n",
        "X_train=np.concatenate((X_train, X_7[first_167:second_167]), axis=0)  \n",
        "X_train=np.concatenate((X_train, X_7[third_167:]), axis=0)                        \n",
        "X_train=np.concatenate((X_train, X_18[first_131:third_131]), axis=0)    \n",
        "\n",
        "Y_train=np.concatenate((Y_train, Y_5[second_167:]), axis=0)                                                                    \n",
        "Y_train=np.concatenate((Y_train, Y_6[second_167:]), axis=0)                              \n",
        "Y_train=np.concatenate((Y_train, Y_7[first_167:second_167]), axis=0)  \n",
        "Y_train=np.concatenate((Y_train, Y_7[third_167:]), axis=0)                        \n",
        "Y_train=np.concatenate((Y_train, Y_18[first_131:third_131]), axis=0)  \n",
        "\n",
        "#X_val, T_val\n",
        "X_val=np.concatenate((X_val, X_5[first_167:second_167]), axis=0)  \n",
        "X_val=np.concatenate((X_val, X_6[:first_167]), axis=0)   \n",
        "X_val=np.concatenate((X_val, X_7[:first_167]), axis=0) \n",
        "X_val=np.concatenate((X_val, X_18[:first_131]), axis=0) \n",
        "\n",
        "Y_val=np.concatenate((Y_val, Y_5[first_167:second_167]), axis=0)  \n",
        "Y_val=np.concatenate((Y_val, Y_6[:first_167]), axis=0)   \n",
        "Y_val=np.concatenate((Y_val, Y_7[:first_167]), axis=0) \n",
        "Y_val=np.concatenate((Y_val, Y_18[:first_131]), axis=0)  "
      ],
      "execution_count": null,
      "outputs": []
    },
    {
      "cell_type": "code",
      "metadata": {
        "colab": {
          "base_uri": "https://localhost:8080/"
        },
        "id": "afTakI3jImjt",
        "outputId": "13266e2e-b354-4250-fcf0-d1c9e84912ed"
      },
      "source": [
        "X_train.shape"
      ],
      "execution_count": null,
      "outputs": [
        {
          "output_type": "execute_result",
          "data": {
            "text/plain": [
              "(884, 10, 11, 9)"
            ]
          },
          "metadata": {},
          "execution_count": 237
        }
      ]
    },
    {
      "cell_type": "code",
      "metadata": {
        "colab": {
          "base_uri": "https://localhost:8080/"
        },
        "id": "TPKTX2IIJb26",
        "outputId": "1b7bfb24-4932-498f-9146-4cbb366ec686"
      },
      "source": [
        "Y_train.shape"
      ],
      "execution_count": null,
      "outputs": [
        {
          "output_type": "execute_result",
          "data": {
            "text/plain": [
              "(884, 2, 2)"
            ]
          },
          "metadata": {},
          "execution_count": 234
        }
      ]
    },
    {
      "cell_type": "code",
      "metadata": {
        "colab": {
          "base_uri": "https://localhost:8080/"
        },
        "id": "vgKjH6RXJ4_-",
        "outputId": "7ca2868b-2635-4caf-ff33-ea09a0219ada"
      },
      "source": [
        "X_val.shape"
      ],
      "execution_count": null,
      "outputs": [
        {
          "output_type": "execute_result",
          "data": {
            "text/plain": [
              "(442, 10, 11, 9)"
            ]
          },
          "metadata": {},
          "execution_count": 235
        }
      ]
    },
    {
      "cell_type": "code",
      "metadata": {
        "colab": {
          "base_uri": "https://localhost:8080/"
        },
        "id": "o0PU4k8BJ7NE",
        "outputId": "5fcebb2b-07a8-4828-e26c-2eff86a4a821"
      },
      "source": [
        "X_test.shape"
      ],
      "execution_count": null,
      "outputs": [
        {
          "output_type": "execute_result",
          "data": {
            "text/plain": [
              "(435, 10, 11, 9)"
            ]
          },
          "metadata": {},
          "execution_count": 236
        }
      ]
    },
    {
      "cell_type": "code",
      "metadata": {
        "id": "mKPOG_H7c0Mj"
      },
      "source": [
        "print(Y_test.shape)\n",
        "print(Y_test[:,0,0])"
      ],
      "execution_count": null,
      "outputs": []
    },
    {
      "cell_type": "markdown",
      "metadata": {
        "id": "FoUdCtm-Rco0"
      },
      "source": [
        "## Build Model"
      ]
    },
    {
      "cell_type": "code",
      "metadata": {
        "id": "n2VfYACyR5Da"
      },
      "source": [
        "import pickle"
      ],
      "execution_count": null,
      "outputs": []
    },
    {
      "cell_type": "code",
      "metadata": {
        "id": "qHAkHL2rR8GW"
      },
      "source": [
        "dat = {}\n",
        "dat[\"X_train\"] = X_train\n",
        "dat[\"Y_train\"] = Y_train\n",
        "dat[\"X_test\"] = X_test\n",
        "dat[\"Y_test\"] = Y_test\n",
        "dat[\"X_val\"] = X_val\n",
        "dat[\"Y_val\"] = Y_val\n",
        "file_path = '/content/drive/MyDrive/Colab_Notebooks/lib_data_conv.pkl'\n",
        "pickle.dump(dat, open(file_path,'wb'))"
      ],
      "execution_count": null,
      "outputs": []
    },
    {
      "cell_type": "code",
      "metadata": {
        "id": "qESrheXZSFDh"
      },
      "source": [
        "# Read the data from the file\n",
        "file_path = '/content/drive/MyDrive/Colab_Notebooks/lib_data_conv.pkl'\n",
        "with open(file_path, 'rb') as fid:\n",
        "     dat = pickle.load(fid)\n",
        "\n",
        "X_train = dat[\"X_train\"]\n",
        "Y_train = dat[\"Y_train\"]\n",
        "X_test = dat[\"X_test\"]\n",
        "Y_test = dat[\"Y_test\"]\n",
        "X_val = dat[\"X_val\"]\n",
        "Y_val = dat[\"Y_val\"]"
      ],
      "execution_count": null,
      "outputs": []
    },
    {
      "cell_type": "code",
      "metadata": {
        "id": "Owb_GN33SMuM"
      },
      "source": [
        "from numpy import array\n",
        "from numpy import hstack\n",
        "from keras.models import Sequential\n",
        "from keras.layers import LSTM, GRU\n",
        "from keras.layers import Dense\n",
        "from keras.layers import RepeatVector, Lambda, Dropout\n",
        "from keras.layers import TimeDistributed\n",
        "from keras.callbacks import ModelCheckpoint\n",
        "from tensorflow.keras.optimizers import SGD\n",
        "from tensorflow.keras.optimizers import Adam\n",
        "from keras.layers import BatchNormalization\n",
        "import tensorflow as tf"
      ],
      "execution_count": null,
      "outputs": []
    },
    {
      "cell_type": "code",
      "metadata": {
        "id": "nc77nYD9SZHP"
      },
      "source": [
        "# Move peak to output\n",
        "\n",
        "from tensorflow.keras import Model\n",
        "import tensorflow as tf\n",
        "from tensorflow.keras import Model\n",
        "from tensorflow.keras.layers import InputLayer, Input, Lambda\n",
        "import tensorflow.keras.backend as K\n",
        "from tensorflow.keras.layers import ConvLSTM2D, TimeDistributed\n",
        "from tensorflow.keras.layers import Flatten, Dense\n",
        "\n",
        "def build_model(input_shape):\n",
        "\t# prepare data\n",
        "\t#train_x, train_y = to_supervised(train, n_input)\n",
        "\t#print(train_x.shape, train_y.shape)\n",
        "  n_cycle, n_step, n_feature = input_shape\n",
        "  print(n_cycle, n_step, n_feature)\n",
        "  inputs = Input(input_shape)\n",
        "\t# define parameters\n",
        "\t#n_timesteps, n_features, n_outputs = train_x.shape[1], train_x.shape[2], train_y.shape[1]\n",
        "\t# reshape into subsequences [samples, time steps, rows, cols, channels]\n",
        "  LSTM_SIZE = 50\n",
        "  print(inputs)\n",
        "  x = Lambda(lambda y: tf.reshape(y, [-1, n_step, n_feature]))(inputs)\n",
        "  print(x)\n",
        "  x = LSTM(LSTM_SIZE, return_sequences = True)(x)\n",
        "  x = LSTM(LSTM_SIZE, return_sequences = True)(x) # the second LSTM\n",
        "  x = Lambda(lambda y: tf.reshape(y, [-1, n_cycle, 1, n_step, LSTM_SIZE]))(x)\n",
        "  x = ConvLSTM2D(filters=32, kernel_size=(1,3), activation='relu', return_sequences=True)(x)\n",
        "\n",
        "  print(\"after convlstm2d\", x)\n",
        "  x = Flatten()(x)\n",
        "  print(\"after flattern\", x)\n",
        " \n",
        "  output_soh = Dense(2)(x)\n",
        "  output_peak = Dense(2)(x)\n",
        "  \n",
        "  l1 = 0.999\n",
        "  l2 = 0.001\n",
        "  model=Model(inputs=inputs, outputs=[output_soh, output_peak])\n",
        "  #model=Model(inputs=inputs, outputs=output_soh)\n",
        "\n",
        "  # model.compile( optimizer='adam', loss=tf.keras.losses.Huber(), metrics=[tf.keras.metrics.RootMeanSquaredError(name='rmse')])\n",
        "\n",
        "\n",
        "  model.compile( optimizer='adam', loss=[tf.keras.losses.Huber(), tf.keras.losses.BinaryCrossentropy()], loss_weights = [l1, l2], metrics=[tf.keras.metrics.RootMeanSquaredError(name='rmse'), tf.keras.metrics.Accuracy(name=\"accuracy\")])\n",
        "\t# fit network\n",
        "  #print(\"Debug \", train_x.shape, train_y.shape)\n",
        "\t#model.fit(train_x, train_y, epochs=epochs, batch_size=batch_size, verbose=verbose)\n",
        "  return model"
      ],
      "execution_count": null,
      "outputs": []
    },
    {
      "cell_type": "code",
      "metadata": {
        "id": "0OEYiMcISbdh",
        "colab": {
          "base_uri": "https://localhost:8080/"
        },
        "outputId": "6a1b848c-ea4f-4465-c4bc-cd5f75c8ae88"
      },
      "source": [
        "K.clear_session()\n",
        "model = build_model(X_train.shape[1:])\n",
        "model.summary( )\n",
        "history_peak = model.fit(X_train, (Y_train[:,0,:],Y_train[:,1,:]), epochs=200, batch_size=100, verbose=1, validation_split=0.15)"
      ],
      "execution_count": null,
      "outputs": [
        {
          "output_type": "stream",
          "name": "stdout",
          "text": [
            "10 11 9\n",
            "KerasTensor(type_spec=TensorSpec(shape=(None, 10, 11, 9), dtype=tf.float32, name='input_1'), name='input_1', description=\"created by layer 'input_1'\")\n",
            "KerasTensor(type_spec=TensorSpec(shape=(None, 11, 9), dtype=tf.float32, name=None), name='lambda/Reshape:0', description=\"created by layer 'lambda'\")\n",
            "after convlstm2d KerasTensor(type_spec=TensorSpec(shape=(None, 10, 1, 9, 32), dtype=tf.float32, name=None), name='conv_lst_m2d/transpose_1:0', description=\"created by layer 'conv_lst_m2d'\")\n",
            "after flattern KerasTensor(type_spec=TensorSpec(shape=(None, 2880), dtype=tf.float32, name=None), name='flatten/Reshape:0', description=\"created by layer 'flatten'\")\n",
            "Model: \"model\"\n",
            "__________________________________________________________________________________________________\n",
            "Layer (type)                    Output Shape         Param #     Connected to                     \n",
            "==================================================================================================\n",
            "input_1 (InputLayer)            [(None, 10, 11, 9)]  0                                            \n",
            "__________________________________________________________________________________________________\n",
            "lambda (Lambda)                 (None, 11, 9)        0           input_1[0][0]                    \n",
            "__________________________________________________________________________________________________\n",
            "lstm (LSTM)                     (None, 11, 50)       12000       lambda[0][0]                     \n",
            "__________________________________________________________________________________________________\n",
            "lstm_1 (LSTM)                   (None, 11, 50)       20200       lstm[0][0]                       \n",
            "__________________________________________________________________________________________________\n",
            "lambda_1 (Lambda)               (None, 10, 1, 11, 50 0           lstm_1[0][0]                     \n",
            "__________________________________________________________________________________________________\n",
            "conv_lst_m2d (ConvLSTM2D)       (None, 10, 1, 9, 32) 31616       lambda_1[0][0]                   \n",
            "__________________________________________________________________________________________________\n",
            "flatten (Flatten)               (None, 2880)         0           conv_lst_m2d[0][0]               \n",
            "__________________________________________________________________________________________________\n",
            "dense (Dense)                   (None, 2)            5762        flatten[0][0]                    \n",
            "__________________________________________________________________________________________________\n",
            "dense_1 (Dense)                 (None, 2)            5762        flatten[0][0]                    \n",
            "==================================================================================================\n",
            "Total params: 75,340\n",
            "Trainable params: 75,340\n",
            "Non-trainable params: 0\n",
            "__________________________________________________________________________________________________\n",
            "Epoch 1/200\n",
            "8/8 [==============================] - 7s 314ms/step - loss: 0.0637 - dense_loss: 0.0628 - dense_1_loss: 0.8757 - dense_rmse: 0.3547 - dense_accuracy: 0.0000e+00 - dense_1_rmse: 0.3364 - dense_1_accuracy: 0.0000e+00 - val_loss: 0.0633 - val_dense_loss: 0.0626 - val_dense_1_loss: 0.7723 - val_dense_rmse: 0.3539 - val_dense_accuracy: 0.0000e+00 - val_dense_1_rmse: 0.2333 - val_dense_1_accuracy: 0.0000e+00\n",
            "Epoch 2/200\n",
            "8/8 [==============================] - 1s 160ms/step - loss: 0.0593 - dense_loss: 0.0587 - dense_1_loss: 0.7208 - dense_rmse: 0.3426 - dense_accuracy: 0.0000e+00 - dense_1_rmse: 0.2611 - dense_1_accuracy: 0.0000e+00 - val_loss: 0.0622 - val_dense_loss: 0.0615 - val_dense_1_loss: 0.6950 - val_dense_rmse: 0.3508 - val_dense_accuracy: 0.0000e+00 - val_dense_1_rmse: 0.1473 - val_dense_1_accuracy: 0.0000e+00\n",
            "Epoch 3/200\n",
            "8/8 [==============================] - 1s 160ms/step - loss: 0.0594 - dense_loss: 0.0588 - dense_1_loss: 0.6904 - dense_rmse: 0.3428 - dense_accuracy: 0.0000e+00 - dense_1_rmse: 0.2347 - dense_1_accuracy: 0.0000e+00 - val_loss: 0.0620 - val_dense_loss: 0.0614 - val_dense_1_loss: 0.6890 - val_dense_rmse: 0.3505 - val_dense_accuracy: 0.0000e+00 - val_dense_1_rmse: 0.1368 - val_dense_1_accuracy: 0.0000e+00\n",
            "Epoch 4/200\n",
            "8/8 [==============================] - 1s 161ms/step - loss: 0.0590 - dense_loss: 0.0583 - dense_1_loss: 0.6910 - dense_rmse: 0.3416 - dense_accuracy: 0.0000e+00 - dense_1_rmse: 0.2353 - dense_1_accuracy: 0.0000e+00 - val_loss: 0.0619 - val_dense_loss: 0.0612 - val_dense_1_loss: 0.6881 - val_dense_rmse: 0.3500 - val_dense_accuracy: 0.0000e+00 - val_dense_1_rmse: 0.1352 - val_dense_1_accuracy: 0.0000e+00\n",
            "Epoch 5/200\n",
            "8/8 [==============================] - 1s 161ms/step - loss: 0.0590 - dense_loss: 0.0584 - dense_1_loss: 0.6885 - dense_rmse: 0.3417 - dense_accuracy: 0.0000e+00 - dense_1_rmse: 0.2326 - dense_1_accuracy: 0.0000e+00 - val_loss: 0.0618 - val_dense_loss: 0.0612 - val_dense_1_loss: 0.6883 - val_dense_rmse: 0.3499 - val_dense_accuracy: 0.0000e+00 - val_dense_1_rmse: 0.1356 - val_dense_1_accuracy: 0.0000e+00\n",
            "Epoch 6/200\n",
            "8/8 [==============================] - 1s 162ms/step - loss: 0.0593 - dense_loss: 0.0587 - dense_1_loss: 0.6896 - dense_rmse: 0.3426 - dense_accuracy: 0.0000e+00 - dense_1_rmse: 0.2338 - dense_1_accuracy: 0.0000e+00 - val_loss: 0.0623 - val_dense_loss: 0.0616 - val_dense_1_loss: 0.6966 - val_dense_rmse: 0.3511 - val_dense_accuracy: 0.0000e+00 - val_dense_1_rmse: 0.1496 - val_dense_1_accuracy: 0.0000e+00\n",
            "Epoch 7/200\n",
            "8/8 [==============================] - 1s 161ms/step - loss: 0.0593 - dense_loss: 0.0586 - dense_1_loss: 0.6924 - dense_rmse: 0.3424 - dense_accuracy: 0.0000e+00 - dense_1_rmse: 0.2365 - dense_1_accuracy: 0.0000e+00 - val_loss: 0.0618 - val_dense_loss: 0.0612 - val_dense_1_loss: 0.6886 - val_dense_rmse: 0.3499 - val_dense_accuracy: 0.0000e+00 - val_dense_1_rmse: 0.1362 - val_dense_1_accuracy: 0.0000e+00\n",
            "Epoch 8/200\n",
            "8/8 [==============================] - 1s 161ms/step - loss: 0.0591 - dense_loss: 0.0585 - dense_1_loss: 0.6888 - dense_rmse: 0.3421 - dense_accuracy: 0.0000e+00 - dense_1_rmse: 0.2329 - dense_1_accuracy: 0.0000e+00 - val_loss: 0.0620 - val_dense_loss: 0.0614 - val_dense_1_loss: 0.6878 - val_dense_rmse: 0.3504 - val_dense_accuracy: 0.0000e+00 - val_dense_1_rmse: 0.1347 - val_dense_1_accuracy: 0.0000e+00\n",
            "Epoch 9/200\n",
            "8/8 [==============================] - 1s 161ms/step - loss: 0.0592 - dense_loss: 0.0586 - dense_1_loss: 0.6913 - dense_rmse: 0.3424 - dense_accuracy: 0.0000e+00 - dense_1_rmse: 0.2357 - dense_1_accuracy: 0.0000e+00 - val_loss: 0.0619 - val_dense_loss: 0.0613 - val_dense_1_loss: 0.6894 - val_dense_rmse: 0.3501 - val_dense_accuracy: 0.0000e+00 - val_dense_1_rmse: 0.1376 - val_dense_1_accuracy: 0.0000e+00\n",
            "Epoch 10/200\n",
            "8/8 [==============================] - 1s 161ms/step - loss: 0.0590 - dense_loss: 0.0584 - dense_1_loss: 0.6939 - dense_rmse: 0.3418 - dense_accuracy: 0.0000e+00 - dense_1_rmse: 0.2381 - dense_1_accuracy: 0.0000e+00 - val_loss: 0.0619 - val_dense_loss: 0.0613 - val_dense_1_loss: 0.6894 - val_dense_rmse: 0.3501 - val_dense_accuracy: 0.0000e+00 - val_dense_1_rmse: 0.1376 - val_dense_1_accuracy: 0.0000e+00\n",
            "Epoch 11/200\n",
            "8/8 [==============================] - 1s 159ms/step - loss: 0.0590 - dense_loss: 0.0583 - dense_1_loss: 0.6876 - dense_rmse: 0.3416 - dense_accuracy: 0.0000e+00 - dense_1_rmse: 0.2317 - dense_1_accuracy: 0.0000e+00 - val_loss: 0.0619 - val_dense_loss: 0.0612 - val_dense_1_loss: 0.6882 - val_dense_rmse: 0.3500 - val_dense_accuracy: 0.0000e+00 - val_dense_1_rmse: 0.1353 - val_dense_1_accuracy: 0.0000e+00\n",
            "Epoch 12/200\n",
            "8/8 [==============================] - 1s 162ms/step - loss: 0.0591 - dense_loss: 0.0585 - dense_1_loss: 0.6887 - dense_rmse: 0.3419 - dense_accuracy: 0.0000e+00 - dense_1_rmse: 0.2328 - dense_1_accuracy: 0.0000e+00 - val_loss: 0.0622 - val_dense_loss: 0.0616 - val_dense_1_loss: 0.6907 - val_dense_rmse: 0.3510 - val_dense_accuracy: 0.0000e+00 - val_dense_1_rmse: 0.1399 - val_dense_1_accuracy: 0.0000e+00\n",
            "Epoch 13/200\n",
            "8/8 [==============================] - 1s 163ms/step - loss: 0.0589 - dense_loss: 0.0583 - dense_1_loss: 0.6878 - dense_rmse: 0.3415 - dense_accuracy: 0.0000e+00 - dense_1_rmse: 0.2319 - dense_1_accuracy: 0.0000e+00 - val_loss: 0.0618 - val_dense_loss: 0.0612 - val_dense_1_loss: 0.6888 - val_dense_rmse: 0.3498 - val_dense_accuracy: 0.0000e+00 - val_dense_1_rmse: 0.1364 - val_dense_1_accuracy: 0.0000e+00\n",
            "Epoch 14/200\n",
            "8/8 [==============================] - 1s 161ms/step - loss: 0.0591 - dense_loss: 0.0585 - dense_1_loss: 0.6908 - dense_rmse: 0.3420 - dense_accuracy: 0.0000e+00 - dense_1_rmse: 0.2351 - dense_1_accuracy: 0.0000e+00 - val_loss: 0.0622 - val_dense_loss: 0.0616 - val_dense_1_loss: 0.6958 - val_dense_rmse: 0.3510 - val_dense_accuracy: 0.0000e+00 - val_dense_1_rmse: 0.1483 - val_dense_1_accuracy: 0.0000e+00\n",
            "Epoch 15/200\n",
            "8/8 [==============================] - 1s 158ms/step - loss: 0.0592 - dense_loss: 0.0586 - dense_1_loss: 0.6888 - dense_rmse: 0.3422 - dense_accuracy: 0.0000e+00 - dense_1_rmse: 0.2329 - dense_1_accuracy: 0.0000e+00 - val_loss: 0.0619 - val_dense_loss: 0.0612 - val_dense_1_loss: 0.6884 - val_dense_rmse: 0.3500 - val_dense_accuracy: 0.0000e+00 - val_dense_1_rmse: 0.1357 - val_dense_1_accuracy: 0.0000e+00\n",
            "Epoch 16/200\n",
            "8/8 [==============================] - 1s 162ms/step - loss: 0.0593 - dense_loss: 0.0586 - dense_1_loss: 0.6915 - dense_rmse: 0.3424 - dense_accuracy: 0.0000e+00 - dense_1_rmse: 0.2357 - dense_1_accuracy: 0.0000e+00 - val_loss: 0.0619 - val_dense_loss: 0.0613 - val_dense_1_loss: 0.6881 - val_dense_rmse: 0.3502 - val_dense_accuracy: 0.0000e+00 - val_dense_1_rmse: 0.1351 - val_dense_1_accuracy: 0.0000e+00\n",
            "Epoch 17/200\n",
            "8/8 [==============================] - 1s 165ms/step - loss: 0.0591 - dense_loss: 0.0584 - dense_1_loss: 0.6978 - dense_rmse: 0.3419 - dense_accuracy: 0.0000e+00 - dense_1_rmse: 0.2424 - dense_1_accuracy: 0.0000e+00 - val_loss: 0.0618 - val_dense_loss: 0.0612 - val_dense_1_loss: 0.6883 - val_dense_rmse: 0.3499 - val_dense_accuracy: 0.0000e+00 - val_dense_1_rmse: 0.1355 - val_dense_1_accuracy: 0.0000e+00\n",
            "Epoch 18/200\n",
            "8/8 [==============================] - 1s 164ms/step - loss: 0.0590 - dense_loss: 0.0584 - dense_1_loss: 0.6882 - dense_rmse: 0.3418 - dense_accuracy: 0.0000e+00 - dense_1_rmse: 0.2323 - dense_1_accuracy: 0.0000e+00 - val_loss: 0.0621 - val_dense_loss: 0.0615 - val_dense_1_loss: 0.7004 - val_dense_rmse: 0.3507 - val_dense_accuracy: 0.0000e+00 - val_dense_1_rmse: 0.1553 - val_dense_1_accuracy: 0.0000e+00\n",
            "Epoch 19/200\n",
            "8/8 [==============================] - 1s 165ms/step - loss: 0.0592 - dense_loss: 0.0585 - dense_1_loss: 0.6960 - dense_rmse: 0.3421 - dense_accuracy: 0.0000e+00 - dense_1_rmse: 0.2402 - dense_1_accuracy: 0.0000e+00 - val_loss: 0.0619 - val_dense_loss: 0.0613 - val_dense_1_loss: 0.6886 - val_dense_rmse: 0.3502 - val_dense_accuracy: 0.0000e+00 - val_dense_1_rmse: 0.1361 - val_dense_1_accuracy: 0.0000e+00\n",
            "Epoch 20/200\n",
            "8/8 [==============================] - 1s 158ms/step - loss: 0.0590 - dense_loss: 0.0584 - dense_1_loss: 0.6884 - dense_rmse: 0.3417 - dense_accuracy: 0.0000e+00 - dense_1_rmse: 0.2325 - dense_1_accuracy: 0.0000e+00 - val_loss: 0.0619 - val_dense_loss: 0.0613 - val_dense_1_loss: 0.6884 - val_dense_rmse: 0.3501 - val_dense_accuracy: 0.0000e+00 - val_dense_1_rmse: 0.1357 - val_dense_1_accuracy: 0.0000e+00\n",
            "Epoch 21/200\n",
            "8/8 [==============================] - 1s 158ms/step - loss: 0.0589 - dense_loss: 0.0583 - dense_1_loss: 0.6882 - dense_rmse: 0.3415 - dense_accuracy: 0.0000e+00 - dense_1_rmse: 0.2323 - dense_1_accuracy: 0.0000e+00 - val_loss: 0.0620 - val_dense_loss: 0.0614 - val_dense_1_loss: 0.6882 - val_dense_rmse: 0.3504 - val_dense_accuracy: 0.0000e+00 - val_dense_1_rmse: 0.1353 - val_dense_1_accuracy: 0.0000e+00\n",
            "Epoch 22/200\n",
            "8/8 [==============================] - 1s 163ms/step - loss: 0.0590 - dense_loss: 0.0584 - dense_1_loss: 0.6935 - dense_rmse: 0.3417 - dense_accuracy: 0.0000e+00 - dense_1_rmse: 0.2379 - dense_1_accuracy: 0.0000e+00 - val_loss: 0.0618 - val_dense_loss: 0.0612 - val_dense_1_loss: 0.6880 - val_dense_rmse: 0.3498 - val_dense_accuracy: 0.0000e+00 - val_dense_1_rmse: 0.1351 - val_dense_1_accuracy: 0.0000e+00\n",
            "Epoch 23/200\n",
            "8/8 [==============================] - 1s 162ms/step - loss: 0.0591 - dense_loss: 0.0585 - dense_1_loss: 0.6942 - dense_rmse: 0.3420 - dense_accuracy: 0.0000e+00 - dense_1_rmse: 0.2383 - dense_1_accuracy: 0.0000e+00 - val_loss: 0.0620 - val_dense_loss: 0.0614 - val_dense_1_loss: 0.6902 - val_dense_rmse: 0.3503 - val_dense_accuracy: 0.0000e+00 - val_dense_1_rmse: 0.1389 - val_dense_1_accuracy: 0.0000e+00\n",
            "Epoch 24/200\n",
            "8/8 [==============================] - 1s 161ms/step - loss: 0.0590 - dense_loss: 0.0584 - dense_1_loss: 0.6897 - dense_rmse: 0.3417 - dense_accuracy: 0.0000e+00 - dense_1_rmse: 0.2339 - dense_1_accuracy: 0.0000e+00 - val_loss: 0.0618 - val_dense_loss: 0.0612 - val_dense_1_loss: 0.6881 - val_dense_rmse: 0.3498 - val_dense_accuracy: 0.0000e+00 - val_dense_1_rmse: 0.1352 - val_dense_1_accuracy: 0.0000e+00\n",
            "Epoch 25/200\n",
            "8/8 [==============================] - 1s 164ms/step - loss: 0.0589 - dense_loss: 0.0583 - dense_1_loss: 0.6890 - dense_rmse: 0.3414 - dense_accuracy: 0.0000e+00 - dense_1_rmse: 0.2331 - dense_1_accuracy: 0.0000e+00 - val_loss: 0.0620 - val_dense_loss: 0.0614 - val_dense_1_loss: 0.6894 - val_dense_rmse: 0.3503 - val_dense_accuracy: 0.0000e+00 - val_dense_1_rmse: 0.1376 - val_dense_1_accuracy: 0.0000e+00\n",
            "Epoch 26/200\n",
            "8/8 [==============================] - 1s 160ms/step - loss: 0.0589 - dense_loss: 0.0583 - dense_1_loss: 0.6885 - dense_rmse: 0.3413 - dense_accuracy: 0.0000e+00 - dense_1_rmse: 0.2326 - dense_1_accuracy: 0.0000e+00 - val_loss: 0.0618 - val_dense_loss: 0.0612 - val_dense_1_loss: 0.6880 - val_dense_rmse: 0.3498 - val_dense_accuracy: 0.0000e+00 - val_dense_1_rmse: 0.1351 - val_dense_1_accuracy: 0.0000e+00\n",
            "Epoch 27/200\n",
            "8/8 [==============================] - 1s 158ms/step - loss: 0.0589 - dense_loss: 0.0583 - dense_1_loss: 0.6889 - dense_rmse: 0.3415 - dense_accuracy: 0.0000e+00 - dense_1_rmse: 0.2330 - dense_1_accuracy: 0.0000e+00 - val_loss: 0.0620 - val_dense_loss: 0.0613 - val_dense_1_loss: 0.6889 - val_dense_rmse: 0.3502 - val_dense_accuracy: 0.0000e+00 - val_dense_1_rmse: 0.1366 - val_dense_1_accuracy: 0.0000e+00\n",
            "Epoch 28/200\n",
            "8/8 [==============================] - 1s 162ms/step - loss: 0.0590 - dense_loss: 0.0584 - dense_1_loss: 0.6920 - dense_rmse: 0.3417 - dense_accuracy: 0.0000e+00 - dense_1_rmse: 0.2362 - dense_1_accuracy: 0.0000e+00 - val_loss: 0.0618 - val_dense_loss: 0.0612 - val_dense_1_loss: 0.6878 - val_dense_rmse: 0.3498 - val_dense_accuracy: 0.0000e+00 - val_dense_1_rmse: 0.1347 - val_dense_1_accuracy: 0.0000e+00\n",
            "Epoch 29/200\n",
            "8/8 [==============================] - 1s 161ms/step - loss: 0.0589 - dense_loss: 0.0583 - dense_1_loss: 0.6900 - dense_rmse: 0.3413 - dense_accuracy: 0.0000e+00 - dense_1_rmse: 0.2342 - dense_1_accuracy: 0.0000e+00 - val_loss: 0.0618 - val_dense_loss: 0.0612 - val_dense_1_loss: 0.6879 - val_dense_rmse: 0.3497 - val_dense_accuracy: 0.0000e+00 - val_dense_1_rmse: 0.1348 - val_dense_1_accuracy: 0.0000e+00\n",
            "Epoch 30/200\n",
            "8/8 [==============================] - 1s 161ms/step - loss: 0.0592 - dense_loss: 0.0585 - dense_1_loss: 0.6942 - dense_rmse: 0.3422 - dense_accuracy: 0.0000e+00 - dense_1_rmse: 0.2385 - dense_1_accuracy: 0.0000e+00 - val_loss: 0.0618 - val_dense_loss: 0.0612 - val_dense_1_loss: 0.6879 - val_dense_rmse: 0.3498 - val_dense_accuracy: 0.0000e+00 - val_dense_1_rmse: 0.1348 - val_dense_1_accuracy: 0.0000e+00\n",
            "Epoch 31/200\n",
            "8/8 [==============================] - 1s 159ms/step - loss: 0.0589 - dense_loss: 0.0583 - dense_1_loss: 0.6888 - dense_rmse: 0.3415 - dense_accuracy: 0.0000e+00 - dense_1_rmse: 0.2329 - dense_1_accuracy: 0.0000e+00 - val_loss: 0.0620 - val_dense_loss: 0.0614 - val_dense_1_loss: 0.6895 - val_dense_rmse: 0.3503 - val_dense_accuracy: 0.0000e+00 - val_dense_1_rmse: 0.1377 - val_dense_1_accuracy: 0.0000e+00\n",
            "Epoch 32/200\n",
            "8/8 [==============================] - 1s 162ms/step - loss: 0.0589 - dense_loss: 0.0582 - dense_1_loss: 0.6890 - dense_rmse: 0.3413 - dense_accuracy: 0.0000e+00 - dense_1_rmse: 0.2332 - dense_1_accuracy: 0.0000e+00 - val_loss: 0.0618 - val_dense_loss: 0.0612 - val_dense_1_loss: 0.6878 - val_dense_rmse: 0.3499 - val_dense_accuracy: 0.0000e+00 - val_dense_1_rmse: 0.1347 - val_dense_1_accuracy: 0.0000e+00\n",
            "Epoch 33/200\n",
            "8/8 [==============================] - 1s 164ms/step - loss: 0.0589 - dense_loss: 0.0582 - dense_1_loss: 0.6897 - dense_rmse: 0.3413 - dense_accuracy: 0.0000e+00 - dense_1_rmse: 0.2339 - dense_1_accuracy: 0.0000e+00 - val_loss: 0.0618 - val_dense_loss: 0.0612 - val_dense_1_loss: 0.6885 - val_dense_rmse: 0.3497 - val_dense_accuracy: 0.0000e+00 - val_dense_1_rmse: 0.1359 - val_dense_1_accuracy: 0.0000e+00\n",
            "Epoch 34/200\n",
            "8/8 [==============================] - 1s 163ms/step - loss: 0.0596 - dense_loss: 0.0589 - dense_1_loss: 0.6943 - dense_rmse: 0.3433 - dense_accuracy: 0.0000e+00 - dense_1_rmse: 0.2388 - dense_1_accuracy: 0.0000e+00 - val_loss: 0.0624 - val_dense_loss: 0.0617 - val_dense_1_loss: 0.7028 - val_dense_rmse: 0.3513 - val_dense_accuracy: 0.0000e+00 - val_dense_1_rmse: 0.1589 - val_dense_1_accuracy: 0.0000e+00\n",
            "Epoch 35/200\n",
            "8/8 [==============================] - 1s 162ms/step - loss: 0.0593 - dense_loss: 0.0587 - dense_1_loss: 0.7016 - dense_rmse: 0.3426 - dense_accuracy: 0.0000e+00 - dense_1_rmse: 0.2455 - dense_1_accuracy: 0.0000e+00 - val_loss: 0.0619 - val_dense_loss: 0.0613 - val_dense_1_loss: 0.6901 - val_dense_rmse: 0.3502 - val_dense_accuracy: 0.0000e+00 - val_dense_1_rmse: 0.1387 - val_dense_1_accuracy: 0.0000e+00\n",
            "Epoch 36/200\n",
            "8/8 [==============================] - 1s 165ms/step - loss: 0.0589 - dense_loss: 0.0583 - dense_1_loss: 0.6902 - dense_rmse: 0.3414 - dense_accuracy: 0.0000e+00 - dense_1_rmse: 0.2344 - dense_1_accuracy: 0.0000e+00 - val_loss: 0.0618 - val_dense_loss: 0.0612 - val_dense_1_loss: 0.6906 - val_dense_rmse: 0.3497 - val_dense_accuracy: 0.0000e+00 - val_dense_1_rmse: 0.1398 - val_dense_1_accuracy: 0.0000e+00\n",
            "Epoch 37/200\n",
            "8/8 [==============================] - 1s 161ms/step - loss: 0.0590 - dense_loss: 0.0584 - dense_1_loss: 0.6938 - dense_rmse: 0.3417 - dense_accuracy: 0.0000e+00 - dense_1_rmse: 0.2383 - dense_1_accuracy: 0.0000e+00 - val_loss: 0.0619 - val_dense_loss: 0.0612 - val_dense_1_loss: 0.6878 - val_dense_rmse: 0.3500 - val_dense_accuracy: 0.0000e+00 - val_dense_1_rmse: 0.1347 - val_dense_1_accuracy: 0.0000e+00\n",
            "Epoch 38/200\n",
            "8/8 [==============================] - 1s 165ms/step - loss: 0.0589 - dense_loss: 0.0583 - dense_1_loss: 0.6885 - dense_rmse: 0.3414 - dense_accuracy: 0.0000e+00 - dense_1_rmse: 0.2327 - dense_1_accuracy: 0.0000e+00 - val_loss: 0.0618 - val_dense_loss: 0.0612 - val_dense_1_loss: 0.6889 - val_dense_rmse: 0.3499 - val_dense_accuracy: 0.0000e+00 - val_dense_1_rmse: 0.1367 - val_dense_1_accuracy: 0.0000e+00\n",
            "Epoch 39/200\n",
            "8/8 [==============================] - 1s 162ms/step - loss: 0.0590 - dense_loss: 0.0584 - dense_1_loss: 0.6947 - dense_rmse: 0.3417 - dense_accuracy: 0.0000e+00 - dense_1_rmse: 0.2389 - dense_1_accuracy: 0.0000e+00 - val_loss: 0.0619 - val_dense_loss: 0.0613 - val_dense_1_loss: 0.6890 - val_dense_rmse: 0.3502 - val_dense_accuracy: 0.0000e+00 - val_dense_1_rmse: 0.1368 - val_dense_1_accuracy: 0.0000e+00\n",
            "Epoch 40/200\n",
            "8/8 [==============================] - 1s 160ms/step - loss: 0.0590 - dense_loss: 0.0583 - dense_1_loss: 0.6909 - dense_rmse: 0.3416 - dense_accuracy: 0.0000e+00 - dense_1_rmse: 0.2351 - dense_1_accuracy: 0.0000e+00 - val_loss: 0.0619 - val_dense_loss: 0.0612 - val_dense_1_loss: 0.6918 - val_dense_rmse: 0.3499 - val_dense_accuracy: 0.0000e+00 - val_dense_1_rmse: 0.1419 - val_dense_1_accuracy: 0.0000e+00\n",
            "Epoch 41/200\n",
            "8/8 [==============================] - 1s 167ms/step - loss: 0.0591 - dense_loss: 0.0585 - dense_1_loss: 0.6931 - dense_rmse: 0.3420 - dense_accuracy: 0.0000e+00 - dense_1_rmse: 0.2374 - dense_1_accuracy: 0.0000e+00 - val_loss: 0.0618 - val_dense_loss: 0.0612 - val_dense_1_loss: 0.6903 - val_dense_rmse: 0.3498 - val_dense_accuracy: 0.0000e+00 - val_dense_1_rmse: 0.1392 - val_dense_1_accuracy: 0.0000e+00\n",
            "Epoch 42/200\n",
            "8/8 [==============================] - 1s 165ms/step - loss: 0.0590 - dense_loss: 0.0584 - dense_1_loss: 0.6892 - dense_rmse: 0.3418 - dense_accuracy: 0.0000e+00 - dense_1_rmse: 0.2333 - dense_1_accuracy: 0.0000e+00 - val_loss: 0.0621 - val_dense_loss: 0.0615 - val_dense_1_loss: 0.6933 - val_dense_rmse: 0.3506 - val_dense_accuracy: 0.0000e+00 - val_dense_1_rmse: 0.1441 - val_dense_1_accuracy: 0.0000e+00\n",
            "Epoch 43/200\n",
            "8/8 [==============================] - 1s 163ms/step - loss: 0.0589 - dense_loss: 0.0583 - dense_1_loss: 0.6904 - dense_rmse: 0.3415 - dense_accuracy: 0.0000e+00 - dense_1_rmse: 0.2347 - dense_1_accuracy: 0.0000e+00 - val_loss: 0.0618 - val_dense_loss: 0.0612 - val_dense_1_loss: 0.6901 - val_dense_rmse: 0.3498 - val_dense_accuracy: 0.0000e+00 - val_dense_1_rmse: 0.1389 - val_dense_1_accuracy: 0.0000e+00\n",
            "Epoch 44/200\n",
            "8/8 [==============================] - 1s 159ms/step - loss: 0.0589 - dense_loss: 0.0583 - dense_1_loss: 0.6895 - dense_rmse: 0.3414 - dense_accuracy: 0.0000e+00 - dense_1_rmse: 0.2337 - dense_1_accuracy: 0.0000e+00 - val_loss: 0.0619 - val_dense_loss: 0.0613 - val_dense_1_loss: 0.6882 - val_dense_rmse: 0.3502 - val_dense_accuracy: 0.0000e+00 - val_dense_1_rmse: 0.1354 - val_dense_1_accuracy: 0.0000e+00\n",
            "Epoch 45/200\n",
            "8/8 [==============================] - 1s 166ms/step - loss: 0.0589 - dense_loss: 0.0582 - dense_1_loss: 0.6883 - dense_rmse: 0.3413 - dense_accuracy: 0.0000e+00 - dense_1_rmse: 0.2324 - dense_1_accuracy: 0.0000e+00 - val_loss: 0.0618 - val_dense_loss: 0.0612 - val_dense_1_loss: 0.6881 - val_dense_rmse: 0.3497 - val_dense_accuracy: 0.0000e+00 - val_dense_1_rmse: 0.1353 - val_dense_1_accuracy: 0.0000e+00\n",
            "Epoch 46/200\n",
            "8/8 [==============================] - 1s 165ms/step - loss: 0.0588 - dense_loss: 0.0582 - dense_1_loss: 0.6902 - dense_rmse: 0.3411 - dense_accuracy: 0.0000e+00 - dense_1_rmse: 0.2344 - dense_1_accuracy: 0.0000e+00 - val_loss: 0.0619 - val_dense_loss: 0.0613 - val_dense_1_loss: 0.6893 - val_dense_rmse: 0.3500 - val_dense_accuracy: 0.0000e+00 - val_dense_1_rmse: 0.1373 - val_dense_1_accuracy: 0.0000e+00\n",
            "Epoch 47/200\n",
            "8/8 [==============================] - 1s 161ms/step - loss: 0.0592 - dense_loss: 0.0585 - dense_1_loss: 0.6967 - dense_rmse: 0.3421 - dense_accuracy: 0.0000e+00 - dense_1_rmse: 0.2409 - dense_1_accuracy: 0.0000e+00 - val_loss: 0.0618 - val_dense_loss: 0.0612 - val_dense_1_loss: 0.6879 - val_dense_rmse: 0.3498 - val_dense_accuracy: 0.0000e+00 - val_dense_1_rmse: 0.1349 - val_dense_1_accuracy: 0.0000e+00\n",
            "Epoch 48/200\n",
            "8/8 [==============================] - 1s 162ms/step - loss: 0.0589 - dense_loss: 0.0583 - dense_1_loss: 0.6912 - dense_rmse: 0.3415 - dense_accuracy: 0.0000e+00 - dense_1_rmse: 0.2355 - dense_1_accuracy: 0.0000e+00 - val_loss: 0.0617 - val_dense_loss: 0.0610 - val_dense_1_loss: 0.6904 - val_dense_rmse: 0.3494 - val_dense_accuracy: 0.0000e+00 - val_dense_1_rmse: 0.1393 - val_dense_1_accuracy: 0.0000e+00\n",
            "Epoch 49/200\n",
            "8/8 [==============================] - 1s 163ms/step - loss: 0.0590 - dense_loss: 0.0583 - dense_1_loss: 0.7019 - dense_rmse: 0.3416 - dense_accuracy: 0.0000e+00 - dense_1_rmse: 0.2461 - dense_1_accuracy: 0.0000e+00 - val_loss: 0.0618 - val_dense_loss: 0.0611 - val_dense_1_loss: 0.6957 - val_dense_rmse: 0.3496 - val_dense_accuracy: 0.0000e+00 - val_dense_1_rmse: 0.1481 - val_dense_1_accuracy: 0.0000e+00\n",
            "Epoch 50/200\n",
            "8/8 [==============================] - 1s 164ms/step - loss: 0.0584 - dense_loss: 0.0577 - dense_1_loss: 0.6926 - dense_rmse: 0.3398 - dense_accuracy: 0.0000e+00 - dense_1_rmse: 0.2369 - dense_1_accuracy: 0.0000e+00 - val_loss: 0.0618 - val_dense_loss: 0.0611 - val_dense_1_loss: 0.7012 - val_dense_rmse: 0.3497 - val_dense_accuracy: 0.0000e+00 - val_dense_1_rmse: 0.1575 - val_dense_1_accuracy: 0.0000e+00\n",
            "Epoch 51/200\n",
            "8/8 [==============================] - 1s 162ms/step - loss: 0.0594 - dense_loss: 0.0588 - dense_1_loss: 0.7085 - dense_rmse: 0.3428 - dense_accuracy: 0.0000e+00 - dense_1_rmse: 0.2531 - dense_1_accuracy: 0.0000e+00 - val_loss: 0.0625 - val_dense_loss: 0.0619 - val_dense_1_loss: 0.6938 - val_dense_rmse: 0.3517 - val_dense_accuracy: 0.0000e+00 - val_dense_1_rmse: 0.1449 - val_dense_1_accuracy: 0.0000e+00\n",
            "Epoch 52/200\n",
            "8/8 [==============================] - 1s 165ms/step - loss: 0.0594 - dense_loss: 0.0588 - dense_1_loss: 0.6988 - dense_rmse: 0.3429 - dense_accuracy: 0.0000e+00 - dense_1_rmse: 0.2429 - dense_1_accuracy: 0.0000e+00 - val_loss: 0.0618 - val_dense_loss: 0.0612 - val_dense_1_loss: 0.6887 - val_dense_rmse: 0.3498 - val_dense_accuracy: 0.0000e+00 - val_dense_1_rmse: 0.1363 - val_dense_1_accuracy: 0.0000e+00\n",
            "Epoch 53/200\n",
            "8/8 [==============================] - 1s 163ms/step - loss: 0.0590 - dense_loss: 0.0583 - dense_1_loss: 0.6892 - dense_rmse: 0.3415 - dense_accuracy: 0.0000e+00 - dense_1_rmse: 0.2334 - dense_1_accuracy: 0.0000e+00 - val_loss: 0.0618 - val_dense_loss: 0.0612 - val_dense_1_loss: 0.6894 - val_dense_rmse: 0.3498 - val_dense_accuracy: 0.0000e+00 - val_dense_1_rmse: 0.1374 - val_dense_1_accuracy: 0.0000e+00\n",
            "Epoch 54/200\n",
            "8/8 [==============================] - 1s 163ms/step - loss: 0.0589 - dense_loss: 0.0583 - dense_1_loss: 0.6887 - dense_rmse: 0.3414 - dense_accuracy: 0.0000e+00 - dense_1_rmse: 0.2328 - dense_1_accuracy: 0.0000e+00 - val_loss: 0.0618 - val_dense_loss: 0.0612 - val_dense_1_loss: 0.6880 - val_dense_rmse: 0.3498 - val_dense_accuracy: 0.0000e+00 - val_dense_1_rmse: 0.1349 - val_dense_1_accuracy: 0.0000e+00\n",
            "Epoch 55/200\n",
            "8/8 [==============================] - 1s 163ms/step - loss: 0.0589 - dense_loss: 0.0583 - dense_1_loss: 0.6872 - dense_rmse: 0.3414 - dense_accuracy: 0.0000e+00 - dense_1_rmse: 0.2312 - dense_1_accuracy: 0.0000e+00 - val_loss: 0.0618 - val_dense_loss: 0.0612 - val_dense_1_loss: 0.6882 - val_dense_rmse: 0.3499 - val_dense_accuracy: 0.0000e+00 - val_dense_1_rmse: 0.1353 - val_dense_1_accuracy: 0.0000e+00\n",
            "Epoch 56/200\n",
            "8/8 [==============================] - 1s 161ms/step - loss: 0.0589 - dense_loss: 0.0583 - dense_1_loss: 0.6895 - dense_rmse: 0.3414 - dense_accuracy: 0.0000e+00 - dense_1_rmse: 0.2337 - dense_1_accuracy: 0.0000e+00 - val_loss: 0.0618 - val_dense_loss: 0.0612 - val_dense_1_loss: 0.6881 - val_dense_rmse: 0.3498 - val_dense_accuracy: 0.0000e+00 - val_dense_1_rmse: 0.1351 - val_dense_1_accuracy: 0.0000e+00\n",
            "Epoch 57/200\n",
            "8/8 [==============================] - 1s 160ms/step - loss: 0.0595 - dense_loss: 0.0589 - dense_1_loss: 0.6913 - dense_rmse: 0.3431 - dense_accuracy: 0.0000e+00 - dense_1_rmse: 0.2354 - dense_1_accuracy: 0.0000e+00 - val_loss: 0.0619 - val_dense_loss: 0.0613 - val_dense_1_loss: 0.6879 - val_dense_rmse: 0.3502 - val_dense_accuracy: 0.0000e+00 - val_dense_1_rmse: 0.1347 - val_dense_1_accuracy: 0.0000e+00\n",
            "Epoch 58/200\n",
            "8/8 [==============================] - 1s 164ms/step - loss: 0.0589 - dense_loss: 0.0582 - dense_1_loss: 0.6913 - dense_rmse: 0.3413 - dense_accuracy: 0.0000e+00 - dense_1_rmse: 0.2356 - dense_1_accuracy: 0.0000e+00 - val_loss: 0.0618 - val_dense_loss: 0.0612 - val_dense_1_loss: 0.6880 - val_dense_rmse: 0.3499 - val_dense_accuracy: 0.0000e+00 - val_dense_1_rmse: 0.1350 - val_dense_1_accuracy: 0.0000e+00\n",
            "Epoch 59/200\n",
            "8/8 [==============================] - 1s 163ms/step - loss: 0.0594 - dense_loss: 0.0587 - dense_1_loss: 0.6998 - dense_rmse: 0.3428 - dense_accuracy: 0.0000e+00 - dense_1_rmse: 0.2438 - dense_1_accuracy: 0.0000e+00 - val_loss: 0.0621 - val_dense_loss: 0.0614 - val_dense_1_loss: 0.6952 - val_dense_rmse: 0.3505 - val_dense_accuracy: 0.0000e+00 - val_dense_1_rmse: 0.1473 - val_dense_1_accuracy: 0.0000e+00\n",
            "Epoch 60/200\n",
            "8/8 [==============================] - 1s 163ms/step - loss: 0.0589 - dense_loss: 0.0583 - dense_1_loss: 0.6925 - dense_rmse: 0.3414 - dense_accuracy: 0.0000e+00 - dense_1_rmse: 0.2368 - dense_1_accuracy: 0.0000e+00 - val_loss: 0.0618 - val_dense_loss: 0.0612 - val_dense_1_loss: 0.6929 - val_dense_rmse: 0.3497 - val_dense_accuracy: 0.0000e+00 - val_dense_1_rmse: 0.1438 - val_dense_1_accuracy: 0.0000e+00\n",
            "Epoch 61/200\n",
            "8/8 [==============================] - 1s 167ms/step - loss: 0.0595 - dense_loss: 0.0588 - dense_1_loss: 0.6924 - dense_rmse: 0.3430 - dense_accuracy: 0.0000e+00 - dense_1_rmse: 0.2367 - dense_1_accuracy: 0.0000e+00 - val_loss: 0.0619 - val_dense_loss: 0.0613 - val_dense_1_loss: 0.6894 - val_dense_rmse: 0.3501 - val_dense_accuracy: 0.0000e+00 - val_dense_1_rmse: 0.1375 - val_dense_1_accuracy: 0.0000e+00\n",
            "Epoch 62/200\n",
            "8/8 [==============================] - 1s 166ms/step - loss: 0.0589 - dense_loss: 0.0582 - dense_1_loss: 0.6936 - dense_rmse: 0.3413 - dense_accuracy: 0.0000e+00 - dense_1_rmse: 0.2380 - dense_1_accuracy: 0.0000e+00 - val_loss: 0.0612 - val_dense_loss: 0.0606 - val_dense_1_loss: 0.6904 - val_dense_rmse: 0.3480 - val_dense_accuracy: 0.0000e+00 - val_dense_1_rmse: 0.1393 - val_dense_1_accuracy: 0.0000e+00\n",
            "Epoch 63/200\n",
            "8/8 [==============================] - 1s 166ms/step - loss: 0.0588 - dense_loss: 0.0581 - dense_1_loss: 0.7001 - dense_rmse: 0.3410 - dense_accuracy: 0.0000e+00 - dense_1_rmse: 0.2446 - dense_1_accuracy: 0.0000e+00 - val_loss: 0.0614 - val_dense_loss: 0.0607 - val_dense_1_loss: 0.6909 - val_dense_rmse: 0.3485 - val_dense_accuracy: 0.0000e+00 - val_dense_1_rmse: 0.1402 - val_dense_1_accuracy: 0.0000e+00\n",
            "Epoch 64/200\n",
            "8/8 [==============================] - 1s 164ms/step - loss: 0.0586 - dense_loss: 0.0579 - dense_1_loss: 0.6971 - dense_rmse: 0.3404 - dense_accuracy: 0.0000e+00 - dense_1_rmse: 0.2412 - dense_1_accuracy: 0.0000e+00 - val_loss: 0.0615 - val_dense_loss: 0.0608 - val_dense_1_loss: 0.6933 - val_dense_rmse: 0.3488 - val_dense_accuracy: 0.0000e+00 - val_dense_1_rmse: 0.1443 - val_dense_1_accuracy: 0.0000e+00\n",
            "Epoch 65/200\n",
            "8/8 [==============================] - 1s 164ms/step - loss: 0.0583 - dense_loss: 0.0577 - dense_1_loss: 0.6908 - dense_rmse: 0.3397 - dense_accuracy: 0.0000e+00 - dense_1_rmse: 0.2349 - dense_1_accuracy: 0.0000e+00 - val_loss: 0.0611 - val_dense_loss: 0.0604 - val_dense_1_loss: 0.6985 - val_dense_rmse: 0.3476 - val_dense_accuracy: 0.0000e+00 - val_dense_1_rmse: 0.1526 - val_dense_1_accuracy: 0.0000e+00\n",
            "Epoch 66/200\n",
            "8/8 [==============================] - 1s 165ms/step - loss: 0.0586 - dense_loss: 0.0580 - dense_1_loss: 0.6887 - dense_rmse: 0.3405 - dense_accuracy: 0.0000e+00 - dense_1_rmse: 0.2327 - dense_1_accuracy: 0.0000e+00 - val_loss: 0.0615 - val_dense_loss: 0.0609 - val_dense_1_loss: 0.6988 - val_dense_rmse: 0.3489 - val_dense_accuracy: 0.0000e+00 - val_dense_1_rmse: 0.1531 - val_dense_1_accuracy: 0.0000e+00\n",
            "Epoch 67/200\n",
            "8/8 [==============================] - 1s 169ms/step - loss: 0.0584 - dense_loss: 0.0578 - dense_1_loss: 0.6853 - dense_rmse: 0.3399 - dense_accuracy: 0.0000e+00 - dense_1_rmse: 0.2291 - dense_1_accuracy: 0.0000e+00 - val_loss: 0.0611 - val_dense_loss: 0.0604 - val_dense_1_loss: 0.6967 - val_dense_rmse: 0.3476 - val_dense_accuracy: 0.0000e+00 - val_dense_1_rmse: 0.1494 - val_dense_1_accuracy: 0.0000e+00\n",
            "Epoch 68/200\n",
            "8/8 [==============================] - 1s 164ms/step - loss: 0.0584 - dense_loss: 0.0578 - dense_1_loss: 0.6825 - dense_rmse: 0.3399 - dense_accuracy: 0.0000e+00 - dense_1_rmse: 0.2261 - dense_1_accuracy: 0.0000e+00 - val_loss: 0.0614 - val_dense_loss: 0.0607 - val_dense_1_loss: 0.6982 - val_dense_rmse: 0.3485 - val_dense_accuracy: 0.0000e+00 - val_dense_1_rmse: 0.1523 - val_dense_1_accuracy: 0.0000e+00\n",
            "Epoch 69/200\n",
            "8/8 [==============================] - 1s 163ms/step - loss: 0.0585 - dense_loss: 0.0579 - dense_1_loss: 0.6887 - dense_rmse: 0.3403 - dense_accuracy: 0.0000e+00 - dense_1_rmse: 0.2327 - dense_1_accuracy: 0.0000e+00 - val_loss: 0.0612 - val_dense_loss: 0.0606 - val_dense_1_loss: 0.6959 - val_dense_rmse: 0.3480 - val_dense_accuracy: 0.0000e+00 - val_dense_1_rmse: 0.1482 - val_dense_1_accuracy: 0.0000e+00\n",
            "Epoch 70/200\n",
            "8/8 [==============================] - 1s 162ms/step - loss: 0.0583 - dense_loss: 0.0577 - dense_1_loss: 0.6856 - dense_rmse: 0.3396 - dense_accuracy: 0.0000e+00 - dense_1_rmse: 0.2294 - dense_1_accuracy: 0.0000e+00 - val_loss: 0.0611 - val_dense_loss: 0.0605 - val_dense_1_loss: 0.7039 - val_dense_rmse: 0.3477 - val_dense_accuracy: 0.0000e+00 - val_dense_1_rmse: 0.1588 - val_dense_1_accuracy: 0.0000e+00\n",
            "Epoch 71/200\n",
            "8/8 [==============================] - 1s 162ms/step - loss: 0.0583 - dense_loss: 0.0577 - dense_1_loss: 0.6848 - dense_rmse: 0.3396 - dense_accuracy: 0.0000e+00 - dense_1_rmse: 0.2284 - dense_1_accuracy: 0.0000e+00 - val_loss: 0.0612 - val_dense_loss: 0.0605 - val_dense_1_loss: 0.7003 - val_dense_rmse: 0.3479 - val_dense_accuracy: 0.0000e+00 - val_dense_1_rmse: 0.1552 - val_dense_1_accuracy: 0.0000e+00\n",
            "Epoch 72/200\n",
            "8/8 [==============================] - 1s 164ms/step - loss: 0.0583 - dense_loss: 0.0576 - dense_1_loss: 0.6843 - dense_rmse: 0.3395 - dense_accuracy: 0.0000e+00 - dense_1_rmse: 0.2280 - dense_1_accuracy: 0.0000e+00 - val_loss: 0.0611 - val_dense_loss: 0.0605 - val_dense_1_loss: 0.6980 - val_dense_rmse: 0.3479 - val_dense_accuracy: 0.0000e+00 - val_dense_1_rmse: 0.1516 - val_dense_1_accuracy: 0.0000e+00\n",
            "Epoch 73/200\n",
            "8/8 [==============================] - 1s 162ms/step - loss: 0.0582 - dense_loss: 0.0576 - dense_1_loss: 0.6824 - dense_rmse: 0.3395 - dense_accuracy: 0.0000e+00 - dense_1_rmse: 0.2259 - dense_1_accuracy: 0.0000e+00 - val_loss: 0.0611 - val_dense_loss: 0.0605 - val_dense_1_loss: 0.6946 - val_dense_rmse: 0.3478 - val_dense_accuracy: 0.0000e+00 - val_dense_1_rmse: 0.1462 - val_dense_1_accuracy: 0.0000e+00\n",
            "Epoch 74/200\n",
            "8/8 [==============================] - 1s 163ms/step - loss: 0.0582 - dense_loss: 0.0576 - dense_1_loss: 0.6816 - dense_rmse: 0.3394 - dense_accuracy: 0.0000e+00 - dense_1_rmse: 0.2251 - dense_1_accuracy: 0.0000e+00 - val_loss: 0.0611 - val_dense_loss: 0.0604 - val_dense_1_loss: 0.6941 - val_dense_rmse: 0.3477 - val_dense_accuracy: 0.0000e+00 - val_dense_1_rmse: 0.1454 - val_dense_1_accuracy: 0.0000e+00\n",
            "Epoch 75/200\n",
            "8/8 [==============================] - 1s 163ms/step - loss: 0.0583 - dense_loss: 0.0577 - dense_1_loss: 0.6819 - dense_rmse: 0.3396 - dense_accuracy: 0.0000e+00 - dense_1_rmse: 0.2254 - dense_1_accuracy: 0.0000e+00 - val_loss: 0.0611 - val_dense_loss: 0.0605 - val_dense_1_loss: 0.6917 - val_dense_rmse: 0.3477 - val_dense_accuracy: 0.0000e+00 - val_dense_1_rmse: 0.1416 - val_dense_1_accuracy: 0.0000e+00\n",
            "Epoch 76/200\n",
            "8/8 [==============================] - 1s 164ms/step - loss: 0.0583 - dense_loss: 0.0576 - dense_1_loss: 0.6811 - dense_rmse: 0.3395 - dense_accuracy: 0.0000e+00 - dense_1_rmse: 0.2246 - dense_1_accuracy: 0.0000e+00 - val_loss: 0.0611 - val_dense_loss: 0.0605 - val_dense_1_loss: 0.6938 - val_dense_rmse: 0.3478 - val_dense_accuracy: 0.0000e+00 - val_dense_1_rmse: 0.1450 - val_dense_1_accuracy: 0.0000e+00\n",
            "Epoch 77/200\n",
            "8/8 [==============================] - 1s 163ms/step - loss: 0.0583 - dense_loss: 0.0577 - dense_1_loss: 0.6841 - dense_rmse: 0.3397 - dense_accuracy: 0.0000e+00 - dense_1_rmse: 0.2278 - dense_1_accuracy: 0.0000e+00 - val_loss: 0.0612 - val_dense_loss: 0.0606 - val_dense_1_loss: 0.6908 - val_dense_rmse: 0.3481 - val_dense_accuracy: 0.0000e+00 - val_dense_1_rmse: 0.1400 - val_dense_1_accuracy: 0.0000e+00\n",
            "Epoch 78/200\n",
            "8/8 [==============================] - 1s 164ms/step - loss: 0.0588 - dense_loss: 0.0582 - dense_1_loss: 0.6866 - dense_rmse: 0.3411 - dense_accuracy: 0.0000e+00 - dense_1_rmse: 0.2306 - dense_1_accuracy: 0.0000e+00 - val_loss: 0.0615 - val_dense_loss: 0.0609 - val_dense_1_loss: 0.6992 - val_dense_rmse: 0.3490 - val_dense_accuracy: 0.0000e+00 - val_dense_1_rmse: 0.1534 - val_dense_1_accuracy: 0.0000e+00\n",
            "Epoch 79/200\n",
            "8/8 [==============================] - 1s 162ms/step - loss: 0.0586 - dense_loss: 0.0580 - dense_1_loss: 0.6968 - dense_rmse: 0.3406 - dense_accuracy: 0.0000e+00 - dense_1_rmse: 0.2406 - dense_1_accuracy: 0.0000e+00 - val_loss: 0.0618 - val_dense_loss: 0.0612 - val_dense_1_loss: 0.7009 - val_dense_rmse: 0.3498 - val_dense_accuracy: 0.0000e+00 - val_dense_1_rmse: 0.1562 - val_dense_1_accuracy: 0.0000e+00\n",
            "Epoch 80/200\n",
            "8/8 [==============================] - 1s 161ms/step - loss: 0.0583 - dense_loss: 0.0576 - dense_1_loss: 0.6880 - dense_rmse: 0.3396 - dense_accuracy: 0.0000e+00 - dense_1_rmse: 0.2321 - dense_1_accuracy: 0.0000e+00 - val_loss: 0.0612 - val_dense_loss: 0.0605 - val_dense_1_loss: 0.7021 - val_dense_rmse: 0.3479 - val_dense_accuracy: 0.0000e+00 - val_dense_1_rmse: 0.1586 - val_dense_1_accuracy: 0.0000e+00\n",
            "Epoch 81/200\n",
            "8/8 [==============================] - 1s 165ms/step - loss: 0.0584 - dense_loss: 0.0578 - dense_1_loss: 0.6884 - dense_rmse: 0.3399 - dense_accuracy: 0.0000e+00 - dense_1_rmse: 0.2327 - dense_1_accuracy: 0.0000e+00 - val_loss: 0.0611 - val_dense_loss: 0.0605 - val_dense_1_loss: 0.6940 - val_dense_rmse: 0.3479 - val_dense_accuracy: 0.0000e+00 - val_dense_1_rmse: 0.1454 - val_dense_1_accuracy: 0.0000e+00\n",
            "Epoch 82/200\n",
            "8/8 [==============================] - 1s 165ms/step - loss: 0.0583 - dense_loss: 0.0577 - dense_1_loss: 0.6813 - dense_rmse: 0.3398 - dense_accuracy: 0.0000e+00 - dense_1_rmse: 0.2248 - dense_1_accuracy: 0.0000e+00 - val_loss: 0.0611 - val_dense_loss: 0.0605 - val_dense_1_loss: 0.6942 - val_dense_rmse: 0.3478 - val_dense_accuracy: 0.0000e+00 - val_dense_1_rmse: 0.1457 - val_dense_1_accuracy: 0.0000e+00\n",
            "Epoch 83/200\n",
            "8/8 [==============================] - 1s 160ms/step - loss: 0.0584 - dense_loss: 0.0578 - dense_1_loss: 0.6810 - dense_rmse: 0.3399 - dense_accuracy: 0.0000e+00 - dense_1_rmse: 0.2245 - dense_1_accuracy: 0.0000e+00 - val_loss: 0.0611 - val_dense_loss: 0.0605 - val_dense_1_loss: 0.6929 - val_dense_rmse: 0.3478 - val_dense_accuracy: 0.0000e+00 - val_dense_1_rmse: 0.1437 - val_dense_1_accuracy: 0.0000e+00\n",
            "Epoch 84/200\n",
            "8/8 [==============================] - 1s 163ms/step - loss: 0.0582 - dense_loss: 0.0576 - dense_1_loss: 0.6791 - dense_rmse: 0.3395 - dense_accuracy: 0.0000e+00 - dense_1_rmse: 0.2224 - dense_1_accuracy: 0.0000e+00 - val_loss: 0.0611 - val_dense_loss: 0.0605 - val_dense_1_loss: 0.6918 - val_dense_rmse: 0.3477 - val_dense_accuracy: 0.0000e+00 - val_dense_1_rmse: 0.1417 - val_dense_1_accuracy: 0.0000e+00\n",
            "Epoch 85/200\n",
            "8/8 [==============================] - 1s 163ms/step - loss: 0.0583 - dense_loss: 0.0576 - dense_1_loss: 0.6795 - dense_rmse: 0.3395 - dense_accuracy: 0.0000e+00 - dense_1_rmse: 0.2229 - dense_1_accuracy: 0.0000e+00 - val_loss: 0.0611 - val_dense_loss: 0.0605 - val_dense_1_loss: 0.6932 - val_dense_rmse: 0.3478 - val_dense_accuracy: 0.0000e+00 - val_dense_1_rmse: 0.1440 - val_dense_1_accuracy: 0.0000e+00\n",
            "Epoch 86/200\n",
            "8/8 [==============================] - 1s 164ms/step - loss: 0.0584 - dense_loss: 0.0577 - dense_1_loss: 0.6806 - dense_rmse: 0.3398 - dense_accuracy: 0.0000e+00 - dense_1_rmse: 0.2241 - dense_1_accuracy: 0.0000e+00 - val_loss: 0.0612 - val_dense_loss: 0.0605 - val_dense_1_loss: 0.6945 - val_dense_rmse: 0.3480 - val_dense_accuracy: 0.0000e+00 - val_dense_1_rmse: 0.1463 - val_dense_1_accuracy: 0.0000e+00\n",
            "Epoch 87/200\n",
            "8/8 [==============================] - 1s 166ms/step - loss: 0.0583 - dense_loss: 0.0577 - dense_1_loss: 0.6812 - dense_rmse: 0.3397 - dense_accuracy: 0.0000e+00 - dense_1_rmse: 0.2247 - dense_1_accuracy: 0.0000e+00 - val_loss: 0.0613 - val_dense_loss: 0.0607 - val_dense_1_loss: 0.6933 - val_dense_rmse: 0.3484 - val_dense_accuracy: 0.0000e+00 - val_dense_1_rmse: 0.1444 - val_dense_1_accuracy: 0.0000e+00\n",
            "Epoch 88/200\n",
            "8/8 [==============================] - 1s 162ms/step - loss: 0.0585 - dense_loss: 0.0578 - dense_1_loss: 0.6818 - dense_rmse: 0.3401 - dense_accuracy: 0.0000e+00 - dense_1_rmse: 0.2255 - dense_1_accuracy: 0.0000e+00 - val_loss: 0.0611 - val_dense_loss: 0.0604 - val_dense_1_loss: 0.6962 - val_dense_rmse: 0.3477 - val_dense_accuracy: 0.0000e+00 - val_dense_1_rmse: 0.1489 - val_dense_1_accuracy: 0.0000e+00\n",
            "Epoch 89/200\n",
            "8/8 [==============================] - 1s 161ms/step - loss: 0.0582 - dense_loss: 0.0576 - dense_1_loss: 0.6795 - dense_rmse: 0.3394 - dense_accuracy: 0.0000e+00 - dense_1_rmse: 0.2230 - dense_1_accuracy: 0.0000e+00 - val_loss: 0.0614 - val_dense_loss: 0.0607 - val_dense_1_loss: 0.6963 - val_dense_rmse: 0.3485 - val_dense_accuracy: 0.0000e+00 - val_dense_1_rmse: 0.1492 - val_dense_1_accuracy: 0.0000e+00\n",
            "Epoch 90/200\n",
            "8/8 [==============================] - 1s 163ms/step - loss: 0.0584 - dense_loss: 0.0577 - dense_1_loss: 0.6813 - dense_rmse: 0.3398 - dense_accuracy: 0.0000e+00 - dense_1_rmse: 0.2248 - dense_1_accuracy: 0.0000e+00 - val_loss: 0.0612 - val_dense_loss: 0.0606 - val_dense_1_loss: 0.6892 - val_dense_rmse: 0.3481 - val_dense_accuracy: 0.0000e+00 - val_dense_1_rmse: 0.1372 - val_dense_1_accuracy: 0.0000e+00\n",
            "Epoch 91/200\n",
            "8/8 [==============================] - 1s 175ms/step - loss: 0.0583 - dense_loss: 0.0577 - dense_1_loss: 0.6796 - dense_rmse: 0.3396 - dense_accuracy: 0.0000e+00 - dense_1_rmse: 0.2230 - dense_1_accuracy: 0.0000e+00 - val_loss: 0.0612 - val_dense_loss: 0.0605 - val_dense_1_loss: 0.6945 - val_dense_rmse: 0.3480 - val_dense_accuracy: 0.0000e+00 - val_dense_1_rmse: 0.1461 - val_dense_1_accuracy: 0.0000e+00\n",
            "Epoch 92/200\n",
            "8/8 [==============================] - 1s 162ms/step - loss: 0.0583 - dense_loss: 0.0577 - dense_1_loss: 0.6799 - dense_rmse: 0.3396 - dense_accuracy: 0.0000e+00 - dense_1_rmse: 0.2233 - dense_1_accuracy: 0.0000e+00 - val_loss: 0.0613 - val_dense_loss: 0.0606 - val_dense_1_loss: 0.6978 - val_dense_rmse: 0.3482 - val_dense_accuracy: 0.0000e+00 - val_dense_1_rmse: 0.1514 - val_dense_1_accuracy: 0.0000e+00\n",
            "Epoch 93/200\n",
            "8/8 [==============================] - 1s 165ms/step - loss: 0.0583 - dense_loss: 0.0576 - dense_1_loss: 0.6807 - dense_rmse: 0.3396 - dense_accuracy: 0.0000e+00 - dense_1_rmse: 0.2242 - dense_1_accuracy: 0.0000e+00 - val_loss: 0.0611 - val_dense_loss: 0.0604 - val_dense_1_loss: 0.6959 - val_dense_rmse: 0.3476 - val_dense_accuracy: 0.0000e+00 - val_dense_1_rmse: 0.1482 - val_dense_1_accuracy: 0.0000e+00\n",
            "Epoch 94/200\n",
            "8/8 [==============================] - 1s 167ms/step - loss: 0.0583 - dense_loss: 0.0577 - dense_1_loss: 0.6811 - dense_rmse: 0.3396 - dense_accuracy: 0.0000e+00 - dense_1_rmse: 0.2247 - dense_1_accuracy: 0.0000e+00 - val_loss: 0.0610 - val_dense_loss: 0.0604 - val_dense_1_loss: 0.6937 - val_dense_rmse: 0.3476 - val_dense_accuracy: 0.0000e+00 - val_dense_1_rmse: 0.1447 - val_dense_1_accuracy: 0.0000e+00\n",
            "Epoch 95/200\n",
            "8/8 [==============================] - 1s 165ms/step - loss: 0.0585 - dense_loss: 0.0579 - dense_1_loss: 0.6806 - dense_rmse: 0.3403 - dense_accuracy: 0.0000e+00 - dense_1_rmse: 0.2240 - dense_1_accuracy: 0.0000e+00 - val_loss: 0.0613 - val_dense_loss: 0.0607 - val_dense_1_loss: 0.6982 - val_dense_rmse: 0.3483 - val_dense_accuracy: 0.0000e+00 - val_dense_1_rmse: 0.1521 - val_dense_1_accuracy: 0.0000e+00\n",
            "Epoch 96/200\n",
            "8/8 [==============================] - 1s 162ms/step - loss: 0.0583 - dense_loss: 0.0577 - dense_1_loss: 0.6813 - dense_rmse: 0.3396 - dense_accuracy: 0.0000e+00 - dense_1_rmse: 0.2248 - dense_1_accuracy: 0.0000e+00 - val_loss: 0.0612 - val_dense_loss: 0.0605 - val_dense_1_loss: 0.6906 - val_dense_rmse: 0.3479 - val_dense_accuracy: 0.0000e+00 - val_dense_1_rmse: 0.1397 - val_dense_1_accuracy: 0.0000e+00\n",
            "Epoch 97/200\n",
            "8/8 [==============================] - 1s 167ms/step - loss: 0.0585 - dense_loss: 0.0579 - dense_1_loss: 0.6809 - dense_rmse: 0.3403 - dense_accuracy: 0.0000e+00 - dense_1_rmse: 0.2245 - dense_1_accuracy: 0.0000e+00 - val_loss: 0.0612 - val_dense_loss: 0.0606 - val_dense_1_loss: 0.6958 - val_dense_rmse: 0.3480 - val_dense_accuracy: 0.0000e+00 - val_dense_1_rmse: 0.1483 - val_dense_1_accuracy: 0.0000e+00\n",
            "Epoch 98/200\n",
            "8/8 [==============================] - 1s 166ms/step - loss: 0.0585 - dense_loss: 0.0578 - dense_1_loss: 0.6849 - dense_rmse: 0.3401 - dense_accuracy: 0.0000e+00 - dense_1_rmse: 0.2286 - dense_1_accuracy: 0.0000e+00 - val_loss: 0.0614 - val_dense_loss: 0.0607 - val_dense_1_loss: 0.6984 - val_dense_rmse: 0.3486 - val_dense_accuracy: 0.0000e+00 - val_dense_1_rmse: 0.1526 - val_dense_1_accuracy: 0.0000e+00\n",
            "Epoch 99/200\n",
            "8/8 [==============================] - 1s 161ms/step - loss: 0.0584 - dense_loss: 0.0577 - dense_1_loss: 0.6860 - dense_rmse: 0.3398 - dense_accuracy: 0.0000e+00 - dense_1_rmse: 0.2299 - dense_1_accuracy: 0.0000e+00 - val_loss: 0.0611 - val_dense_loss: 0.0604 - val_dense_1_loss: 0.6989 - val_dense_rmse: 0.3477 - val_dense_accuracy: 0.0000e+00 - val_dense_1_rmse: 0.1531 - val_dense_1_accuracy: 0.0000e+00\n",
            "Epoch 100/200\n",
            "8/8 [==============================] - 1s 167ms/step - loss: 0.0610 - dense_loss: 0.0603 - dense_1_loss: 0.7229 - dense_rmse: 0.3473 - dense_accuracy: 0.0000e+00 - dense_1_rmse: 0.2635 - dense_1_accuracy: 0.0000e+00 - val_loss: 0.0616 - val_dense_loss: 0.0610 - val_dense_1_loss: 0.6881 - val_dense_rmse: 0.3492 - val_dense_accuracy: 0.0000e+00 - val_dense_1_rmse: 0.1351 - val_dense_1_accuracy: 0.0000e+00\n",
            "Epoch 101/200\n",
            "8/8 [==============================] - 1s 162ms/step - loss: 0.0591 - dense_loss: 0.0584 - dense_1_loss: 0.6935 - dense_rmse: 0.3419 - dense_accuracy: 0.0000e+00 - dense_1_rmse: 0.2376 - dense_1_accuracy: 0.0000e+00 - val_loss: 0.0627 - val_dense_loss: 0.0620 - val_dense_1_loss: 0.7172 - val_dense_rmse: 0.3522 - val_dense_accuracy: 0.0000e+00 - val_dense_1_rmse: 0.1782 - val_dense_1_accuracy: 0.0000e+00\n",
            "Epoch 102/200\n",
            "8/8 [==============================] - 1s 165ms/step - loss: 0.0594 - dense_loss: 0.0588 - dense_1_loss: 0.6997 - dense_rmse: 0.3428 - dense_accuracy: 0.0000e+00 - dense_1_rmse: 0.2438 - dense_1_accuracy: 0.0000e+00 - val_loss: 0.0646 - val_dense_loss: 0.0640 - val_dense_1_loss: 0.7145 - val_dense_rmse: 0.3577 - val_dense_accuracy: 0.0000e+00 - val_dense_1_rmse: 0.1748 - val_dense_1_accuracy: 0.0000e+00\n",
            "Epoch 103/200\n",
            "8/8 [==============================] - 1s 164ms/step - loss: 0.0595 - dense_loss: 0.0589 - dense_1_loss: 0.7002 - dense_rmse: 0.3432 - dense_accuracy: 0.0000e+00 - dense_1_rmse: 0.2442 - dense_1_accuracy: 0.0000e+00 - val_loss: 0.0622 - val_dense_loss: 0.0615 - val_dense_1_loss: 0.7094 - val_dense_rmse: 0.3508 - val_dense_accuracy: 0.0000e+00 - val_dense_1_rmse: 0.1699 - val_dense_1_accuracy: 0.0000e+00\n",
            "Epoch 104/200\n",
            "8/8 [==============================] - 1s 167ms/step - loss: 0.0594 - dense_loss: 0.0588 - dense_1_loss: 0.7056 - dense_rmse: 0.3428 - dense_accuracy: 0.0000e+00 - dense_1_rmse: 0.2495 - dense_1_accuracy: 0.0000e+00 - val_loss: 0.0624 - val_dense_loss: 0.0618 - val_dense_1_loss: 0.7046 - val_dense_rmse: 0.3515 - val_dense_accuracy: 0.0000e+00 - val_dense_1_rmse: 0.1616 - val_dense_1_accuracy: 0.0000e+00\n",
            "Epoch 105/200\n",
            "8/8 [==============================] - 1s 167ms/step - loss: 0.0589 - dense_loss: 0.0582 - dense_1_loss: 0.6922 - dense_rmse: 0.3412 - dense_accuracy: 0.0000e+00 - dense_1_rmse: 0.2364 - dense_1_accuracy: 0.0000e+00 - val_loss: 0.0620 - val_dense_loss: 0.0613 - val_dense_1_loss: 0.7006 - val_dense_rmse: 0.3503 - val_dense_accuracy: 0.0000e+00 - val_dense_1_rmse: 0.1566 - val_dense_1_accuracy: 0.0000e+00\n",
            "Epoch 106/200\n",
            "8/8 [==============================] - 1s 166ms/step - loss: 0.0592 - dense_loss: 0.0585 - dense_1_loss: 0.6936 - dense_rmse: 0.3422 - dense_accuracy: 0.0000e+00 - dense_1_rmse: 0.2381 - dense_1_accuracy: 0.0000e+00 - val_loss: 0.0620 - val_dense_loss: 0.0614 - val_dense_1_loss: 0.6891 - val_dense_rmse: 0.3505 - val_dense_accuracy: 0.0000e+00 - val_dense_1_rmse: 0.1370 - val_dense_1_accuracy: 0.0000e+00\n",
            "Epoch 107/200\n",
            "8/8 [==============================] - 1s 164ms/step - loss: 0.0591 - dense_loss: 0.0584 - dense_1_loss: 0.6902 - dense_rmse: 0.3419 - dense_accuracy: 0.0000e+00 - dense_1_rmse: 0.2344 - dense_1_accuracy: 0.0000e+00 - val_loss: 0.0619 - val_dense_loss: 0.0612 - val_dense_1_loss: 0.6879 - val_dense_rmse: 0.3499 - val_dense_accuracy: 0.0000e+00 - val_dense_1_rmse: 0.1348 - val_dense_1_accuracy: 0.0000e+00\n",
            "Epoch 108/200\n",
            "8/8 [==============================] - 1s 169ms/step - loss: 0.0590 - dense_loss: 0.0583 - dense_1_loss: 0.6900 - dense_rmse: 0.3415 - dense_accuracy: 0.0000e+00 - dense_1_rmse: 0.2341 - dense_1_accuracy: 0.0000e+00 - val_loss: 0.0621 - val_dense_loss: 0.0614 - val_dense_1_loss: 0.6905 - val_dense_rmse: 0.3505 - val_dense_accuracy: 0.0000e+00 - val_dense_1_rmse: 0.1395 - val_dense_1_accuracy: 0.0000e+00\n",
            "Epoch 109/200\n",
            "8/8 [==============================] - 1s 168ms/step - loss: 0.0590 - dense_loss: 0.0584 - dense_1_loss: 0.6906 - dense_rmse: 0.3417 - dense_accuracy: 0.0000e+00 - dense_1_rmse: 0.2348 - dense_1_accuracy: 0.0000e+00 - val_loss: 0.0618 - val_dense_loss: 0.0612 - val_dense_1_loss: 0.6892 - val_dense_rmse: 0.3499 - val_dense_accuracy: 0.0000e+00 - val_dense_1_rmse: 0.1372 - val_dense_1_accuracy: 0.0000e+00\n",
            "Epoch 110/200\n",
            "8/8 [==============================] - 1s 168ms/step - loss: 0.0589 - dense_loss: 0.0583 - dense_1_loss: 0.6876 - dense_rmse: 0.3414 - dense_accuracy: 0.0000e+00 - dense_1_rmse: 0.2316 - dense_1_accuracy: 0.0000e+00 - val_loss: 0.0621 - val_dense_loss: 0.0614 - val_dense_1_loss: 0.6903 - val_dense_rmse: 0.3505 - val_dense_accuracy: 0.0000e+00 - val_dense_1_rmse: 0.1390 - val_dense_1_accuracy: 0.0000e+00\n",
            "Epoch 111/200\n",
            "8/8 [==============================] - 1s 167ms/step - loss: 0.0591 - dense_loss: 0.0585 - dense_1_loss: 0.6890 - dense_rmse: 0.3420 - dense_accuracy: 0.0000e+00 - dense_1_rmse: 0.2331 - dense_1_accuracy: 0.0000e+00 - val_loss: 0.0619 - val_dense_loss: 0.0612 - val_dense_1_loss: 0.6878 - val_dense_rmse: 0.3499 - val_dense_accuracy: 0.0000e+00 - val_dense_1_rmse: 0.1347 - val_dense_1_accuracy: 0.0000e+00\n",
            "Epoch 112/200\n",
            "8/8 [==============================] - 1s 163ms/step - loss: 0.0589 - dense_loss: 0.0582 - dense_1_loss: 0.6889 - dense_rmse: 0.3413 - dense_accuracy: 0.0000e+00 - dense_1_rmse: 0.2331 - dense_1_accuracy: 0.0000e+00 - val_loss: 0.0621 - val_dense_loss: 0.0614 - val_dense_1_loss: 0.6913 - val_dense_rmse: 0.3505 - val_dense_accuracy: 0.0000e+00 - val_dense_1_rmse: 0.1408 - val_dense_1_accuracy: 0.0000e+00\n",
            "Epoch 113/200\n",
            "8/8 [==============================] - 1s 165ms/step - loss: 0.0590 - dense_loss: 0.0584 - dense_1_loss: 0.6875 - dense_rmse: 0.3417 - dense_accuracy: 0.0000e+00 - dense_1_rmse: 0.2315 - dense_1_accuracy: 0.0000e+00 - val_loss: 0.0619 - val_dense_loss: 0.0612 - val_dense_1_loss: 0.6881 - val_dense_rmse: 0.3499 - val_dense_accuracy: 0.0000e+00 - val_dense_1_rmse: 0.1351 - val_dense_1_accuracy: 0.0000e+00\n",
            "Epoch 114/200\n",
            "8/8 [==============================] - 1s 166ms/step - loss: 0.0589 - dense_loss: 0.0583 - dense_1_loss: 0.6871 - dense_rmse: 0.3413 - dense_accuracy: 0.0000e+00 - dense_1_rmse: 0.2311 - dense_1_accuracy: 0.0000e+00 - val_loss: 0.0620 - val_dense_loss: 0.0614 - val_dense_1_loss: 0.6889 - val_dense_rmse: 0.3504 - val_dense_accuracy: 0.0000e+00 - val_dense_1_rmse: 0.1366 - val_dense_1_accuracy: 0.0000e+00\n",
            "Epoch 115/200\n",
            "8/8 [==============================] - 1s 167ms/step - loss: 0.0590 - dense_loss: 0.0583 - dense_1_loss: 0.6882 - dense_rmse: 0.3416 - dense_accuracy: 0.0000e+00 - dense_1_rmse: 0.2323 - dense_1_accuracy: 0.0000e+00 - val_loss: 0.0619 - val_dense_loss: 0.0612 - val_dense_1_loss: 0.6888 - val_dense_rmse: 0.3500 - val_dense_accuracy: 0.0000e+00 - val_dense_1_rmse: 0.1365 - val_dense_1_accuracy: 0.0000e+00\n",
            "Epoch 116/200\n",
            "8/8 [==============================] - 1s 168ms/step - loss: 0.0591 - dense_loss: 0.0584 - dense_1_loss: 0.6920 - dense_rmse: 0.3418 - dense_accuracy: 0.0000e+00 - dense_1_rmse: 0.2364 - dense_1_accuracy: 0.0000e+00 - val_loss: 0.0619 - val_dense_loss: 0.0612 - val_dense_1_loss: 0.6878 - val_dense_rmse: 0.3499 - val_dense_accuracy: 0.0000e+00 - val_dense_1_rmse: 0.1347 - val_dense_1_accuracy: 0.0000e+00\n",
            "Epoch 117/200\n",
            "8/8 [==============================] - 1s 167ms/step - loss: 0.0590 - dense_loss: 0.0584 - dense_1_loss: 0.6880 - dense_rmse: 0.3417 - dense_accuracy: 0.0000e+00 - dense_1_rmse: 0.2321 - dense_1_accuracy: 0.0000e+00 - val_loss: 0.0619 - val_dense_loss: 0.0613 - val_dense_1_loss: 0.6911 - val_dense_rmse: 0.3501 - val_dense_accuracy: 0.0000e+00 - val_dense_1_rmse: 0.1405 - val_dense_1_accuracy: 0.0000e+00\n",
            "Epoch 118/200\n",
            "8/8 [==============================] - 1s 168ms/step - loss: 0.0589 - dense_loss: 0.0582 - dense_1_loss: 0.6899 - dense_rmse: 0.3412 - dense_accuracy: 0.0000e+00 - dense_1_rmse: 0.2340 - dense_1_accuracy: 0.0000e+00 - val_loss: 0.0620 - val_dense_loss: 0.0614 - val_dense_1_loss: 0.6904 - val_dense_rmse: 0.3504 - val_dense_accuracy: 0.0000e+00 - val_dense_1_rmse: 0.1393 - val_dense_1_accuracy: 0.0000e+00\n",
            "Epoch 119/200\n",
            "8/8 [==============================] - 1s 166ms/step - loss: 0.0589 - dense_loss: 0.0583 - dense_1_loss: 0.6882 - dense_rmse: 0.3414 - dense_accuracy: 0.0000e+00 - dense_1_rmse: 0.2323 - dense_1_accuracy: 0.0000e+00 - val_loss: 0.0619 - val_dense_loss: 0.0613 - val_dense_1_loss: 0.6884 - val_dense_rmse: 0.3500 - val_dense_accuracy: 0.0000e+00 - val_dense_1_rmse: 0.1357 - val_dense_1_accuracy: 0.0000e+00\n",
            "Epoch 120/200\n",
            "8/8 [==============================] - 1s 172ms/step - loss: 0.0589 - dense_loss: 0.0583 - dense_1_loss: 0.6879 - dense_rmse: 0.3414 - dense_accuracy: 0.0000e+00 - dense_1_rmse: 0.2320 - dense_1_accuracy: 0.0000e+00 - val_loss: 0.0619 - val_dense_loss: 0.0612 - val_dense_1_loss: 0.6915 - val_dense_rmse: 0.3500 - val_dense_accuracy: 0.0000e+00 - val_dense_1_rmse: 0.1413 - val_dense_1_accuracy: 0.0000e+00\n",
            "Epoch 121/200\n",
            "8/8 [==============================] - 1s 165ms/step - loss: 0.0590 - dense_loss: 0.0584 - dense_1_loss: 0.6923 - dense_rmse: 0.3416 - dense_accuracy: 0.0000e+00 - dense_1_rmse: 0.2367 - dense_1_accuracy: 0.0000e+00 - val_loss: 0.0619 - val_dense_loss: 0.0613 - val_dense_1_loss: 0.6887 - val_dense_rmse: 0.3502 - val_dense_accuracy: 0.0000e+00 - val_dense_1_rmse: 0.1363 - val_dense_1_accuracy: 0.0000e+00\n",
            "Epoch 122/200\n",
            "8/8 [==============================] - 1s 168ms/step - loss: 0.0590 - dense_loss: 0.0583 - dense_1_loss: 0.6910 - dense_rmse: 0.3416 - dense_accuracy: 0.0000e+00 - dense_1_rmse: 0.2352 - dense_1_accuracy: 0.0000e+00 - val_loss: 0.0620 - val_dense_loss: 0.0614 - val_dense_1_loss: 0.6902 - val_dense_rmse: 0.3503 - val_dense_accuracy: 0.0000e+00 - val_dense_1_rmse: 0.1389 - val_dense_1_accuracy: 0.0000e+00\n",
            "Epoch 123/200\n",
            "8/8 [==============================] - 1s 167ms/step - loss: 0.0589 - dense_loss: 0.0583 - dense_1_loss: 0.6879 - dense_rmse: 0.3413 - dense_accuracy: 0.0000e+00 - dense_1_rmse: 0.2320 - dense_1_accuracy: 0.0000e+00 - val_loss: 0.0618 - val_dense_loss: 0.0612 - val_dense_1_loss: 0.6883 - val_dense_rmse: 0.3499 - val_dense_accuracy: 0.0000e+00 - val_dense_1_rmse: 0.1356 - val_dense_1_accuracy: 0.0000e+00\n",
            "Epoch 124/200\n",
            "8/8 [==============================] - 1s 168ms/step - loss: 0.0589 - dense_loss: 0.0583 - dense_1_loss: 0.6884 - dense_rmse: 0.3414 - dense_accuracy: 0.0000e+00 - dense_1_rmse: 0.2325 - dense_1_accuracy: 0.0000e+00 - val_loss: 0.0619 - val_dense_loss: 0.0613 - val_dense_1_loss: 0.6880 - val_dense_rmse: 0.3502 - val_dense_accuracy: 0.0000e+00 - val_dense_1_rmse: 0.1349 - val_dense_1_accuracy: 0.0000e+00\n",
            "Epoch 125/200\n",
            "8/8 [==============================] - 1s 167ms/step - loss: 0.0589 - dense_loss: 0.0583 - dense_1_loss: 0.6879 - dense_rmse: 0.3415 - dense_accuracy: 0.0000e+00 - dense_1_rmse: 0.2319 - dense_1_accuracy: 0.0000e+00 - val_loss: 0.0619 - val_dense_loss: 0.0613 - val_dense_1_loss: 0.6878 - val_dense_rmse: 0.3500 - val_dense_accuracy: 0.0000e+00 - val_dense_1_rmse: 0.1346 - val_dense_1_accuracy: 0.0000e+00\n",
            "Epoch 126/200\n",
            "8/8 [==============================] - 1s 168ms/step - loss: 0.0588 - dense_loss: 0.0582 - dense_1_loss: 0.6873 - dense_rmse: 0.3412 - dense_accuracy: 0.0000e+00 - dense_1_rmse: 0.2313 - dense_1_accuracy: 0.0000e+00 - val_loss: 0.0619 - val_dense_loss: 0.0612 - val_dense_1_loss: 0.6879 - val_dense_rmse: 0.3500 - val_dense_accuracy: 0.0000e+00 - val_dense_1_rmse: 0.1348 - val_dense_1_accuracy: 0.0000e+00\n",
            "Epoch 127/200\n",
            "8/8 [==============================] - 1s 170ms/step - loss: 0.0588 - dense_loss: 0.0582 - dense_1_loss: 0.6873 - dense_rmse: 0.3412 - dense_accuracy: 0.0000e+00 - dense_1_rmse: 0.2314 - dense_1_accuracy: 0.0000e+00 - val_loss: 0.0619 - val_dense_loss: 0.0613 - val_dense_1_loss: 0.6887 - val_dense_rmse: 0.3502 - val_dense_accuracy: 0.0000e+00 - val_dense_1_rmse: 0.1363 - val_dense_1_accuracy: 0.0000e+00\n",
            "Epoch 128/200\n",
            "8/8 [==============================] - 1s 168ms/step - loss: 0.0590 - dense_loss: 0.0584 - dense_1_loss: 0.6910 - dense_rmse: 0.3418 - dense_accuracy: 0.0000e+00 - dense_1_rmse: 0.2352 - dense_1_accuracy: 0.0000e+00 - val_loss: 0.0621 - val_dense_loss: 0.0614 - val_dense_1_loss: 0.6889 - val_dense_rmse: 0.3505 - val_dense_accuracy: 0.0000e+00 - val_dense_1_rmse: 0.1366 - val_dense_1_accuracy: 0.0000e+00\n",
            "Epoch 129/200\n",
            "8/8 [==============================] - 1s 170ms/step - loss: 0.0589 - dense_loss: 0.0582 - dense_1_loss: 0.6896 - dense_rmse: 0.3413 - dense_accuracy: 0.0000e+00 - dense_1_rmse: 0.2338 - dense_1_accuracy: 0.0000e+00 - val_loss: 0.0619 - val_dense_loss: 0.0612 - val_dense_1_loss: 0.6963 - val_dense_rmse: 0.3500 - val_dense_accuracy: 0.0000e+00 - val_dense_1_rmse: 0.1496 - val_dense_1_accuracy: 0.0000e+00\n",
            "Epoch 130/200\n",
            "8/8 [==============================] - 1s 179ms/step - loss: 0.0589 - dense_loss: 0.0583 - dense_1_loss: 0.6917 - dense_rmse: 0.3415 - dense_accuracy: 0.0000e+00 - dense_1_rmse: 0.2361 - dense_1_accuracy: 0.0000e+00 - val_loss: 0.0619 - val_dense_loss: 0.0613 - val_dense_1_loss: 0.6886 - val_dense_rmse: 0.3501 - val_dense_accuracy: 0.0000e+00 - val_dense_1_rmse: 0.1361 - val_dense_1_accuracy: 0.0000e+00\n",
            "Epoch 131/200\n",
            "8/8 [==============================] - 1s 168ms/step - loss: 0.0589 - dense_loss: 0.0583 - dense_1_loss: 0.6896 - dense_rmse: 0.3413 - dense_accuracy: 0.0000e+00 - dense_1_rmse: 0.2337 - dense_1_accuracy: 0.0000e+00 - val_loss: 0.0620 - val_dense_loss: 0.0614 - val_dense_1_loss: 0.6900 - val_dense_rmse: 0.3503 - val_dense_accuracy: 0.0000e+00 - val_dense_1_rmse: 0.1386 - val_dense_1_accuracy: 0.0000e+00\n",
            "Epoch 132/200\n",
            "8/8 [==============================] - 1s 165ms/step - loss: 0.0588 - dense_loss: 0.0582 - dense_1_loss: 0.6882 - dense_rmse: 0.3412 - dense_accuracy: 0.0000e+00 - dense_1_rmse: 0.2323 - dense_1_accuracy: 0.0000e+00 - val_loss: 0.0619 - val_dense_loss: 0.0612 - val_dense_1_loss: 0.6883 - val_dense_rmse: 0.3500 - val_dense_accuracy: 0.0000e+00 - val_dense_1_rmse: 0.1355 - val_dense_1_accuracy: 0.0000e+00\n",
            "Epoch 133/200\n",
            "8/8 [==============================] - 1s 170ms/step - loss: 0.0591 - dense_loss: 0.0584 - dense_1_loss: 0.6933 - dense_rmse: 0.3418 - dense_accuracy: 0.0000e+00 - dense_1_rmse: 0.2377 - dense_1_accuracy: 0.0000e+00 - val_loss: 0.0618 - val_dense_loss: 0.0612 - val_dense_1_loss: 0.6879 - val_dense_rmse: 0.3499 - val_dense_accuracy: 0.0000e+00 - val_dense_1_rmse: 0.1348 - val_dense_1_accuracy: 0.0000e+00\n",
            "Epoch 134/200\n",
            "8/8 [==============================] - 1s 166ms/step - loss: 0.0589 - dense_loss: 0.0583 - dense_1_loss: 0.6937 - dense_rmse: 0.3414 - dense_accuracy: 0.0000e+00 - dense_1_rmse: 0.2379 - dense_1_accuracy: 0.0000e+00 - val_loss: 0.0621 - val_dense_loss: 0.0615 - val_dense_1_loss: 0.6951 - val_dense_rmse: 0.3507 - val_dense_accuracy: 0.0000e+00 - val_dense_1_rmse: 0.1472 - val_dense_1_accuracy: 0.0000e+00\n",
            "Epoch 135/200\n",
            "8/8 [==============================] - 1s 167ms/step - loss: 0.0591 - dense_loss: 0.0585 - dense_1_loss: 0.6885 - dense_rmse: 0.3419 - dense_accuracy: 0.0000e+00 - dense_1_rmse: 0.2325 - dense_1_accuracy: 0.0000e+00 - val_loss: 0.0619 - val_dense_loss: 0.0612 - val_dense_1_loss: 0.6878 - val_dense_rmse: 0.3499 - val_dense_accuracy: 0.0000e+00 - val_dense_1_rmse: 0.1346 - val_dense_1_accuracy: 0.0000e+00\n",
            "Epoch 136/200\n",
            "8/8 [==============================] - 1s 168ms/step - loss: 0.0589 - dense_loss: 0.0583 - dense_1_loss: 0.6875 - dense_rmse: 0.3415 - dense_accuracy: 0.0000e+00 - dense_1_rmse: 0.2315 - dense_1_accuracy: 0.0000e+00 - val_loss: 0.0620 - val_dense_loss: 0.0614 - val_dense_1_loss: 0.6883 - val_dense_rmse: 0.3504 - val_dense_accuracy: 0.0000e+00 - val_dense_1_rmse: 0.1355 - val_dense_1_accuracy: 0.0000e+00\n",
            "Epoch 137/200\n",
            "8/8 [==============================] - 1s 166ms/step - loss: 0.0590 - dense_loss: 0.0584 - dense_1_loss: 0.6883 - dense_rmse: 0.3417 - dense_accuracy: 0.0000e+00 - dense_1_rmse: 0.2324 - dense_1_accuracy: 0.0000e+00 - val_loss: 0.0618 - val_dense_loss: 0.0612 - val_dense_1_loss: 0.6878 - val_dense_rmse: 0.3499 - val_dense_accuracy: 0.0000e+00 - val_dense_1_rmse: 0.1347 - val_dense_1_accuracy: 0.0000e+00\n",
            "Epoch 138/200\n",
            "8/8 [==============================] - 1s 165ms/step - loss: 0.0591 - dense_loss: 0.0584 - dense_1_loss: 0.6905 - dense_rmse: 0.3419 - dense_accuracy: 0.0000e+00 - dense_1_rmse: 0.2347 - dense_1_accuracy: 0.0000e+00 - val_loss: 0.0620 - val_dense_loss: 0.0614 - val_dense_1_loss: 0.6898 - val_dense_rmse: 0.3504 - val_dense_accuracy: 0.0000e+00 - val_dense_1_rmse: 0.1382 - val_dense_1_accuracy: 0.0000e+00\n",
            "Epoch 139/200\n",
            "8/8 [==============================] - 1s 165ms/step - loss: 0.0589 - dense_loss: 0.0582 - dense_1_loss: 0.6889 - dense_rmse: 0.3412 - dense_accuracy: 0.0000e+00 - dense_1_rmse: 0.2330 - dense_1_accuracy: 0.0000e+00 - val_loss: 0.0618 - val_dense_loss: 0.0612 - val_dense_1_loss: 0.6891 - val_dense_rmse: 0.3499 - val_dense_accuracy: 0.0000e+00 - val_dense_1_rmse: 0.1370 - val_dense_1_accuracy: 0.0000e+00\n",
            "Epoch 140/200\n",
            "8/8 [==============================] - 1s 168ms/step - loss: 0.0589 - dense_loss: 0.0583 - dense_1_loss: 0.6905 - dense_rmse: 0.3413 - dense_accuracy: 0.0000e+00 - dense_1_rmse: 0.2348 - dense_1_accuracy: 0.0000e+00 - val_loss: 0.0618 - val_dense_loss: 0.0612 - val_dense_1_loss: 0.6883 - val_dense_rmse: 0.3499 - val_dense_accuracy: 0.0000e+00 - val_dense_1_rmse: 0.1356 - val_dense_1_accuracy: 0.0000e+00\n",
            "Epoch 141/200\n",
            "8/8 [==============================] - 1s 171ms/step - loss: 0.0589 - dense_loss: 0.0583 - dense_1_loss: 0.6904 - dense_rmse: 0.3415 - dense_accuracy: 0.0000e+00 - dense_1_rmse: 0.2346 - dense_1_accuracy: 0.0000e+00 - val_loss: 0.0620 - val_dense_loss: 0.0613 - val_dense_1_loss: 0.6912 - val_dense_rmse: 0.3503 - val_dense_accuracy: 0.0000e+00 - val_dense_1_rmse: 0.1406 - val_dense_1_accuracy: 0.0000e+00\n",
            "Epoch 142/200\n",
            "8/8 [==============================] - 1s 167ms/step - loss: 0.0589 - dense_loss: 0.0582 - dense_1_loss: 0.6898 - dense_rmse: 0.3412 - dense_accuracy: 0.0000e+00 - dense_1_rmse: 0.2340 - dense_1_accuracy: 0.0000e+00 - val_loss: 0.0619 - val_dense_loss: 0.0612 - val_dense_1_loss: 0.6878 - val_dense_rmse: 0.3500 - val_dense_accuracy: 0.0000e+00 - val_dense_1_rmse: 0.1347 - val_dense_1_accuracy: 0.0000e+00\n",
            "Epoch 143/200\n",
            "8/8 [==============================] - 1s 168ms/step - loss: 0.0590 - dense_loss: 0.0583 - dense_1_loss: 0.6897 - dense_rmse: 0.3416 - dense_accuracy: 0.0000e+00 - dense_1_rmse: 0.2339 - dense_1_accuracy: 0.0000e+00 - val_loss: 0.0618 - val_dense_loss: 0.0612 - val_dense_1_loss: 0.6880 - val_dense_rmse: 0.3499 - val_dense_accuracy: 0.0000e+00 - val_dense_1_rmse: 0.1350 - val_dense_1_accuracy: 0.0000e+00\n",
            "Epoch 144/200\n",
            "8/8 [==============================] - 1s 165ms/step - loss: 0.0590 - dense_loss: 0.0584 - dense_1_loss: 0.6894 - dense_rmse: 0.3417 - dense_accuracy: 0.0000e+00 - dense_1_rmse: 0.2335 - dense_1_accuracy: 0.0000e+00 - val_loss: 0.0619 - val_dense_loss: 0.0613 - val_dense_1_loss: 0.6881 - val_dense_rmse: 0.3500 - val_dense_accuracy: 0.0000e+00 - val_dense_1_rmse: 0.1351 - val_dense_1_accuracy: 0.0000e+00\n",
            "Epoch 145/200\n",
            "8/8 [==============================] - 1s 170ms/step - loss: 0.0588 - dense_loss: 0.0582 - dense_1_loss: 0.6877 - dense_rmse: 0.3412 - dense_accuracy: 0.0000e+00 - dense_1_rmse: 0.2318 - dense_1_accuracy: 0.0000e+00 - val_loss: 0.0618 - val_dense_loss: 0.0612 - val_dense_1_loss: 0.6882 - val_dense_rmse: 0.3499 - val_dense_accuracy: 0.0000e+00 - val_dense_1_rmse: 0.1354 - val_dense_1_accuracy: 0.0000e+00\n",
            "Epoch 146/200\n",
            "8/8 [==============================] - 1s 166ms/step - loss: 0.0590 - dense_loss: 0.0584 - dense_1_loss: 0.6884 - dense_rmse: 0.3418 - dense_accuracy: 0.0000e+00 - dense_1_rmse: 0.2325 - dense_1_accuracy: 0.0000e+00 - val_loss: 0.0619 - val_dense_loss: 0.0613 - val_dense_1_loss: 0.6884 - val_dense_rmse: 0.3501 - val_dense_accuracy: 0.0000e+00 - val_dense_1_rmse: 0.1357 - val_dense_1_accuracy: 0.0000e+00\n",
            "Epoch 147/200\n",
            "8/8 [==============================] - 1s 167ms/step - loss: 0.0590 - dense_loss: 0.0583 - dense_1_loss: 0.6877 - dense_rmse: 0.3415 - dense_accuracy: 0.0000e+00 - dense_1_rmse: 0.2318 - dense_1_accuracy: 0.0000e+00 - val_loss: 0.0618 - val_dense_loss: 0.0612 - val_dense_1_loss: 0.6879 - val_dense_rmse: 0.3498 - val_dense_accuracy: 0.0000e+00 - val_dense_1_rmse: 0.1349 - val_dense_1_accuracy: 0.0000e+00\n",
            "Epoch 148/200\n",
            "8/8 [==============================] - 1s 166ms/step - loss: 0.0589 - dense_loss: 0.0583 - dense_1_loss: 0.6880 - dense_rmse: 0.3414 - dense_accuracy: 0.0000e+00 - dense_1_rmse: 0.2321 - dense_1_accuracy: 0.0000e+00 - val_loss: 0.0619 - val_dense_loss: 0.0612 - val_dense_1_loss: 0.6893 - val_dense_rmse: 0.3499 - val_dense_accuracy: 0.0000e+00 - val_dense_1_rmse: 0.1373 - val_dense_1_accuracy: 0.0000e+00\n",
            "Epoch 149/200\n",
            "8/8 [==============================] - 1s 169ms/step - loss: 0.0589 - dense_loss: 0.0583 - dense_1_loss: 0.6930 - dense_rmse: 0.3414 - dense_accuracy: 0.0000e+00 - dense_1_rmse: 0.2372 - dense_1_accuracy: 0.0000e+00 - val_loss: 0.0621 - val_dense_loss: 0.0615 - val_dense_1_loss: 0.6925 - val_dense_rmse: 0.3506 - val_dense_accuracy: 0.0000e+00 - val_dense_1_rmse: 0.1429 - val_dense_1_accuracy: 0.0000e+00\n",
            "Epoch 150/200\n",
            "8/8 [==============================] - 1s 167ms/step - loss: 0.0590 - dense_loss: 0.0584 - dense_1_loss: 0.6914 - dense_rmse: 0.3418 - dense_accuracy: 0.0000e+00 - dense_1_rmse: 0.2357 - dense_1_accuracy: 0.0000e+00 - val_loss: 0.0618 - val_dense_loss: 0.0612 - val_dense_1_loss: 0.6901 - val_dense_rmse: 0.3498 - val_dense_accuracy: 0.0000e+00 - val_dense_1_rmse: 0.1388 - val_dense_1_accuracy: 0.0000e+00\n",
            "Epoch 151/200\n",
            "8/8 [==============================] - 1s 169ms/step - loss: 0.0589 - dense_loss: 0.0583 - dense_1_loss: 0.6897 - dense_rmse: 0.3415 - dense_accuracy: 0.0000e+00 - dense_1_rmse: 0.2339 - dense_1_accuracy: 0.0000e+00 - val_loss: 0.0620 - val_dense_loss: 0.0614 - val_dense_1_loss: 0.6908 - val_dense_rmse: 0.3504 - val_dense_accuracy: 0.0000e+00 - val_dense_1_rmse: 0.1399 - val_dense_1_accuracy: 0.0000e+00\n",
            "Epoch 152/200\n",
            "8/8 [==============================] - 1s 171ms/step - loss: 0.0589 - dense_loss: 0.0583 - dense_1_loss: 0.6897 - dense_rmse: 0.3414 - dense_accuracy: 0.0000e+00 - dense_1_rmse: 0.2339 - dense_1_accuracy: 0.0000e+00 - val_loss: 0.0618 - val_dense_loss: 0.0612 - val_dense_1_loss: 0.6881 - val_dense_rmse: 0.3499 - val_dense_accuracy: 0.0000e+00 - val_dense_1_rmse: 0.1352 - val_dense_1_accuracy: 0.0000e+00\n",
            "Epoch 153/200\n",
            "8/8 [==============================] - 1s 170ms/step - loss: 0.0588 - dense_loss: 0.0582 - dense_1_loss: 0.6882 - dense_rmse: 0.3412 - dense_accuracy: 0.0000e+00 - dense_1_rmse: 0.2323 - dense_1_accuracy: 0.0000e+00 - val_loss: 0.0619 - val_dense_loss: 0.0612 - val_dense_1_loss: 0.6878 - val_dense_rmse: 0.3499 - val_dense_accuracy: 0.0000e+00 - val_dense_1_rmse: 0.1346 - val_dense_1_accuracy: 0.0000e+00\n",
            "Epoch 154/200\n",
            "8/8 [==============================] - 1s 168ms/step - loss: 0.0589 - dense_loss: 0.0583 - dense_1_loss: 0.6880 - dense_rmse: 0.3413 - dense_accuracy: 0.0000e+00 - dense_1_rmse: 0.2321 - dense_1_accuracy: 0.0000e+00 - val_loss: 0.0618 - val_dense_loss: 0.0612 - val_dense_1_loss: 0.6880 - val_dense_rmse: 0.3499 - val_dense_accuracy: 0.0000e+00 - val_dense_1_rmse: 0.1351 - val_dense_1_accuracy: 0.0000e+00\n",
            "Epoch 155/200\n",
            "8/8 [==============================] - 1s 168ms/step - loss: 0.0589 - dense_loss: 0.0583 - dense_1_loss: 0.6893 - dense_rmse: 0.3414 - dense_accuracy: 0.0000e+00 - dense_1_rmse: 0.2335 - dense_1_accuracy: 0.0000e+00 - val_loss: 0.0619 - val_dense_loss: 0.0612 - val_dense_1_loss: 0.6880 - val_dense_rmse: 0.3499 - val_dense_accuracy: 0.0000e+00 - val_dense_1_rmse: 0.1350 - val_dense_1_accuracy: 0.0000e+00\n",
            "Epoch 156/200\n",
            "8/8 [==============================] - 1s 168ms/step - loss: 0.0590 - dense_loss: 0.0584 - dense_1_loss: 0.6924 - dense_rmse: 0.3417 - dense_accuracy: 0.0000e+00 - dense_1_rmse: 0.2366 - dense_1_accuracy: 0.0000e+00 - val_loss: 0.0622 - val_dense_loss: 0.0615 - val_dense_1_loss: 0.6926 - val_dense_rmse: 0.3508 - val_dense_accuracy: 0.0000e+00 - val_dense_1_rmse: 0.1430 - val_dense_1_accuracy: 0.0000e+00\n",
            "Epoch 157/200\n",
            "8/8 [==============================] - 1s 170ms/step - loss: 0.0589 - dense_loss: 0.0583 - dense_1_loss: 0.6903 - dense_rmse: 0.3415 - dense_accuracy: 0.0000e+00 - dense_1_rmse: 0.2344 - dense_1_accuracy: 0.0000e+00 - val_loss: 0.0618 - val_dense_loss: 0.0612 - val_dense_1_loss: 0.6905 - val_dense_rmse: 0.3499 - val_dense_accuracy: 0.0000e+00 - val_dense_1_rmse: 0.1396 - val_dense_1_accuracy: 0.0000e+00\n",
            "Epoch 158/200\n",
            "8/8 [==============================] - 1s 165ms/step - loss: 0.0589 - dense_loss: 0.0583 - dense_1_loss: 0.6915 - dense_rmse: 0.3413 - dense_accuracy: 0.0000e+00 - dense_1_rmse: 0.2358 - dense_1_accuracy: 0.0000e+00 - val_loss: 0.0618 - val_dense_loss: 0.0612 - val_dense_1_loss: 0.6881 - val_dense_rmse: 0.3499 - val_dense_accuracy: 0.0000e+00 - val_dense_1_rmse: 0.1352 - val_dense_1_accuracy: 0.0000e+00\n",
            "Epoch 159/200\n",
            "8/8 [==============================] - 1s 168ms/step - loss: 0.0589 - dense_loss: 0.0583 - dense_1_loss: 0.6892 - dense_rmse: 0.3414 - dense_accuracy: 0.0000e+00 - dense_1_rmse: 0.2334 - dense_1_accuracy: 0.0000e+00 - val_loss: 0.0620 - val_dense_loss: 0.0613 - val_dense_1_loss: 0.6892 - val_dense_rmse: 0.3502 - val_dense_accuracy: 0.0000e+00 - val_dense_1_rmse: 0.1371 - val_dense_1_accuracy: 0.0000e+00\n",
            "Epoch 160/200\n",
            "8/8 [==============================] - 1s 169ms/step - loss: 0.0588 - dense_loss: 0.0582 - dense_1_loss: 0.6887 - dense_rmse: 0.3412 - dense_accuracy: 0.0000e+00 - dense_1_rmse: 0.2328 - dense_1_accuracy: 0.0000e+00 - val_loss: 0.0618 - val_dense_loss: 0.0612 - val_dense_1_loss: 0.6882 - val_dense_rmse: 0.3498 - val_dense_accuracy: 0.0000e+00 - val_dense_1_rmse: 0.1354 - val_dense_1_accuracy: 0.0000e+00\n",
            "Epoch 161/200\n",
            "8/8 [==============================] - 1s 166ms/step - loss: 0.0590 - dense_loss: 0.0584 - dense_1_loss: 0.6894 - dense_rmse: 0.3417 - dense_accuracy: 0.0000e+00 - dense_1_rmse: 0.2335 - dense_1_accuracy: 0.0000e+00 - val_loss: 0.0619 - val_dense_loss: 0.0613 - val_dense_1_loss: 0.6879 - val_dense_rmse: 0.3500 - val_dense_accuracy: 0.0000e+00 - val_dense_1_rmse: 0.1347 - val_dense_1_accuracy: 0.0000e+00\n",
            "Epoch 162/200\n",
            "8/8 [==============================] - 1s 170ms/step - loss: 0.0589 - dense_loss: 0.0583 - dense_1_loss: 0.6891 - dense_rmse: 0.3415 - dense_accuracy: 0.0000e+00 - dense_1_rmse: 0.2333 - dense_1_accuracy: 0.0000e+00 - val_loss: 0.0618 - val_dense_loss: 0.0612 - val_dense_1_loss: 0.6887 - val_dense_rmse: 0.3498 - val_dense_accuracy: 0.0000e+00 - val_dense_1_rmse: 0.1363 - val_dense_1_accuracy: 0.0000e+00\n",
            "Epoch 163/200\n",
            "8/8 [==============================] - 1s 165ms/step - loss: 0.0591 - dense_loss: 0.0585 - dense_1_loss: 0.6904 - dense_rmse: 0.3420 - dense_accuracy: 0.0000e+00 - dense_1_rmse: 0.2346 - dense_1_accuracy: 0.0000e+00 - val_loss: 0.0621 - val_dense_loss: 0.0614 - val_dense_1_loss: 0.6917 - val_dense_rmse: 0.3505 - val_dense_accuracy: 0.0000e+00 - val_dense_1_rmse: 0.1415 - val_dense_1_accuracy: 0.0000e+00\n",
            "Epoch 164/200\n",
            "8/8 [==============================] - 1s 167ms/step - loss: 0.0589 - dense_loss: 0.0583 - dense_1_loss: 0.6897 - dense_rmse: 0.3413 - dense_accuracy: 0.0000e+00 - dense_1_rmse: 0.2339 - dense_1_accuracy: 0.0000e+00 - val_loss: 0.0618 - val_dense_loss: 0.0612 - val_dense_1_loss: 0.6888 - val_dense_rmse: 0.3498 - val_dense_accuracy: 0.0000e+00 - val_dense_1_rmse: 0.1366 - val_dense_1_accuracy: 0.0000e+00\n",
            "Epoch 165/200\n",
            "8/8 [==============================] - 1s 167ms/step - loss: 0.0589 - dense_loss: 0.0583 - dense_1_loss: 0.6886 - dense_rmse: 0.3413 - dense_accuracy: 0.0000e+00 - dense_1_rmse: 0.2327 - dense_1_accuracy: 0.0000e+00 - val_loss: 0.0618 - val_dense_loss: 0.0612 - val_dense_1_loss: 0.6878 - val_dense_rmse: 0.3499 - val_dense_accuracy: 0.0000e+00 - val_dense_1_rmse: 0.1347 - val_dense_1_accuracy: 0.0000e+00\n",
            "Epoch 166/200\n",
            "8/8 [==============================] - 1s 168ms/step - loss: 0.0588 - dense_loss: 0.0582 - dense_1_loss: 0.6881 - dense_rmse: 0.3412 - dense_accuracy: 0.0000e+00 - dense_1_rmse: 0.2322 - dense_1_accuracy: 0.0000e+00 - val_loss: 0.0619 - val_dense_loss: 0.0613 - val_dense_1_loss: 0.6883 - val_dense_rmse: 0.3500 - val_dense_accuracy: 0.0000e+00 - val_dense_1_rmse: 0.1356 - val_dense_1_accuracy: 0.0000e+00\n",
            "Epoch 167/200\n",
            "8/8 [==============================] - 1s 166ms/step - loss: 0.0590 - dense_loss: 0.0584 - dense_1_loss: 0.6912 - dense_rmse: 0.3418 - dense_accuracy: 0.0000e+00 - dense_1_rmse: 0.2354 - dense_1_accuracy: 0.0000e+00 - val_loss: 0.0620 - val_dense_loss: 0.0614 - val_dense_1_loss: 0.6890 - val_dense_rmse: 0.3504 - val_dense_accuracy: 0.0000e+00 - val_dense_1_rmse: 0.1369 - val_dense_1_accuracy: 0.0000e+00\n",
            "Epoch 168/200\n",
            "8/8 [==============================] - 1s 169ms/step - loss: 0.0589 - dense_loss: 0.0582 - dense_1_loss: 0.6907 - dense_rmse: 0.3413 - dense_accuracy: 0.0000e+00 - dense_1_rmse: 0.2349 - dense_1_accuracy: 0.0000e+00 - val_loss: 0.0618 - val_dense_loss: 0.0612 - val_dense_1_loss: 0.6920 - val_dense_rmse: 0.3498 - val_dense_accuracy: 0.0000e+00 - val_dense_1_rmse: 0.1422 - val_dense_1_accuracy: 0.0000e+00\n",
            "Epoch 169/200\n",
            "8/8 [==============================] - 1s 167ms/step - loss: 0.0589 - dense_loss: 0.0582 - dense_1_loss: 0.6918 - dense_rmse: 0.3413 - dense_accuracy: 0.0000e+00 - dense_1_rmse: 0.2362 - dense_1_accuracy: 0.0000e+00 - val_loss: 0.0619 - val_dense_loss: 0.0613 - val_dense_1_loss: 0.6900 - val_dense_rmse: 0.3501 - val_dense_accuracy: 0.0000e+00 - val_dense_1_rmse: 0.1386 - val_dense_1_accuracy: 0.0000e+00\n",
            "Epoch 170/200\n",
            "8/8 [==============================] - 1s 168ms/step - loss: 0.0589 - dense_loss: 0.0582 - dense_1_loss: 0.6902 - dense_rmse: 0.3412 - dense_accuracy: 0.0000e+00 - dense_1_rmse: 0.2343 - dense_1_accuracy: 0.0000e+00 - val_loss: 0.0619 - val_dense_loss: 0.0612 - val_dense_1_loss: 0.6886 - val_dense_rmse: 0.3500 - val_dense_accuracy: 0.0000e+00 - val_dense_1_rmse: 0.1360 - val_dense_1_accuracy: 0.0000e+00\n",
            "Epoch 171/200\n",
            "8/8 [==============================] - 1s 167ms/step - loss: 0.0588 - dense_loss: 0.0582 - dense_1_loss: 0.6887 - dense_rmse: 0.3412 - dense_accuracy: 0.0000e+00 - dense_1_rmse: 0.2328 - dense_1_accuracy: 0.0000e+00 - val_loss: 0.0617 - val_dense_loss: 0.0611 - val_dense_1_loss: 0.6879 - val_dense_rmse: 0.3496 - val_dense_accuracy: 0.0000e+00 - val_dense_1_rmse: 0.1348 - val_dense_1_accuracy: 0.0000e+00\n",
            "Epoch 172/200\n",
            "8/8 [==============================] - 1s 168ms/step - loss: 0.0599 - dense_loss: 0.0592 - dense_1_loss: 0.6919 - dense_rmse: 0.3443 - dense_accuracy: 0.0000e+00 - dense_1_rmse: 0.2363 - dense_1_accuracy: 0.0000e+00 - val_loss: 0.0616 - val_dense_loss: 0.0610 - val_dense_1_loss: 0.6954 - val_dense_rmse: 0.3492 - val_dense_accuracy: 0.0000e+00 - val_dense_1_rmse: 0.1481 - val_dense_1_accuracy: 0.0000e+00\n",
            "Epoch 173/200\n",
            "8/8 [==============================] - 1s 173ms/step - loss: 0.0591 - dense_loss: 0.0584 - dense_1_loss: 0.6990 - dense_rmse: 0.3419 - dense_accuracy: 0.0000e+00 - dense_1_rmse: 0.2436 - dense_1_accuracy: 0.0000e+00 - val_loss: 0.0623 - val_dense_loss: 0.0617 - val_dense_1_loss: 0.6879 - val_dense_rmse: 0.3513 - val_dense_accuracy: 0.0000e+00 - val_dense_1_rmse: 0.1348 - val_dense_1_accuracy: 0.0000e+00\n",
            "Epoch 174/200\n",
            "8/8 [==============================] - 1s 170ms/step - loss: 0.0594 - dense_loss: 0.0587 - dense_1_loss: 0.7030 - dense_rmse: 0.3427 - dense_accuracy: 0.0000e+00 - dense_1_rmse: 0.2467 - dense_1_accuracy: 0.0000e+00 - val_loss: 0.0620 - val_dense_loss: 0.0614 - val_dense_1_loss: 0.7143 - val_dense_rmse: 0.3503 - val_dense_accuracy: 0.0000e+00 - val_dense_1_rmse: 0.1745 - val_dense_1_accuracy: 0.0000e+00\n",
            "Epoch 175/200\n",
            "8/8 [==============================] - 1s 169ms/step - loss: 0.0590 - dense_loss: 0.0584 - dense_1_loss: 0.6958 - dense_rmse: 0.3416 - dense_accuracy: 0.0000e+00 - dense_1_rmse: 0.2398 - dense_1_accuracy: 0.0000e+00 - val_loss: 0.0619 - val_dense_loss: 0.0612 - val_dense_1_loss: 0.6880 - val_dense_rmse: 0.3499 - val_dense_accuracy: 0.0000e+00 - val_dense_1_rmse: 0.1350 - val_dense_1_accuracy: 0.0000e+00\n",
            "Epoch 176/200\n",
            "8/8 [==============================] - 1s 169ms/step - loss: 0.0591 - dense_loss: 0.0585 - dense_1_loss: 0.6888 - dense_rmse: 0.3421 - dense_accuracy: 0.0000e+00 - dense_1_rmse: 0.2329 - dense_1_accuracy: 0.0000e+00 - val_loss: 0.0620 - val_dense_loss: 0.0614 - val_dense_1_loss: 0.6880 - val_dense_rmse: 0.3504 - val_dense_accuracy: 0.0000e+00 - val_dense_1_rmse: 0.1350 - val_dense_1_accuracy: 0.0000e+00\n",
            "Epoch 177/200\n",
            "8/8 [==============================] - 1s 168ms/step - loss: 0.0590 - dense_loss: 0.0583 - dense_1_loss: 0.6949 - dense_rmse: 0.3416 - dense_accuracy: 0.0000e+00 - dense_1_rmse: 0.2394 - dense_1_accuracy: 0.0000e+00 - val_loss: 0.0619 - val_dense_loss: 0.0613 - val_dense_1_loss: 0.6976 - val_dense_rmse: 0.3500 - val_dense_accuracy: 0.0000e+00 - val_dense_1_rmse: 0.1518 - val_dense_1_accuracy: 0.0000e+00\n",
            "Epoch 178/200\n",
            "8/8 [==============================] - 1s 166ms/step - loss: 0.0590 - dense_loss: 0.0584 - dense_1_loss: 0.6914 - dense_rmse: 0.3417 - dense_accuracy: 0.0000e+00 - dense_1_rmse: 0.2357 - dense_1_accuracy: 0.0000e+00 - val_loss: 0.0622 - val_dense_loss: 0.0616 - val_dense_1_loss: 0.6924 - val_dense_rmse: 0.3509 - val_dense_accuracy: 0.0000e+00 - val_dense_1_rmse: 0.1427 - val_dense_1_accuracy: 0.0000e+00\n",
            "Epoch 179/200\n",
            "8/8 [==============================] - 1s 169ms/step - loss: 0.0588 - dense_loss: 0.0582 - dense_1_loss: 0.6888 - dense_rmse: 0.3412 - dense_accuracy: 0.0000e+00 - dense_1_rmse: 0.2329 - dense_1_accuracy: 0.0000e+00 - val_loss: 0.0619 - val_dense_loss: 0.0612 - val_dense_1_loss: 0.6892 - val_dense_rmse: 0.3499 - val_dense_accuracy: 0.0000e+00 - val_dense_1_rmse: 0.1372 - val_dense_1_accuracy: 0.0000e+00\n",
            "Epoch 180/200\n",
            "8/8 [==============================] - 1s 166ms/step - loss: 0.0590 - dense_loss: 0.0584 - dense_1_loss: 0.6915 - dense_rmse: 0.3418 - dense_accuracy: 0.0000e+00 - dense_1_rmse: 0.2358 - dense_1_accuracy: 0.0000e+00 - val_loss: 0.0619 - val_dense_loss: 0.0612 - val_dense_1_loss: 0.6880 - val_dense_rmse: 0.3499 - val_dense_accuracy: 0.0000e+00 - val_dense_1_rmse: 0.1349 - val_dense_1_accuracy: 0.0000e+00\n",
            "Epoch 181/200\n",
            "8/8 [==============================] - 1s 170ms/step - loss: 0.0590 - dense_loss: 0.0584 - dense_1_loss: 0.6948 - dense_rmse: 0.3417 - dense_accuracy: 0.0000e+00 - dense_1_rmse: 0.2390 - dense_1_accuracy: 0.0000e+00 - val_loss: 0.0623 - val_dense_loss: 0.0616 - val_dense_1_loss: 0.6996 - val_dense_rmse: 0.3511 - val_dense_accuracy: 0.0000e+00 - val_dense_1_rmse: 0.1541 - val_dense_1_accuracy: 0.0000e+00\n",
            "Epoch 182/200\n",
            "8/8 [==============================] - 1s 169ms/step - loss: 0.0590 - dense_loss: 0.0584 - dense_1_loss: 0.6899 - dense_rmse: 0.3418 - dense_accuracy: 0.0000e+00 - dense_1_rmse: 0.2340 - dense_1_accuracy: 0.0000e+00 - val_loss: 0.0619 - val_dense_loss: 0.0612 - val_dense_1_loss: 0.6889 - val_dense_rmse: 0.3499 - val_dense_accuracy: 0.0000e+00 - val_dense_1_rmse: 0.1366 - val_dense_1_accuracy: 0.0000e+00\n",
            "Epoch 183/200\n",
            "8/8 [==============================] - 1s 166ms/step - loss: 0.0589 - dense_loss: 0.0582 - dense_1_loss: 0.6883 - dense_rmse: 0.3413 - dense_accuracy: 0.0000e+00 - dense_1_rmse: 0.2324 - dense_1_accuracy: 0.0000e+00 - val_loss: 0.0619 - val_dense_loss: 0.0613 - val_dense_1_loss: 0.6880 - val_dense_rmse: 0.3501 - val_dense_accuracy: 0.0000e+00 - val_dense_1_rmse: 0.1350 - val_dense_1_accuracy: 0.0000e+00\n",
            "Epoch 184/200\n",
            "8/8 [==============================] - 1s 165ms/step - loss: 0.0589 - dense_loss: 0.0583 - dense_1_loss: 0.6873 - dense_rmse: 0.3414 - dense_accuracy: 0.0000e+00 - dense_1_rmse: 0.2314 - dense_1_accuracy: 0.0000e+00 - val_loss: 0.0619 - val_dense_loss: 0.0613 - val_dense_1_loss: 0.6878 - val_dense_rmse: 0.3502 - val_dense_accuracy: 0.0000e+00 - val_dense_1_rmse: 0.1346 - val_dense_1_accuracy: 0.0000e+00\n",
            "Epoch 185/200\n",
            "8/8 [==============================] - 1s 170ms/step - loss: 0.0589 - dense_loss: 0.0582 - dense_1_loss: 0.6873 - dense_rmse: 0.3413 - dense_accuracy: 0.0000e+00 - dense_1_rmse: 0.2314 - dense_1_accuracy: 0.0000e+00 - val_loss: 0.0619 - val_dense_loss: 0.0613 - val_dense_1_loss: 0.6879 - val_dense_rmse: 0.3502 - val_dense_accuracy: 0.0000e+00 - val_dense_1_rmse: 0.1348 - val_dense_1_accuracy: 0.0000e+00\n",
            "Epoch 186/200\n",
            "8/8 [==============================] - 1s 162ms/step - loss: 0.0589 - dense_loss: 0.0582 - dense_1_loss: 0.6873 - dense_rmse: 0.3413 - dense_accuracy: 0.0000e+00 - dense_1_rmse: 0.2314 - dense_1_accuracy: 0.0000e+00 - val_loss: 0.0619 - val_dense_loss: 0.0612 - val_dense_1_loss: 0.6880 - val_dense_rmse: 0.3500 - val_dense_accuracy: 0.0000e+00 - val_dense_1_rmse: 0.1351 - val_dense_1_accuracy: 0.0000e+00\n",
            "Epoch 187/200\n",
            "8/8 [==============================] - 1s 170ms/step - loss: 0.0588 - dense_loss: 0.0582 - dense_1_loss: 0.6875 - dense_rmse: 0.3412 - dense_accuracy: 0.0000e+00 - dense_1_rmse: 0.2316 - dense_1_accuracy: 0.0000e+00 - val_loss: 0.0619 - val_dense_loss: 0.0613 - val_dense_1_loss: 0.6878 - val_dense_rmse: 0.3501 - val_dense_accuracy: 0.0000e+00 - val_dense_1_rmse: 0.1347 - val_dense_1_accuracy: 0.0000e+00\n",
            "Epoch 188/200\n",
            "8/8 [==============================] - 1s 166ms/step - loss: 0.0589 - dense_loss: 0.0582 - dense_1_loss: 0.6870 - dense_rmse: 0.3413 - dense_accuracy: 0.0000e+00 - dense_1_rmse: 0.2310 - dense_1_accuracy: 0.0000e+00 - val_loss: 0.0619 - val_dense_loss: 0.0613 - val_dense_1_loss: 0.6878 - val_dense_rmse: 0.3500 - val_dense_accuracy: 0.0000e+00 - val_dense_1_rmse: 0.1347 - val_dense_1_accuracy: 0.0000e+00\n",
            "Epoch 189/200\n",
            "8/8 [==============================] - 1s 169ms/step - loss: 0.0590 - dense_loss: 0.0584 - dense_1_loss: 0.6895 - dense_rmse: 0.3418 - dense_accuracy: 0.0000e+00 - dense_1_rmse: 0.2336 - dense_1_accuracy: 0.0000e+00 - val_loss: 0.0621 - val_dense_loss: 0.0614 - val_dense_1_loss: 0.6894 - val_dense_rmse: 0.3505 - val_dense_accuracy: 0.0000e+00 - val_dense_1_rmse: 0.1376 - val_dense_1_accuracy: 0.0000e+00\n",
            "Epoch 190/200\n",
            "8/8 [==============================] - 1s 169ms/step - loss: 0.0589 - dense_loss: 0.0582 - dense_1_loss: 0.6885 - dense_rmse: 0.3413 - dense_accuracy: 0.0000e+00 - dense_1_rmse: 0.2327 - dense_1_accuracy: 0.0000e+00 - val_loss: 0.0619 - val_dense_loss: 0.0612 - val_dense_1_loss: 0.6890 - val_dense_rmse: 0.3500 - val_dense_accuracy: 0.0000e+00 - val_dense_1_rmse: 0.1369 - val_dense_1_accuracy: 0.0000e+00\n",
            "Epoch 191/200\n",
            "8/8 [==============================] - 1s 168ms/step - loss: 0.0590 - dense_loss: 0.0584 - dense_1_loss: 0.6920 - dense_rmse: 0.3417 - dense_accuracy: 0.0000e+00 - dense_1_rmse: 0.2363 - dense_1_accuracy: 0.0000e+00 - val_loss: 0.0619 - val_dense_loss: 0.0612 - val_dense_1_loss: 0.6883 - val_dense_rmse: 0.3500 - val_dense_accuracy: 0.0000e+00 - val_dense_1_rmse: 0.1355 - val_dense_1_accuracy: 0.0000e+00\n",
            "Epoch 192/200\n",
            "8/8 [==============================] - 1s 166ms/step - loss: 0.0589 - dense_loss: 0.0582 - dense_1_loss: 0.6882 - dense_rmse: 0.3412 - dense_accuracy: 0.0000e+00 - dense_1_rmse: 0.2323 - dense_1_accuracy: 0.0000e+00 - val_loss: 0.0620 - val_dense_loss: 0.0614 - val_dense_1_loss: 0.6935 - val_dense_rmse: 0.3504 - val_dense_accuracy: 0.0000e+00 - val_dense_1_rmse: 0.1445 - val_dense_1_accuracy: 0.0000e+00\n",
            "Epoch 193/200\n",
            "8/8 [==============================] - 1s 171ms/step - loss: 0.0589 - dense_loss: 0.0583 - dense_1_loss: 0.6910 - dense_rmse: 0.3415 - dense_accuracy: 0.0000e+00 - dense_1_rmse: 0.2352 - dense_1_accuracy: 0.0000e+00 - val_loss: 0.0619 - val_dense_loss: 0.0613 - val_dense_1_loss: 0.6881 - val_dense_rmse: 0.3501 - val_dense_accuracy: 0.0000e+00 - val_dense_1_rmse: 0.1352 - val_dense_1_accuracy: 0.0000e+00\n",
            "Epoch 194/200\n",
            "8/8 [==============================] - 1s 168ms/step - loss: 0.0589 - dense_loss: 0.0582 - dense_1_loss: 0.6871 - dense_rmse: 0.3413 - dense_accuracy: 0.0000e+00 - dense_1_rmse: 0.2311 - dense_1_accuracy: 0.0000e+00 - val_loss: 0.0619 - val_dense_loss: 0.0613 - val_dense_1_loss: 0.6881 - val_dense_rmse: 0.3500 - val_dense_accuracy: 0.0000e+00 - val_dense_1_rmse: 0.1351 - val_dense_1_accuracy: 0.0000e+00\n",
            "Epoch 195/200\n",
            "8/8 [==============================] - 1s 170ms/step - loss: 0.0589 - dense_loss: 0.0582 - dense_1_loss: 0.6879 - dense_rmse: 0.3413 - dense_accuracy: 0.0000e+00 - dense_1_rmse: 0.2320 - dense_1_accuracy: 0.0000e+00 - val_loss: 0.0619 - val_dense_loss: 0.0612 - val_dense_1_loss: 0.6883 - val_dense_rmse: 0.3500 - val_dense_accuracy: 0.0000e+00 - val_dense_1_rmse: 0.1356 - val_dense_1_accuracy: 0.0000e+00\n",
            "Epoch 196/200\n",
            "8/8 [==============================] - 1s 173ms/step - loss: 0.0590 - dense_loss: 0.0584 - dense_1_loss: 0.6876 - dense_rmse: 0.3416 - dense_accuracy: 0.0000e+00 - dense_1_rmse: 0.2317 - dense_1_accuracy: 0.0000e+00 - val_loss: 0.0620 - val_dense_loss: 0.0614 - val_dense_1_loss: 0.6885 - val_dense_rmse: 0.3503 - val_dense_accuracy: 0.0000e+00 - val_dense_1_rmse: 0.1359 - val_dense_1_accuracy: 0.0000e+00\n",
            "Epoch 197/200\n",
            "8/8 [==============================] - 1s 169ms/step - loss: 0.0589 - dense_loss: 0.0583 - dense_1_loss: 0.6874 - dense_rmse: 0.3413 - dense_accuracy: 0.0000e+00 - dense_1_rmse: 0.2315 - dense_1_accuracy: 0.0000e+00 - val_loss: 0.0618 - val_dense_loss: 0.0612 - val_dense_1_loss: 0.6886 - val_dense_rmse: 0.3499 - val_dense_accuracy: 0.0000e+00 - val_dense_1_rmse: 0.1361 - val_dense_1_accuracy: 0.0000e+00\n",
            "Epoch 198/200\n",
            "8/8 [==============================] - 1s 166ms/step - loss: 0.0589 - dense_loss: 0.0583 - dense_1_loss: 0.6877 - dense_rmse: 0.3413 - dense_accuracy: 0.0000e+00 - dense_1_rmse: 0.2318 - dense_1_accuracy: 0.0000e+00 - val_loss: 0.0619 - val_dense_loss: 0.0613 - val_dense_1_loss: 0.6880 - val_dense_rmse: 0.3500 - val_dense_accuracy: 0.0000e+00 - val_dense_1_rmse: 0.1349 - val_dense_1_accuracy: 0.0000e+00\n",
            "Epoch 199/200\n",
            "8/8 [==============================] - 1s 170ms/step - loss: 0.0589 - dense_loss: 0.0583 - dense_1_loss: 0.6873 - dense_rmse: 0.3413 - dense_accuracy: 0.0000e+00 - dense_1_rmse: 0.2313 - dense_1_accuracy: 0.0000e+00 - val_loss: 0.0619 - val_dense_loss: 0.0613 - val_dense_1_loss: 0.6881 - val_dense_rmse: 0.3501 - val_dense_accuracy: 0.0000e+00 - val_dense_1_rmse: 0.1351 - val_dense_1_accuracy: 0.0000e+00\n",
            "Epoch 200/200\n",
            "8/8 [==============================] - 1s 168ms/step - loss: 0.0589 - dense_loss: 0.0582 - dense_1_loss: 0.6873 - dense_rmse: 0.3412 - dense_accuracy: 0.0000e+00 - dense_1_rmse: 0.2314 - dense_1_accuracy: 0.0000e+00 - val_loss: 0.0619 - val_dense_loss: 0.0613 - val_dense_1_loss: 0.6879 - val_dense_rmse: 0.3501 - val_dense_accuracy: 0.0000e+00 - val_dense_1_rmse: 0.1348 - val_dense_1_accuracy: 0.0000e+00\n"
          ]
        }
      ]
    },
    {
      "cell_type": "code",
      "metadata": {
        "id": "EXyZUSIKSdfu",
        "colab": {
          "base_uri": "https://localhost:8080/",
          "height": 295
        },
        "outputId": "44be8642-6c0a-4aa8-c237-4931f860ccb0"
      },
      "source": [
        "import matplotlib.pyplot as plt\n",
        "\n",
        "plt.plot(history_peak.history['dense_rmse'])\n",
        "plt.plot(history_peak.history['val_dense_rmse'])\n",
        "plt.title(\"Model Loss\")\n",
        "plt.xlabel('Epochs')\n",
        "plt.ylabel('Loss')\n",
        "plt.legend(['Train', 'Valid'])\n",
        "plt.show()"
      ],
      "execution_count": null,
      "outputs": [
        {
          "output_type": "display_data",
          "data": {
            "image/png": "[encoded data removed]",
            "text/plain": [
              "<Figure size 432x288 with 1 Axes>"
            ]
          },
          "metadata": {
            "needs_background": "light"
          }
        }
      ]
    },
    {
      "cell_type": "code",
      "metadata": {
        "colab": {
          "base_uri": "https://localhost:8080/"
        },
        "id": "Z2qNONpwZM4H",
        "outputId": "da787755-07e2-4ebd-d765-d61eb293d080"
      },
      "source": [
        "Y_pred = model.predict(X_test)\n",
        "np.sqrt(np.mean(np.square(Y_pred[0][:,0]-Y_test[:,0,0])))"
      ],
      "execution_count": null,
      "outputs": [
        {
          "output_type": "execute_result",
          "data": {
            "text/plain": [
              "0.344887063224044"
            ]
          },
          "metadata": {},
          "execution_count": 245
        }
      ]
    }
  ]
}