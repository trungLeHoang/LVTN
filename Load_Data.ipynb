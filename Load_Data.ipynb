{
  "nbformat": 4,
  "nbformat_minor": 0,
  "metadata": {
    "colab": {
      "name": "Load_Data.ipynb",
      "provenance": [],
      "collapsed_sections": [
        "6h97hlZMz4Sy"
      ],
      "include_colab_link": true
    },
    "kernelspec": {
      "display_name": "Python 3",
      "language": "python",
      "name": "python3"
    },
    "language_info": {
      "codemirror_mode": {
        "name": "ipython",
        "version": 3
      },
      "file_extension": ".py",
      "mimetype": "text/x-python",
      "name": "python",
      "nbconvert_exporter": "python",
      "pygments_lexer": "ipython3",
      "version": "3.6.10"
    }
  },
  "cells": [
    {
      "cell_type": "markdown",
      "metadata": {
        "id": "view-in-github",
        "colab_type": "text"
      },
      "source": [
        "<a href=\"https://colab.research.google.com/github/trungLeHoang/LVTN/blob/main/Load_Data.ipynb\" target=\"_parent\"><img src=\"https://colab.research.google.com/assets/colab-badge.svg\" alt=\"Open In Colab\"/></a>"
      ]
    },
    {
      "cell_type": "code",
      "metadata": {
        "colab": {
          "base_uri": "https://localhost:8080/"
        },
        "id": "PjyuMXgUIjxD",
        "outputId": "e82d8a98-315c-4770-ab6a-87a124357ae0"
      },
      "source": [
        "from google.colab import drive\n",
        "drive.mount('/content/drive')"
      ],
      "execution_count": null,
      "outputs": [
        {
          "output_type": "stream",
          "name": "stdout",
          "text": [
            "Mounted at /content/drive\n"
          ]
        }
      ]
    },
    {
      "cell_type": "markdown",
      "metadata": {
        "id": "M--pwLuJz8Uq"
      },
      "source": [
        "# Code LVTN dự đoán thời gian sống của pin"
      ]
    },
    {
      "cell_type": "code",
      "metadata": {
        "id": "Td3-00s0d4M1"
      },
      "source": [
        "import pandas as pd\n",
        "import numpy as np\n",
        "import os\n",
        "import random\n",
        "import scipy.io"
      ],
      "execution_count": null,
      "outputs": []
    },
    {
      "cell_type": "markdown",
      "metadata": {
        "id": "6h97hlZMz4Sy"
      },
      "source": [
        "## Define Load Data functions from NASA Dataset"
      ]
    },
    {
      "cell_type": "code",
      "metadata": {
        "id": "BZIIZ46JfySm"
      },
      "source": [
        "def build_files(folder_to_exclude, src_dir=os.getcwd()):\n",
        "    data_folder = os.path.join(src_dir, 'data')\n",
        "    dict_files = {}\n",
        "    for directory in os.listdir(data_folder):\n",
        "        fullpath_dir = os.path.join(data_folder, directory)\n",
        "        if os.path.isdir(fullpath_dir) and directory not in folder_to_exclude:\n",
        "            dict_files[directory] = [os.path.join(fullpath_dir, file) for file\n",
        "                                     in os.listdir(fullpath_dir) if\n",
        "                                     file.endswith('.mat')]\n",
        "\n",
        "    return dict_files"
      ],
      "execution_count": null,
      "outputs": []
    },
    {
      "cell_type": "code",
      "metadata": {
        "id": "VWuZp4ulliVf"
      },
      "source": [
        "def _convert_matlab_datetime_vector_to_utc(date_vector):\n",
        "    \"\"\"Convert matlab datetime format into a UTC format\"\"\"\n",
        "    # f'{val:02}' TODO\n",
        "    string_time = str(int(date_vector[0])) + \"-\" + \\\n",
        "        f'{int(date_vector[1]):02}' + \"-\" + \\\n",
        "        f'{int(date_vector[2]):02}' + \"T\" + \\\n",
        "        f'{int(date_vector[3]):02}' + \":\" + \\\n",
        "        f'{int(date_vector[4]):02}' + \":\" + \\\n",
        "        f'{float(date_vector[5]):06.3f}'\n",
        "\n",
        "    return string_time\n",
        "\n",
        "\n",
        "def _format_temperature(temp):\n",
        "    \"\"\"There are 3 main temparatures, if they are close we want to put them in the same category\"\"\"\n",
        "    # /!\\Disclaimer/!\\ This is completly related to the NASA battery dataset.\n",
        "    if temp < 6:\n",
        "        return 4\n",
        "    elif temp < 26:\n",
        "        return 24\n",
        "    else:\n",
        "        return 43"
      ],
      "execution_count": null,
      "outputs": []
    },
    {
      "cell_type": "code",
      "metadata": {
        "id": "y168j2TXlkn2"
      },
      "source": [
        "def extract_charge_from_item(item):\n",
        "    dict_item = {}\n",
        "\n",
        "    dict_item[\"test_type\"] = item[0][0]  # charge impedence discharge\n",
        "    dict_item[\"ambiant_temp\"] = _format_temperature(item[1][0][0])  # temperature: 4 ~24 ~43\n",
        "    dict_item[\"datetime\"] = _convert_matlab_datetime_vector_to_utc(item[2][0])\n",
        "\n",
        "    dict_item[\"voltage_measured\"] = item[3][0][0][0][0]  # Battery terminal voltage (Volts) floats\n",
        "    dict_item[\"current_measured\"] = item[3][0][0][1][0]  # Battery output current (Amps) floats\n",
        "    dict_item[\"temperature_measured\"] = item[3][0][0][2][0]  # Battery temperature (degree C) floats\n",
        "    dict_item[\"current_charge\"] = item[3][0][0][3][0]  # Current measured at charger (Amps) floats\n",
        "    dict_item[\"voltage_charge\"] = item[3][0][0][4][0]  # Voltage measured at charger (Volts) floats\n",
        "    # MEH\n",
        "    dict_item[\"time\"] = item[3][0][0][5][0]  # Time vector for the cycle (secs) floats\n",
        "\n",
        "    return dict_item\n",
        "\n",
        "\n",
        "def extract_discharge_from_item(item):\n",
        "    dict_item = {}\n",
        "\n",
        "    dict_item[\"test_type\"] = item[0][0]  # charge impedence discharge\n",
        "    dict_item[\"ambiant_temp\"] = _format_temperature(item[1][0][0])  # temperature: 4 ~24 ~43\n",
        "    dict_item[\"datetime\"] = _convert_matlab_datetime_vector_to_utc(item[2][0])\n",
        "\n",
        "    dict_item[\"voltage_measured\"] = item[3][0][0][0][0]  # Battery terminal voltage (Volts) floats\n",
        "    dict_item[\"current_measured\"] = item[3][0][0][1][0]  # Battery output current (Amps) flaots\n",
        "    dict_item[\"temperature_measured\"] = item[3][0][0][2][0]  # Battery temperature (degree C) floats\n",
        "    dict_item[\"current_charge\"] = item[3][0][0][3][0]  # Current measured at charger (Amps) floats\n",
        "    dict_item[\"voltage_charge\"] = item[3][0][0][4][0]  # Voltage measured at charger (Volts) floats\n",
        "    # MEH\n",
        "    dict_item[\"time\"] = item[3][0][0][5][0]  # Time vector for the cycle (secs) floats\n",
        "    dict_item[\"capacity\"] = item[3][0][0][6][0]  # Battery capacity (Ahr) for discharge till 2.7V float_\n",
        "\n",
        "    return dict_item\n",
        "\n",
        "\n",
        "def extract_impedance_from_item(item):\n",
        "    dict_item = {}\n",
        "\n",
        "    dict_item[\"test_type\"] = item[0][0]  # charge impedence discharge\n",
        "    dict_item[\"ambiant_temp\"] = _format_temperature(item[1][0][0])  # temperature: 4 ~24 ~43\n",
        "    dict_item[\"datetime\"] = _convert_matlab_datetime_vector_to_utc(item[2][0])\n",
        "\n",
        "    dict_item[\"sense_current\"] = item[3][0][0][0][0]  # Current in sense branch (Amps)| Complexes\n",
        "    dict_item[\"sense_current_real\"] = np.array([complx.real for complx in dict_item[\"sense_current\"]])\n",
        "    dict_item[\"sense_current_imag\"] = np.array([complx.imag for complx in dict_item[\"sense_current\"]])\n",
        "\n",
        "    dict_item[\"battery_current\"] = item[3][0][0][1][0]  # Current in battery branch (Amps)| Complexes\n",
        "    dict_item[\"battery_current_real\"] = np.array([complx.real for complx in dict_item[\"battery_current\"]])\n",
        "    dict_item[\"battery_current_imag\"] = np.array([complx.imag for complx in dict_item[\"battery_current\"]])\n",
        "\n",
        "    dict_item[\"current_ratio\"] = item[3][0][0][2][0]  # Ratio of the above currents| Complexes\n",
        "    dict_item[\"current_ratio_real\"] = np.array([complx.real for complx in dict_item[\"current_ratio\"]])\n",
        "    dict_item[\"current_ratio_imag\"] = np.array([complx.imag for complx in dict_item[\"current_ratio\"]])\n",
        "\n",
        "    # Battery impedance (Ohms) computed from raw data| Complexes\n",
        "    dict_item[\"battery_impedance\"] = np.array([val[0] for val in item[3][0][0][3]])\n",
        "    dict_item[\"battery_impedance_real\"] = np.array([complx.real for complx in dict_item[\"battery_impedance\"]])\n",
        "    dict_item[\"battery_impedance_imag\"] = np.array([complx.imag for complx in dict_item[\"battery_impedance\"]])\n",
        "\n",
        "    # Calibrated and smoothed battery impedance (Ohms)| Complexes\n",
        "    dict_item[\"rectified_impedance\"] = np.array([val[0] for val in item[3][0][0][4]])\n",
        "    dict_item[\"rectified_impedance_real\"] = np.array([complx.real for complx in dict_item[\"rectified_impedance\"]])\n",
        "    dict_item[\"rectified_impedance_imag\"] = np.array([complx.imag for complx in dict_item[\"rectified_impedance\"]])\n",
        "\n",
        "    dict_item[\"re\"] = item[3][0][0][5][0][0]  # Estimated electrolyte resistance (Ohms)| float_\n",
        "    dict_item[\"rct\"] = item[3][0][0][6][0][0]  # Estimated charge transfer resistance (Ohms)| float_\n",
        "\n",
        "    return dict_item"
      ],
      "execution_count": null,
      "outputs": []
    },
    {
      "cell_type": "code",
      "metadata": {
        "id": "zGhI-vB_lrkg"
      },
      "source": [
        "def _filter_mat(mat, test_type):\n",
        "    \"\"\"Keep only one type (e.g. impedance) from the matlab file\"\"\"\n",
        "    return [x for x in mat if x[0][0] == test_type]\n",
        "\n",
        "\n",
        "def _split_mat(mat):\n",
        "    \"\"\"Split matlab file into charge/discharge/impedance\"\"\"\n",
        "    raw_charge_items = _filter_mat(mat, \"charge\")\n",
        "    raw_discharge_items = _filter_mat(mat, \"discharge\")\n",
        "    raw_impedance_items = _filter_mat(mat, \"impedance\")\n",
        "\n",
        "    return raw_charge_items, raw_discharge_items, raw_impedance_items\n",
        "\n",
        "\n",
        "def _load_mat_file(filepath):\n",
        "    \"\"\"Load the matlab file\"\"\"\n",
        "    filename = os.path.split(filepath)[-1].split(\".\")[0]\n",
        "    raw_mat = scipy.io.loadmat(filepath)\n",
        "    mat = raw_mat[filename][0][0][0][0]\n",
        "\n",
        "    return mat"
      ],
      "execution_count": null,
      "outputs": []
    },
    {
      "cell_type": "code",
      "metadata": {
        "id": "dtomrOedl0du"
      },
      "source": [
        "def extract_charge_discharge_impedance(filepath):\n",
        "    mat = _load_mat_file(filepath)\n",
        "\n",
        "    raw_charge_items, raw_discharge_items, raw_impedance_items = _split_mat(mat)\n",
        "\n",
        "    charge_items = [extract_charge_from_item(raw_charge) for raw_charge in raw_charge_items]\n",
        "    discharge_items = [extract_discharge_from_item(raw_discharge) for raw_discharge in raw_discharge_items]\n",
        "    impedance_items = [extract_impedance_from_item(raw_impedance) for raw_impedance in raw_impedance_items]\n",
        "\n",
        "    return charge_items, discharge_items, impedance_items"
      ],
      "execution_count": null,
      "outputs": []
    },
    {
      "cell_type": "code",
      "metadata": {
        "id": "jLAS7YELf0kg"
      },
      "source": [
        "def extract_charge_items(charge, battery_nb, charge_nb):\n",
        "    df_charge = pd.DataFrame(\n",
        "        columns=['battery_nb', 'datetime', 'charge_nb',\n",
        "                 'voltage_measured', 'current_measured',\n",
        "                 'temperature_measured', 'current_charge',\n",
        "                 'voltage_charge', 'ambiant_temp']\n",
        "    )\n",
        "    df_charge['voltage_measured'] = charge['voltage_measured']\n",
        "    df_charge['current_measured'] = charge['current_measured']\n",
        "    df_charge['temperature_measured'] = charge[\n",
        "        'temperature_measured']\n",
        "    df_charge['current_charge'] = charge['current_charge']\n",
        "    df_charge['voltage_charge'] = charge['voltage_charge']\n",
        "    df_charge['ambiant_temp'] = charge['ambiant_temp']\n",
        "    df_charge['battery_nb'] = [battery_nb] * len(\n",
        "        charge['voltage_measured'])\n",
        "    df_charge['charge_nb'] = [charge_nb] * len(\n",
        "        charge['voltage_measured'])\n",
        "    df_charge['datetime'] = pd.Timestamp(\n",
        "        charge['datetime']) + pd.to_timedelta(charge['time'],\n",
        "                                              unit='s')\n",
        "\n",
        "    return df_charge\n",
        "\n",
        "\n",
        "def extract_discharge_items(discharge, battery_nb, discharge_nb):\n",
        "    df_discharge = pd.DataFrame(\n",
        "        columns=['battery_nb', 'datetime', 'discharge_nb',\n",
        "                 'voltage_measured', 'current_measured',\n",
        "                 'temperature_measured', 'current_charge',\n",
        "                 'voltage_charge', 'capacity', 'ambiant_temp']\n",
        "    )\n",
        "    df_discharge['voltage_measured'] = discharge[\n",
        "        'voltage_measured']\n",
        "    df_discharge['current_measured'] = discharge[\n",
        "        'current_measured']\n",
        "    df_discharge['temperature_measured'] = discharge[\n",
        "        'temperature_measured']\n",
        "    df_discharge['current_charge'] = discharge['current_charge']\n",
        "    df_discharge['voltage_charge'] = discharge['voltage_charge']\n",
        "    df_discharge['capacity'] = discharge['capacity'][0] if len(\n",
        "        discharge['capacity']) > 0 else [np.NaN] * len(\n",
        "        discharge['voltage_measured'])\n",
        "    df_discharge['ambiant_temp'] = discharge['ambiant_temp']\n",
        "    df_discharge['battery_nb'] = [battery_nb] * len(\n",
        "        discharge['voltage_measured'])\n",
        "    df_discharge['discharge_nb'] = [discharge_nb] * len(\n",
        "        discharge['voltage_measured'])\n",
        "    df_discharge['datetime'] = pd.Timestamp(\n",
        "        discharge['datetime']) + pd.to_timedelta(\n",
        "        discharge['time'], unit='s')\n",
        "\n",
        "    return df_discharge"
      ],
      "execution_count": null,
      "outputs": []
    },
    {
      "cell_type": "code",
      "metadata": {
        "id": "6FdC-f_1gfZh"
      },
      "source": [
        "def mat_to_pandas(files, bat_to_keep):\n",
        "    df = pd.DataFrame()\n",
        "    for folder_name, filepaths in files.items():\n",
        "        for filepath in filepaths:\n",
        "            battery_nb = int(\n",
        "                os.path.splitext(os.path.basename(filepath))[0].replace('B', '')\n",
        "            )\n",
        "            charge_nb = 1\n",
        "            discharge_nb = 1\n",
        "\n",
        "            if battery_nb in bat_to_keep:\n",
        "                charge_items, discharge_items, impedance_items = extract_charge_discharge_impedance(filepath)\n",
        "\n",
        "                for charge in charge_items:\n",
        "                    df_charge = extract_charge_items(charge, battery_nb, charge_nb)\n",
        "                    df = df.append(df_charge, ignore_index=True, sort=False)\n",
        "\n",
        "                    charge_nb = charge_nb + 1\n",
        "\n",
        "                for discharge in discharge_items:\n",
        "                    df_discharge = extract_discharge_items(discharge, battery_nb, discharge_nb)\n",
        "                    df = df.append(df_discharge, ignore_index=True, sort=False)\n",
        "\n",
        "                    discharge_nb = discharge_nb + 1\n",
        "    print(\"Datas loaded !\")\n",
        "    return df"
      ],
      "execution_count": null,
      "outputs": []
    },
    {
      "cell_type": "markdown",
      "metadata": {
        "id": "9CI8UaamRkBT"
      },
      "source": [
        "## Chuẩn hóa dữ liệu"
      ]
    },
    {
      "cell_type": "code",
      "metadata": {
        "id": "2Li6m1GegiMK"
      },
      "source": [
        "\n",
        "def get_splitted_datas(df):\n",
        "  \"\"\"cross_validation with 3 cross\"\"\"\n",
        "  reach_cv_threshold = 0.02 # once the charge_voltage reach cv closer to this threshold, we say it reach cv\n",
        "  # thresold_voltage_constant=0.05 # so voi 5 tk phia sau\n",
        "  baterys=df['battery_nb'].astype('category').values.categories\n",
        "  batery={} #dictionary store blocks of \n",
        "\n",
        "  for b in baterys:\n",
        "    index=0\n",
        "    data=df.loc[df['battery_nb']==b]\n",
        "    cycles=data['charge_nb'].astype('category').values.categories # quantity cycles\n",
        "    extract_points=[0.35,  0.52,  0.70,  0.88,  0.90,  0.92,  0.94,  0.96,  0.98,  0.99,  1] \n",
        "    data_batery=[]\n",
        "    cv=4.2\n",
        "    # drop first, last cycle\n",
        "    for i in range(1,len(cycles)-2):\n",
        "      cycle=data.loc[data['charge_nb']==cycles[i]]\n",
        "      data_cycle=[]\n",
        "      \n",
        "      #x2, x3\n",
        "      x2=0\n",
        "      x3=0\n",
        "      k=0 # cv position\n",
        "      for c in range(2,len(cycle)):\n",
        "        if (cycle['voltage_measured'].iloc[c]-cv)**2 < reach_cv_threshold**2:\n",
        "          k=c\n",
        "          break\n",
        "      for c in range(2,len(cycle)):\n",
        "        if c<k:\n",
        "          x2+=cycle['current_measured'].iloc[c]\n",
        "        else:\n",
        "          x3+=cycle['current_measured'].iloc[c]\n",
        "\n",
        "      #x4, x5\n",
        "      x4=cycle.iloc[len(cycle)-1]['voltage_measured']\n",
        "      x5=cycle.iloc[len(cycle)-1]['current_measured']\n",
        "\n",
        "      #capacity\n",
        "      capacity=data.loc[data['discharge_nb']==cycles[i]]['capacity'].iloc[0]\n",
        "      #peak\n",
        "      peak=0\n",
        "      peak_threshold = 1.004\n",
        "      temp_mean = 0\n",
        "      if i>5:\n",
        "        for j in range(5):\n",
        "          temp_mean = temp_mean + data.loc[data['discharge_nb']==cycles[i-j]]['capacity'].iloc[0]\n",
        "        temp_mean=temp_mean/5\n",
        "        if capacity>temp_mean*peak_threshold:\n",
        "          peak=1\n",
        "\n",
        "      # [U, I, T, x2, x3, x4, x5, capacity, peak] x 11\n",
        "      for x in extract_points:\n",
        "        point=[]\n",
        "        point.append(cycle.iloc[int(x*len(cycle))-1]['voltage_measured'])\n",
        "        point.append(cycle.iloc[int(x*len(cycle))-1]['current_measured'])\n",
        "        point.append(cycle.iloc[int(x*len(cycle))-1]['temperature_measured'])\n",
        "        point.append(x2)\n",
        "        point.append(x3)\n",
        "        point.append(x4)\n",
        "        point.append(x5)\n",
        "        point.append(capacity)\n",
        "        point.append(peak)\n",
        "        data_cycle.append(point)\n",
        "      # add info 1 cycle\n",
        "      data_batery.append(data_cycle)\n",
        "    batery[str(b)]=data_batery\n",
        "    return batery"
      ],
      "execution_count": null,
      "outputs": []
    },
    {
      "cell_type": "code",
      "metadata": {
        "id": "PDb7U4AzKXeB"
      },
      "source": [
        ""
      ],
      "execution_count": null,
      "outputs": []
    },
    {
      "cell_type": "code",
      "metadata": {
        "id": "esnuerXKgpuE"
      },
      "source": [
        "def generate_X_Y_peak(X_train): #to move peak to output\n",
        "  n, s, f = X_train.shape\n",
        "  n_cycle = 10\n",
        "  n_next_cycle = 2\n",
        "  n_output_data = 2 # one for soh, one for peak\n",
        "  X = np.zeros((n-n_cycle +1 - n_next_cycle, n_cycle, s, f))\n",
        "  Y = np.zeros((n-n_cycle +1 - n_next_cycle, n_next_cycle, n_output_data))\n",
        "  for i in range(len(X)):\n",
        "    X[i] = X_train[i:i+n_cycle,:,:]\n",
        "    Y[i,0,0] = X_train[i+n_cycle,0,-1]\n",
        "    Y[i,0,1] = X_train[i+n_cycle+1,0,-1]\n",
        "    Y[i,1,0] = X_train[i+n_cycle,0,-2]\n",
        "    Y[i,1,1] = X_train[i+n_cycle+1,0,-2]\n",
        "  return X, Y\n"
      ],
      "execution_count": null,
      "outputs": []
    },
    {
      "cell_type": "code",
      "metadata": {
        "id": "m94wWz48OJPt"
      },
      "source": [
        "def set_labels_Y(trainning_data, validation_data, test_data):\n",
        "  X_train, Y_train=generate_X_Y_peak(trainning_data)\n",
        "  X_val, Y_val=generate_X_Y_peak(validation_data)\n",
        "  X_test, Y_test=generate_X_Y_peak(test_data)\n",
        "  return X_train, Y_train, X_val, Y_val, X_test, Y_test"
      ],
      "execution_count": null,
      "outputs": []
    },
    {
      "cell_type": "code",
      "metadata": {
        "id": "fwie-fUcGGfN"
      },
      "source": [
        "def normalized_col(df):\n",
        "    normalized_col = (df-df.min())/(df.max()-df.min())\n",
        "    return normalized_col\n",
        "\n",
        "def min_max_normalize_data(df):\n",
        "  normalized_df = df.copy()\n",
        "  normalized_df['voltage_measured'] = normalized_col(normalized_df['voltage_measured'])\n",
        "  normalized_df['current_measured'] = normalized_col(normalized_df['current_measured'])\n",
        "  normalized_df['temperature_measured'] = normalized_col(normalized_df['temperature_measured'])\n",
        "  normalized_df['capacity'] = normalized_col(normalized_df['capacity'])\n",
        "  return normalized_df"
      ],
      "execution_count": null,
      "outputs": []
    },
    {
      "cell_type": "code",
      "metadata": {
        "id": "So-YRBV1guKy"
      },
      "source": [
        "def get_data_frame(\n",
        "        folder_to_exclude=['BatteryAgingARC-FY08Q4'],\n",
        "        # batteries_to_keep=[5,6,7,18],\n",
        "        batteries_to_keep=[5],\n",
        "        src_dir=\"/content/drive/MyDrive/Colab_Notebooks\"\n",
        "):\n",
        "    dict_files = build_files(\n",
        "        folder_to_exclude=folder_to_exclude,\n",
        "        src_dir=src_dir\n",
        "    )\n",
        "    df = mat_to_pandas(files=dict_files, bat_to_keep=batteries_to_keep)\n",
        "    normalized_df = min_max_normalize_data(df)\n",
        "    return df, normalized_df"
      ],
      "execution_count": null,
      "outputs": []
    },
    {
      "cell_type": "code",
      "metadata": {
        "colab": {
          "base_uri": "https://localhost:8080/"
        },
        "id": "C2SVn3YUHOkw",
        "outputId": "02c0ef59-9e26-42a3-91af-7f3bd9abde0f"
      },
      "source": [
        "df, normalized_df = get_data_frame()"
      ],
      "execution_count": null,
      "outputs": [
        {
          "output_type": "stream",
          "name": "stdout",
          "text": [
            "Datas loaded !\n"
          ]
        }
      ]
    },
    {
      "cell_type": "code",
      "metadata": {
        "id": "hmVZl-OVHWEW"
      },
      "source": [
        "a=get_splitted_datas(normalized_df)"
      ],
      "execution_count": null,
      "outputs": []
    },
    {
      "cell_type": "code",
      "metadata": {
        "colab": {
          "base_uri": "https://localhost:8080/"
        },
        "id": "SwRWg7_eMQpb",
        "outputId": "cbf334c8-9110-4464-d11e-228a1f303295"
      },
      "source": [
        "print(len(a['5']))#167 cycles\n",
        "print(len(a['5'][0]))# 11 points\n",
        "len(a['5'][0][0])# 9 features"
      ],
      "execution_count": null,
      "outputs": [
        {
          "output_type": "stream",
          "name": "stdout",
          "text": [
            "167\n",
            "11\n"
          ]
        },
        {
          "output_type": "execute_result",
          "data": {
            "text/plain": [
              "9"
            ]
          },
          "metadata": {},
          "execution_count": 61
        }
      ]
    },
    {
      "cell_type": "code",
      "metadata": {
        "colab": {
          "base_uri": "https://localhost:8080/"
        },
        "id": "nrGLDCFXNGYF",
        "outputId": "2b1cf2d4-1e4d-4821-bbd9-7485b2a38331"
      },
      "source": [
        "data_set=np.array(a['5'])\n",
        "data_set.shape"
      ],
      "execution_count": null,
      "outputs": [
        {
          "output_type": "execute_result",
          "data": {
            "text/plain": [
              "(167, 11, 9)"
            ]
          },
          "metadata": {},
          "execution_count": 62
        }
      ]
    },
    {
      "cell_type": "code",
      "metadata": {
        "id": "HrKA_qNxOpOI"
      },
      "source": [
        "X,Y =generate_X_Y_peak(data_set)"
      ],
      "execution_count": null,
      "outputs": []
    },
    {
      "cell_type": "code",
      "metadata": {
        "colab": {
          "base_uri": "https://localhost:8080/"
        },
        "id": "QHdIxhvQOvVX",
        "outputId": "5bff8d02-141e-4880-9659-91af8feb6455"
      },
      "source": [
        "X.shape"
      ],
      "execution_count": null,
      "outputs": [
        {
          "output_type": "execute_result",
          "data": {
            "text/plain": [
              "(156, 10, 11, 9)"
            ]
          },
          "metadata": {},
          "execution_count": 64
        }
      ]
    },
    {
      "cell_type": "code",
      "metadata": {
        "colab": {
          "base_uri": "https://localhost:8080/"
        },
        "id": "Bjnwc7dPOyWC",
        "outputId": "1cc02c68-36ff-4c3c-f502-d6b9d97aed20"
      },
      "source": [
        "Y.shape"
      ],
      "execution_count": null,
      "outputs": [
        {
          "output_type": "execute_result",
          "data": {
            "text/plain": [
              "(156, 2, 2)"
            ]
          },
          "metadata": {},
          "execution_count": 65
        }
      ]
    },
    {
      "cell_type": "code",
      "metadata": {
        "colab": {
          "base_uri": "https://localhost:8080/",
          "height": 265
        },
        "id": "mcAMMlU0O3NY",
        "outputId": "f5c86e55-ba28-4d76-b8cd-d02118c2155c"
      },
      "source": [
        "import matplotlib.pyplot as plt\n",
        "plt.plot(data_set[:,0,5])#capacity pin 5th\n",
        "plt.show()"
      ],
      "execution_count": null,
      "outputs": [
        {
          "output_type": "display_data",
          "data": {
            "image/png": "[encoded data removed]",
            "text/plain": [
              "<Figure size 432x288 with 1 Axes>"
            ]
          },
          "metadata": {
            "needs_background": "light"
          }
        }
      ]
    },
    {
      "cell_type": "code",
      "metadata": {
        "id": "evh2rZjWG6eG"
      },
      "source": [
        "def get_datas(df):\n",
        "    df_training, df_validation, df_test = get_splitted_datas(df)\n",
        "    return  set_labels_Y(df_training, df_validation, df_test)"
      ],
      "execution_count": null,
      "outputs": []
    },
    {
      "cell_type": "code",
      "metadata": {
        "colab": {
          "base_uri": "https://localhost:8080/",
          "height": 161
        },
        "id": "mAQhAewW4Pee",
        "outputId": "01f4ec79-bb11-459c-a8af-65008e84215f"
      },
      "source": [
        "X_train, Y_train, X_val, Y_val, X_test, Y_test=get_datas()"
      ],
      "execution_count": null,
      "outputs": [
        {
          "output_type": "error",
          "ename": "TypeError",
          "evalue": "ignored",
          "traceback": [
            "\u001b[0;31m---------------------------------------------------------------------------\u001b[0m",
            "\u001b[0;31mTypeError\u001b[0m                                 Traceback (most recent call last)",
            "\u001b[0;32m<ipython-input-22-9b2b8040837d>\u001b[0m in \u001b[0;36m<module>\u001b[0;34m()\u001b[0m\n\u001b[0;32m----> 1\u001b[0;31m \u001b[0mX_train\u001b[0m\u001b[0;34m,\u001b[0m \u001b[0mY_train\u001b[0m\u001b[0;34m,\u001b[0m \u001b[0mX_val\u001b[0m\u001b[0;34m,\u001b[0m \u001b[0mY_val\u001b[0m\u001b[0;34m,\u001b[0m \u001b[0mX_test\u001b[0m\u001b[0;34m,\u001b[0m \u001b[0mY_test\u001b[0m\u001b[0;34m=\u001b[0m\u001b[0mget_datas\u001b[0m\u001b[0;34m(\u001b[0m\u001b[0;34m)\u001b[0m\u001b[0;34m\u001b[0m\u001b[0;34m\u001b[0m\u001b[0m\n\u001b[0m",
            "\u001b[0;31mTypeError\u001b[0m: get_datas() missing 1 required positional argument: 'df'"
          ]
        }
      ]
    },
    {
      "cell_type": "markdown",
      "metadata": {
        "id": "FoUdCtm-Rco0"
      },
      "source": [
        "## Build Model"
      ]
    },
    {
      "cell_type": "code",
      "metadata": {
        "id": "n2VfYACyR5Da"
      },
      "source": [
        "import pickle"
      ],
      "execution_count": null,
      "outputs": []
    },
    {
      "cell_type": "code",
      "metadata": {
        "id": "qHAkHL2rR8GW"
      },
      "source": [
        "dat = {}\n",
        "dat[\"X_train\"] = X_train\n",
        "dat[\"Y_train\"] = Y_train\n",
        "dat[\"X_test\"] = X_test\n",
        "dat[\"Y_test\"] = Y_test\n",
        "dat[\"X_val\"] = X_val\n",
        "dat[\"Y_val\"] = Y_val\n",
        "file_path = '/content/drive/MyDrive/Colab_Notebooks/lib_data_conv.pkl'\n",
        "pickle.dump(dat, open(file_path,'wb'))"
      ],
      "execution_count": null,
      "outputs": []
    },
    {
      "cell_type": "code",
      "metadata": {
        "id": "qESrheXZSFDh"
      },
      "source": [
        "# Read the data from the file\n",
        "file_path = '/content/drive/MyDrive/Colab_Notebooks/lib_data_conv.pkl'\n",
        "with open(file_path, 'rb') as fid:\n",
        "     dat = pickle.load(fid)\n",
        "\n",
        "X_train = dat[\"X_train\"]\n",
        "Y_train = dat[\"Y_train\"]\n",
        "X_test = dat[\"X_test\"]\n",
        "Y_test = dat[\"Y_test\"]\n",
        "X_val = dat[\"X_val\"]\n",
        "Y_val = dat[\"Y_val\"]"
      ],
      "execution_count": null,
      "outputs": []
    },
    {
      "cell_type": "code",
      "metadata": {
        "id": "Owb_GN33SMuM"
      },
      "source": [
        "from numpy import array\n",
        "from numpy import hstack\n",
        "from keras.models import Sequential\n",
        "from keras.layers import LSTM, GRU\n",
        "from keras.layers import Dense\n",
        "from keras.layers import RepeatVector, Lambda, Dropout\n",
        "from keras.layers import TimeDistributed\n",
        "from keras.callbacks import ModelCheckpoint\n",
        "from tensorflow.keras.optimizers import SGD\n",
        "from tensorflow.keras.optimizers import Adam\n",
        "from keras.layers import BatchNormalization\n",
        "import tensorflow as tf"
      ],
      "execution_count": null,
      "outputs": []
    },
    {
      "cell_type": "code",
      "metadata": {
        "id": "nc77nYD9SZHP"
      },
      "source": [
        "# Move peak to output\n",
        "\n",
        "from tensorflow.keras import Model\n",
        "import tensorflow as tf\n",
        "from tensorflow.keras import Model\n",
        "from tensorflow.keras.layers import InputLayer, Input, Lambda\n",
        "import tensorflow.keras.backend as K\n",
        "from tensorflow.keras.layers import ConvLSTM2D, TimeDistributed\n",
        "from tensorflow.keras.layers import Flatten, Dense\n",
        "\n",
        "def build_model(input_shape):\n",
        "\t# prepare data\n",
        "\t#train_x, train_y = to_supervised(train, n_input)\n",
        "\t#print(train_x.shape, train_y.shape)\n",
        "  n_cycle, n_step, n_feature = input_shape\n",
        "  print(n_cycle, n_step, n_feature)\n",
        "  inputs = Input(input_shape)\n",
        "\t# define parameters\n",
        "\t#n_timesteps, n_features, n_outputs = train_x.shape[1], train_x.shape[2], train_y.shape[1]\n",
        "\t# reshape into subsequences [samples, time steps, rows, cols, channels]\n",
        "  LSTM_SIZE = 50\n",
        "  print(inputs)\n",
        "  x = Lambda(lambda y: tf.reshape(y, [-1, n_step, n_feature]))(inputs)\n",
        "  print(x)\n",
        "  x = LSTM(LSTM_SIZE, return_sequences = True)(x)\n",
        "  x = LSTM(LSTM_SIZE, return_sequences = True)(x) # the second LSTM\n",
        "  x = Lambda(lambda y: tf.reshape(y, [-1, n_cycle, 1, n_step, LSTM_SIZE]))(x)\n",
        "  x = ConvLSTM2D(filters=32, kernel_size=(1,3), activation='relu', return_sequences=True)(x)\n",
        "\n",
        "  print(\"after convlstm2d\", x)\n",
        "  x = Flatten()(x)\n",
        "  print(\"after flattern\", x)\n",
        " \n",
        "  output_soh = Dense(2)(x)\n",
        "  output_peak = Dense(2)(x)\n",
        "  \n",
        "  l1 = 0.999\n",
        "  l2 = 0.001\n",
        "  model=Model(inputs=inputs, outputs=[output_soh, output_peak])\n",
        "  #model=Model(inputs=inputs, outputs=output_soh)\n",
        "\n",
        "  # model.compile( optimizer='adam', loss=tf.keras.losses.Huber(), metrics=[tf.keras.metrics.RootMeanSquaredError(name='rmse')])\n",
        "\n",
        "\n",
        "  model.compile( optimizer='adam', loss=[tf.keras.losses.Huber(), tf.keras.losses.BinaryCrossentropy()], loss_weights = [l1, l2], metrics=[tf.keras.metrics.RootMeanSquaredError(name='rmse'), tf.keras.metrics.Accuracy(name=\"accuracy\")])\n",
        "\t# fit network\n",
        "  #print(\"Debug \", train_x.shape, train_y.shape)\n",
        "\t#model.fit(train_x, train_y, epochs=epochs, batch_size=batch_size, verbose=verbose)\n",
        "  return model"
      ],
      "execution_count": null,
      "outputs": []
    },
    {
      "cell_type": "code",
      "metadata": {
        "id": "0OEYiMcISbdh"
      },
      "source": [
        "K.clear_session()\n",
        "model = build_model(X_train.shape[1:])\n",
        "model.summary( )\n",
        "history_peak = model.fit(X_train, (Y_train[:,0,:],Y_train[:,1,:]), epochs=200, batch_size=100, verbose=1, validation_split=0.15)"
      ],
      "execution_count": null,
      "outputs": []
    },
    {
      "cell_type": "code",
      "metadata": {
        "id": "EXyZUSIKSdfu"
      },
      "source": [
        "import matplotlib.pyplot as plt\n",
        "\n",
        "plt.plot(history_peak.history['dense_rmse'])\n",
        "plt.plot(history_peak.history['val_dense_rmse'])\n",
        "plt.title(\"Model Loss\")\n",
        "plt.xlabel('Epochs')\n",
        "plt.ylabel('Loss')\n",
        "plt.legend(['Train', 'Valid'])\n",
        "plt.show()"
      ],
      "execution_count": null,
      "outputs": []
    }
  ]
}