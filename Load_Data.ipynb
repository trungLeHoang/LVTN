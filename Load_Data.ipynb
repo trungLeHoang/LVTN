{
  "nbformat": 4,
  "nbformat_minor": 0,
  "metadata": {
    "colab": {
      "name": "Load_Data.ipynb",
      "provenance": [],
      "collapsed_sections": [
        "6h97hlZMz4Sy"
      ],
      "include_colab_link": true
    },
    "kernelspec": {
      "display_name": "Python 3",
      "language": "python",
      "name": "python3"
    },
    "language_info": {
      "codemirror_mode": {
        "name": "ipython",
        "version": 3
      },
      "file_extension": ".py",
      "mimetype": "text/x-python",
      "name": "python",
      "nbconvert_exporter": "python",
      "pygments_lexer": "ipython3",
      "version": "3.6.10"
    }
  },
  "cells": [
    {
      "cell_type": "markdown",
      "metadata": {
        "id": "view-in-github",
        "colab_type": "text"
      },
      "source": [
        "<a href=\"https://colab.research.google.com/github/trungLeHoang/LVTN/blob/main/Load_Data.ipynb\" target=\"_parent\"><img src=\"https://colab.research.google.com/assets/colab-badge.svg\" alt=\"Open In Colab\"/></a>"
      ]
    },
    {
      "cell_type": "code",
      "metadata": {
        "colab": {
          "base_uri": "https://localhost:8080/"
        },
        "id": "PjyuMXgUIjxD",
        "outputId": "72a6bbb1-da0e-402b-e3e6-81a91f5f3c57"
      },
      "source": [
        "from google.colab import drive\n",
        "drive.mount('/content/drive')"
      ],
      "execution_count": null,
      "outputs": [
        {
          "output_type": "stream",
          "name": "stdout",
          "text": [
            "Drive already mounted at /content/drive; to attempt to forcibly remount, call drive.mount(\"/content/drive\", force_remount=True).\n"
          ]
        }
      ]
    },
    {
      "cell_type": "markdown",
      "metadata": {
        "id": "M--pwLuJz8Uq"
      },
      "source": [
        "# Code LVTN dự đoán thời gian sống của pin"
      ]
    },
    {
      "cell_type": "code",
      "metadata": {
        "id": "Td3-00s0d4M1"
      },
      "source": [
        "import pandas as pd\n",
        "import numpy as np\n",
        "import os\n",
        "import random\n",
        "import scipy.io"
      ],
      "execution_count": null,
      "outputs": []
    },
    {
      "cell_type": "markdown",
      "metadata": {
        "id": "6h97hlZMz4Sy"
      },
      "source": [
        "## Define Load Data functions from NASA Dataset"
      ]
    },
    {
      "cell_type": "code",
      "metadata": {
        "id": "BZIIZ46JfySm"
      },
      "source": [
        "def build_files(folder_to_exclude, src_dir=os.getcwd()):\n",
        "    data_folder = os.path.join(src_dir, 'data')\n",
        "    dict_files = {}\n",
        "    for directory in os.listdir(data_folder):\n",
        "        fullpath_dir = os.path.join(data_folder, directory)\n",
        "        if os.path.isdir(fullpath_dir) and directory not in folder_to_exclude:\n",
        "            dict_files[directory] = [os.path.join(fullpath_dir, file) for file\n",
        "                                     in os.listdir(fullpath_dir) if\n",
        "                                     file.endswith('.mat')]\n",
        "\n",
        "    return dict_files"
      ],
      "execution_count": null,
      "outputs": []
    },
    {
      "cell_type": "code",
      "metadata": {
        "id": "VWuZp4ulliVf"
      },
      "source": [
        "def _convert_matlab_datetime_vector_to_utc(date_vector):\n",
        "    \"\"\"Convert matlab datetime format into a UTC format\"\"\"\n",
        "    # f'{val:02}' TODO\n",
        "    string_time = str(int(date_vector[0])) + \"-\" + \\\n",
        "        f'{int(date_vector[1]):02}' + \"-\" + \\\n",
        "        f'{int(date_vector[2]):02}' + \"T\" + \\\n",
        "        f'{int(date_vector[3]):02}' + \":\" + \\\n",
        "        f'{int(date_vector[4]):02}' + \":\" + \\\n",
        "        f'{float(date_vector[5]):06.3f}'\n",
        "\n",
        "    return string_time\n",
        "\n",
        "\n",
        "def _format_temperature(temp):\n",
        "    \"\"\"There are 3 main temparatures, if they are close we want to put them in the same category\"\"\"\n",
        "    # /!\\Disclaimer/!\\ This is completly related to the NASA battery dataset.\n",
        "    if temp < 6:\n",
        "        return 4\n",
        "    elif temp < 26:\n",
        "        return 24\n",
        "    else:\n",
        "        return 43"
      ],
      "execution_count": null,
      "outputs": []
    },
    {
      "cell_type": "code",
      "metadata": {
        "id": "y168j2TXlkn2"
      },
      "source": [
        "def extract_charge_from_item(item):\n",
        "    dict_item = {}\n",
        "\n",
        "    dict_item[\"test_type\"] = item[0][0]  # charge impedence discharge\n",
        "    dict_item[\"ambiant_temp\"] = _format_temperature(item[1][0][0])  # temperature: 4 ~24 ~43\n",
        "    dict_item[\"datetime\"] = _convert_matlab_datetime_vector_to_utc(item[2][0])\n",
        "\n",
        "    dict_item[\"voltage_measured\"] = item[3][0][0][0][0]  # Battery terminal voltage (Volts) floats\n",
        "    dict_item[\"current_measured\"] = item[3][0][0][1][0]  # Battery output current (Amps) floats\n",
        "    dict_item[\"temperature_measured\"] = item[3][0][0][2][0]  # Battery temperature (degree C) floats\n",
        "    dict_item[\"current_charge\"] = item[3][0][0][3][0]  # Current measured at charger (Amps) floats\n",
        "    dict_item[\"voltage_charge\"] = item[3][0][0][4][0]  # Voltage measured at charger (Volts) floats\n",
        "    # MEH\n",
        "    dict_item[\"time\"] = item[3][0][0][5][0]  # Time vector for the cycle (secs) floats\n",
        "\n",
        "    return dict_item\n",
        "\n",
        "\n",
        "def extract_discharge_from_item(item):\n",
        "    dict_item = {}\n",
        "\n",
        "    dict_item[\"test_type\"] = item[0][0]  # charge impedence discharge\n",
        "    dict_item[\"ambiant_temp\"] = _format_temperature(item[1][0][0])  # temperature: 4 ~24 ~43\n",
        "    dict_item[\"datetime\"] = _convert_matlab_datetime_vector_to_utc(item[2][0])\n",
        "\n",
        "    dict_item[\"voltage_measured\"] = item[3][0][0][0][0]  # Battery terminal voltage (Volts) floats\n",
        "    dict_item[\"current_measured\"] = item[3][0][0][1][0]  # Battery output current (Amps) flaots\n",
        "    dict_item[\"temperature_measured\"] = item[3][0][0][2][0]  # Battery temperature (degree C) floats\n",
        "    dict_item[\"current_charge\"] = item[3][0][0][3][0]  # Current measured at charger (Amps) floats\n",
        "    dict_item[\"voltage_charge\"] = item[3][0][0][4][0]  # Voltage measured at charger (Volts) floats\n",
        "    # MEH\n",
        "    dict_item[\"time\"] = item[3][0][0][5][0]  # Time vector for the cycle (secs) floats\n",
        "    dict_item[\"capacity\"] = item[3][0][0][6][0]  # Battery capacity (Ahr) for discharge till 2.7V float_\n",
        "\n",
        "    return dict_item\n",
        "\n",
        "\n",
        "def extract_impedance_from_item(item):\n",
        "    dict_item = {}\n",
        "\n",
        "    dict_item[\"test_type\"] = item[0][0]  # charge impedence discharge\n",
        "    dict_item[\"ambiant_temp\"] = _format_temperature(item[1][0][0])  # temperature: 4 ~24 ~43\n",
        "    dict_item[\"datetime\"] = _convert_matlab_datetime_vector_to_utc(item[2][0])\n",
        "\n",
        "    dict_item[\"sense_current\"] = item[3][0][0][0][0]  # Current in sense branch (Amps)| Complexes\n",
        "    dict_item[\"sense_current_real\"] = np.array([complx.real for complx in dict_item[\"sense_current\"]])\n",
        "    dict_item[\"sense_current_imag\"] = np.array([complx.imag for complx in dict_item[\"sense_current\"]])\n",
        "\n",
        "    dict_item[\"battery_current\"] = item[3][0][0][1][0]  # Current in battery branch (Amps)| Complexes\n",
        "    dict_item[\"battery_current_real\"] = np.array([complx.real for complx in dict_item[\"battery_current\"]])\n",
        "    dict_item[\"battery_current_imag\"] = np.array([complx.imag for complx in dict_item[\"battery_current\"]])\n",
        "\n",
        "    dict_item[\"current_ratio\"] = item[3][0][0][2][0]  # Ratio of the above currents| Complexes\n",
        "    dict_item[\"current_ratio_real\"] = np.array([complx.real for complx in dict_item[\"current_ratio\"]])\n",
        "    dict_item[\"current_ratio_imag\"] = np.array([complx.imag for complx in dict_item[\"current_ratio\"]])\n",
        "\n",
        "    # Battery impedance (Ohms) computed from raw data| Complexes\n",
        "    dict_item[\"battery_impedance\"] = np.array([val[0] for val in item[3][0][0][3]])\n",
        "    dict_item[\"battery_impedance_real\"] = np.array([complx.real for complx in dict_item[\"battery_impedance\"]])\n",
        "    dict_item[\"battery_impedance_imag\"] = np.array([complx.imag for complx in dict_item[\"battery_impedance\"]])\n",
        "\n",
        "    # Calibrated and smoothed battery impedance (Ohms)| Complexes\n",
        "    dict_item[\"rectified_impedance\"] = np.array([val[0] for val in item[3][0][0][4]])\n",
        "    dict_item[\"rectified_impedance_real\"] = np.array([complx.real for complx in dict_item[\"rectified_impedance\"]])\n",
        "    dict_item[\"rectified_impedance_imag\"] = np.array([complx.imag for complx in dict_item[\"rectified_impedance\"]])\n",
        "\n",
        "    dict_item[\"re\"] = item[3][0][0][5][0][0]  # Estimated electrolyte resistance (Ohms)| float_\n",
        "    dict_item[\"rct\"] = item[3][0][0][6][0][0]  # Estimated charge transfer resistance (Ohms)| float_\n",
        "\n",
        "    return dict_item"
      ],
      "execution_count": null,
      "outputs": []
    },
    {
      "cell_type": "code",
      "metadata": {
        "id": "zGhI-vB_lrkg"
      },
      "source": [
        "def _filter_mat(mat, test_type):\n",
        "    \"\"\"Keep only one type (e.g. impedance) from the matlab file\"\"\"\n",
        "    return [x for x in mat if x[0][0] == test_type]\n",
        "\n",
        "\n",
        "def _split_mat(mat):\n",
        "    \"\"\"Split matlab file into charge/discharge/impedance\"\"\"\n",
        "    raw_charge_items = _filter_mat(mat, \"charge\")\n",
        "    raw_discharge_items = _filter_mat(mat, \"discharge\")\n",
        "    raw_impedance_items = _filter_mat(mat, \"impedance\")\n",
        "\n",
        "    return raw_charge_items, raw_discharge_items, raw_impedance_items\n",
        "\n",
        "\n",
        "def _load_mat_file(filepath):\n",
        "    \"\"\"Load the matlab file\"\"\"\n",
        "    filename = os.path.split(filepath)[-1].split(\".\")[0]\n",
        "    raw_mat = scipy.io.loadmat(filepath)\n",
        "    mat = raw_mat[filename][0][0][0][0]\n",
        "\n",
        "    return mat"
      ],
      "execution_count": null,
      "outputs": []
    },
    {
      "cell_type": "code",
      "metadata": {
        "id": "dtomrOedl0du"
      },
      "source": [
        "def extract_charge_discharge_impedance(filepath):\n",
        "    mat = _load_mat_file(filepath)\n",
        "\n",
        "    raw_charge_items, raw_discharge_items, raw_impedance_items = _split_mat(mat)\n",
        "\n",
        "    charge_items = [extract_charge_from_item(raw_charge) for raw_charge in raw_charge_items]\n",
        "    discharge_items = [extract_discharge_from_item(raw_discharge) for raw_discharge in raw_discharge_items]\n",
        "    impedance_items = [extract_impedance_from_item(raw_impedance) for raw_impedance in raw_impedance_items]\n",
        "\n",
        "    return charge_items, discharge_items, impedance_items"
      ],
      "execution_count": null,
      "outputs": []
    },
    {
      "cell_type": "code",
      "metadata": {
        "id": "jLAS7YELf0kg"
      },
      "source": [
        "def extract_charge_items(charge, battery_nb, charge_nb):\n",
        "    df_charge = pd.DataFrame(\n",
        "        columns=['battery_nb', 'datetime', 'charge_nb',\n",
        "                 'voltage_measured', 'current_measured',\n",
        "                 'temperature_measured', 'current_charge',\n",
        "                 'voltage_charge', 'ambiant_temp']\n",
        "    )\n",
        "    df_charge['voltage_measured'] = charge['voltage_measured']\n",
        "    df_charge['current_measured'] = charge['current_measured']\n",
        "    df_charge['temperature_measured'] = charge[\n",
        "        'temperature_measured']\n",
        "    df_charge['current_charge'] = charge['current_charge']\n",
        "    df_charge['voltage_charge'] = charge['voltage_charge']\n",
        "    df_charge['ambiant_temp'] = charge['ambiant_temp']\n",
        "    df_charge['battery_nb'] = [battery_nb] * len(\n",
        "        charge['voltage_measured'])\n",
        "    df_charge['charge_nb'] = [charge_nb] * len(\n",
        "        charge['voltage_measured'])\n",
        "    df_charge['datetime'] = pd.Timestamp(\n",
        "        charge['datetime']) + pd.to_timedelta(charge['time'],\n",
        "                                              unit='s')\n",
        "\n",
        "    return df_charge\n",
        "\n",
        "\n",
        "def extract_discharge_items(discharge, battery_nb, discharge_nb):\n",
        "    df_discharge = pd.DataFrame(\n",
        "        columns=['battery_nb', 'datetime', 'discharge_nb',\n",
        "                 'voltage_measured', 'current_measured',\n",
        "                 'temperature_measured', 'current_charge',\n",
        "                 'voltage_charge', 'capacity', 'ambiant_temp']\n",
        "    )\n",
        "    df_discharge['voltage_measured'] = discharge[\n",
        "        'voltage_measured']\n",
        "    df_discharge['current_measured'] = discharge[\n",
        "        'current_measured']\n",
        "    df_discharge['temperature_measured'] = discharge[\n",
        "        'temperature_measured']\n",
        "    df_discharge['current_charge'] = discharge['current_charge']\n",
        "    df_discharge['voltage_charge'] = discharge['voltage_charge']\n",
        "    df_discharge['capacity'] = discharge['capacity'][0] if len(\n",
        "        discharge['capacity']) > 0 else [np.NaN] * len(\n",
        "        discharge['voltage_measured'])\n",
        "    df_discharge['ambiant_temp'] = discharge['ambiant_temp']\n",
        "    df_discharge['battery_nb'] = [battery_nb] * len(\n",
        "        discharge['voltage_measured'])\n",
        "    df_discharge['discharge_nb'] = [discharge_nb] * len(\n",
        "        discharge['voltage_measured'])\n",
        "    df_discharge['datetime'] = pd.Timestamp(\n",
        "        discharge['datetime']) + pd.to_timedelta(\n",
        "        discharge['time'], unit='s')\n",
        "\n",
        "    return df_discharge"
      ],
      "execution_count": null,
      "outputs": []
    },
    {
      "cell_type": "code",
      "metadata": {
        "id": "6FdC-f_1gfZh"
      },
      "source": [
        "def mat_to_pandas(files, bat_to_keep):\n",
        "    df = pd.DataFrame()\n",
        "    for folder_name, filepaths in files.items():\n",
        "        for filepath in filepaths:\n",
        "            battery_nb = int(\n",
        "                os.path.splitext(os.path.basename(filepath))[0].replace('B', '')\n",
        "            )\n",
        "            charge_nb = 1\n",
        "            discharge_nb = 1\n",
        "\n",
        "            if battery_nb in bat_to_keep:\n",
        "                charge_items, discharge_items, impedance_items = extract_charge_discharge_impedance(filepath)\n",
        "\n",
        "                for charge in charge_items:\n",
        "                    df_charge = extract_charge_items(charge, battery_nb, charge_nb)\n",
        "                    df = df.append(df_charge, ignore_index=True, sort=False)\n",
        "\n",
        "                    charge_nb = charge_nb + 1\n",
        "\n",
        "                for discharge in discharge_items:\n",
        "                    df_discharge = extract_discharge_items(discharge, battery_nb, discharge_nb)\n",
        "                    df = df.append(df_discharge, ignore_index=True, sort=False)\n",
        "\n",
        "                    discharge_nb = discharge_nb + 1\n",
        "    print(\"Datas loaded !\")\n",
        "    return df"
      ],
      "execution_count": null,
      "outputs": []
    },
    {
      "cell_type": "markdown",
      "metadata": {
        "id": "9CI8UaamRkBT"
      },
      "source": [
        "## Chuẩn hóa dữ liệu"
      ]
    },
    {
      "cell_type": "code",
      "metadata": {
        "id": "2Li6m1GegiMK"
      },
      "source": [
        "\n",
        "def get_splitted_datas(df):\n",
        "  \"\"\"cross_validation with 3 cross\"\"\"\n",
        "  reach_cv_threshold = 0.02 # once the charge_voltage reach cv closer to this threshold, we say it reach cv\n",
        "  # thresold_voltage_constant=0.05 # so voi 5 tk phia sau\n",
        "  baterys=df['battery_nb'].astype('category').values.categories\n",
        "  batery={} #dictionary store blocks of \n",
        "  for b in baterys:\n",
        "    index=0\n",
        "    data=df.loc[df['battery_nb']==b]\n",
        "    cycles=data['charge_nb'].astype('category').values.categories # quantity cycles\n",
        "    extract_points=[0.35,  0.52,  0.70,  0.88,  0.90,  0.92,  0.94,  0.96,  0.98,  0.99,  1] \n",
        "    data_batery=[]\n",
        "    cv=4.2\n",
        "    # drop first, last cycle\n",
        "    for i in range(1,len(cycles)-2):\n",
        "      cycle=data.loc[data['charge_nb']==cycles[i]]\n",
        "      data_cycle=[]\n",
        "      \n",
        "      #x2, x3\n",
        "      x2=0\n",
        "      x3=0\n",
        "      k=0 # cv position\n",
        "      for c in range(2,len(cycle)):\n",
        "        if (cycle['voltage_measured'].iloc[c]-cv)**2 < reach_cv_threshold**2:\n",
        "          k=c\n",
        "          break\n",
        "      for c in range(2,len(cycle)):\n",
        "        if c<k:\n",
        "          x2+=cycle['current_measured'].iloc[c]\n",
        "        else:\n",
        "          x3+=cycle['current_measured'].iloc[c]\n",
        "\n",
        "      #x4, x5\n",
        "      x4=cycle.iloc[len(cycle)-1]['voltage_measured']\n",
        "      x5=cycle.iloc[len(cycle)-1]['current_measured']\n",
        "\n",
        "      #capacity\n",
        "      capacity=data.loc[data['discharge_nb']==cycles[i]]['capacity'].iloc[0]\n",
        "      #peak\n",
        "      peak=0\n",
        "      peak_threshold = 1.004\n",
        "      temp_mean = 0\n",
        "      if i>5:\n",
        "        for j in range(5):\n",
        "          temp_mean = temp_mean + data.loc[data['discharge_nb']==cycles[i-j]]['capacity'].iloc[0]\n",
        "        temp_mean=temp_mean/5\n",
        "        if capacity>temp_mean*peak_threshold:\n",
        "          peak=1\n",
        "\n",
        "      # [U, I, T, x2, x3, x4, x5, capacity, peak] x 11\n",
        "      for x in extract_points:\n",
        "        point=[]\n",
        "        point.append(cycle.iloc[int(x*len(cycle))-1]['voltage_measured'])\n",
        "        point.append(cycle.iloc[int(x*len(cycle))-1]['current_measured'])\n",
        "        point.append(cycle.iloc[int(x*len(cycle))-1]['temperature_measured'])\n",
        "        point.append(x2)\n",
        "        point.append(x3)\n",
        "        point.append(x4)\n",
        "        point.append(x5)\n",
        "        point.append(capacity)\n",
        "        point.append(peak)\n",
        "        data_cycle.append(point)\n",
        "      # add info 1 cycle\n",
        "      data_batery.append(data_cycle)\n",
        "    batery[str(b)]=data_batery\n",
        "  return batery"
      ],
      "execution_count": null,
      "outputs": []
    },
    {
      "cell_type": "code",
      "metadata": {
        "id": "esnuerXKgpuE"
      },
      "source": [
        "def generate_X_Y_peak(X_train): #to move peak to output\n",
        "  n, s, f = X_train.shape\n",
        "  n_cycle = 10\n",
        "  n_next_cycle = 2\n",
        "  n_output_data = 2 # one for soh, one for peak\n",
        "  X = np.zeros((n-n_cycle +1 - n_next_cycle, n_cycle, s, f))\n",
        "  Y = np.zeros((n-n_cycle +1 - n_next_cycle, n_next_cycle, n_output_data))\n",
        "  for i in range(len(X)):\n",
        "    X[i] = X_train[i:i+n_cycle,:,:]\n",
        "    Y[i,0,0] = X_train[i+n_cycle,0,-1]\n",
        "    Y[i,0,1] = X_train[i+n_cycle+1,0,-1]\n",
        "    Y[i,1,0] = X_train[i+n_cycle,0,-2]\n",
        "    Y[i,1,1] = X_train[i+n_cycle+1,0,-2]\n",
        "  return X, Y\n"
      ],
      "execution_count": null,
      "outputs": []
    },
    {
      "cell_type": "code",
      "metadata": {
        "id": "fwie-fUcGGfN"
      },
      "source": [
        "def normalized_col(df):\n",
        "    normalized_col = (df-df.min())/(df.max()-df.min())\n",
        "    return normalized_col\n",
        "\n",
        "def min_max_normalize_data(df):\n",
        "  normalized_df = df.copy()\n",
        "  normalized_df['voltage_measured'] = normalized_col(normalized_df['voltage_measured'])\n",
        "  normalized_df['current_measured'] = normalized_col(normalized_df['current_measured'])\n",
        "  normalized_df['temperature_measured'] = normalized_col(normalized_df['temperature_measured'])\n",
        "  normalized_df['capacity'] = normalized_col(normalized_df['capacity'])\n",
        "  return normalized_df"
      ],
      "execution_count": null,
      "outputs": []
    },
    {
      "cell_type": "code",
      "metadata": {
        "id": "So-YRBV1guKy"
      },
      "source": [
        "def get_data_frame(\n",
        "        folder_to_exclude=['BatteryAgingARC-FY08Q4'],\n",
        "        batteries_to_keep=[5,6,7,18],\n",
        "        # batteries_to_keep=[5],\n",
        "        src_dir=\"/content/drive/MyDrive/Colab_Notebooks\"\n",
        "):\n",
        "    dict_files = build_files(\n",
        "        folder_to_exclude=folder_to_exclude,\n",
        "        src_dir=src_dir\n",
        "    )\n",
        "    df = mat_to_pandas(files=dict_files, bat_to_keep=batteries_to_keep)\n",
        "    return df"
      ],
      "execution_count": null,
      "outputs": []
    },
    {
      "cell_type": "code",
      "metadata": {
        "colab": {
          "base_uri": "https://localhost:8080/"
        },
        "id": "C2SVn3YUHOkw",
        "outputId": "cc8e0c3c-71d2-4f4a-a88b-76daea402066"
      },
      "source": [
        "df = get_data_frame()"
      ],
      "execution_count": null,
      "outputs": [
        {
          "output_type": "stream",
          "name": "stdout",
          "text": [
            "Datas loaded !\n"
          ]
        }
      ]
    },
    {
      "cell_type": "code",
      "metadata": {
        "id": "hmVZl-OVHWEW"
      },
      "source": [
        "a=get_splitted_datas(df)"
      ],
      "execution_count": null,
      "outputs": []
    },
    {
      "cell_type": "markdown",
      "metadata": {
        "id": "J2tL73HOKeZP"
      },
      "source": [
        "### Test data output"
      ]
    },
    {
      "cell_type": "code",
      "metadata": {
        "colab": {
          "base_uri": "https://localhost:8080/"
        },
        "id": "SwRWg7_eMQpb",
        "outputId": "37aef9d6-8562-43e6-9410-b60c5b6b7168"
      },
      "source": [
        "print(len(a['5']))#167 cycles\n",
        "print(len(a['5'][0]))# 11 points\n",
        "len(a['5'][0][0])# 9 features"
      ],
      "execution_count": null,
      "outputs": [
        {
          "output_type": "stream",
          "name": "stdout",
          "text": [
            "167\n",
            "11\n"
          ]
        },
        {
          "output_type": "execute_result",
          "data": {
            "text/plain": [
              "9"
            ]
          },
          "metadata": {},
          "execution_count": 307
        }
      ]
    },
    {
      "cell_type": "code",
      "metadata": {
        "colab": {
          "base_uri": "https://localhost:8080/"
        },
        "id": "4_HhSt4gvwdR",
        "outputId": "cf87f656-824d-49da-d663-2a547246cf5f"
      },
      "source": [
        "print(len(a['6']))#167 cycles\n",
        "print(len(a['6'][0]))# 11 points\n",
        "len(a['6'][0][0])# 9 features"
      ],
      "execution_count": null,
      "outputs": [
        {
          "output_type": "stream",
          "name": "stdout",
          "text": [
            "167\n",
            "11\n"
          ]
        },
        {
          "output_type": "execute_result",
          "data": {
            "text/plain": [
              "9"
            ]
          },
          "metadata": {},
          "execution_count": 308
        }
      ]
    },
    {
      "cell_type": "code",
      "metadata": {
        "colab": {
          "base_uri": "https://localhost:8080/"
        },
        "id": "-FtH7er_yjcT",
        "outputId": "0dd38637-005b-413f-befd-9f72ebf72502"
      },
      "source": [
        "print(len(a['7']))#167 cycles\n",
        "print(len(a['7'][0]))# 11 points\n",
        "len(a['7'][0][0])# 9 features"
      ],
      "execution_count": null,
      "outputs": [
        {
          "output_type": "stream",
          "name": "stdout",
          "text": [
            "167\n",
            "11\n"
          ]
        },
        {
          "output_type": "execute_result",
          "data": {
            "text/plain": [
              "9"
            ]
          },
          "metadata": {},
          "execution_count": 309
        }
      ]
    },
    {
      "cell_type": "code",
      "metadata": {
        "colab": {
          "base_uri": "https://localhost:8080/"
        },
        "id": "9AQvmYBTynbO",
        "outputId": "387e3523-e924-43f0-a7b4-feba598f18c1"
      },
      "source": [
        "print(len(a['18']))#167 cycles\n",
        "print(len(a['18'][0]))# 11 points\n",
        "len(a['18'][0][0])# 9 features"
      ],
      "execution_count": null,
      "outputs": [
        {
          "output_type": "stream",
          "name": "stdout",
          "text": [
            "131\n",
            "11\n"
          ]
        },
        {
          "output_type": "execute_result",
          "data": {
            "text/plain": [
              "9"
            ]
          },
          "metadata": {},
          "execution_count": 310
        }
      ]
    },
    {
      "cell_type": "code",
      "metadata": {
        "colab": {
          "base_uri": "https://localhost:8080/"
        },
        "id": "nrGLDCFXNGYF",
        "outputId": "1946601a-08f3-4224-cf0f-28390d750a3e"
      },
      "source": [
        "data_set_5=np.array(a['5'])\n",
        "data_set_5.shape"
      ],
      "execution_count": null,
      "outputs": [
        {
          "output_type": "execute_result",
          "data": {
            "text/plain": [
              "(167, 11, 9)"
            ]
          },
          "metadata": {},
          "execution_count": 311
        }
      ]
    },
    {
      "cell_type": "code",
      "metadata": {
        "colab": {
          "base_uri": "https://localhost:8080/"
        },
        "id": "i4ioK1e41aV9",
        "outputId": "40787b56-0c24-4452-aba1-b9d793dd1251"
      },
      "source": [
        "data_set_6=np.array(a['6'])\n",
        "data_set_6.shape"
      ],
      "execution_count": null,
      "outputs": [
        {
          "output_type": "execute_result",
          "data": {
            "text/plain": [
              "(167, 11, 9)"
            ]
          },
          "metadata": {},
          "execution_count": 312
        }
      ]
    },
    {
      "cell_type": "code",
      "metadata": {
        "colab": {
          "base_uri": "https://localhost:8080/"
        },
        "id": "820C0T8s1brb",
        "outputId": "0b2b754e-8477-4953-d5ff-8d556774b25a"
      },
      "source": [
        "data_set_7=np.array(a['7'])\n",
        "data_set_7.shape"
      ],
      "execution_count": null,
      "outputs": [
        {
          "output_type": "execute_result",
          "data": {
            "text/plain": [
              "(167, 11, 9)"
            ]
          },
          "metadata": {},
          "execution_count": 313
        }
      ]
    },
    {
      "cell_type": "code",
      "metadata": {
        "colab": {
          "base_uri": "https://localhost:8080/"
        },
        "id": "tuLLNsiK1fMM",
        "outputId": "79a0f11c-d40e-421d-d9f5-724e9f51f7ca"
      },
      "source": [
        "data_set_18=np.array(a['18'])\n",
        "data_set_18.shape"
      ],
      "execution_count": null,
      "outputs": [
        {
          "output_type": "execute_result",
          "data": {
            "text/plain": [
              "(131, 11, 9)"
            ]
          },
          "metadata": {},
          "execution_count": 314
        }
      ]
    },
    {
      "cell_type": "code",
      "metadata": {
        "colab": {
          "base_uri": "https://localhost:8080/"
        },
        "id": "k8XyVeaGNDBR",
        "outputId": "57c32840-e8e2-44fb-ff67-fb5b80f39d24"
      },
      "source": [
        "for i in range(len(data_set_18)):\n",
        "  for j in range(len(data_set_18[i])):\n",
        "    for k in range(len(data_set_18[i][j])):\n",
        "      if np.isnan(data_set_18[i][j][k]):\n",
        "        print(i)"
      ],
      "execution_count": null,
      "outputs": [
        {
          "output_type": "stream",
          "name": "stdout",
          "text": [
            "44\n",
            "44\n",
            "44\n",
            "44\n",
            "44\n",
            "44\n",
            "44\n",
            "44\n",
            "44\n",
            "44\n",
            "44\n"
          ]
        }
      ]
    },
    {
      "cell_type": "code",
      "metadata": {
        "id": "llifbwjRWaAI"
      },
      "source": [
        "data_set_18=np.delete(data_set_18,(44),axis=0)"
      ],
      "execution_count": null,
      "outputs": []
    },
    {
      "cell_type": "code",
      "metadata": {
        "colab": {
          "base_uri": "https://localhost:8080/"
        },
        "id": "rrcbBmYopGbs",
        "outputId": "fbad9ced-c2d3-4328-d88d-174da45b65ee"
      },
      "source": [
        "data=data_set_5\n",
        "data=np.concatenate((data, data_set_6), axis=0) \n",
        "data=np.concatenate((data, data_set_7), axis=0)\n",
        "data=np.concatenate((data, data_set_18), axis=0)\n",
        "print(data.shape)"
      ],
      "execution_count": null,
      "outputs": [
        {
          "output_type": "stream",
          "name": "stdout",
          "text": [
            "(631, 11, 9)\n"
          ]
        }
      ]
    },
    {
      "cell_type": "code",
      "metadata": {
        "id": "IslmIHMY7g00",
        "colab": {
          "base_uri": "https://localhost:8080/"
        },
        "outputId": "59b38a67-4c1f-4385-a16b-462f113f5e1e"
      },
      "source": [
        "min_arr = np.array([data[:,:,i].min() for i in range(9)])\n",
        "max_arr = np.array([data[:,:,i].max() for i in range(9)])\n",
        "\n",
        "norm_data = (data-min_arr)/(max_arr-min_arr)\n",
        "print(norm_data.min())\n",
        "print(norm_data.max())"
      ],
      "execution_count": null,
      "outputs": [
        {
          "output_type": "stream",
          "name": "stdout",
          "text": [
            "0.0\n",
            "1.0\n"
          ]
        }
      ]
    },
    {
      "cell_type": "code",
      "metadata": {
        "colab": {
          "base_uri": "https://localhost:8080/"
        },
        "id": "Tat8qCVp8LXs",
        "outputId": "790e3b12-9d8a-473f-b0a2-0a21347d44e8"
      },
      "source": [
        "print(norm_data.shape)"
      ],
      "execution_count": null,
      "outputs": [
        {
          "output_type": "stream",
          "name": "stdout",
          "text": [
            "(631, 11, 9)\n"
          ]
        }
      ]
    },
    {
      "cell_type": "code",
      "metadata": {
        "id": "rrBeNGar8UhE"
      },
      "source": [
        "data_set_5=norm_data[:167]\n",
        "data_set_6=norm_data[167:334]\n",
        "data_set_7=norm_data[334:501]\n",
        "data_set_18=norm_data[501:]"
      ],
      "execution_count": null,
      "outputs": []
    },
    {
      "cell_type": "code",
      "metadata": {
        "colab": {
          "base_uri": "https://localhost:8080/"
        },
        "id": "7PvPtlXA8764",
        "outputId": "23e5578d-f652-4a89-d8cd-a7d4eeaca3da"
      },
      "source": [
        "data_set_5.shape"
      ],
      "execution_count": null,
      "outputs": [
        {
          "output_type": "execute_result",
          "data": {
            "text/plain": [
              "(167, 11, 9)"
            ]
          },
          "metadata": {},
          "execution_count": 338
        }
      ]
    },
    {
      "cell_type": "code",
      "metadata": {
        "colab": {
          "base_uri": "https://localhost:8080/"
        },
        "id": "Z_lvNStp9CL1",
        "outputId": "cb31ff7b-0c3a-455b-cef5-8748c2345925"
      },
      "source": [
        "data_set_6.shape\n"
      ],
      "execution_count": null,
      "outputs": [
        {
          "output_type": "execute_result",
          "data": {
            "text/plain": [
              "(167, 11, 9)"
            ]
          },
          "metadata": {},
          "execution_count": 339
        }
      ]
    },
    {
      "cell_type": "code",
      "metadata": {
        "colab": {
          "base_uri": "https://localhost:8080/"
        },
        "id": "m6woz-289GBw",
        "outputId": "79bd2c0c-a918-4058-d98d-9a6f9d3e8017"
      },
      "source": [
        "data_set_7.shape"
      ],
      "execution_count": null,
      "outputs": [
        {
          "output_type": "execute_result",
          "data": {
            "text/plain": [
              "(167, 11, 9)"
            ]
          },
          "metadata": {},
          "execution_count": 340
        }
      ]
    },
    {
      "cell_type": "code",
      "metadata": {
        "colab": {
          "base_uri": "https://localhost:8080/"
        },
        "id": "Nuz1SHp29II0",
        "outputId": "a08827f6-4654-4b79-ed37-38e29f8a6570"
      },
      "source": [
        "data_set_18.shape"
      ],
      "execution_count": null,
      "outputs": [
        {
          "output_type": "execute_result",
          "data": {
            "text/plain": [
              "(130, 11, 9)"
            ]
          },
          "metadata": {},
          "execution_count": 341
        }
      ]
    },
    {
      "cell_type": "code",
      "metadata": {
        "colab": {
          "base_uri": "https://localhost:8080/"
        },
        "id": "FhHlavmsvqXL",
        "outputId": "00bf7c32-452f-48a9-8e93-5059795ff225"
      },
      "source": [
        "print(data_set_5)"
      ],
      "execution_count": null,
      "outputs": [
        {
          "output_type": "stream",
          "name": "stdout",
          "text": [
            "[[[0.0866254  0.99830394 0.49320198 ... 0.16221221 0.79477964 0.        ]\n",
            "  [0.81613033 0.99824641 0.70752525 ... 0.16221221 0.79477964 0.        ]\n",
            "  [0.96443735 0.18148922 0.40658529 ... 0.16221221 0.79477964 0.        ]\n",
            "  ...\n",
            "  [0.64666974 0.00896523 0.29262571 ... 0.16221221 0.79477964 0.        ]\n",
            "  [0.8867833  0.00698814 0.3169878  ... 0.16221221 0.79477964 0.        ]\n",
            "  [0.89379758 0.00589696 0.3021592  ... 0.16221221 0.79477964 0.        ]]\n",
            "\n",
            " [[0.06997209 0.99515318 0.50898943 ... 0.2490608  0.78218033 0.        ]\n",
            "  [0.80812763 0.99761216 0.71957791 ... 0.2490608  0.78218033 0.        ]\n",
            "  [0.96232893 0.18062968 0.42498616 ... 0.2490608  0.78218033 0.        ]\n",
            "  ...\n",
            "  [0.87458321 0.00677058 0.33702275 ... 0.2490608  0.78218033 0.        ]\n",
            "  [0.88578544 0.00665778 0.31946022 ... 0.2490608  0.78218033 0.        ]\n",
            "  [0.88694485 0.00858707 0.30531758 ... 0.2490608  0.78218033 0.        ]]\n",
            "\n",
            " [[0.06538609 0.9974006  0.50158678 ... 0.18273713 0.78208086 0.        ]\n",
            "  [0.80354736 0.99716191 0.70995183 ... 0.18273713 0.78208086 0.        ]\n",
            "  [0.96091265 0.18092715 0.41608744 ... 0.18273713 0.78208086 0.        ]\n",
            "  ...\n",
            "  [0.86024225 0.00628703 0.32866165 ... 0.18273713 0.78208086 0.        ]\n",
            "  [0.88630825 0.00639978 0.30887697 ... 0.18273713 0.78208086 0.        ]\n",
            "  [0.88965004 0.00653272 0.29578858 ... 0.18273713 0.78208086 0.        ]]\n",
            "\n",
            " ...\n",
            "\n",
            " [[0.96201939 0.27586208 0.47348342 ... 0.10260322 0.15336948 0.        ]\n",
            "  [0.96330061 0.11189398 0.26720842 ... 0.10260322 0.15336948 0.        ]\n",
            "  [0.96172888 0.05403548 0.20270985 ... 0.10260322 0.15336948 0.        ]\n",
            "  ...\n",
            "  [0.94928611 0.00718134 0.17455191 ... 0.10260322 0.15336948 0.        ]\n",
            "  [0.94641651 0.00587484 0.17501081 ... 0.10260322 0.15336948 0.        ]\n",
            "  [0.94417689 0.0040506  0.17602478 ... 0.10260322 0.15336948 0.        ]]\n",
            "\n",
            " [[0.95815055 0.25577918 0.46094482 ... 0.1345027  0.17811676 1.        ]\n",
            "  [0.96247814 0.10447232 0.26525159 ... 0.1345027  0.17811676 1.        ]\n",
            "  [0.96499098 0.05070841 0.20661046 ... 0.1345027  0.17811676 1.        ]\n",
            "  ...\n",
            "  [0.94640332 0.00704706 0.18155379 ... 0.1345027  0.17811676 1.        ]\n",
            "  [0.94238535 0.00692602 0.18041856 ... 0.1345027  0.17811676 1.        ]\n",
            "  [0.9406759  0.00503867 0.18126294 ... 0.1345027  0.17811676 1.        ]]\n",
            "\n",
            " [[0.95675192 0.29329923 0.51269769 ... 0.16898902 0.19655307 1.        ]\n",
            "  [0.96593156 0.12816162 0.29056742 ... 0.16898902 0.19655307 1.        ]\n",
            "  [0.96381243 0.05852242 0.21894271 ... 0.16898902 0.19655307 1.        ]\n",
            "  ...\n",
            "  [0.96740932 0.02905612 0.18598132 ... 0.16898902 0.19655307 1.        ]\n",
            "  [0.96654325 0.02748647 0.18509719 ... 0.16898902 0.19655307 1.        ]\n",
            "  [0.95373147 0.00610687 0.18512741 ... 0.16898902 0.19655307 1.        ]]]\n"
          ]
        }
      ]
    },
    {
      "cell_type": "code",
      "metadata": {
        "id": "HrKA_qNxOpOI"
      },
      "source": [
        "X_5,Y_5 =generate_X_Y_peak(data_set_5)\n",
        "X_6,Y_6 =generate_X_Y_peak(data_set_6)\n",
        "X_7,Y_7 =generate_X_Y_peak(data_set_7)\n",
        "X_18,Y_18 =generate_X_Y_peak(data_set_18)"
      ],
      "execution_count": null,
      "outputs": []
    },
    {
      "cell_type": "code",
      "metadata": {
        "colab": {
          "base_uri": "https://localhost:8080/"
        },
        "id": "QHdIxhvQOvVX",
        "outputId": "27e9f063-dae0-4e26-c259-e23435961210"
      },
      "source": [
        "X_5.shape"
      ],
      "execution_count": null,
      "outputs": [
        {
          "output_type": "execute_result",
          "data": {
            "text/plain": [
              "(156, 10, 11, 9)"
            ]
          },
          "metadata": {},
          "execution_count": 344
        }
      ]
    },
    {
      "cell_type": "code",
      "metadata": {
        "id": "QhIFO2COyuIV",
        "colab": {
          "base_uri": "https://localhost:8080/"
        },
        "outputId": "3e3e11ec-6cc3-4571-8671-1719af91fc49"
      },
      "source": [
        "Y_5.shape"
      ],
      "execution_count": null,
      "outputs": [
        {
          "output_type": "execute_result",
          "data": {
            "text/plain": [
              "(156, 2, 2)"
            ]
          },
          "metadata": {},
          "execution_count": 345
        }
      ]
    },
    {
      "cell_type": "code",
      "metadata": {
        "colab": {
          "base_uri": "https://localhost:8080/"
        },
        "id": "Bjnwc7dPOyWC",
        "outputId": "fd5f86d5-9ad8-4720-b28a-ebb2d98f47db"
      },
      "source": [
        "X_6.shape"
      ],
      "execution_count": null,
      "outputs": [
        {
          "output_type": "execute_result",
          "data": {
            "text/plain": [
              "(156, 10, 11, 9)"
            ]
          },
          "metadata": {},
          "execution_count": 346
        }
      ]
    },
    {
      "cell_type": "code",
      "metadata": {
        "colab": {
          "base_uri": "https://localhost:8080/"
        },
        "id": "tvRNw2kI2Eq4",
        "outputId": "6afd08df-dcb5-4776-d505-961a2883f66d"
      },
      "source": [
        "X_7.shape"
      ],
      "execution_count": null,
      "outputs": [
        {
          "output_type": "execute_result",
          "data": {
            "text/plain": [
              "(156, 10, 11, 9)"
            ]
          },
          "metadata": {},
          "execution_count": 347
        }
      ]
    },
    {
      "cell_type": "code",
      "metadata": {
        "colab": {
          "base_uri": "https://localhost:8080/"
        },
        "id": "VGD22uFo2FmH",
        "outputId": "500ab0e4-5abe-4b19-acc8-8419073ea22a"
      },
      "source": [
        "X_18.shape"
      ],
      "execution_count": null,
      "outputs": [
        {
          "output_type": "execute_result",
          "data": {
            "text/plain": [
              "(119, 10, 11, 9)"
            ]
          },
          "metadata": {},
          "execution_count": 348
        }
      ]
    },
    {
      "cell_type": "code",
      "metadata": {
        "colab": {
          "base_uri": "https://localhost:8080/",
          "height": 296
        },
        "id": "mcAMMlU0O3NY",
        "outputId": "9466e09c-45bf-45cb-a8de-d88f3a5f0b0d"
      },
      "source": [
        "\n",
        "import matplotlib.pyplot as plt\n",
        "plt.plot(data_set_5[:,0,7],label='Pin B0005',color='red')\n",
        "plt.plot(data_set_6[:,0,7],label='Pin B0006',color='green')\n",
        "plt.plot(data_set_7[:,0,7],label='Pin B0007',color='black')\n",
        "plt.plot(data_set_18[:,0,7],label='Pin B0018',color='blue')\n",
        "plt.xlabel('Cycles')\n",
        "plt.yticks([])\n",
        "plt.title('Sự thay đổi dung lượng của từng viên pin theo cycles')\n",
        "plt.legend(loc='best')\n",
        "plt.show()"
      ],
      "execution_count": null,
      "outputs": [
        {
          "output_type": "display_data",
          "data": {
            "image/png": "[encoded data removed]",
            "text/plain": [
              "<Figure size 432x288 with 1 Axes>"
            ]
          },
          "metadata": {
            "needs_background": "light"
          }
        }
      ]
    },
    {
      "cell_type": "markdown",
      "metadata": {
        "id": "qm45Y_UVKlIN"
      },
      "source": [
        "### Cross Validation"
      ]
    },
    {
      "cell_type": "markdown",
      "metadata": {
        "id": "H5wi-w9YIqQt"
      },
      "source": [
        "\n",
        "*   X_train, Y_train\n",
        "*   X_val, Y_val\n",
        "*   X_test, Y_test\n",
        "\n",
        "\n",
        "\n",
        "\n",
        "\n",
        "\n",
        "\n",
        "\n",
        "\n",
        "\n",
        "\n",
        "\n"
      ]
    },
    {
      "cell_type": "code",
      "metadata": {
        "id": "RCpn0Q7G2OKq"
      },
      "source": [
        "cross = [0.2, 0.4, 0.7, 1] \n",
        "first_167=round(cross[0]*X_5.shape[0])\n",
        "second_167=round(cross[1]*X_5.shape[0])\n",
        "third_167=round(cross[2]*X_5.shape[0])\n",
        "\n",
        "first_131=round(cross[0]*X_18.shape[0])\n",
        "second_131=round(cross[1]*X_18.shape[0])\n",
        "third_131=round(cross[2]*X_18.shape[0])\n",
        "#####\n",
        "#                         \"Cross 1\"\n",
        "#####\n",
        "#X_test, Y_test\n",
        "X_test= X_5[:first_167]  \n",
        "X_test=np.concatenate((X_test, X_6[first_167:second_167]), axis=0)     \n",
        "X_test=np.concatenate((X_test, X_7[second_167:third_167]), axis=0)     \n",
        "X_test=np.concatenate((X_test, X_18[third_131:]), axis=0) \n",
        "\n",
        "Y_test= Y_5[:first_167]   \n",
        "Y_test=np.concatenate((Y_test, Y_6[first_167:second_167]), axis=0)  \n",
        "Y_test=np.concatenate((Y_test, Y_7[second_167:third_167]), axis=0) \n",
        "Y_test=np.concatenate((Y_test, Y_18[third_131:]), axis=0)      \n",
        "\n",
        "#X_train, Y_train\n",
        "X_train=X_5[first_167:third_167]                                                                     \n",
        "X_train=np.concatenate((X_train, X_6[:first_167]), axis=0)                              \n",
        "X_train=np.concatenate((X_train, X_6[second_167:third_167]), axis=0)  \n",
        "X_train=np.concatenate((X_train, X_7[:second_167]), axis=0)                        \n",
        "X_train=np.concatenate((X_train, X_18[:second_131]), axis=0)    \n",
        "\n",
        "Y_train=Y_5[first_167:third_167]    \n",
        "Y_train=np.concatenate((Y_train, Y_6[:first_167]), axis=0)                              \n",
        "Y_train=np.concatenate((Y_train, Y_6[second_167:third_167]), axis=0)  \n",
        "Y_train=np.concatenate((Y_train, Y_7[:second_167]), axis=0)                        \n",
        "Y_train=np.concatenate((Y_train, Y_18[:second_131]), axis=0)  \n",
        "\n",
        "#X_val, Y_val\n",
        "X_val=X_5[third_167:]\n",
        "X_val=np.concatenate((X_val, X_6[third_167:]), axis=0)   \n",
        "X_val=np.concatenate((X_val, X_7[third_167:]), axis=0) \n",
        "X_val=np.concatenate((X_val, X_18[second_131:third_131]), axis=0) \n",
        "\n",
        "Y_val=Y_5[third_167:]\n",
        "Y_val=np.concatenate((Y_val, Y_6[third_167:]), axis=0)   \n",
        "Y_val=np.concatenate((Y_val, Y_7[third_167:]), axis=0) \n",
        "Y_val=np.concatenate((Y_val, Y_18[second_131:third_131]), axis=0) \n",
        "\n",
        "#####\n",
        "#                         \"Cross 2\"\n",
        "#####\n",
        "#X_test, Y_test\n",
        "X_test= np.concatenate((X_test, X_5[:first_167]), axis=0) \n",
        "X_test=np.concatenate((X_test, X_6[first_167:second_167]), axis=0)     \n",
        "X_test=np.concatenate((X_test, X_7[second_167:third_167]), axis=0)     \n",
        "X_test=np.concatenate((X_test, X_18[third_131:]), axis=0) \n",
        "\n",
        "Y_test= np.concatenate((Y_test, Y_5[:first_167]), axis=0)   \n",
        "Y_test=np.concatenate((Y_test, Y_6[first_167:second_167]), axis=0)  \n",
        "Y_test=np.concatenate((Y_test, Y_7[second_167:third_167]), axis=0) \n",
        "Y_test=np.concatenate((Y_test, Y_18[third_131:]), axis=0)      \n",
        "\n",
        "#X_train, Y_train\n",
        "X_train=np.concatenate((X_train, X_5[first_167:second_167]), axis=0)                                                                     \n",
        "X_train=np.concatenate((X_train, X_5[third_167:]), axis=0)                              \n",
        "X_train=np.concatenate((X_train, X_6[:first_167]), axis=0) \n",
        "X_train=np.concatenate((X_train, X_6[third_167:]), axis=0)   \n",
        "X_train=np.concatenate((X_train, X_7[:first_167]), axis=0) \n",
        "X_train=np.concatenate((X_train, X_7[third_167:]), axis=0)                         \n",
        "X_train=np.concatenate((X_train, X_18[:first_131]), axis=0)    \n",
        "X_train=np.concatenate((X_train, X_18[second_131:third_131]), axis=0) \n",
        "\n",
        "Y_train=np.concatenate((Y_train, Y_5[first_167:second_167]), axis=0)                                                                     \n",
        "Y_train=np.concatenate((Y_train, Y_5[third_167:]), axis=0)                              \n",
        "Y_train=np.concatenate((Y_train, Y_6[:first_167]), axis=0) \n",
        "Y_train=np.concatenate((Y_train, Y_6[third_167:]), axis=0)   \n",
        "Y_train=np.concatenate((Y_train, Y_7[:first_167]), axis=0) \n",
        "Y_train=np.concatenate((Y_train, Y_7[third_167:]), axis=0)                         \n",
        "Y_train=np.concatenate((Y_train, Y_18[:first_131]), axis=0)    \n",
        "Y_train=np.concatenate((Y_train, Y_18[second_131:third_131]), axis=0)  \n",
        "\n",
        "#X_val, T_val\n",
        "X_val=np.concatenate((X_val, X_5[second_167:third_167]), axis=0)  \n",
        "X_val=np.concatenate((X_val, X_6[second_167:third_167]), axis=0)   \n",
        "X_val=np.concatenate((X_val, X_7[first_167:second_167]), axis=0) \n",
        "X_val=np.concatenate((X_val, X_18[first_131:second_131]), axis=0) \n",
        "\n",
        "Y_val=np.concatenate((Y_val, Y_5[second_167:third_167]), axis=0)  \n",
        "Y_val=np.concatenate((Y_val, Y_6[second_167:third_167]), axis=0)   \n",
        "Y_val=np.concatenate((Y_val, Y_7[first_167:second_167]), axis=0) \n",
        "Y_val=np.concatenate((Y_val, Y_18[first_131:second_131]), axis=0)\n",
        "\n",
        "\n",
        "#####\n",
        "#                         \"Cross 3\"\n",
        "#####\n",
        "#X_test, Y_test\n",
        "X_test= np.concatenate((X_test, X_5[:first_167]), axis=0) \n",
        "X_test=np.concatenate((X_test, X_6[first_167:second_167]), axis=0)     \n",
        "X_test=np.concatenate((X_test, X_7[second_167:third_167]), axis=0)     \n",
        "X_test=np.concatenate((X_test, X_18[third_131:]), axis=0) \n",
        "\n",
        "Y_test= np.concatenate((Y_test, Y_5[:first_167]), axis=0)   \n",
        "Y_test=np.concatenate((Y_test, Y_6[first_167:second_167]), axis=0)  \n",
        "Y_test=np.concatenate((Y_test, Y_7[second_167:third_167]), axis=0) \n",
        "Y_test=np.concatenate((Y_test, Y_18[third_131:]), axis=0)       \n",
        "\n",
        "#X_train, Y_train\n",
        "X_train=np.concatenate((X_train, X_5[second_167:]), axis=0)                                                                    \n",
        "X_train=np.concatenate((X_train, X_6[second_167:]), axis=0)                              \n",
        "X_train=np.concatenate((X_train, X_7[first_167:second_167]), axis=0)  \n",
        "X_train=np.concatenate((X_train, X_7[third_167:]), axis=0)                        \n",
        "X_train=np.concatenate((X_train, X_18[first_131:third_131]), axis=0)    \n",
        "\n",
        "Y_train=np.concatenate((Y_train, Y_5[second_167:]), axis=0)                                                                    \n",
        "Y_train=np.concatenate((Y_train, Y_6[second_167:]), axis=0)                              \n",
        "Y_train=np.concatenate((Y_train, Y_7[first_167:second_167]), axis=0)  \n",
        "Y_train=np.concatenate((Y_train, Y_7[third_167:]), axis=0)                        \n",
        "Y_train=np.concatenate((Y_train, Y_18[first_131:third_131]), axis=0)  \n",
        "\n",
        "#X_val, T_val\n",
        "X_val=np.concatenate((X_val, X_5[first_167:second_167]), axis=0)  \n",
        "X_val=np.concatenate((X_val, X_6[:first_167]), axis=0)   \n",
        "X_val=np.concatenate((X_val, X_7[:first_167]), axis=0) \n",
        "X_val=np.concatenate((X_val, X_18[:first_131]), axis=0) \n",
        "\n",
        "Y_val=np.concatenate((Y_val, Y_5[first_167:second_167]), axis=0)  \n",
        "Y_val=np.concatenate((Y_val, Y_6[:first_167]), axis=0)   \n",
        "Y_val=np.concatenate((Y_val, Y_7[:first_167]), axis=0) \n",
        "Y_val=np.concatenate((Y_val, Y_18[:first_131]), axis=0)  "
      ],
      "execution_count": null,
      "outputs": []
    },
    {
      "cell_type": "code",
      "metadata": {
        "colab": {
          "base_uri": "https://localhost:8080/"
        },
        "id": "afTakI3jImjt",
        "outputId": "d1359f79-e6d9-47d3-a8c1-df2e8dadc7a7"
      },
      "source": [
        "X_train.shape"
      ],
      "execution_count": null,
      "outputs": [
        {
          "output_type": "execute_result",
          "data": {
            "text/plain": [
              "(884, 10, 11, 9)"
            ]
          },
          "metadata": {},
          "execution_count": 351
        }
      ]
    },
    {
      "cell_type": "code",
      "metadata": {
        "colab": {
          "base_uri": "https://localhost:8080/"
        },
        "id": "TPKTX2IIJb26",
        "outputId": "da4f95c1-9073-47d6-cbaa-11bd2c4da2ac"
      },
      "source": [
        "Y_train.shape"
      ],
      "execution_count": null,
      "outputs": [
        {
          "output_type": "execute_result",
          "data": {
            "text/plain": [
              "(884, 2, 2)"
            ]
          },
          "metadata": {},
          "execution_count": 352
        }
      ]
    },
    {
      "cell_type": "code",
      "metadata": {
        "colab": {
          "base_uri": "https://localhost:8080/"
        },
        "id": "vgKjH6RXJ4_-",
        "outputId": "d47e58d9-3e7e-464d-9c41-b8711e4e9238"
      },
      "source": [
        "X_val.shape"
      ],
      "execution_count": null,
      "outputs": [
        {
          "output_type": "execute_result",
          "data": {
            "text/plain": [
              "(442, 10, 11, 9)"
            ]
          },
          "metadata": {},
          "execution_count": 353
        }
      ]
    },
    {
      "cell_type": "code",
      "metadata": {
        "colab": {
          "base_uri": "https://localhost:8080/"
        },
        "id": "o0PU4k8BJ7NE",
        "outputId": "df55f5f5-ff6b-452f-8c3a-4eef5d2ab90a"
      },
      "source": [
        "X_test.shape"
      ],
      "execution_count": null,
      "outputs": [
        {
          "output_type": "execute_result",
          "data": {
            "text/plain": [
              "(435, 10, 11, 9)"
            ]
          },
          "metadata": {},
          "execution_count": 354
        }
      ]
    },
    {
      "cell_type": "code",
      "metadata": {
        "id": "mKPOG_H7c0Mj",
        "colab": {
          "base_uri": "https://localhost:8080/"
        },
        "outputId": "da4d3573-5c2a-48e2-ca4e-6fb5e1ed5347"
      },
      "source": [
        "print(Y_test.shape)\n",
        "print(Y_test[:,0,0])"
      ],
      "execution_count": null,
      "outputs": [
        {
          "output_type": "stream",
          "name": "stdout",
          "text": [
            "(435, 2, 2)\n",
            "[0. 0. 0. 0. 0. 0. 0. 0. 1. 1. 1. 0. 0. 0. 0. 0. 0. 0. 0. 1. 1. 0. 0. 0.\n",
            " 0. 0. 0. 0. 0. 0. 0. 0. 1. 0. 0. 0. 1. 1. 1. 0. 0. 0. 0. 0. 0. 0. 0. 0.\n",
            " 0. 0. 0. 0. 0. 0. 0. 0. 0. 0. 0. 0. 0. 0. 0. 0. 0. 0. 0. 0. 0. 0. 0. 0.\n",
            " 0. 0. 0. 0. 0. 0. 1. 1. 0. 0. 0. 0. 0. 0. 0. 0. 0. 0. 0. 0. 1. 0. 0. 0.\n",
            " 0. 0. 0. 0. 0. 0. 0. 0. 0. 0. 0. 0. 1. 0. 0. 0. 0. 0. 0. 0. 0. 0. 0. 1.\n",
            " 1. 1. 0. 0. 0. 0. 0. 0. 0. 0. 0. 0. 0. 0. 1. 1. 1. 0. 0. 0. 0. 0. 0. 0.\n",
            " 0. 0. 0. 0. 0. 0. 0. 0. 0. 1. 1. 1. 0. 0. 0. 0. 0. 0. 0. 0. 1. 1. 0. 0.\n",
            " 0. 0. 0. 0. 0. 0. 0. 0. 0. 1. 0. 0. 0. 1. 1. 1. 0. 0. 0. 0. 0. 0. 0. 0.\n",
            " 0. 0. 0. 0. 0. 0. 0. 0. 0. 0. 0. 0. 0. 0. 0. 0. 0. 0. 0. 0. 0. 0. 0. 0.\n",
            " 0. 0. 0. 0. 0. 0. 0. 1. 1. 0. 0. 0. 0. 0. 0. 0. 0. 0. 0. 0. 0. 1. 0. 0.\n",
            " 0. 0. 0. 0. 0. 0. 0. 0. 0. 0. 0. 0. 0. 1. 0. 0. 0. 0. 0. 0. 0. 0. 0. 0.\n",
            " 1. 1. 1. 0. 0. 0. 0. 0. 0. 0. 0. 0. 0. 0. 0. 1. 1. 1. 0. 0. 0. 0. 0. 0.\n",
            " 0. 0. 0. 0. 0. 0. 0. 0. 0. 0. 1. 1. 1. 0. 0. 0. 0. 0. 0. 0. 0. 1. 1. 0.\n",
            " 0. 0. 0. 0. 0. 0. 0. 0. 0. 0. 1. 0. 0. 0. 1. 1. 1. 0. 0. 0. 0. 0. 0. 0.\n",
            " 0. 0. 0. 0. 0. 0. 0. 0. 0. 0. 0. 0. 0. 0. 0. 0. 0. 0. 0. 0. 0. 0. 0. 0.\n",
            " 0. 0. 0. 0. 0. 0. 0. 0. 1. 1. 0. 0. 0. 0. 0. 0. 0. 0. 0. 0. 0. 0. 1. 0.\n",
            " 0. 0. 0. 0. 0. 0. 0. 0. 0. 0. 0. 0. 0. 0. 1. 0. 0. 0. 0. 0. 0. 0. 0. 0.\n",
            " 0. 1. 1. 1. 0. 0. 0. 0. 0. 0. 0. 0. 0. 0. 0. 0. 1. 1. 1. 0. 0. 0. 0. 0.\n",
            " 0. 0. 0.]\n"
          ]
        }
      ]
    },
    {
      "cell_type": "markdown",
      "metadata": {
        "id": "FoUdCtm-Rco0"
      },
      "source": [
        "## Build Model"
      ]
    },
    {
      "cell_type": "code",
      "metadata": {
        "id": "n2VfYACyR5Da"
      },
      "source": [
        "import pickle"
      ],
      "execution_count": null,
      "outputs": []
    },
    {
      "cell_type": "code",
      "metadata": {
        "id": "qHAkHL2rR8GW"
      },
      "source": [
        "dat = {}\n",
        "dat[\"X_train\"] = X_train\n",
        "dat[\"Y_train\"] = Y_train\n",
        "dat[\"X_test\"] = X_test\n",
        "dat[\"Y_test\"] = Y_test\n",
        "dat[\"X_val\"] = X_val\n",
        "dat[\"Y_val\"] = Y_val\n",
        "file_path = '/content/drive/MyDrive/Colab_Notebooks/lib_data_conv.pkl'\n",
        "pickle.dump(dat, open(file_path,'wb'))"
      ],
      "execution_count": null,
      "outputs": []
    },
    {
      "cell_type": "code",
      "metadata": {
        "id": "qESrheXZSFDh"
      },
      "source": [
        "# Read the data from the file\n",
        "file_path = '/content/drive/MyDrive/Colab_Notebooks/lib_data_conv.pkl'\n",
        "with open(file_path, 'rb') as fid:\n",
        "     dat = pickle.load(fid)\n",
        "\n",
        "X_train = dat[\"X_train\"]\n",
        "Y_train = dat[\"Y_train\"]\n",
        "X_test = dat[\"X_test\"]\n",
        "Y_test = dat[\"Y_test\"]\n",
        "X_val = dat[\"X_val\"]\n",
        "Y_val = dat[\"Y_val\"]"
      ],
      "execution_count": null,
      "outputs": []
    },
    {
      "cell_type": "code",
      "metadata": {
        "id": "Owb_GN33SMuM"
      },
      "source": [
        "from numpy import array\n",
        "from numpy import hstack\n",
        "from keras.models import Sequential\n",
        "from keras.layers import LSTM, GRU\n",
        "from keras.layers import Dense\n",
        "from keras.layers import RepeatVector, Lambda, Dropout\n",
        "from keras.layers import TimeDistributed\n",
        "from keras.callbacks import ModelCheckpoint\n",
        "from tensorflow.keras.optimizers import SGD\n",
        "from tensorflow.keras.optimizers import Adam\n",
        "from keras.layers import BatchNormalization\n",
        "import tensorflow as tf"
      ],
      "execution_count": null,
      "outputs": []
    },
    {
      "cell_type": "code",
      "metadata": {
        "id": "nc77nYD9SZHP"
      },
      "source": [
        "# Move peak to output\n",
        "\n",
        "from tensorflow.keras import Model\n",
        "import tensorflow as tf\n",
        "from tensorflow.keras import Model\n",
        "from tensorflow.keras.layers import InputLayer, Input, Lambda\n",
        "import tensorflow.keras.backend as K\n",
        "from tensorflow.keras.layers import ConvLSTM2D, TimeDistributed\n",
        "from tensorflow.keras.layers import Flatten, Dense\n",
        "\n",
        "def build_model(input_shape):\n",
        "\t# prepare data\n",
        "\t#train_x, train_y = to_supervised(train, n_input)\n",
        "\t#print(train_x.shape, train_y.shape)\n",
        "  n_cycle, n_step, n_feature = input_shape\n",
        "  print(n_cycle, n_step, n_feature)\n",
        "  inputs = Input(input_shape)\n",
        "\t# define parameters\n",
        "\t#n_timesteps, n_features, n_outputs = train_x.shape[1], train_x.shape[2], train_y.shape[1]\n",
        "\t# reshape into subsequences [samples, time steps, rows, cols, channels]\n",
        "  LSTM_SIZE = 50\n",
        "  print(inputs)\n",
        "  x = Lambda(lambda y: tf.reshape(y, [-1, n_step, n_feature]))(inputs)\n",
        "  print(x)\n",
        "  x = LSTM(LSTM_SIZE, return_sequences = True)(x)\n",
        "  x = LSTM(LSTM_SIZE, return_sequences = True)(x) # the second LSTM\n",
        "  x = Lambda(lambda y: tf.reshape(y, [-1, n_cycle, 1, n_step, LSTM_SIZE]))(x)\n",
        "  x = ConvLSTM2D(filters=32, kernel_size=(1,3), activation='relu', return_sequences=True)(x)\n",
        "\n",
        "  print(\"after convlstm2d\", x)\n",
        "  x = Flatten()(x)\n",
        "  print(\"after flattern\", x)\n",
        " \n",
        "  output_soh = Dense(2)(x)\n",
        "  output_peak = Dense(2)(x)\n",
        "  \n",
        "  l1 = 0.999\n",
        "  l2 = 0.001\n",
        "  model=Model(inputs=inputs, outputs=[output_soh, output_peak])\n",
        "  #model=Model(inputs=inputs, outputs=output_soh)\n",
        "\n",
        "  # model.compile( optimizer='adam', loss=tf.keras.losses.Huber(), metrics=[tf.keras.metrics.RootMeanSquaredError(name='rmse')])\n",
        "\n",
        "\n",
        "  model.compile( optimizer='adam', loss=[tf.keras.losses.Huber(), tf.keras.losses.BinaryCrossentropy()], loss_weights = [l1, l2], metrics=[tf.keras.metrics.RootMeanSquaredError(name='rmse'), tf.keras.metrics.Accuracy(name=\"accuracy\")])\n",
        "\t# fit network\n",
        "  #print(\"Debug \", train_x.shape, train_y.shape)\n",
        "\t#model.fit(train_x, train_y, epochs=epochs, batch_size=batch_size, verbose=verbose)\n",
        "  return model"
      ],
      "execution_count": null,
      "outputs": []
    },
    {
      "cell_type": "code",
      "metadata": {
        "id": "0OEYiMcISbdh",
        "colab": {
          "base_uri": "https://localhost:8080/"
        },
        "outputId": "8e25b230-b2b3-49d9-8a47-e4a7faf8a0c1"
      },
      "source": [
        "K.clear_session()\n",
        "model = build_model(X_train.shape[1:])\n",
        "model.summary( )\n",
        "history_peak = model.fit(X_train, (Y_train[:,0,:],Y_train[:,1,:]), epochs=400, batch_size=100, verbose=1, validation_split=0.15)"
      ],
      "execution_count": null,
      "outputs": [
        {
          "output_type": "stream",
          "name": "stdout",
          "text": [
            "10 11 9\n",
            "KerasTensor(type_spec=TensorSpec(shape=(None, 10, 11, 9), dtype=tf.float32, name='input_1'), name='input_1', description=\"created by layer 'input_1'\")\n",
            "KerasTensor(type_spec=TensorSpec(shape=(None, 11, 9), dtype=tf.float32, name=None), name='lambda/Reshape:0', description=\"created by layer 'lambda'\")\n",
            "after convlstm2d KerasTensor(type_spec=TensorSpec(shape=(None, 10, 1, 9, 32), dtype=tf.float32, name=None), name='conv_lst_m2d/transpose_1:0', description=\"created by layer 'conv_lst_m2d'\")\n",
            "after flattern KerasTensor(type_spec=TensorSpec(shape=(None, 2880), dtype=tf.float32, name=None), name='flatten/Reshape:0', description=\"created by layer 'flatten'\")\n",
            "Model: \"model\"\n",
            "__________________________________________________________________________________________________\n",
            "Layer (type)                    Output Shape         Param #     Connected to                     \n",
            "==================================================================================================\n",
            "input_1 (InputLayer)            [(None, 10, 11, 9)]  0                                            \n",
            "__________________________________________________________________________________________________\n",
            "lambda (Lambda)                 (None, 11, 9)        0           input_1[0][0]                    \n",
            "__________________________________________________________________________________________________\n",
            "lstm (LSTM)                     (None, 11, 50)       12000       lambda[0][0]                     \n",
            "__________________________________________________________________________________________________\n",
            "lstm_1 (LSTM)                   (None, 11, 50)       20200       lstm[0][0]                       \n",
            "__________________________________________________________________________________________________\n",
            "lambda_1 (Lambda)               (None, 10, 1, 11, 50 0           lstm_1[0][0]                     \n",
            "__________________________________________________________________________________________________\n",
            "conv_lst_m2d (ConvLSTM2D)       (None, 10, 1, 9, 32) 31616       lambda_1[0][0]                   \n",
            "__________________________________________________________________________________________________\n",
            "flatten (Flatten)               (None, 2880)         0           conv_lst_m2d[0][0]               \n",
            "__________________________________________________________________________________________________\n",
            "dense (Dense)                   (None, 2)            5762        flatten[0][0]                    \n",
            "__________________________________________________________________________________________________\n",
            "dense_1 (Dense)                 (None, 2)            5762        flatten[0][0]                    \n",
            "==================================================================================================\n",
            "Total params: 75,340\n",
            "Trainable params: 75,340\n",
            "Non-trainable params: 0\n",
            "__________________________________________________________________________________________________\n",
            "Epoch 1/400\n",
            "8/8 [==============================] - 7s 293ms/step - loss: 0.0513 - dense_loss: 0.0501 - dense_1_loss: 1.2370 - dense_rmse: 0.3167 - dense_accuracy: 0.0000e+00 - dense_1_rmse: 0.3725 - dense_1_accuracy: 0.0000e+00 - val_loss: 0.0564 - val_dense_loss: 0.0557 - val_dense_1_loss: 0.7137 - val_dense_rmse: 0.3338 - val_dense_accuracy: 0.0000e+00 - val_dense_1_rmse: 0.1736 - val_dense_1_accuracy: 0.0000e+00\n",
            "Epoch 2/400\n",
            "8/8 [==============================] - 1s 167ms/step - loss: 0.0496 - dense_loss: 0.0490 - dense_1_loss: 0.6770 - dense_rmse: 0.3130 - dense_accuracy: 0.0000e+00 - dense_1_rmse: 0.2221 - dense_1_accuracy: 0.0000e+00 - val_loss: 0.0576 - val_dense_loss: 0.0570 - val_dense_1_loss: 0.6804 - val_dense_rmse: 0.3375 - val_dense_accuracy: 0.0000e+00 - val_dense_1_rmse: 0.1198 - val_dense_1_accuracy: 0.0000e+00\n",
            "Epoch 3/400\n",
            "8/8 [==============================] - 1s 171ms/step - loss: 0.0493 - dense_loss: 0.0486 - dense_1_loss: 0.6599 - dense_rmse: 0.3119 - dense_accuracy: 0.0000e+00 - dense_1_rmse: 0.2018 - dense_1_accuracy: 0.0000e+00 - val_loss: 0.0553 - val_dense_loss: 0.0547 - val_dense_1_loss: 0.6812 - val_dense_rmse: 0.3308 - val_dense_accuracy: 0.0000e+00 - val_dense_1_rmse: 0.1216 - val_dense_1_accuracy: 0.0000e+00\n",
            "Epoch 4/400\n",
            "8/8 [==============================] - 1s 171ms/step - loss: 0.0480 - dense_loss: 0.0474 - dense_1_loss: 0.6529 - dense_rmse: 0.3078 - dense_accuracy: 0.0000e+00 - dense_1_rmse: 0.1935 - dense_1_accuracy: 0.0000e+00 - val_loss: 0.0538 - val_dense_loss: 0.0532 - val_dense_1_loss: 0.6857 - val_dense_rmse: 0.3261 - val_dense_accuracy: 0.0000e+00 - val_dense_1_rmse: 0.1305 - val_dense_1_accuracy: 0.0000e+00\n",
            "Epoch 5/400\n",
            "8/8 [==============================] - 1s 173ms/step - loss: 0.0471 - dense_loss: 0.0465 - dense_1_loss: 0.6468 - dense_rmse: 0.3050 - dense_accuracy: 0.0000e+00 - dense_1_rmse: 0.1854 - dense_1_accuracy: 0.0000e+00 - val_loss: 0.0532 - val_dense_loss: 0.0526 - val_dense_1_loss: 0.6923 - val_dense_rmse: 0.3243 - val_dense_accuracy: 0.0000e+00 - val_dense_1_rmse: 0.1423 - val_dense_1_accuracy: 0.0000e+00\n",
            "Epoch 6/400\n",
            "8/8 [==============================] - 1s 168ms/step - loss: 0.0465 - dense_loss: 0.0459 - dense_1_loss: 0.6495 - dense_rmse: 0.3030 - dense_accuracy: 0.0000e+00 - dense_1_rmse: 0.1891 - dense_1_accuracy: 0.0000e+00 - val_loss: 0.0529 - val_dense_loss: 0.0523 - val_dense_1_loss: 0.6963 - val_dense_rmse: 0.3234 - val_dense_accuracy: 0.0000e+00 - val_dense_1_rmse: 0.1492 - val_dense_1_accuracy: 0.0000e+00\n",
            "Epoch 7/400\n",
            "8/8 [==============================] - 1s 170ms/step - loss: 0.0450 - dense_loss: 0.0444 - dense_1_loss: 0.6498 - dense_rmse: 0.2979 - dense_accuracy: 0.0000e+00 - dense_1_rmse: 0.1897 - dense_1_accuracy: 0.0000e+00 - val_loss: 0.0533 - val_dense_loss: 0.0526 - val_dense_1_loss: 0.7020 - val_dense_rmse: 0.3245 - val_dense_accuracy: 0.0000e+00 - val_dense_1_rmse: 0.1583 - val_dense_1_accuracy: 0.0000e+00\n",
            "Epoch 8/400\n",
            "8/8 [==============================] - 1s 169ms/step - loss: 0.0436 - dense_loss: 0.0430 - dense_1_loss: 0.6388 - dense_rmse: 0.2934 - dense_accuracy: 0.0000e+00 - dense_1_rmse: 0.1756 - dense_1_accuracy: 0.0000e+00 - val_loss: 0.0500 - val_dense_loss: 0.0493 - val_dense_1_loss: 0.7075 - val_dense_rmse: 0.3140 - val_dense_accuracy: 0.0000e+00 - val_dense_1_rmse: 0.1662 - val_dense_1_accuracy: 0.0000e+00\n",
            "Epoch 9/400\n",
            "8/8 [==============================] - 1s 174ms/step - loss: 0.0425 - dense_loss: 0.0419 - dense_1_loss: 0.6209 - dense_rmse: 0.2896 - dense_accuracy: 0.0000e+00 - dense_1_rmse: 0.1500 - dense_1_accuracy: 0.0000e+00 - val_loss: 0.0483 - val_dense_loss: 0.0476 - val_dense_1_loss: 0.7275 - val_dense_rmse: 0.3086 - val_dense_accuracy: 0.0000e+00 - val_dense_1_rmse: 0.1906 - val_dense_1_accuracy: 0.0000e+00\n",
            "Epoch 10/400\n",
            "8/8 [==============================] - 1s 171ms/step - loss: 0.0416 - dense_loss: 0.0410 - dense_1_loss: 0.6302 - dense_rmse: 0.2865 - dense_accuracy: 0.0000e+00 - dense_1_rmse: 0.1624 - dense_1_accuracy: 0.0000e+00 - val_loss: 0.0478 - val_dense_loss: 0.0472 - val_dense_1_loss: 0.7134 - val_dense_rmse: 0.3071 - val_dense_accuracy: 0.0000e+00 - val_dense_1_rmse: 0.1726 - val_dense_1_accuracy: 0.0000e+00\n",
            "Epoch 11/400\n",
            "8/8 [==============================] - 1s 167ms/step - loss: 0.0410 - dense_loss: 0.0404 - dense_1_loss: 0.6186 - dense_rmse: 0.2843 - dense_accuracy: 0.0000e+00 - dense_1_rmse: 0.1449 - dense_1_accuracy: 0.0000e+00 - val_loss: 0.0503 - val_dense_loss: 0.0496 - val_dense_1_loss: 0.6950 - val_dense_rmse: 0.3150 - val_dense_accuracy: 0.0000e+00 - val_dense_1_rmse: 0.1463 - val_dense_1_accuracy: 0.0000e+00\n",
            "Epoch 12/400\n",
            "8/8 [==============================] - 1s 171ms/step - loss: 0.0414 - dense_loss: 0.0408 - dense_1_loss: 0.6074 - dense_rmse: 0.2857 - dense_accuracy: 0.0000e+00 - dense_1_rmse: 0.1237 - dense_1_accuracy: 0.0000e+00 - val_loss: 0.0464 - val_dense_loss: 0.0458 - val_dense_1_loss: 0.7010 - val_dense_rmse: 0.3025 - val_dense_accuracy: 0.0000e+00 - val_dense_1_rmse: 0.1547 - val_dense_1_accuracy: 0.0000e+00\n",
            "Epoch 13/400\n",
            "8/8 [==============================] - 1s 172ms/step - loss: 0.0396 - dense_loss: 0.0391 - dense_1_loss: 0.6028 - dense_rmse: 0.2795 - dense_accuracy: 0.0000e+00 - dense_1_rmse: 0.1180 - dense_1_accuracy: 0.0000e+00 - val_loss: 0.0523 - val_dense_loss: 0.0517 - val_dense_1_loss: 0.6732 - val_dense_rmse: 0.3216 - val_dense_accuracy: 0.0000e+00 - val_dense_1_rmse: 0.1040 - val_dense_1_accuracy: 0.0000e+00\n",
            "Epoch 14/400\n",
            "8/8 [==============================] - 1s 167ms/step - loss: 0.0416 - dense_loss: 0.0411 - dense_1_loss: 0.5962 - dense_rmse: 0.2866 - dense_accuracy: 0.0000e+00 - dense_1_rmse: 0.1036 - dense_1_accuracy: 0.0000e+00 - val_loss: 0.0494 - val_dense_loss: 0.0487 - val_dense_1_loss: 0.6993 - val_dense_rmse: 0.3122 - val_dense_accuracy: 0.0000e+00 - val_dense_1_rmse: 0.1499 - val_dense_1_accuracy: 0.0000e+00\n",
            "Epoch 15/400\n",
            "8/8 [==============================] - 1s 170ms/step - loss: 0.0400 - dense_loss: 0.0395 - dense_1_loss: 0.6134 - dense_rmse: 0.2809 - dense_accuracy: 0.0000e+00 - dense_1_rmse: 0.1201 - dense_1_accuracy: 0.0000e+00 - val_loss: 0.0471 - val_dense_loss: 0.0465 - val_dense_1_loss: 0.6788 - val_dense_rmse: 0.3050 - val_dense_accuracy: 0.0000e+00 - val_dense_1_rmse: 0.1148 - val_dense_1_accuracy: 0.0000e+00\n",
            "Epoch 16/400\n",
            "8/8 [==============================] - 1s 171ms/step - loss: 0.0394 - dense_loss: 0.0388 - dense_1_loss: 0.6354 - dense_rmse: 0.2784 - dense_accuracy: 0.0000e+00 - dense_1_rmse: 0.1030 - dense_1_accuracy: 0.0000e+00 - val_loss: 0.0448 - val_dense_loss: 0.0442 - val_dense_1_loss: 0.6739 - val_dense_rmse: 0.2973 - val_dense_accuracy: 0.0000e+00 - val_dense_1_rmse: 0.1053 - val_dense_1_accuracy: 0.0000e+00\n",
            "Epoch 17/400\n",
            "8/8 [==============================] - 1s 168ms/step - loss: 0.0384 - dense_loss: 0.0379 - dense_1_loss: 0.6052 - dense_rmse: 0.2752 - dense_accuracy: 0.0000e+00 - dense_1_rmse: 0.0982 - dense_1_accuracy: 0.0000e+00 - val_loss: 0.0445 - val_dense_loss: 0.0439 - val_dense_1_loss: 0.6836 - val_dense_rmse: 0.2962 - val_dense_accuracy: 0.0000e+00 - val_dense_1_rmse: 0.1208 - val_dense_1_accuracy: 0.0000e+00\n",
            "Epoch 18/400\n",
            "8/8 [==============================] - 1s 173ms/step - loss: 0.0383 - dense_loss: 0.0377 - dense_1_loss: 0.6127 - dense_rmse: 0.2746 - dense_accuracy: 0.0000e+00 - dense_1_rmse: 0.1345 - dense_1_accuracy: 0.0000e+00 - val_loss: 0.0448 - val_dense_loss: 0.0442 - val_dense_1_loss: 0.6734 - val_dense_rmse: 0.2973 - val_dense_accuracy: 0.0000e+00 - val_dense_1_rmse: 0.1010 - val_dense_1_accuracy: 0.0000e+00\n",
            "Epoch 19/400\n",
            "8/8 [==============================] - 1s 169ms/step - loss: 0.0372 - dense_loss: 0.0366 - dense_1_loss: 0.5996 - dense_rmse: 0.2706 - dense_accuracy: 0.0000e+00 - dense_1_rmse: 0.1104 - dense_1_accuracy: 0.0000e+00 - val_loss: 0.0456 - val_dense_loss: 0.0450 - val_dense_1_loss: 0.6831 - val_dense_rmse: 0.2999 - val_dense_accuracy: 0.0000e+00 - val_dense_1_rmse: 0.1223 - val_dense_1_accuracy: 0.0000e+00\n",
            "Epoch 20/400\n",
            "8/8 [==============================] - 1s 172ms/step - loss: 0.0366 - dense_loss: 0.0361 - dense_1_loss: 0.6012 - dense_rmse: 0.2686 - dense_accuracy: 0.0000e+00 - dense_1_rmse: 0.0942 - dense_1_accuracy: 0.0000e+00 - val_loss: 0.0438 - val_dense_loss: 0.0431 - val_dense_1_loss: 0.7312 - val_dense_rmse: 0.2935 - val_dense_accuracy: 0.0000e+00 - val_dense_1_rmse: 0.1273 - val_dense_1_accuracy: 0.0000e+00\n",
            "Epoch 21/400\n",
            "8/8 [==============================] - 1s 167ms/step - loss: 0.0370 - dense_loss: 0.0364 - dense_1_loss: 0.6578 - dense_rmse: 0.2697 - dense_accuracy: 0.0000e+00 - dense_1_rmse: 0.1382 - dense_1_accuracy: 0.0000e+00 - val_loss: 0.0441 - val_dense_loss: 0.0434 - val_dense_1_loss: 0.7003 - val_dense_rmse: 0.2946 - val_dense_accuracy: 0.0000e+00 - val_dense_1_rmse: 0.1476 - val_dense_1_accuracy: 0.0000e+00\n",
            "Epoch 22/400\n",
            "8/8 [==============================] - 1s 169ms/step - loss: 0.0363 - dense_loss: 0.0357 - dense_1_loss: 0.6474 - dense_rmse: 0.2673 - dense_accuracy: 0.0000e+00 - dense_1_rmse: 0.1761 - dense_1_accuracy: 0.0000e+00 - val_loss: 0.0432 - val_dense_loss: 0.0426 - val_dense_1_loss: 0.6966 - val_dense_rmse: 0.2918 - val_dense_accuracy: 0.0000e+00 - val_dense_1_rmse: 0.1450 - val_dense_1_accuracy: 0.0000e+00\n",
            "Epoch 23/400\n",
            "8/8 [==============================] - 1s 172ms/step - loss: 0.0363 - dense_loss: 0.0357 - dense_1_loss: 0.6207 - dense_rmse: 0.2671 - dense_accuracy: 0.0000e+00 - dense_1_rmse: 0.1424 - dense_1_accuracy: 0.0000e+00 - val_loss: 0.0439 - val_dense_loss: 0.0433 - val_dense_1_loss: 0.6770 - val_dense_rmse: 0.2941 - val_dense_accuracy: 0.0000e+00 - val_dense_1_rmse: 0.1115 - val_dense_1_accuracy: 0.0000e+00\n",
            "Epoch 24/400\n",
            "8/8 [==============================] - 1s 173ms/step - loss: 0.0363 - dense_loss: 0.0358 - dense_1_loss: 0.6113 - dense_rmse: 0.2674 - dense_accuracy: 0.0000e+00 - dense_1_rmse: 0.1241 - dense_1_accuracy: 0.0000e+00 - val_loss: 0.0432 - val_dense_loss: 0.0426 - val_dense_1_loss: 0.6780 - val_dense_rmse: 0.2919 - val_dense_accuracy: 0.0000e+00 - val_dense_1_rmse: 0.1138 - val_dense_1_accuracy: 0.0000e+00\n",
            "Epoch 25/400\n",
            "8/8 [==============================] - 1s 169ms/step - loss: 0.0357 - dense_loss: 0.0351 - dense_1_loss: 0.6036 - dense_rmse: 0.2649 - dense_accuracy: 0.0000e+00 - dense_1_rmse: 0.1179 - dense_1_accuracy: 0.0000e+00 - val_loss: 0.0429 - val_dense_loss: 0.0423 - val_dense_1_loss: 0.6866 - val_dense_rmse: 0.2907 - val_dense_accuracy: 0.0000e+00 - val_dense_1_rmse: 0.1282 - val_dense_1_accuracy: 0.0000e+00\n",
            "Epoch 26/400\n",
            "8/8 [==============================] - 1s 172ms/step - loss: 0.0355 - dense_loss: 0.0349 - dense_1_loss: 0.6168 - dense_rmse: 0.2643 - dense_accuracy: 0.0000e+00 - dense_1_rmse: 0.1094 - dense_1_accuracy: 0.0000e+00 - val_loss: 0.0423 - val_dense_loss: 0.0417 - val_dense_1_loss: 0.6886 - val_dense_rmse: 0.2887 - val_dense_accuracy: 0.0000e+00 - val_dense_1_rmse: 0.1069 - val_dense_1_accuracy: 0.0000e+00\n",
            "Epoch 27/400\n",
            "8/8 [==============================] - 1s 172ms/step - loss: 0.0354 - dense_loss: 0.0349 - dense_1_loss: 0.6031 - dense_rmse: 0.2640 - dense_accuracy: 0.0000e+00 - dense_1_rmse: 0.0993 - dense_1_accuracy: 0.0000e+00 - val_loss: 0.0428 - val_dense_loss: 0.0422 - val_dense_1_loss: 0.6791 - val_dense_rmse: 0.2904 - val_dense_accuracy: 0.0000e+00 - val_dense_1_rmse: 0.1140 - val_dense_1_accuracy: 0.0000e+00\n",
            "Epoch 28/400\n",
            "8/8 [==============================] - 1s 173ms/step - loss: 0.0350 - dense_loss: 0.0344 - dense_1_loss: 0.6466 - dense_rmse: 0.2623 - dense_accuracy: 0.0000e+00 - dense_1_rmse: 0.1848 - dense_1_accuracy: 0.0000e+00 - val_loss: 0.0420 - val_dense_loss: 0.0413 - val_dense_1_loss: 0.7106 - val_dense_rmse: 0.2874 - val_dense_accuracy: 0.0000e+00 - val_dense_1_rmse: 0.1657 - val_dense_1_accuracy: 0.0000e+00\n",
            "Epoch 29/400\n",
            "8/8 [==============================] - 1s 174ms/step - loss: 0.0344 - dense_loss: 0.0338 - dense_1_loss: 0.6291 - dense_rmse: 0.2601 - dense_accuracy: 0.0000e+00 - dense_1_rmse: 0.1365 - dense_1_accuracy: 0.0000e+00 - val_loss: 0.0405 - val_dense_loss: 0.0399 - val_dense_1_loss: 0.6947 - val_dense_rmse: 0.2824 - val_dense_accuracy: 0.0000e+00 - val_dense_1_rmse: 0.1448 - val_dense_1_accuracy: 0.0000e+00\n",
            "Epoch 30/400\n",
            "8/8 [==============================] - 1s 167ms/step - loss: 0.0341 - dense_loss: 0.0335 - dense_1_loss: 0.6246 - dense_rmse: 0.2588 - dense_accuracy: 0.0000e+00 - dense_1_rmse: 0.1135 - dense_1_accuracy: 0.0000e+00 - val_loss: 0.0407 - val_dense_loss: 0.0401 - val_dense_1_loss: 0.6826 - val_dense_rmse: 0.2831 - val_dense_accuracy: 0.0000e+00 - val_dense_1_rmse: 0.1213 - val_dense_1_accuracy: 0.0000e+00\n",
            "Epoch 31/400\n",
            "8/8 [==============================] - 1s 171ms/step - loss: 0.0332 - dense_loss: 0.0326 - dense_1_loss: 0.6310 - dense_rmse: 0.2553 - dense_accuracy: 0.0000e+00 - dense_1_rmse: 0.1655 - dense_1_accuracy: 0.0000e+00 - val_loss: 0.0400 - val_dense_loss: 0.0393 - val_dense_1_loss: 0.6798 - val_dense_rmse: 0.2805 - val_dense_accuracy: 0.0000e+00 - val_dense_1_rmse: 0.1141 - val_dense_1_accuracy: 0.0000e+00\n",
            "Epoch 32/400\n",
            "8/8 [==============================] - 1s 169ms/step - loss: 0.0330 - dense_loss: 0.0323 - dense_1_loss: 0.6433 - dense_rmse: 0.2544 - dense_accuracy: 0.0000e+00 - dense_1_rmse: 0.1484 - dense_1_accuracy: 0.0000e+00 - val_loss: 0.0396 - val_dense_loss: 0.0389 - val_dense_1_loss: 0.7406 - val_dense_rmse: 0.2789 - val_dense_accuracy: 0.0000e+00 - val_dense_1_rmse: 0.1329 - val_dense_1_accuracy: 0.0000e+00\n",
            "Epoch 33/400\n",
            "8/8 [==============================] - 1s 167ms/step - loss: 0.0332 - dense_loss: 0.0326 - dense_1_loss: 0.6277 - dense_rmse: 0.2552 - dense_accuracy: 0.0000e+00 - dense_1_rmse: 0.1163 - dense_1_accuracy: 0.0000e+00 - val_loss: 0.0392 - val_dense_loss: 0.0386 - val_dense_1_loss: 0.6851 - val_dense_rmse: 0.2778 - val_dense_accuracy: 0.0000e+00 - val_dense_1_rmse: 0.1283 - val_dense_1_accuracy: 0.0000e+00\n",
            "Epoch 34/400\n",
            "8/8 [==============================] - 1s 171ms/step - loss: 0.0335 - dense_loss: 0.0329 - dense_1_loss: 0.6109 - dense_rmse: 0.2565 - dense_accuracy: 0.0000e+00 - dense_1_rmse: 0.1241 - dense_1_accuracy: 0.0000e+00 - val_loss: 0.0393 - val_dense_loss: 0.0386 - val_dense_1_loss: 0.6962 - val_dense_rmse: 0.2779 - val_dense_accuracy: 0.0000e+00 - val_dense_1_rmse: 0.1477 - val_dense_1_accuracy: 0.0000e+00\n",
            "Epoch 35/400\n",
            "8/8 [==============================] - 1s 170ms/step - loss: 0.0335 - dense_loss: 0.0329 - dense_1_loss: 0.6067 - dense_rmse: 0.2565 - dense_accuracy: 0.0000e+00 - dense_1_rmse: 0.1270 - dense_1_accuracy: 0.0000e+00 - val_loss: 0.0396 - val_dense_loss: 0.0390 - val_dense_1_loss: 0.6925 - val_dense_rmse: 0.2792 - val_dense_accuracy: 0.0000e+00 - val_dense_1_rmse: 0.1417 - val_dense_1_accuracy: 0.0000e+00\n",
            "Epoch 36/400\n",
            "8/8 [==============================] - 1s 169ms/step - loss: 0.0326 - dense_loss: 0.0321 - dense_1_loss: 0.5969 - dense_rmse: 0.2533 - dense_accuracy: 0.0000e+00 - dense_1_rmse: 0.1030 - dense_1_accuracy: 0.0000e+00 - val_loss: 0.0376 - val_dense_loss: 0.0370 - val_dense_1_loss: 0.6889 - val_dense_rmse: 0.2718 - val_dense_accuracy: 0.0000e+00 - val_dense_1_rmse: 0.1346 - val_dense_1_accuracy: 0.0000e+00\n",
            "Epoch 37/400\n",
            "8/8 [==============================] - 1s 173ms/step - loss: 0.0316 - dense_loss: 0.0310 - dense_1_loss: 0.5919 - dense_rmse: 0.2490 - dense_accuracy: 0.0000e+00 - dense_1_rmse: 0.0964 - dense_1_accuracy: 0.0000e+00 - val_loss: 0.0367 - val_dense_loss: 0.0360 - val_dense_1_loss: 0.6837 - val_dense_rmse: 0.2684 - val_dense_accuracy: 0.0000e+00 - val_dense_1_rmse: 0.1251 - val_dense_1_accuracy: 0.0000e+00\n",
            "Epoch 38/400\n",
            "8/8 [==============================] - 1s 175ms/step - loss: 0.0315 - dense_loss: 0.0309 - dense_1_loss: 0.5946 - dense_rmse: 0.2486 - dense_accuracy: 0.0000e+00 - dense_1_rmse: 0.0998 - dense_1_accuracy: 0.0000e+00 - val_loss: 0.0365 - val_dense_loss: 0.0358 - val_dense_1_loss: 0.6811 - val_dense_rmse: 0.2677 - val_dense_accuracy: 0.0000e+00 - val_dense_1_rmse: 0.1173 - val_dense_1_accuracy: 0.0000e+00\n",
            "Epoch 39/400\n",
            "8/8 [==============================] - 1s 171ms/step - loss: 0.0335 - dense_loss: 0.0329 - dense_1_loss: 0.5942 - dense_rmse: 0.2579 - dense_accuracy: 0.0000e+00 - dense_1_rmse: 0.0993 - dense_1_accuracy: 0.0000e+00 - val_loss: 0.0388 - val_dense_loss: 0.0381 - val_dense_1_loss: 0.7513 - val_dense_rmse: 0.2760 - val_dense_accuracy: 0.0000e+00 - val_dense_1_rmse: 0.1438 - val_dense_1_accuracy: 0.0000e+00\n",
            "Epoch 40/400\n",
            "8/8 [==============================] - 1s 173ms/step - loss: 0.0349 - dense_loss: 0.0343 - dense_1_loss: 0.6439 - dense_rmse: 0.2618 - dense_accuracy: 0.0000e+00 - dense_1_rmse: 0.1590 - dense_1_accuracy: 0.0000e+00 - val_loss: 0.0447 - val_dense_loss: 0.0440 - val_dense_1_loss: 0.7324 - val_dense_rmse: 0.2966 - val_dense_accuracy: 0.0000e+00 - val_dense_1_rmse: 0.1946 - val_dense_1_accuracy: 0.0000e+00\n",
            "Epoch 41/400\n",
            "8/8 [==============================] - 1s 170ms/step - loss: 0.0351 - dense_loss: 0.0345 - dense_1_loss: 0.6378 - dense_rmse: 0.2628 - dense_accuracy: 0.0000e+00 - dense_1_rmse: 0.1623 - dense_1_accuracy: 0.0000e+00 - val_loss: 0.0404 - val_dense_loss: 0.0398 - val_dense_1_loss: 0.7120 - val_dense_rmse: 0.2820 - val_dense_accuracy: 0.0000e+00 - val_dense_1_rmse: 0.1666 - val_dense_1_accuracy: 0.0000e+00\n",
            "Epoch 42/400\n",
            "8/8 [==============================] - 1s 173ms/step - loss: 0.0348 - dense_loss: 0.0342 - dense_1_loss: 0.6611 - dense_rmse: 0.2614 - dense_accuracy: 0.0000e+00 - dense_1_rmse: 0.1901 - dense_1_accuracy: 0.0000e+00 - val_loss: 0.0393 - val_dense_loss: 0.0386 - val_dense_1_loss: 0.7078 - val_dense_rmse: 0.2778 - val_dense_accuracy: 0.0000e+00 - val_dense_1_rmse: 0.1601 - val_dense_1_accuracy: 0.0000e+00\n",
            "Epoch 43/400\n",
            "8/8 [==============================] - 1s 176ms/step - loss: 0.0339 - dense_loss: 0.0333 - dense_1_loss: 0.6412 - dense_rmse: 0.2581 - dense_accuracy: 0.0000e+00 - dense_1_rmse: 0.1785 - dense_1_accuracy: 0.0000e+00 - val_loss: 0.0405 - val_dense_loss: 0.0398 - val_dense_1_loss: 0.6869 - val_dense_rmse: 0.2822 - val_dense_accuracy: 0.0000e+00 - val_dense_1_rmse: 0.1309 - val_dense_1_accuracy: 0.0000e+00\n",
            "Epoch 44/400\n",
            "8/8 [==============================] - 1s 174ms/step - loss: 0.0342 - dense_loss: 0.0336 - dense_1_loss: 0.6181 - dense_rmse: 0.2594 - dense_accuracy: 0.0000e+00 - dense_1_rmse: 0.1417 - dense_1_accuracy: 0.0000e+00 - val_loss: 0.0436 - val_dense_loss: 0.0429 - val_dense_1_loss: 0.6949 - val_dense_rmse: 0.2930 - val_dense_accuracy: 0.0000e+00 - val_dense_1_rmse: 0.1391 - val_dense_1_accuracy: 0.0000e+00\n",
            "Epoch 45/400\n",
            "8/8 [==============================] - 1s 175ms/step - loss: 0.0332 - dense_loss: 0.0326 - dense_1_loss: 0.6140 - dense_rmse: 0.2555 - dense_accuracy: 0.0000e+00 - dense_1_rmse: 0.1205 - dense_1_accuracy: 0.0000e+00 - val_loss: 0.0389 - val_dense_loss: 0.0382 - val_dense_1_loss: 0.6774 - val_dense_rmse: 0.2766 - val_dense_accuracy: 0.0000e+00 - val_dense_1_rmse: 0.1126 - val_dense_1_accuracy: 0.0000e+00\n",
            "Epoch 46/400\n",
            "8/8 [==============================] - 1s 174ms/step - loss: 0.0316 - dense_loss: 0.0310 - dense_1_loss: 0.6090 - dense_rmse: 0.2490 - dense_accuracy: 0.0000e+00 - dense_1_rmse: 0.1077 - dense_1_accuracy: 0.0000e+00 - val_loss: 0.0395 - val_dense_loss: 0.0388 - val_dense_1_loss: 0.6724 - val_dense_rmse: 0.2786 - val_dense_accuracy: 0.0000e+00 - val_dense_1_rmse: 0.1003 - val_dense_1_accuracy: 0.0000e+00\n",
            "Epoch 47/400\n",
            "8/8 [==============================] - 1s 171ms/step - loss: 0.0319 - dense_loss: 0.0313 - dense_1_loss: 0.6036 - dense_rmse: 0.2503 - dense_accuracy: 0.0000e+00 - dense_1_rmse: 0.1209 - dense_1_accuracy: 0.0000e+00 - val_loss: 0.0393 - val_dense_loss: 0.0387 - val_dense_1_loss: 0.6858 - val_dense_rmse: 0.2781 - val_dense_accuracy: 0.0000e+00 - val_dense_1_rmse: 0.1004 - val_dense_1_accuracy: 0.0000e+00\n",
            "Epoch 48/400\n",
            "8/8 [==============================] - 1s 175ms/step - loss: 0.0313 - dense_loss: 0.0307 - dense_1_loss: 0.6092 - dense_rmse: 0.2480 - dense_accuracy: 0.0000e+00 - dense_1_rmse: 0.1153 - dense_1_accuracy: 0.0000e+00 - val_loss: 0.0377 - val_dense_loss: 0.0370 - val_dense_1_loss: 0.7439 - val_dense_rmse: 0.2722 - val_dense_accuracy: 0.0000e+00 - val_dense_1_rmse: 0.1387 - val_dense_1_accuracy: 0.0000e+00\n",
            "Epoch 49/400\n",
            "8/8 [==============================] - 1s 175ms/step - loss: 0.0307 - dense_loss: 0.0301 - dense_1_loss: 0.6151 - dense_rmse: 0.2454 - dense_accuracy: 0.0000e+00 - dense_1_rmse: 0.1239 - dense_1_accuracy: 0.0000e+00 - val_loss: 0.0372 - val_dense_loss: 0.0365 - val_dense_1_loss: 0.6939 - val_dense_rmse: 0.2703 - val_dense_accuracy: 0.0000e+00 - val_dense_1_rmse: 0.1435 - val_dense_1_accuracy: 0.0000e+00\n",
            "Epoch 50/400\n",
            "8/8 [==============================] - 1s 172ms/step - loss: 0.0295 - dense_loss: 0.0289 - dense_1_loss: 0.6107 - dense_rmse: 0.2406 - dense_accuracy: 0.0000e+00 - dense_1_rmse: 0.1263 - dense_1_accuracy: 0.0000e+00 - val_loss: 0.0352 - val_dense_loss: 0.0346 - val_dense_1_loss: 0.6835 - val_dense_rmse: 0.2630 - val_dense_accuracy: 0.0000e+00 - val_dense_1_rmse: 0.1260 - val_dense_1_accuracy: 0.0000e+00\n",
            "Epoch 51/400\n",
            "8/8 [==============================] - 1s 171ms/step - loss: 0.0299 - dense_loss: 0.0293 - dense_1_loss: 0.6095 - dense_rmse: 0.2420 - dense_accuracy: 0.0000e+00 - dense_1_rmse: 0.1330 - dense_1_accuracy: 0.0000e+00 - val_loss: 0.0357 - val_dense_loss: 0.0351 - val_dense_1_loss: 0.6783 - val_dense_rmse: 0.2650 - val_dense_accuracy: 0.0000e+00 - val_dense_1_rmse: 0.1143 - val_dense_1_accuracy: 0.0000e+00\n",
            "Epoch 52/400\n",
            "8/8 [==============================] - 1s 171ms/step - loss: 0.0279 - dense_loss: 0.0274 - dense_1_loss: 0.6061 - dense_rmse: 0.2339 - dense_accuracy: 0.0000e+00 - dense_1_rmse: 0.1087 - dense_1_accuracy: 0.0000e+00 - val_loss: 0.0349 - val_dense_loss: 0.0342 - val_dense_1_loss: 0.7039 - val_dense_rmse: 0.2617 - val_dense_accuracy: 0.0000e+00 - val_dense_1_rmse: 0.1547 - val_dense_1_accuracy: 0.0000e+00\n",
            "Epoch 53/400\n",
            "8/8 [==============================] - 1s 170ms/step - loss: 0.0279 - dense_loss: 0.0273 - dense_1_loss: 0.6035 - dense_rmse: 0.2336 - dense_accuracy: 0.0000e+00 - dense_1_rmse: 0.1047 - dense_1_accuracy: 0.0000e+00 - val_loss: 0.0340 - val_dense_loss: 0.0333 - val_dense_1_loss: 0.6693 - val_dense_rmse: 0.2582 - val_dense_accuracy: 0.0000e+00 - val_dense_1_rmse: 0.0923 - val_dense_1_accuracy: 0.0000e+00\n",
            "Epoch 54/400\n",
            "8/8 [==============================] - 1s 178ms/step - loss: 0.0278 - dense_loss: 0.0273 - dense_1_loss: 0.6020 - dense_rmse: 0.2335 - dense_accuracy: 0.0000e+00 - dense_1_rmse: 0.1140 - dense_1_accuracy: 0.0000e+00 - val_loss: 0.0342 - val_dense_loss: 0.0335 - val_dense_1_loss: 0.7145 - val_dense_rmse: 0.2589 - val_dense_accuracy: 0.0000e+00 - val_dense_1_rmse: 0.1554 - val_dense_1_accuracy: 0.0000e+00\n",
            "Epoch 55/400\n",
            "8/8 [==============================] - 1s 171ms/step - loss: 0.0272 - dense_loss: 0.0266 - dense_1_loss: 0.6691 - dense_rmse: 0.2307 - dense_accuracy: 0.0000e+00 - dense_1_rmse: 0.1766 - dense_1_accuracy: 0.0000e+00 - val_loss: 0.0353 - val_dense_loss: 0.0344 - val_dense_1_loss: 0.8984 - val_dense_rmse: 0.2624 - val_dense_accuracy: 0.0000e+00 - val_dense_1_rmse: 0.2639 - val_dense_1_accuracy: 0.0000e+00\n",
            "Epoch 56/400\n",
            "8/8 [==============================] - 1s 171ms/step - loss: 0.0286 - dense_loss: 0.0273 - dense_1_loss: 1.2920 - dense_rmse: 0.2337 - dense_accuracy: 0.0000e+00 - dense_1_rmse: 0.3031 - dense_1_accuracy: 0.0000e+00 - val_loss: 0.0351 - val_dense_loss: 0.0337 - val_dense_1_loss: 1.4432 - val_dense_rmse: 0.2597 - val_dense_accuracy: 0.0000e+00 - val_dense_1_rmse: 0.2874 - val_dense_1_accuracy: 0.0000e+00\n",
            "Epoch 57/400\n",
            "8/8 [==============================] - 1s 172ms/step - loss: 0.0278 - dense_loss: 0.0264 - dense_1_loss: 1.4032 - dense_rmse: 0.2297 - dense_accuracy: 0.0000e+00 - dense_1_rmse: 0.3107 - dense_1_accuracy: 0.0000e+00 - val_loss: 0.0349 - val_dense_loss: 0.0339 - val_dense_1_loss: 1.0231 - val_dense_rmse: 0.2606 - val_dense_accuracy: 0.0000e+00 - val_dense_1_rmse: 0.2563 - val_dense_1_accuracy: 0.0000e+00\n",
            "Epoch 58/400\n",
            "8/8 [==============================] - 1s 175ms/step - loss: 0.0269 - dense_loss: 0.0261 - dense_1_loss: 0.8269 - dense_rmse: 0.2286 - dense_accuracy: 0.0000e+00 - dense_1_rmse: 0.2498 - dense_1_accuracy: 0.0000e+00 - val_loss: 0.0340 - val_dense_loss: 0.0333 - val_dense_1_loss: 0.7357 - val_dense_rmse: 0.2580 - val_dense_accuracy: 0.0000e+00 - val_dense_1_rmse: 0.1830 - val_dense_1_accuracy: 0.0000e+00\n",
            "Epoch 59/400\n",
            "8/8 [==============================] - 1s 173ms/step - loss: 0.0279 - dense_loss: 0.0271 - dense_1_loss: 0.8429 - dense_rmse: 0.2327 - dense_accuracy: 0.0000e+00 - dense_1_rmse: 0.2243 - dense_1_accuracy: 0.0000e+00 - val_loss: 0.0330 - val_dense_loss: 0.0321 - val_dense_1_loss: 0.9973 - val_dense_rmse: 0.2533 - val_dense_accuracy: 0.0000e+00 - val_dense_1_rmse: 0.2362 - val_dense_1_accuracy: 0.0000e+00\n",
            "Epoch 60/400\n",
            "8/8 [==============================] - 1s 171ms/step - loss: 0.0258 - dense_loss: 0.0249 - dense_1_loss: 0.9348 - dense_rmse: 0.2232 - dense_accuracy: 0.0000e+00 - dense_1_rmse: 0.2500 - dense_1_accuracy: 0.0000e+00 - val_loss: 0.0302 - val_dense_loss: 0.0295 - val_dense_1_loss: 0.8037 - val_dense_rmse: 0.2427 - val_dense_accuracy: 0.0000e+00 - val_dense_1_rmse: 0.1719 - val_dense_1_accuracy: 0.0000e+00\n",
            "Epoch 61/400\n",
            "8/8 [==============================] - 1s 172ms/step - loss: 0.0244 - dense_loss: 0.0237 - dense_1_loss: 0.7174 - dense_rmse: 0.2179 - dense_accuracy: 0.0000e+00 - dense_1_rmse: 0.1850 - dense_1_accuracy: 0.0000e+00 - val_loss: 0.0312 - val_dense_loss: 0.0304 - val_dense_1_loss: 0.7847 - val_dense_rmse: 0.2467 - val_dense_accuracy: 0.0000e+00 - val_dense_1_rmse: 0.1994 - val_dense_1_accuracy: 0.0000e+00\n",
            "Epoch 62/400\n",
            "8/8 [==============================] - 1s 175ms/step - loss: 0.0238 - dense_loss: 0.0230 - dense_1_loss: 0.7930 - dense_rmse: 0.2145 - dense_accuracy: 0.0000e+00 - dense_1_rmse: 0.2154 - dense_1_accuracy: 0.0000e+00 - val_loss: 0.0285 - val_dense_loss: 0.0279 - val_dense_1_loss: 0.7183 - val_dense_rmse: 0.2360 - val_dense_accuracy: 0.0000e+00 - val_dense_1_rmse: 0.1580 - val_dense_1_accuracy: 0.0000e+00\n",
            "Epoch 63/400\n",
            "8/8 [==============================] - 1s 171ms/step - loss: 0.0227 - dense_loss: 0.0221 - dense_1_loss: 0.6581 - dense_rmse: 0.2103 - dense_accuracy: 0.0000e+00 - dense_1_rmse: 0.1729 - dense_1_accuracy: 0.0000e+00 - val_loss: 0.0283 - val_dense_loss: 0.0275 - val_dense_1_loss: 0.7852 - val_dense_rmse: 0.2345 - val_dense_accuracy: 0.0000e+00 - val_dense_1_rmse: 0.1590 - val_dense_1_accuracy: 0.0000e+00\n",
            "Epoch 64/400\n",
            "8/8 [==============================] - 1s 173ms/step - loss: 0.0223 - dense_loss: 0.0217 - dense_1_loss: 0.6778 - dense_rmse: 0.2082 - dense_accuracy: 0.0000e+00 - dense_1_rmse: 0.1597 - dense_1_accuracy: 0.0000e+00 - val_loss: 0.0265 - val_dense_loss: 0.0257 - val_dense_1_loss: 0.8370 - val_dense_rmse: 0.2269 - val_dense_accuracy: 0.0000e+00 - val_dense_1_rmse: 0.1682 - val_dense_1_accuracy: 0.0000e+00\n",
            "Epoch 65/400\n",
            "8/8 [==============================] - 1s 173ms/step - loss: 0.0226 - dense_loss: 0.0218 - dense_1_loss: 0.8721 - dense_rmse: 0.2087 - dense_accuracy: 0.0000e+00 - dense_1_rmse: 0.2111 - dense_1_accuracy: 0.0000e+00 - val_loss: 0.0267 - val_dense_loss: 0.0260 - val_dense_1_loss: 0.7630 - val_dense_rmse: 0.2279 - val_dense_accuracy: 0.0000e+00 - val_dense_1_rmse: 0.1414 - val_dense_1_accuracy: 0.0000e+00\n",
            "Epoch 66/400\n",
            "8/8 [==============================] - 1s 174ms/step - loss: 0.0222 - dense_loss: 0.0214 - dense_1_loss: 0.8095 - dense_rmse: 0.2071 - dense_accuracy: 0.0000e+00 - dense_1_rmse: 0.1894 - dense_1_accuracy: 0.0000e+00 - val_loss: 0.0266 - val_dense_loss: 0.0258 - val_dense_1_loss: 0.7634 - val_dense_rmse: 0.2272 - val_dense_accuracy: 0.0000e+00 - val_dense_1_rmse: 0.1402 - val_dense_1_accuracy: 0.0000e+00\n",
            "Epoch 67/400\n",
            "8/8 [==============================] - 1s 173ms/step - loss: 0.0215 - dense_loss: 0.0208 - dense_1_loss: 0.7213 - dense_rmse: 0.2039 - dense_accuracy: 0.0000e+00 - dense_1_rmse: 0.1663 - dense_1_accuracy: 0.0000e+00 - val_loss: 0.0265 - val_dense_loss: 0.0258 - val_dense_1_loss: 0.6904 - val_dense_rmse: 0.2274 - val_dense_accuracy: 0.0000e+00 - val_dense_1_rmse: 0.1370 - val_dense_1_accuracy: 0.0000e+00\n",
            "Epoch 68/400\n",
            "8/8 [==============================] - 1s 173ms/step - loss: 0.0212 - dense_loss: 0.0205 - dense_1_loss: 0.7472 - dense_rmse: 0.2026 - dense_accuracy: 0.0000e+00 - dense_1_rmse: 0.1690 - dense_1_accuracy: 0.0000e+00 - val_loss: 0.0256 - val_dense_loss: 0.0249 - val_dense_1_loss: 0.6881 - val_dense_rmse: 0.2234 - val_dense_accuracy: 0.0000e+00 - val_dense_1_rmse: 0.1227 - val_dense_1_accuracy: 0.0000e+00\n",
            "Epoch 69/400\n",
            "8/8 [==============================] - 1s 172ms/step - loss: 0.0198 - dense_loss: 0.0192 - dense_1_loss: 0.6741 - dense_rmse: 0.1959 - dense_accuracy: 0.0000e+00 - dense_1_rmse: 0.1535 - dense_1_accuracy: 0.0000e+00 - val_loss: 0.0257 - val_dense_loss: 0.0250 - val_dense_1_loss: 0.6795 - val_dense_rmse: 0.2238 - val_dense_accuracy: 0.0000e+00 - val_dense_1_rmse: 0.1159 - val_dense_1_accuracy: 0.0000e+00\n",
            "Epoch 70/400\n",
            "8/8 [==============================] - 1s 174ms/step - loss: 0.0196 - dense_loss: 0.0190 - dense_1_loss: 0.6634 - dense_rmse: 0.1950 - dense_accuracy: 0.0000e+00 - dense_1_rmse: 0.1413 - dense_1_accuracy: 0.0000e+00 - val_loss: 0.0234 - val_dense_loss: 0.0228 - val_dense_1_loss: 0.6896 - val_dense_rmse: 0.2134 - val_dense_accuracy: 0.0000e+00 - val_dense_1_rmse: 0.1294 - val_dense_1_accuracy: 0.0000e+00\n",
            "Epoch 71/400\n",
            "8/8 [==============================] - 1s 176ms/step - loss: 0.0194 - dense_loss: 0.0188 - dense_1_loss: 0.6329 - dense_rmse: 0.1940 - dense_accuracy: 0.0000e+00 - dense_1_rmse: 0.1423 - dense_1_accuracy: 0.0000e+00 - val_loss: 0.0254 - val_dense_loss: 0.0248 - val_dense_1_loss: 0.6799 - val_dense_rmse: 0.2227 - val_dense_accuracy: 0.0000e+00 - val_dense_1_rmse: 0.1122 - val_dense_1_accuracy: 0.0000e+00\n",
            "Epoch 72/400\n",
            "8/8 [==============================] - 1s 172ms/step - loss: 0.0201 - dense_loss: 0.0195 - dense_1_loss: 0.6161 - dense_rmse: 0.1974 - dense_accuracy: 0.0000e+00 - dense_1_rmse: 0.1284 - dense_1_accuracy: 0.0000e+00 - val_loss: 0.0264 - val_dense_loss: 0.0258 - val_dense_1_loss: 0.6837 - val_dense_rmse: 0.2270 - val_dense_accuracy: 0.0000e+00 - val_dense_1_rmse: 0.1239 - val_dense_1_accuracy: 0.0000e+00\n",
            "Epoch 73/400\n",
            "8/8 [==============================] - 1s 177ms/step - loss: 0.0184 - dense_loss: 0.0178 - dense_1_loss: 0.6305 - dense_rmse: 0.1888 - dense_accuracy: 0.0000e+00 - dense_1_rmse: 0.1259 - dense_1_accuracy: 0.0000e+00 - val_loss: 0.0226 - val_dense_loss: 0.0219 - val_dense_1_loss: 0.7300 - val_dense_rmse: 0.2093 - val_dense_accuracy: 0.0000e+00 - val_dense_1_rmse: 0.1541 - val_dense_1_accuracy: 0.0000e+00\n",
            "Epoch 74/400\n",
            "8/8 [==============================] - 1s 173ms/step - loss: 0.0181 - dense_loss: 0.0175 - dense_1_loss: 0.6283 - dense_rmse: 0.1869 - dense_accuracy: 0.0000e+00 - dense_1_rmse: 0.1514 - dense_1_accuracy: 0.0000e+00 - val_loss: 0.0224 - val_dense_loss: 0.0218 - val_dense_1_loss: 0.6921 - val_dense_rmse: 0.2087 - val_dense_accuracy: 0.0000e+00 - val_dense_1_rmse: 0.1319 - val_dense_1_accuracy: 0.0000e+00\n",
            "Epoch 75/400\n",
            "8/8 [==============================] - 1s 172ms/step - loss: 0.0167 - dense_loss: 0.0161 - dense_1_loss: 0.6086 - dense_rmse: 0.1794 - dense_accuracy: 0.0000e+00 - dense_1_rmse: 0.1228 - dense_1_accuracy: 0.0000e+00 - val_loss: 0.0226 - val_dense_loss: 0.0219 - val_dense_1_loss: 0.6764 - val_dense_rmse: 0.2094 - val_dense_accuracy: 0.0000e+00 - val_dense_1_rmse: 0.1059 - val_dense_1_accuracy: 0.0000e+00\n",
            "Epoch 76/400\n",
            "8/8 [==============================] - 1s 176ms/step - loss: 0.0177 - dense_loss: 0.0171 - dense_1_loss: 0.6179 - dense_rmse: 0.1848 - dense_accuracy: 0.0000e+00 - dense_1_rmse: 0.1209 - dense_1_accuracy: 0.0000e+00 - val_loss: 0.0226 - val_dense_loss: 0.0220 - val_dense_1_loss: 0.6737 - val_dense_rmse: 0.2097 - val_dense_accuracy: 0.0000e+00 - val_dense_1_rmse: 0.1021 - val_dense_1_accuracy: 0.0000e+00\n",
            "Epoch 77/400\n",
            "8/8 [==============================] - 1s 175ms/step - loss: 0.0183 - dense_loss: 0.0177 - dense_1_loss: 0.6051 - dense_rmse: 0.1881 - dense_accuracy: 0.0000e+00 - dense_1_rmse: 0.1229 - dense_1_accuracy: 0.0000e+00 - val_loss: 0.0217 - val_dense_loss: 0.0211 - val_dense_1_loss: 0.6831 - val_dense_rmse: 0.2053 - val_dense_accuracy: 0.0000e+00 - val_dense_1_rmse: 0.1225 - val_dense_1_accuracy: 0.0000e+00\n",
            "Epoch 78/400\n",
            "8/8 [==============================] - 1s 173ms/step - loss: 0.0173 - dense_loss: 0.0167 - dense_1_loss: 0.6045 - dense_rmse: 0.1829 - dense_accuracy: 0.0000e+00 - dense_1_rmse: 0.1138 - dense_1_accuracy: 0.0000e+00 - val_loss: 0.0211 - val_dense_loss: 0.0205 - val_dense_1_loss: 0.6812 - val_dense_rmse: 0.2024 - val_dense_accuracy: 0.0000e+00 - val_dense_1_rmse: 0.1153 - val_dense_1_accuracy: 0.0000e+00\n",
            "Epoch 79/400\n",
            "8/8 [==============================] - 1s 174ms/step - loss: 0.0167 - dense_loss: 0.0161 - dense_1_loss: 0.5966 - dense_rmse: 0.1795 - dense_accuracy: 0.0000e+00 - dense_1_rmse: 0.0977 - dense_1_accuracy: 0.0000e+00 - val_loss: 0.0209 - val_dense_loss: 0.0202 - val_dense_1_loss: 0.6729 - val_dense_rmse: 0.2010 - val_dense_accuracy: 0.0000e+00 - val_dense_1_rmse: 0.1007 - val_dense_1_accuracy: 0.0000e+00\n",
            "Epoch 80/400\n",
            "8/8 [==============================] - 1s 175ms/step - loss: 0.0159 - dense_loss: 0.0153 - dense_1_loss: 0.5963 - dense_rmse: 0.1748 - dense_accuracy: 0.0000e+00 - dense_1_rmse: 0.1010 - dense_1_accuracy: 0.0000e+00 - val_loss: 0.0196 - val_dense_loss: 0.0189 - val_dense_1_loss: 0.6769 - val_dense_rmse: 0.1944 - val_dense_accuracy: 0.0000e+00 - val_dense_1_rmse: 0.1081 - val_dense_1_accuracy: 0.0000e+00\n",
            "Epoch 81/400\n",
            "8/8 [==============================] - 1s 171ms/step - loss: 0.0153 - dense_loss: 0.0147 - dense_1_loss: 0.6000 - dense_rmse: 0.1716 - dense_accuracy: 0.0000e+00 - dense_1_rmse: 0.0942 - dense_1_accuracy: 0.0000e+00 - val_loss: 0.0200 - val_dense_loss: 0.0194 - val_dense_1_loss: 0.6736 - val_dense_rmse: 0.1968 - val_dense_accuracy: 0.0000e+00 - val_dense_1_rmse: 0.1015 - val_dense_1_accuracy: 0.0000e+00\n",
            "Epoch 82/400\n",
            "8/8 [==============================] - 1s 177ms/step - loss: 0.0150 - dense_loss: 0.0145 - dense_1_loss: 0.5959 - dense_rmse: 0.1701 - dense_accuracy: 0.0000e+00 - dense_1_rmse: 0.0933 - dense_1_accuracy: 0.0000e+00 - val_loss: 0.0194 - val_dense_loss: 0.0188 - val_dense_1_loss: 0.6745 - val_dense_rmse: 0.1938 - val_dense_accuracy: 0.0000e+00 - val_dense_1_rmse: 0.1029 - val_dense_1_accuracy: 0.0000e+00\n",
            "Epoch 83/400\n",
            "8/8 [==============================] - 1s 173ms/step - loss: 0.0146 - dense_loss: 0.0141 - dense_1_loss: 0.5925 - dense_rmse: 0.1676 - dense_accuracy: 0.0000e+00 - dense_1_rmse: 0.0974 - dense_1_accuracy: 0.0000e+00 - val_loss: 0.0201 - val_dense_loss: 0.0195 - val_dense_1_loss: 0.6719 - val_dense_rmse: 0.1973 - val_dense_accuracy: 0.0000e+00 - val_dense_1_rmse: 0.0972 - val_dense_1_accuracy: 0.0000e+00\n",
            "Epoch 84/400\n",
            "8/8 [==============================] - 1s 171ms/step - loss: 0.0142 - dense_loss: 0.0136 - dense_1_loss: 0.5951 - dense_rmse: 0.1649 - dense_accuracy: 0.0000e+00 - dense_1_rmse: 0.0967 - dense_1_accuracy: 0.0000e+00 - val_loss: 0.0205 - val_dense_loss: 0.0198 - val_dense_1_loss: 0.7012 - val_dense_rmse: 0.1992 - val_dense_accuracy: 0.0000e+00 - val_dense_1_rmse: 0.1490 - val_dense_1_accuracy: 0.0000e+00\n",
            "Epoch 85/400\n",
            "8/8 [==============================] - 1s 174ms/step - loss: 0.0144 - dense_loss: 0.0137 - dense_1_loss: 0.6508 - dense_rmse: 0.1656 - dense_accuracy: 0.0000e+00 - dense_1_rmse: 0.1459 - dense_1_accuracy: 0.0000e+00 - val_loss: 0.0181 - val_dense_loss: 0.0174 - val_dense_1_loss: 0.7655 - val_dense_rmse: 0.1865 - val_dense_accuracy: 0.0000e+00 - val_dense_1_rmse: 0.1522 - val_dense_1_accuracy: 0.0000e+00\n",
            "Epoch 86/400\n",
            "8/8 [==============================] - 1s 173ms/step - loss: 0.0134 - dense_loss: 0.0128 - dense_1_loss: 0.6276 - dense_rmse: 0.1597 - dense_accuracy: 0.0000e+00 - dense_1_rmse: 0.1356 - dense_1_accuracy: 0.0000e+00 - val_loss: 0.0185 - val_dense_loss: 0.0178 - val_dense_1_loss: 0.7573 - val_dense_rmse: 0.1885 - val_dense_accuracy: 0.0000e+00 - val_dense_1_rmse: 0.1445 - val_dense_1_accuracy: 0.0000e+00\n",
            "Epoch 87/400\n",
            "8/8 [==============================] - 1s 177ms/step - loss: 0.0129 - dense_loss: 0.0123 - dense_1_loss: 0.6258 - dense_rmse: 0.1565 - dense_accuracy: 0.0000e+00 - dense_1_rmse: 0.1352 - dense_1_accuracy: 0.0000e+00 - val_loss: 0.0195 - val_dense_loss: 0.0187 - val_dense_1_loss: 0.8446 - val_dense_rmse: 0.1934 - val_dense_accuracy: 0.0000e+00 - val_dense_1_rmse: 0.2024 - val_dense_1_accuracy: 0.0000e+00\n",
            "Epoch 88/400\n",
            "8/8 [==============================] - 1s 173ms/step - loss: 0.0137 - dense_loss: 0.0129 - dense_1_loss: 0.7991 - dense_rmse: 0.1608 - dense_accuracy: 0.0000e+00 - dense_1_rmse: 0.2123 - dense_1_accuracy: 0.0000e+00 - val_loss: 0.0178 - val_dense_loss: 0.0169 - val_dense_1_loss: 0.9282 - val_dense_rmse: 0.1838 - val_dense_accuracy: 0.0000e+00 - val_dense_1_rmse: 0.1943 - val_dense_1_accuracy: 0.0000e+00\n",
            "Epoch 89/400\n",
            "8/8 [==============================] - 1s 176ms/step - loss: 0.0126 - dense_loss: 0.0120 - dense_1_loss: 0.6809 - dense_rmse: 0.1548 - dense_accuracy: 0.0000e+00 - dense_1_rmse: 0.1807 - dense_1_accuracy: 0.0000e+00 - val_loss: 0.0174 - val_dense_loss: 0.0166 - val_dense_1_loss: 0.7967 - val_dense_rmse: 0.1823 - val_dense_accuracy: 0.0000e+00 - val_dense_1_rmse: 0.1952 - val_dense_1_accuracy: 0.0000e+00\n",
            "Epoch 90/400\n",
            "8/8 [==============================] - 1s 174ms/step - loss: 0.0126 - dense_loss: 0.0120 - dense_1_loss: 0.6688 - dense_rmse: 0.1548 - dense_accuracy: 0.0000e+00 - dense_1_rmse: 0.1839 - dense_1_accuracy: 0.0000e+00 - val_loss: 0.0169 - val_dense_loss: 0.0162 - val_dense_1_loss: 0.7359 - val_dense_rmse: 0.1799 - val_dense_accuracy: 0.0000e+00 - val_dense_1_rmse: 0.1577 - val_dense_1_accuracy: 0.0000e+00\n",
            "Epoch 91/400\n",
            "8/8 [==============================] - 1s 179ms/step - loss: 0.0128 - dense_loss: 0.0122 - dense_1_loss: 0.6806 - dense_rmse: 0.1559 - dense_accuracy: 0.0000e+00 - dense_1_rmse: 0.2040 - dense_1_accuracy: 0.0000e+00 - val_loss: 0.0179 - val_dense_loss: 0.0170 - val_dense_1_loss: 0.8950 - val_dense_rmse: 0.1846 - val_dense_accuracy: 0.0000e+00 - val_dense_1_rmse: 0.2435 - val_dense_1_accuracy: 0.0000e+00\n",
            "Epoch 92/400\n",
            "8/8 [==============================] - 1s 170ms/step - loss: 0.0128 - dense_loss: 0.0122 - dense_1_loss: 0.6965 - dense_rmse: 0.1559 - dense_accuracy: 0.0000e+00 - dense_1_rmse: 0.1938 - dense_1_accuracy: 0.0000e+00 - val_loss: 0.0180 - val_dense_loss: 0.0173 - val_dense_1_loss: 0.7640 - val_dense_rmse: 0.1860 - val_dense_accuracy: 0.0000e+00 - val_dense_1_rmse: 0.1566 - val_dense_1_accuracy: 0.0000e+00\n",
            "Epoch 93/400\n",
            "8/8 [==============================] - 1s 173ms/step - loss: 0.0129 - dense_loss: 0.0123 - dense_1_loss: 0.6571 - dense_rmse: 0.1565 - dense_accuracy: 0.0000e+00 - dense_1_rmse: 0.1754 - dense_1_accuracy: 0.0000e+00 - val_loss: 0.0163 - val_dense_loss: 0.0155 - val_dense_1_loss: 0.8067 - val_dense_rmse: 0.1763 - val_dense_accuracy: 0.0000e+00 - val_dense_1_rmse: 0.1667 - val_dense_1_accuracy: 0.0000e+00\n",
            "Epoch 94/400\n",
            "8/8 [==============================] - 1s 174ms/step - loss: 0.0120 - dense_loss: 0.0114 - dense_1_loss: 0.6734 - dense_rmse: 0.1507 - dense_accuracy: 0.0000e+00 - dense_1_rmse: 0.1622 - dense_1_accuracy: 0.0000e+00 - val_loss: 0.0170 - val_dense_loss: 0.0163 - val_dense_1_loss: 0.7532 - val_dense_rmse: 0.1806 - val_dense_accuracy: 0.0000e+00 - val_dense_1_rmse: 0.1692 - val_dense_1_accuracy: 0.0000e+00\n",
            "Epoch 95/400\n",
            "8/8 [==============================] - 1s 173ms/step - loss: 0.0121 - dense_loss: 0.0114 - dense_1_loss: 0.6522 - dense_rmse: 0.1513 - dense_accuracy: 0.0000e+00 - dense_1_rmse: 0.1627 - dense_1_accuracy: 0.0000e+00 - val_loss: 0.0152 - val_dense_loss: 0.0144 - val_dense_1_loss: 0.8187 - val_dense_rmse: 0.1696 - val_dense_accuracy: 0.0000e+00 - val_dense_1_rmse: 0.1974 - val_dense_1_accuracy: 0.0000e+00\n",
            "Epoch 96/400\n",
            "8/8 [==============================] - 1s 172ms/step - loss: 0.0109 - dense_loss: 0.0103 - dense_1_loss: 0.6500 - dense_rmse: 0.1435 - dense_accuracy: 0.0000e+00 - dense_1_rmse: 0.1421 - dense_1_accuracy: 0.0000e+00 - val_loss: 0.0147 - val_dense_loss: 0.0140 - val_dense_1_loss: 0.6997 - val_dense_rmse: 0.1676 - val_dense_accuracy: 0.0000e+00 - val_dense_1_rmse: 0.1234 - val_dense_1_accuracy: 0.0000e+00\n",
            "Epoch 97/400\n",
            "8/8 [==============================] - 1s 174ms/step - loss: 0.0105 - dense_loss: 0.0099 - dense_1_loss: 0.6241 - dense_rmse: 0.1406 - dense_accuracy: 0.0000e+00 - dense_1_rmse: 0.1135 - dense_1_accuracy: 0.0000e+00 - val_loss: 0.0144 - val_dense_loss: 0.0138 - val_dense_1_loss: 0.6793 - val_dense_rmse: 0.1660 - val_dense_accuracy: 0.0000e+00 - val_dense_1_rmse: 0.1105 - val_dense_1_accuracy: 0.0000e+00\n",
            "Epoch 98/400\n",
            "8/8 [==============================] - 1s 178ms/step - loss: 0.0103 - dense_loss: 0.0097 - dense_1_loss: 0.5975 - dense_rmse: 0.1393 - dense_accuracy: 0.0000e+00 - dense_1_rmse: 0.1067 - dense_1_accuracy: 0.0000e+00 - val_loss: 0.0142 - val_dense_loss: 0.0135 - val_dense_1_loss: 0.6833 - val_dense_rmse: 0.1645 - val_dense_accuracy: 0.0000e+00 - val_dense_1_rmse: 0.1181 - val_dense_1_accuracy: 0.0000e+00\n",
            "Epoch 99/400\n",
            "8/8 [==============================] - 1s 178ms/step - loss: 0.0102 - dense_loss: 0.0096 - dense_1_loss: 0.5951 - dense_rmse: 0.1389 - dense_accuracy: 0.0000e+00 - dense_1_rmse: 0.1046 - dense_1_accuracy: 0.0000e+00 - val_loss: 0.0142 - val_dense_loss: 0.0135 - val_dense_1_loss: 0.6814 - val_dense_rmse: 0.1645 - val_dense_accuracy: 0.0000e+00 - val_dense_1_rmse: 0.1160 - val_dense_1_accuracy: 0.0000e+00\n",
            "Epoch 100/400\n",
            "8/8 [==============================] - 1s 172ms/step - loss: 0.0110 - dense_loss: 0.0104 - dense_1_loss: 0.5945 - dense_rmse: 0.1443 - dense_accuracy: 0.0000e+00 - dense_1_rmse: 0.0986 - dense_1_accuracy: 0.0000e+00 - val_loss: 0.0156 - val_dense_loss: 0.0150 - val_dense_1_loss: 0.6765 - val_dense_rmse: 0.1729 - val_dense_accuracy: 0.0000e+00 - val_dense_1_rmse: 0.1083 - val_dense_1_accuracy: 0.0000e+00\n",
            "Epoch 101/400\n",
            "8/8 [==============================] - 1s 173ms/step - loss: 0.0111 - dense_loss: 0.0105 - dense_1_loss: 0.5900 - dense_rmse: 0.1449 - dense_accuracy: 0.0000e+00 - dense_1_rmse: 0.0919 - dense_1_accuracy: 0.0000e+00 - val_loss: 0.0157 - val_dense_loss: 0.0151 - val_dense_1_loss: 0.6762 - val_dense_rmse: 0.1736 - val_dense_accuracy: 0.0000e+00 - val_dense_1_rmse: 0.1074 - val_dense_1_accuracy: 0.0000e+00\n",
            "Epoch 102/400\n",
            "8/8 [==============================] - 1s 171ms/step - loss: 0.0106 - dense_loss: 0.0100 - dense_1_loss: 0.5882 - dense_rmse: 0.1414 - dense_accuracy: 0.0000e+00 - dense_1_rmse: 0.0891 - dense_1_accuracy: 0.0000e+00 - val_loss: 0.0143 - val_dense_loss: 0.0136 - val_dense_1_loss: 0.6718 - val_dense_rmse: 0.1651 - val_dense_accuracy: 0.0000e+00 - val_dense_1_rmse: 0.0981 - val_dense_1_accuracy: 0.0000e+00\n",
            "Epoch 103/400\n",
            "8/8 [==============================] - 1s 173ms/step - loss: 0.0100 - dense_loss: 0.0094 - dense_1_loss: 0.5892 - dense_rmse: 0.1370 - dense_accuracy: 0.0000e+00 - dense_1_rmse: 0.0839 - dense_1_accuracy: 0.0000e+00 - val_loss: 0.0151 - val_dense_loss: 0.0145 - val_dense_1_loss: 0.6821 - val_dense_rmse: 0.1702 - val_dense_accuracy: 0.0000e+00 - val_dense_1_rmse: 0.1076 - val_dense_1_accuracy: 0.0000e+00\n",
            "Epoch 104/400\n",
            "8/8 [==============================] - 1s 176ms/step - loss: 0.0108 - dense_loss: 0.0103 - dense_1_loss: 0.5918 - dense_rmse: 0.1433 - dense_accuracy: 0.0000e+00 - dense_1_rmse: 0.0877 - dense_1_accuracy: 0.0000e+00 - val_loss: 0.0165 - val_dense_loss: 0.0158 - val_dense_1_loss: 0.6728 - val_dense_rmse: 0.1779 - val_dense_accuracy: 0.0000e+00 - val_dense_1_rmse: 0.0998 - val_dense_1_accuracy: 0.0000e+00\n",
            "Epoch 105/400\n",
            "8/8 [==============================] - 1s 174ms/step - loss: 0.0110 - dense_loss: 0.0104 - dense_1_loss: 0.5862 - dense_rmse: 0.1442 - dense_accuracy: 0.0000e+00 - dense_1_rmse: 0.0851 - dense_1_accuracy: 0.0000e+00 - val_loss: 0.0141 - val_dense_loss: 0.0134 - val_dense_1_loss: 0.6721 - val_dense_rmse: 0.1638 - val_dense_accuracy: 0.0000e+00 - val_dense_1_rmse: 0.0988 - val_dense_1_accuracy: 0.0000e+00\n",
            "Epoch 106/400\n",
            "8/8 [==============================] - 1s 176ms/step - loss: 0.0109 - dense_loss: 0.0104 - dense_1_loss: 0.5887 - dense_rmse: 0.1440 - dense_accuracy: 0.0000e+00 - dense_1_rmse: 0.0891 - dense_1_accuracy: 0.0000e+00 - val_loss: 0.0151 - val_dense_loss: 0.0145 - val_dense_1_loss: 0.6713 - val_dense_rmse: 0.1700 - val_dense_accuracy: 0.0000e+00 - val_dense_1_rmse: 0.0977 - val_dense_1_accuracy: 0.0000e+00\n",
            "Epoch 107/400\n",
            "8/8 [==============================] - 1s 174ms/step - loss: 0.0103 - dense_loss: 0.0097 - dense_1_loss: 0.5886 - dense_rmse: 0.1392 - dense_accuracy: 0.0000e+00 - dense_1_rmse: 0.0893 - dense_1_accuracy: 0.0000e+00 - val_loss: 0.0133 - val_dense_loss: 0.0127 - val_dense_1_loss: 0.6715 - val_dense_rmse: 0.1593 - val_dense_accuracy: 0.0000e+00 - val_dense_1_rmse: 0.0968 - val_dense_1_accuracy: 0.0000e+00\n",
            "Epoch 108/400\n",
            "8/8 [==============================] - 1s 177ms/step - loss: 0.0105 - dense_loss: 0.0100 - dense_1_loss: 0.5869 - dense_rmse: 0.1412 - dense_accuracy: 0.0000e+00 - dense_1_rmse: 0.0867 - dense_1_accuracy: 0.0000e+00 - val_loss: 0.0146 - val_dense_loss: 0.0139 - val_dense_1_loss: 0.6719 - val_dense_rmse: 0.1668 - val_dense_accuracy: 0.0000e+00 - val_dense_1_rmse: 0.0960 - val_dense_1_accuracy: 0.0000e+00\n",
            "Epoch 109/400\n",
            "8/8 [==============================] - 1s 170ms/step - loss: 0.0099 - dense_loss: 0.0093 - dense_1_loss: 0.5868 - dense_rmse: 0.1365 - dense_accuracy: 0.0000e+00 - dense_1_rmse: 0.0851 - dense_1_accuracy: 0.0000e+00 - val_loss: 0.0166 - val_dense_loss: 0.0159 - val_dense_1_loss: 0.6809 - val_dense_rmse: 0.1786 - val_dense_accuracy: 0.0000e+00 - val_dense_1_rmse: 0.1054 - val_dense_1_accuracy: 0.0000e+00\n",
            "Epoch 110/400\n",
            "8/8 [==============================] - 1s 176ms/step - loss: 0.0097 - dense_loss: 0.0092 - dense_1_loss: 0.5884 - dense_rmse: 0.1354 - dense_accuracy: 0.0000e+00 - dense_1_rmse: 0.0877 - dense_1_accuracy: 0.0000e+00 - val_loss: 0.0134 - val_dense_loss: 0.0128 - val_dense_1_loss: 0.6821 - val_dense_rmse: 0.1598 - val_dense_accuracy: 0.0000e+00 - val_dense_1_rmse: 0.1197 - val_dense_1_accuracy: 0.0000e+00\n",
            "Epoch 111/400\n",
            "8/8 [==============================] - 1s 176ms/step - loss: 0.0092 - dense_loss: 0.0086 - dense_1_loss: 0.5888 - dense_rmse: 0.1315 - dense_accuracy: 0.0000e+00 - dense_1_rmse: 0.0853 - dense_1_accuracy: 0.0000e+00 - val_loss: 0.0144 - val_dense_loss: 0.0137 - val_dense_1_loss: 0.6745 - val_dense_rmse: 0.1657 - val_dense_accuracy: 0.0000e+00 - val_dense_1_rmse: 0.1038 - val_dense_1_accuracy: 0.0000e+00\n",
            "Epoch 112/400\n",
            "8/8 [==============================] - 1s 174ms/step - loss: 0.0095 - dense_loss: 0.0089 - dense_1_loss: 0.5859 - dense_rmse: 0.1338 - dense_accuracy: 0.0000e+00 - dense_1_rmse: 0.0825 - dense_1_accuracy: 0.0000e+00 - val_loss: 0.0138 - val_dense_loss: 0.0131 - val_dense_1_loss: 0.6720 - val_dense_rmse: 0.1620 - val_dense_accuracy: 0.0000e+00 - val_dense_1_rmse: 0.0976 - val_dense_1_accuracy: 0.0000e+00\n",
            "Epoch 113/400\n",
            "8/8 [==============================] - 1s 176ms/step - loss: 0.0091 - dense_loss: 0.0086 - dense_1_loss: 0.5843 - dense_rmse: 0.1309 - dense_accuracy: 0.0000e+00 - dense_1_rmse: 0.0794 - dense_1_accuracy: 0.0000e+00 - val_loss: 0.0140 - val_dense_loss: 0.0134 - val_dense_1_loss: 0.6740 - val_dense_rmse: 0.1634 - val_dense_accuracy: 0.0000e+00 - val_dense_1_rmse: 0.1015 - val_dense_1_accuracy: 0.0000e+00\n",
            "Epoch 114/400\n",
            "8/8 [==============================] - 1s 173ms/step - loss: 0.0092 - dense_loss: 0.0086 - dense_1_loss: 0.5851 - dense_rmse: 0.1313 - dense_accuracy: 0.0000e+00 - dense_1_rmse: 0.0810 - dense_1_accuracy: 0.0000e+00 - val_loss: 0.0122 - val_dense_loss: 0.0116 - val_dense_1_loss: 0.6663 - val_dense_rmse: 0.1521 - val_dense_accuracy: 0.0000e+00 - val_dense_1_rmse: 0.0855 - val_dense_1_accuracy: 0.0000e+00\n",
            "Epoch 115/400\n",
            "8/8 [==============================] - 1s 175ms/step - loss: 0.0083 - dense_loss: 0.0077 - dense_1_loss: 0.5846 - dense_rmse: 0.1241 - dense_accuracy: 0.0000e+00 - dense_1_rmse: 0.0798 - dense_1_accuracy: 0.0000e+00 - val_loss: 0.0121 - val_dense_loss: 0.0114 - val_dense_1_loss: 0.6659 - val_dense_rmse: 0.1511 - val_dense_accuracy: 0.0000e+00 - val_dense_1_rmse: 0.0840 - val_dense_1_accuracy: 0.0000e+00\n",
            "Epoch 116/400\n",
            "8/8 [==============================] - 1s 176ms/step - loss: 0.0077 - dense_loss: 0.0071 - dense_1_loss: 0.5831 - dense_rmse: 0.1192 - dense_accuracy: 0.0000e+00 - dense_1_rmse: 0.0779 - dense_1_accuracy: 0.0000e+00 - val_loss: 0.0132 - val_dense_loss: 0.0125 - val_dense_1_loss: 0.6715 - val_dense_rmse: 0.1582 - val_dense_accuracy: 0.0000e+00 - val_dense_1_rmse: 0.0970 - val_dense_1_accuracy: 0.0000e+00\n",
            "Epoch 117/400\n",
            "8/8 [==============================] - 1s 173ms/step - loss: 0.0080 - dense_loss: 0.0074 - dense_1_loss: 0.5837 - dense_rmse: 0.1220 - dense_accuracy: 0.0000e+00 - dense_1_rmse: 0.0762 - dense_1_accuracy: 0.0000e+00 - val_loss: 0.0126 - val_dense_loss: 0.0119 - val_dense_1_loss: 0.6710 - val_dense_rmse: 0.1545 - val_dense_accuracy: 0.0000e+00 - val_dense_1_rmse: 0.0895 - val_dense_1_accuracy: 0.0000e+00\n",
            "Epoch 118/400\n",
            "8/8 [==============================] - 1s 175ms/step - loss: 0.0077 - dense_loss: 0.0071 - dense_1_loss: 0.5833 - dense_rmse: 0.1193 - dense_accuracy: 0.0000e+00 - dense_1_rmse: 0.0753 - dense_1_accuracy: 0.0000e+00 - val_loss: 0.0124 - val_dense_loss: 0.0117 - val_dense_1_loss: 0.6722 - val_dense_rmse: 0.1532 - val_dense_accuracy: 0.0000e+00 - val_dense_1_rmse: 0.0972 - val_dense_1_accuracy: 0.0000e+00\n",
            "Epoch 119/400\n",
            "8/8 [==============================] - 1s 174ms/step - loss: 0.0076 - dense_loss: 0.0070 - dense_1_loss: 0.5836 - dense_rmse: 0.1187 - dense_accuracy: 0.0000e+00 - dense_1_rmse: 0.0780 - dense_1_accuracy: 0.0000e+00 - val_loss: 0.0109 - val_dense_loss: 0.0103 - val_dense_1_loss: 0.6646 - val_dense_rmse: 0.1432 - val_dense_accuracy: 0.0000e+00 - val_dense_1_rmse: 0.0804 - val_dense_1_accuracy: 0.0000e+00\n",
            "Epoch 120/400\n",
            "8/8 [==============================] - 1s 174ms/step - loss: 0.0070 - dense_loss: 0.0065 - dense_1_loss: 0.5812 - dense_rmse: 0.1137 - dense_accuracy: 0.0000e+00 - dense_1_rmse: 0.0731 - dense_1_accuracy: 0.0000e+00 - val_loss: 0.0118 - val_dense_loss: 0.0111 - val_dense_1_loss: 0.6691 - val_dense_rmse: 0.1490 - val_dense_accuracy: 0.0000e+00 - val_dense_1_rmse: 0.0909 - val_dense_1_accuracy: 0.0000e+00\n",
            "Epoch 121/400\n",
            "8/8 [==============================] - 1s 173ms/step - loss: 0.0072 - dense_loss: 0.0067 - dense_1_loss: 0.5844 - dense_rmse: 0.1153 - dense_accuracy: 0.0000e+00 - dense_1_rmse: 0.0757 - dense_1_accuracy: 0.0000e+00 - val_loss: 0.0116 - val_dense_loss: 0.0110 - val_dense_1_loss: 0.6689 - val_dense_rmse: 0.1482 - val_dense_accuracy: 0.0000e+00 - val_dense_1_rmse: 0.0904 - val_dense_1_accuracy: 0.0000e+00\n",
            "Epoch 122/400\n",
            "8/8 [==============================] - 1s 175ms/step - loss: 0.0077 - dense_loss: 0.0071 - dense_1_loss: 0.5843 - dense_rmse: 0.1192 - dense_accuracy: 0.0000e+00 - dense_1_rmse: 0.0803 - dense_1_accuracy: 0.0000e+00 - val_loss: 0.0122 - val_dense_loss: 0.0115 - val_dense_1_loss: 0.6663 - val_dense_rmse: 0.1518 - val_dense_accuracy: 0.0000e+00 - val_dense_1_rmse: 0.0841 - val_dense_1_accuracy: 0.0000e+00\n",
            "Epoch 123/400\n",
            "8/8 [==============================] - 1s 178ms/step - loss: 0.0081 - dense_loss: 0.0076 - dense_1_loss: 0.5865 - dense_rmse: 0.1229 - dense_accuracy: 0.0000e+00 - dense_1_rmse: 0.0848 - dense_1_accuracy: 0.0000e+00 - val_loss: 0.0112 - val_dense_loss: 0.0105 - val_dense_1_loss: 0.6680 - val_dense_rmse: 0.1449 - val_dense_accuracy: 0.0000e+00 - val_dense_1_rmse: 0.0907 - val_dense_1_accuracy: 0.0000e+00\n",
            "Epoch 124/400\n",
            "8/8 [==============================] - 1s 180ms/step - loss: 0.0074 - dense_loss: 0.0068 - dense_1_loss: 0.5833 - dense_rmse: 0.1168 - dense_accuracy: 0.0000e+00 - dense_1_rmse: 0.0772 - dense_1_accuracy: 0.0000e+00 - val_loss: 0.0116 - val_dense_loss: 0.0109 - val_dense_1_loss: 0.6666 - val_dense_rmse: 0.1477 - val_dense_accuracy: 0.0000e+00 - val_dense_1_rmse: 0.0836 - val_dense_1_accuracy: 0.0000e+00\n",
            "Epoch 125/400\n",
            "8/8 [==============================] - 1s 179ms/step - loss: 0.0078 - dense_loss: 0.0072 - dense_1_loss: 0.5815 - dense_rmse: 0.1199 - dense_accuracy: 0.0000e+00 - dense_1_rmse: 0.0713 - dense_1_accuracy: 0.0000e+00 - val_loss: 0.0111 - val_dense_loss: 0.0105 - val_dense_1_loss: 0.6663 - val_dense_rmse: 0.1448 - val_dense_accuracy: 0.0000e+00 - val_dense_1_rmse: 0.0837 - val_dense_1_accuracy: 0.0000e+00\n",
            "Epoch 126/400\n",
            "8/8 [==============================] - 1s 175ms/step - loss: 0.0068 - dense_loss: 0.0062 - dense_1_loss: 0.5816 - dense_rmse: 0.1113 - dense_accuracy: 0.0000e+00 - dense_1_rmse: 0.0722 - dense_1_accuracy: 0.0000e+00 - val_loss: 0.0101 - val_dense_loss: 0.0095 - val_dense_1_loss: 0.6696 - val_dense_rmse: 0.1376 - val_dense_accuracy: 0.0000e+00 - val_dense_1_rmse: 0.0895 - val_dense_1_accuracy: 0.0000e+00\n",
            "Epoch 127/400\n",
            "8/8 [==============================] - 1s 176ms/step - loss: 0.0064 - dense_loss: 0.0059 - dense_1_loss: 0.5821 - dense_rmse: 0.1083 - dense_accuracy: 0.0000e+00 - dense_1_rmse: 0.0743 - dense_1_accuracy: 0.0000e+00 - val_loss: 0.0108 - val_dense_loss: 0.0102 - val_dense_1_loss: 0.6649 - val_dense_rmse: 0.1427 - val_dense_accuracy: 0.0000e+00 - val_dense_1_rmse: 0.0812 - val_dense_1_accuracy: 0.0000e+00\n",
            "Epoch 128/400\n",
            "8/8 [==============================] - 1s 173ms/step - loss: 0.0066 - dense_loss: 0.0061 - dense_1_loss: 0.5828 - dense_rmse: 0.1100 - dense_accuracy: 0.0000e+00 - dense_1_rmse: 0.0735 - dense_1_accuracy: 0.0000e+00 - val_loss: 0.0103 - val_dense_loss: 0.0096 - val_dense_1_loss: 0.6636 - val_dense_rmse: 0.1388 - val_dense_accuracy: 0.0000e+00 - val_dense_1_rmse: 0.0756 - val_dense_1_accuracy: 0.0000e+00\n",
            "Epoch 129/400\n",
            "8/8 [==============================] - 1s 171ms/step - loss: 0.0069 - dense_loss: 0.0064 - dense_1_loss: 0.5810 - dense_rmse: 0.1127 - dense_accuracy: 0.0000e+00 - dense_1_rmse: 0.0713 - dense_1_accuracy: 0.0000e+00 - val_loss: 0.0121 - val_dense_loss: 0.0115 - val_dense_1_loss: 0.6677 - val_dense_rmse: 0.1515 - val_dense_accuracy: 0.0000e+00 - val_dense_1_rmse: 0.0875 - val_dense_1_accuracy: 0.0000e+00\n",
            "Epoch 130/400\n",
            "8/8 [==============================] - 1s 176ms/step - loss: 0.0069 - dense_loss: 0.0063 - dense_1_loss: 0.5812 - dense_rmse: 0.1122 - dense_accuracy: 0.0000e+00 - dense_1_rmse: 0.0716 - dense_1_accuracy: 0.0000e+00 - val_loss: 0.0108 - val_dense_loss: 0.0101 - val_dense_1_loss: 0.6653 - val_dense_rmse: 0.1425 - val_dense_accuracy: 0.0000e+00 - val_dense_1_rmse: 0.0793 - val_dense_1_accuracy: 0.0000e+00\n",
            "Epoch 131/400\n",
            "8/8 [==============================] - 1s 173ms/step - loss: 0.0068 - dense_loss: 0.0063 - dense_1_loss: 0.5831 - dense_rmse: 0.1119 - dense_accuracy: 0.0000e+00 - dense_1_rmse: 0.0730 - dense_1_accuracy: 0.0000e+00 - val_loss: 0.0110 - val_dense_loss: 0.0104 - val_dense_1_loss: 0.6658 - val_dense_rmse: 0.1441 - val_dense_accuracy: 0.0000e+00 - val_dense_1_rmse: 0.0827 - val_dense_1_accuracy: 0.0000e+00\n",
            "Epoch 132/400\n",
            "8/8 [==============================] - 1s 176ms/step - loss: 0.0071 - dense_loss: 0.0066 - dense_1_loss: 0.5826 - dense_rmse: 0.1146 - dense_accuracy: 0.0000e+00 - dense_1_rmse: 0.0744 - dense_1_accuracy: 0.0000e+00 - val_loss: 0.0100 - val_dense_loss: 0.0094 - val_dense_1_loss: 0.6634 - val_dense_rmse: 0.1371 - val_dense_accuracy: 0.0000e+00 - val_dense_1_rmse: 0.0756 - val_dense_1_accuracy: 0.0000e+00\n",
            "Epoch 133/400\n",
            "8/8 [==============================] - 1s 175ms/step - loss: 0.0067 - dense_loss: 0.0061 - dense_1_loss: 0.5827 - dense_rmse: 0.1104 - dense_accuracy: 0.0000e+00 - dense_1_rmse: 0.0725 - dense_1_accuracy: 0.0000e+00 - val_loss: 0.0108 - val_dense_loss: 0.0102 - val_dense_1_loss: 0.6643 - val_dense_rmse: 0.1425 - val_dense_accuracy: 0.0000e+00 - val_dense_1_rmse: 0.0784 - val_dense_1_accuracy: 0.0000e+00\n",
            "Epoch 134/400\n",
            "8/8 [==============================] - 1s 177ms/step - loss: 0.0070 - dense_loss: 0.0064 - dense_1_loss: 0.5809 - dense_rmse: 0.1129 - dense_accuracy: 0.0000e+00 - dense_1_rmse: 0.0687 - dense_1_accuracy: 0.0000e+00 - val_loss: 0.0100 - val_dense_loss: 0.0093 - val_dense_1_loss: 0.6650 - val_dense_rmse: 0.1367 - val_dense_accuracy: 0.0000e+00 - val_dense_1_rmse: 0.0811 - val_dense_1_accuracy: 0.0000e+00\n",
            "Epoch 135/400\n",
            "8/8 [==============================] - 1s 178ms/step - loss: 0.0065 - dense_loss: 0.0059 - dense_1_loss: 0.5837 - dense_rmse: 0.1090 - dense_accuracy: 0.0000e+00 - dense_1_rmse: 0.0730 - dense_1_accuracy: 0.0000e+00 - val_loss: 0.0100 - val_dense_loss: 0.0094 - val_dense_1_loss: 0.6659 - val_dense_rmse: 0.1370 - val_dense_accuracy: 0.0000e+00 - val_dense_1_rmse: 0.0839 - val_dense_1_accuracy: 0.0000e+00\n",
            "Epoch 136/400\n",
            "8/8 [==============================] - 1s 174ms/step - loss: 0.0059 - dense_loss: 0.0053 - dense_1_loss: 0.5836 - dense_rmse: 0.1029 - dense_accuracy: 0.0000e+00 - dense_1_rmse: 0.0774 - dense_1_accuracy: 0.0000e+00 - val_loss: 0.0091 - val_dense_loss: 0.0084 - val_dense_1_loss: 0.6627 - val_dense_rmse: 0.1298 - val_dense_accuracy: 0.0000e+00 - val_dense_1_rmse: 0.0738 - val_dense_1_accuracy: 0.0000e+00\n",
            "Epoch 137/400\n",
            "8/8 [==============================] - 1s 177ms/step - loss: 0.0060 - dense_loss: 0.0054 - dense_1_loss: 0.5826 - dense_rmse: 0.1044 - dense_accuracy: 0.0000e+00 - dense_1_rmse: 0.0731 - dense_1_accuracy: 0.0000e+00 - val_loss: 0.0094 - val_dense_loss: 0.0087 - val_dense_1_loss: 0.6647 - val_dense_rmse: 0.1322 - val_dense_accuracy: 0.0000e+00 - val_dense_1_rmse: 0.0777 - val_dense_1_accuracy: 0.0000e+00\n",
            "Epoch 138/400\n",
            "8/8 [==============================] - 1s 179ms/step - loss: 0.0061 - dense_loss: 0.0055 - dense_1_loss: 0.5803 - dense_rmse: 0.1051 - dense_accuracy: 0.0000e+00 - dense_1_rmse: 0.0692 - dense_1_accuracy: 0.0000e+00 - val_loss: 0.0090 - val_dense_loss: 0.0083 - val_dense_1_loss: 0.6635 - val_dense_rmse: 0.1292 - val_dense_accuracy: 0.0000e+00 - val_dense_1_rmse: 0.0759 - val_dense_1_accuracy: 0.0000e+00\n",
            "Epoch 139/400\n",
            "8/8 [==============================] - 1s 174ms/step - loss: 0.0056 - dense_loss: 0.0050 - dense_1_loss: 0.5807 - dense_rmse: 0.1001 - dense_accuracy: 0.0000e+00 - dense_1_rmse: 0.0677 - dense_1_accuracy: 0.0000e+00 - val_loss: 0.0085 - val_dense_loss: 0.0079 - val_dense_1_loss: 0.6669 - val_dense_rmse: 0.1256 - val_dense_accuracy: 0.0000e+00 - val_dense_1_rmse: 0.0835 - val_dense_1_accuracy: 0.0000e+00\n",
            "Epoch 140/400\n",
            "8/8 [==============================] - 1s 178ms/step - loss: 0.0062 - dense_loss: 0.0056 - dense_1_loss: 0.5856 - dense_rmse: 0.1061 - dense_accuracy: 0.0000e+00 - dense_1_rmse: 0.0753 - dense_1_accuracy: 0.0000e+00 - val_loss: 0.0096 - val_dense_loss: 0.0090 - val_dense_1_loss: 0.6652 - val_dense_rmse: 0.1341 - val_dense_accuracy: 0.0000e+00 - val_dense_1_rmse: 0.0828 - val_dense_1_accuracy: 0.0000e+00\n",
            "Epoch 141/400\n",
            "8/8 [==============================] - 1s 178ms/step - loss: 0.0055 - dense_loss: 0.0049 - dense_1_loss: 0.5821 - dense_rmse: 0.0989 - dense_accuracy: 0.0000e+00 - dense_1_rmse: 0.0752 - dense_1_accuracy: 0.0000e+00 - val_loss: 0.0089 - val_dense_loss: 0.0083 - val_dense_1_loss: 0.6624 - val_dense_rmse: 0.1286 - val_dense_accuracy: 0.0000e+00 - val_dense_1_rmse: 0.0726 - val_dense_1_accuracy: 0.0000e+00\n",
            "Epoch 142/400\n",
            "8/8 [==============================] - 1s 173ms/step - loss: 0.0053 - dense_loss: 0.0048 - dense_1_loss: 0.5806 - dense_rmse: 0.0975 - dense_accuracy: 0.0000e+00 - dense_1_rmse: 0.0691 - dense_1_accuracy: 0.0000e+00 - val_loss: 0.0098 - val_dense_loss: 0.0092 - val_dense_1_loss: 0.6660 - val_dense_rmse: 0.1353 - val_dense_accuracy: 0.0000e+00 - val_dense_1_rmse: 0.0815 - val_dense_1_accuracy: 0.0000e+00\n",
            "Epoch 143/400\n",
            "8/8 [==============================] - 1s 177ms/step - loss: 0.0057 - dense_loss: 0.0051 - dense_1_loss: 0.5803 - dense_rmse: 0.1011 - dense_accuracy: 0.0000e+00 - dense_1_rmse: 0.0685 - dense_1_accuracy: 0.0000e+00 - val_loss: 0.0097 - val_dense_loss: 0.0091 - val_dense_1_loss: 0.6633 - val_dense_rmse: 0.1349 - val_dense_accuracy: 0.0000e+00 - val_dense_1_rmse: 0.0748 - val_dense_1_accuracy: 0.0000e+00\n",
            "Epoch 144/400\n",
            "8/8 [==============================] - 1s 175ms/step - loss: 0.0059 - dense_loss: 0.0053 - dense_1_loss: 0.5805 - dense_rmse: 0.1027 - dense_accuracy: 0.0000e+00 - dense_1_rmse: 0.0704 - dense_1_accuracy: 0.0000e+00 - val_loss: 0.0101 - val_dense_loss: 0.0094 - val_dense_1_loss: 0.6617 - val_dense_rmse: 0.1374 - val_dense_accuracy: 0.0000e+00 - val_dense_1_rmse: 0.0698 - val_dense_1_accuracy: 0.0000e+00\n",
            "Epoch 145/400\n",
            "8/8 [==============================] - 1s 175ms/step - loss: 0.0056 - dense_loss: 0.0051 - dense_1_loss: 0.5799 - dense_rmse: 0.1007 - dense_accuracy: 0.0000e+00 - dense_1_rmse: 0.0662 - dense_1_accuracy: 0.0000e+00 - val_loss: 0.0098 - val_dense_loss: 0.0091 - val_dense_1_loss: 0.6615 - val_dense_rmse: 0.1351 - val_dense_accuracy: 0.0000e+00 - val_dense_1_rmse: 0.0704 - val_dense_1_accuracy: 0.0000e+00\n",
            "Epoch 146/400\n",
            "8/8 [==============================] - 1s 177ms/step - loss: 0.0055 - dense_loss: 0.0050 - dense_1_loss: 0.5796 - dense_rmse: 0.0995 - dense_accuracy: 0.0000e+00 - dense_1_rmse: 0.0664 - dense_1_accuracy: 0.0000e+00 - val_loss: 0.0086 - val_dense_loss: 0.0079 - val_dense_1_loss: 0.6617 - val_dense_rmse: 0.1260 - val_dense_accuracy: 0.0000e+00 - val_dense_1_rmse: 0.0695 - val_dense_1_accuracy: 0.0000e+00\n",
            "Epoch 147/400\n",
            "8/8 [==============================] - 1s 173ms/step - loss: 0.0052 - dense_loss: 0.0046 - dense_1_loss: 0.5794 - dense_rmse: 0.0964 - dense_accuracy: 0.0000e+00 - dense_1_rmse: 0.0665 - dense_1_accuracy: 0.0000e+00 - val_loss: 0.0090 - val_dense_loss: 0.0084 - val_dense_1_loss: 0.6629 - val_dense_rmse: 0.1294 - val_dense_accuracy: 0.0000e+00 - val_dense_1_rmse: 0.0740 - val_dense_1_accuracy: 0.0000e+00\n",
            "Epoch 148/400\n",
            "8/8 [==============================] - 1s 176ms/step - loss: 0.0052 - dense_loss: 0.0047 - dense_1_loss: 0.5806 - dense_rmse: 0.0966 - dense_accuracy: 0.0000e+00 - dense_1_rmse: 0.0694 - dense_1_accuracy: 0.0000e+00 - val_loss: 0.0084 - val_dense_loss: 0.0077 - val_dense_1_loss: 0.6648 - val_dense_rmse: 0.1243 - val_dense_accuracy: 0.0000e+00 - val_dense_1_rmse: 0.0775 - val_dense_1_accuracy: 0.0000e+00\n",
            "Epoch 149/400\n",
            "8/8 [==============================] - 1s 170ms/step - loss: 0.0054 - dense_loss: 0.0048 - dense_1_loss: 0.5797 - dense_rmse: 0.0981 - dense_accuracy: 0.0000e+00 - dense_1_rmse: 0.0662 - dense_1_accuracy: 0.0000e+00 - val_loss: 0.0086 - val_dense_loss: 0.0080 - val_dense_1_loss: 0.6616 - val_dense_rmse: 0.1264 - val_dense_accuracy: 0.0000e+00 - val_dense_1_rmse: 0.0702 - val_dense_1_accuracy: 0.0000e+00\n",
            "Epoch 150/400\n",
            "8/8 [==============================] - 1s 174ms/step - loss: 0.0058 - dense_loss: 0.0052 - dense_1_loss: 0.5798 - dense_rmse: 0.1022 - dense_accuracy: 0.0000e+00 - dense_1_rmse: 0.0672 - dense_1_accuracy: 0.0000e+00 - val_loss: 0.0101 - val_dense_loss: 0.0094 - val_dense_1_loss: 0.6622 - val_dense_rmse: 0.1373 - val_dense_accuracy: 0.0000e+00 - val_dense_1_rmse: 0.0711 - val_dense_1_accuracy: 0.0000e+00\n",
            "Epoch 151/400\n",
            "8/8 [==============================] - 1s 175ms/step - loss: 0.0054 - dense_loss: 0.0048 - dense_1_loss: 0.5782 - dense_rmse: 0.0982 - dense_accuracy: 0.0000e+00 - dense_1_rmse: 0.0618 - dense_1_accuracy: 0.0000e+00 - val_loss: 0.0077 - val_dense_loss: 0.0070 - val_dense_1_loss: 0.6614 - val_dense_rmse: 0.1187 - val_dense_accuracy: 0.0000e+00 - val_dense_1_rmse: 0.0690 - val_dense_1_accuracy: 0.0000e+00\n",
            "Epoch 152/400\n",
            "8/8 [==============================] - 1s 175ms/step - loss: 0.0043 - dense_loss: 0.0037 - dense_1_loss: 0.5782 - dense_rmse: 0.0865 - dense_accuracy: 0.0000e+00 - dense_1_rmse: 0.0618 - dense_1_accuracy: 0.0000e+00 - val_loss: 0.0072 - val_dense_loss: 0.0066 - val_dense_1_loss: 0.6635 - val_dense_rmse: 0.1145 - val_dense_accuracy: 0.0000e+00 - val_dense_1_rmse: 0.0744 - val_dense_1_accuracy: 0.0000e+00\n",
            "Epoch 153/400\n",
            "8/8 [==============================] - 1s 175ms/step - loss: 0.0040 - dense_loss: 0.0034 - dense_1_loss: 0.5775 - dense_rmse: 0.0829 - dense_accuracy: 0.0000e+00 - dense_1_rmse: 0.0604 - dense_1_accuracy: 0.0000e+00 - val_loss: 0.0075 - val_dense_loss: 0.0068 - val_dense_1_loss: 0.6624 - val_dense_rmse: 0.1168 - val_dense_accuracy: 0.0000e+00 - val_dense_1_rmse: 0.0715 - val_dense_1_accuracy: 0.0000e+00\n",
            "Epoch 154/400\n",
            "8/8 [==============================] - 1s 180ms/step - loss: 0.0040 - dense_loss: 0.0034 - dense_1_loss: 0.5779 - dense_rmse: 0.0828 - dense_accuracy: 0.0000e+00 - dense_1_rmse: 0.0613 - dense_1_accuracy: 0.0000e+00 - val_loss: 0.0077 - val_dense_loss: 0.0070 - val_dense_1_loss: 0.6629 - val_dense_rmse: 0.1186 - val_dense_accuracy: 0.0000e+00 - val_dense_1_rmse: 0.0729 - val_dense_1_accuracy: 0.0000e+00\n",
            "Epoch 155/400\n",
            "8/8 [==============================] - 1s 176ms/step - loss: 0.0041 - dense_loss: 0.0035 - dense_1_loss: 0.5778 - dense_rmse: 0.0838 - dense_accuracy: 0.0000e+00 - dense_1_rmse: 0.0617 - dense_1_accuracy: 0.0000e+00 - val_loss: 0.0072 - val_dense_loss: 0.0066 - val_dense_1_loss: 0.6621 - val_dense_rmse: 0.1145 - val_dense_accuracy: 0.0000e+00 - val_dense_1_rmse: 0.0717 - val_dense_1_accuracy: 0.0000e+00\n",
            "Epoch 156/400\n",
            "8/8 [==============================] - 1s 177ms/step - loss: 0.0039 - dense_loss: 0.0033 - dense_1_loss: 0.5784 - dense_rmse: 0.0813 - dense_accuracy: 0.0000e+00 - dense_1_rmse: 0.0634 - dense_1_accuracy: 0.0000e+00 - val_loss: 0.0067 - val_dense_loss: 0.0060 - val_dense_1_loss: 0.6624 - val_dense_rmse: 0.1100 - val_dense_accuracy: 0.0000e+00 - val_dense_1_rmse: 0.0720 - val_dense_1_accuracy: 0.0000e+00\n",
            "Epoch 157/400\n",
            "8/8 [==============================] - 1s 175ms/step - loss: 0.0037 - dense_loss: 0.0032 - dense_1_loss: 0.5780 - dense_rmse: 0.0796 - dense_accuracy: 0.0000e+00 - dense_1_rmse: 0.0632 - dense_1_accuracy: 0.0000e+00 - val_loss: 0.0072 - val_dense_loss: 0.0066 - val_dense_1_loss: 0.6622 - val_dense_rmse: 0.1145 - val_dense_accuracy: 0.0000e+00 - val_dense_1_rmse: 0.0716 - val_dense_1_accuracy: 0.0000e+00\n",
            "Epoch 158/400\n",
            "8/8 [==============================] - 1s 175ms/step - loss: 0.0040 - dense_loss: 0.0034 - dense_1_loss: 0.5774 - dense_rmse: 0.0827 - dense_accuracy: 0.0000e+00 - dense_1_rmse: 0.0606 - dense_1_accuracy: 0.0000e+00 - val_loss: 0.0072 - val_dense_loss: 0.0065 - val_dense_1_loss: 0.6625 - val_dense_rmse: 0.1140 - val_dense_accuracy: 0.0000e+00 - val_dense_1_rmse: 0.0718 - val_dense_1_accuracy: 0.0000e+00\n",
            "Epoch 159/400\n",
            "8/8 [==============================] - 1s 176ms/step - loss: 0.0042 - dense_loss: 0.0036 - dense_1_loss: 0.5778 - dense_rmse: 0.0850 - dense_accuracy: 0.0000e+00 - dense_1_rmse: 0.0610 - dense_1_accuracy: 0.0000e+00 - val_loss: 0.0071 - val_dense_loss: 0.0064 - val_dense_1_loss: 0.6609 - val_dense_rmse: 0.1135 - val_dense_accuracy: 0.0000e+00 - val_dense_1_rmse: 0.0673 - val_dense_1_accuracy: 0.0000e+00\n",
            "Epoch 160/400\n",
            "8/8 [==============================] - 1s 177ms/step - loss: 0.0048 - dense_loss: 0.0042 - dense_1_loss: 0.5789 - dense_rmse: 0.0917 - dense_accuracy: 0.0000e+00 - dense_1_rmse: 0.0658 - dense_1_accuracy: 0.0000e+00 - val_loss: 0.0075 - val_dense_loss: 0.0068 - val_dense_1_loss: 0.6631 - val_dense_rmse: 0.1168 - val_dense_accuracy: 0.0000e+00 - val_dense_1_rmse: 0.0741 - val_dense_1_accuracy: 0.0000e+00\n",
            "Epoch 161/400\n",
            "8/8 [==============================] - 1s 177ms/step - loss: 0.0044 - dense_loss: 0.0039 - dense_1_loss: 0.5795 - dense_rmse: 0.0879 - dense_accuracy: 0.0000e+00 - dense_1_rmse: 0.0672 - dense_1_accuracy: 0.0000e+00 - val_loss: 0.0081 - val_dense_loss: 0.0074 - val_dense_1_loss: 0.6653 - val_dense_rmse: 0.1217 - val_dense_accuracy: 0.0000e+00 - val_dense_1_rmse: 0.0779 - val_dense_1_accuracy: 0.0000e+00\n",
            "Epoch 162/400\n",
            "8/8 [==============================] - 1s 177ms/step - loss: 0.0043 - dense_loss: 0.0037 - dense_1_loss: 0.5788 - dense_rmse: 0.0863 - dense_accuracy: 0.0000e+00 - dense_1_rmse: 0.0638 - dense_1_accuracy: 0.0000e+00 - val_loss: 0.0066 - val_dense_loss: 0.0059 - val_dense_1_loss: 0.6626 - val_dense_rmse: 0.1086 - val_dense_accuracy: 0.0000e+00 - val_dense_1_rmse: 0.0721 - val_dense_1_accuracy: 0.0000e+00\n",
            "Epoch 163/400\n",
            "8/8 [==============================] - 1s 177ms/step - loss: 0.0037 - dense_loss: 0.0032 - dense_1_loss: 0.5777 - dense_rmse: 0.0794 - dense_accuracy: 0.0000e+00 - dense_1_rmse: 0.0618 - dense_1_accuracy: 0.0000e+00 - val_loss: 0.0071 - val_dense_loss: 0.0064 - val_dense_1_loss: 0.6626 - val_dense_rmse: 0.1135 - val_dense_accuracy: 0.0000e+00 - val_dense_1_rmse: 0.0719 - val_dense_1_accuracy: 0.0000e+00\n",
            "Epoch 164/400\n",
            "8/8 [==============================] - 1s 175ms/step - loss: 0.0041 - dense_loss: 0.0035 - dense_1_loss: 0.5787 - dense_rmse: 0.0835 - dense_accuracy: 0.0000e+00 - dense_1_rmse: 0.0641 - dense_1_accuracy: 0.0000e+00 - val_loss: 0.0067 - val_dense_loss: 0.0061 - val_dense_1_loss: 0.6634 - val_dense_rmse: 0.1103 - val_dense_accuracy: 0.0000e+00 - val_dense_1_rmse: 0.0752 - val_dense_1_accuracy: 0.0000e+00\n",
            "Epoch 165/400\n",
            "8/8 [==============================] - 1s 179ms/step - loss: 0.0037 - dense_loss: 0.0031 - dense_1_loss: 0.5799 - dense_rmse: 0.0791 - dense_accuracy: 0.0000e+00 - dense_1_rmse: 0.0668 - dense_1_accuracy: 0.0000e+00 - val_loss: 0.0073 - val_dense_loss: 0.0066 - val_dense_1_loss: 0.6632 - val_dense_rmse: 0.1152 - val_dense_accuracy: 0.0000e+00 - val_dense_1_rmse: 0.0754 - val_dense_1_accuracy: 0.0000e+00\n",
            "Epoch 166/400\n",
            "8/8 [==============================] - 1s 174ms/step - loss: 0.0037 - dense_loss: 0.0031 - dense_1_loss: 0.5784 - dense_rmse: 0.0790 - dense_accuracy: 0.0000e+00 - dense_1_rmse: 0.0631 - dense_1_accuracy: 0.0000e+00 - val_loss: 0.0063 - val_dense_loss: 0.0057 - val_dense_1_loss: 0.6638 - val_dense_rmse: 0.1065 - val_dense_accuracy: 0.0000e+00 - val_dense_1_rmse: 0.0746 - val_dense_1_accuracy: 0.0000e+00\n",
            "Epoch 167/400\n",
            "8/8 [==============================] - 1s 178ms/step - loss: 0.0040 - dense_loss: 0.0034 - dense_1_loss: 0.5786 - dense_rmse: 0.0828 - dense_accuracy: 0.0000e+00 - dense_1_rmse: 0.0629 - dense_1_accuracy: 0.0000e+00 - val_loss: 0.0072 - val_dense_loss: 0.0066 - val_dense_1_loss: 0.6624 - val_dense_rmse: 0.1145 - val_dense_accuracy: 0.0000e+00 - val_dense_1_rmse: 0.0718 - val_dense_1_accuracy: 0.0000e+00\n",
            "Epoch 168/400\n",
            "8/8 [==============================] - 1s 181ms/step - loss: 0.0040 - dense_loss: 0.0034 - dense_1_loss: 0.5800 - dense_rmse: 0.0827 - dense_accuracy: 0.0000e+00 - dense_1_rmse: 0.0664 - dense_1_accuracy: 0.0000e+00 - val_loss: 0.0061 - val_dense_loss: 0.0055 - val_dense_1_loss: 0.6607 - val_dense_rmse: 0.1048 - val_dense_accuracy: 0.0000e+00 - val_dense_1_rmse: 0.0684 - val_dense_1_accuracy: 0.0000e+00\n",
            "Epoch 169/400\n",
            "8/8 [==============================] - 1s 180ms/step - loss: 0.0036 - dense_loss: 0.0030 - dense_1_loss: 0.5798 - dense_rmse: 0.0780 - dense_accuracy: 0.0000e+00 - dense_1_rmse: 0.0645 - dense_1_accuracy: 0.0000e+00 - val_loss: 0.0065 - val_dense_loss: 0.0058 - val_dense_1_loss: 0.6661 - val_dense_rmse: 0.1078 - val_dense_accuracy: 0.0000e+00 - val_dense_1_rmse: 0.0793 - val_dense_1_accuracy: 0.0000e+00\n",
            "Epoch 170/400\n",
            "8/8 [==============================] - 1s 176ms/step - loss: 0.0039 - dense_loss: 0.0033 - dense_1_loss: 0.5831 - dense_rmse: 0.0811 - dense_accuracy: 0.0000e+00 - dense_1_rmse: 0.0714 - dense_1_accuracy: 0.0000e+00 - val_loss: 0.0061 - val_dense_loss: 0.0055 - val_dense_1_loss: 0.6597 - val_dense_rmse: 0.1048 - val_dense_accuracy: 0.0000e+00 - val_dense_1_rmse: 0.0648 - val_dense_1_accuracy: 0.0000e+00\n",
            "Epoch 171/400\n",
            "8/8 [==============================] - 1s 178ms/step - loss: 0.0035 - dense_loss: 0.0029 - dense_1_loss: 0.5821 - dense_rmse: 0.0760 - dense_accuracy: 0.0000e+00 - dense_1_rmse: 0.0724 - dense_1_accuracy: 0.0000e+00 - val_loss: 0.0066 - val_dense_loss: 0.0060 - val_dense_1_loss: 0.6618 - val_dense_rmse: 0.1094 - val_dense_accuracy: 0.0000e+00 - val_dense_1_rmse: 0.0692 - val_dense_1_accuracy: 0.0000e+00\n",
            "Epoch 172/400\n",
            "8/8 [==============================] - 1s 174ms/step - loss: 0.0032 - dense_loss: 0.0026 - dense_1_loss: 0.5783 - dense_rmse: 0.0721 - dense_accuracy: 0.0000e+00 - dense_1_rmse: 0.0626 - dense_1_accuracy: 0.0000e+00 - val_loss: 0.0055 - val_dense_loss: 0.0049 - val_dense_1_loss: 0.6635 - val_dense_rmse: 0.0987 - val_dense_accuracy: 0.0000e+00 - val_dense_1_rmse: 0.0741 - val_dense_1_accuracy: 0.0000e+00\n",
            "Epoch 173/400\n",
            "8/8 [==============================] - 1s 177ms/step - loss: 0.0029 - dense_loss: 0.0023 - dense_1_loss: 0.5782 - dense_rmse: 0.0682 - dense_accuracy: 0.0000e+00 - dense_1_rmse: 0.0607 - dense_1_accuracy: 0.0000e+00 - val_loss: 0.0053 - val_dense_loss: 0.0046 - val_dense_1_loss: 0.6599 - val_dense_rmse: 0.0963 - val_dense_accuracy: 0.0000e+00 - val_dense_1_rmse: 0.0654 - val_dense_1_accuracy: 0.0000e+00\n",
            "Epoch 174/400\n",
            "8/8 [==============================] - 1s 173ms/step - loss: 0.0028 - dense_loss: 0.0022 - dense_1_loss: 0.5768 - dense_rmse: 0.0667 - dense_accuracy: 0.0000e+00 - dense_1_rmse: 0.0590 - dense_1_accuracy: 0.0000e+00 - val_loss: 0.0051 - val_dense_loss: 0.0044 - val_dense_1_loss: 0.6613 - val_dense_rmse: 0.0938 - val_dense_accuracy: 0.0000e+00 - val_dense_1_rmse: 0.0680 - val_dense_1_accuracy: 0.0000e+00\n",
            "Epoch 175/400\n",
            "8/8 [==============================] - 1s 176ms/step - loss: 0.0027 - dense_loss: 0.0021 - dense_1_loss: 0.5764 - dense_rmse: 0.0648 - dense_accuracy: 0.0000e+00 - dense_1_rmse: 0.0559 - dense_1_accuracy: 0.0000e+00 - val_loss: 0.0051 - val_dense_loss: 0.0045 - val_dense_1_loss: 0.6630 - val_dense_rmse: 0.0946 - val_dense_accuracy: 0.0000e+00 - val_dense_1_rmse: 0.0732 - val_dense_1_accuracy: 0.0000e+00\n",
            "Epoch 176/400\n",
            "8/8 [==============================] - 1s 174ms/step - loss: 0.0027 - dense_loss: 0.0021 - dense_1_loss: 0.5759 - dense_rmse: 0.0652 - dense_accuracy: 0.0000e+00 - dense_1_rmse: 0.0555 - dense_1_accuracy: 0.0000e+00 - val_loss: 0.0054 - val_dense_loss: 0.0047 - val_dense_1_loss: 0.6590 - val_dense_rmse: 0.0971 - val_dense_accuracy: 0.0000e+00 - val_dense_1_rmse: 0.0614 - val_dense_1_accuracy: 0.0000e+00\n",
            "Epoch 177/400\n",
            "8/8 [==============================] - 1s 176ms/step - loss: 0.0029 - dense_loss: 0.0023 - dense_1_loss: 0.5764 - dense_rmse: 0.0682 - dense_accuracy: 0.0000e+00 - dense_1_rmse: 0.0573 - dense_1_accuracy: 0.0000e+00 - val_loss: 0.0056 - val_dense_loss: 0.0049 - val_dense_1_loss: 0.6623 - val_dense_rmse: 0.0993 - val_dense_accuracy: 0.0000e+00 - val_dense_1_rmse: 0.0707 - val_dense_1_accuracy: 0.0000e+00\n",
            "Epoch 178/400\n",
            "8/8 [==============================] - 1s 170ms/step - loss: 0.0031 - dense_loss: 0.0025 - dense_1_loss: 0.5764 - dense_rmse: 0.0708 - dense_accuracy: 0.0000e+00 - dense_1_rmse: 0.0564 - dense_1_accuracy: 0.0000e+00 - val_loss: 0.0058 - val_dense_loss: 0.0052 - val_dense_1_loss: 0.6606 - val_dense_rmse: 0.1019 - val_dense_accuracy: 0.0000e+00 - val_dense_1_rmse: 0.0660 - val_dense_1_accuracy: 0.0000e+00\n",
            "Epoch 179/400\n",
            "8/8 [==============================] - 1s 176ms/step - loss: 0.0033 - dense_loss: 0.0027 - dense_1_loss: 0.5776 - dense_rmse: 0.0733 - dense_accuracy: 0.0000e+00 - dense_1_rmse: 0.0585 - dense_1_accuracy: 0.0000e+00 - val_loss: 0.0058 - val_dense_loss: 0.0051 - val_dense_1_loss: 0.6625 - val_dense_rmse: 0.1012 - val_dense_accuracy: 0.0000e+00 - val_dense_1_rmse: 0.0714 - val_dense_1_accuracy: 0.0000e+00\n",
            "Epoch 180/400\n",
            "8/8 [==============================] - 1s 170ms/step - loss: 0.0029 - dense_loss: 0.0023 - dense_1_loss: 0.5768 - dense_rmse: 0.0685 - dense_accuracy: 0.0000e+00 - dense_1_rmse: 0.0583 - dense_1_accuracy: 0.0000e+00 - val_loss: 0.0052 - val_dense_loss: 0.0045 - val_dense_1_loss: 0.6597 - val_dense_rmse: 0.0949 - val_dense_accuracy: 0.0000e+00 - val_dense_1_rmse: 0.0631 - val_dense_1_accuracy: 0.0000e+00\n",
            "Epoch 181/400\n",
            "8/8 [==============================] - 1s 174ms/step - loss: 0.0026 - dense_loss: 0.0021 - dense_1_loss: 0.5764 - dense_rmse: 0.0642 - dense_accuracy: 0.0000e+00 - dense_1_rmse: 0.0578 - dense_1_accuracy: 0.0000e+00 - val_loss: 0.0050 - val_dense_loss: 0.0043 - val_dense_1_loss: 0.6619 - val_dense_rmse: 0.0929 - val_dense_accuracy: 0.0000e+00 - val_dense_1_rmse: 0.0693 - val_dense_1_accuracy: 0.0000e+00\n",
            "Epoch 182/400\n",
            "8/8 [==============================] - 1s 174ms/step - loss: 0.0025 - dense_loss: 0.0019 - dense_1_loss: 0.5763 - dense_rmse: 0.0616 - dense_accuracy: 0.0000e+00 - dense_1_rmse: 0.0553 - dense_1_accuracy: 0.0000e+00 - val_loss: 0.0050 - val_dense_loss: 0.0044 - val_dense_1_loss: 0.6603 - val_dense_rmse: 0.0936 - val_dense_accuracy: 0.0000e+00 - val_dense_1_rmse: 0.0656 - val_dense_1_accuracy: 0.0000e+00\n",
            "Epoch 183/400\n",
            "8/8 [==============================] - 1s 176ms/step - loss: 0.0026 - dense_loss: 0.0020 - dense_1_loss: 0.5764 - dense_rmse: 0.0639 - dense_accuracy: 0.0000e+00 - dense_1_rmse: 0.0572 - dense_1_accuracy: 0.0000e+00 - val_loss: 0.0046 - val_dense_loss: 0.0039 - val_dense_1_loss: 0.6629 - val_dense_rmse: 0.0887 - val_dense_accuracy: 0.0000e+00 - val_dense_1_rmse: 0.0726 - val_dense_1_accuracy: 0.0000e+00\n",
            "Epoch 184/400\n",
            "8/8 [==============================] - 1s 177ms/step - loss: 0.0026 - dense_loss: 0.0020 - dense_1_loss: 0.5759 - dense_rmse: 0.0633 - dense_accuracy: 0.0000e+00 - dense_1_rmse: 0.0562 - dense_1_accuracy: 0.0000e+00 - val_loss: 0.0043 - val_dense_loss: 0.0036 - val_dense_1_loss: 0.6593 - val_dense_rmse: 0.0851 - val_dense_accuracy: 0.0000e+00 - val_dense_1_rmse: 0.0625 - val_dense_1_accuracy: 0.0000e+00\n",
            "Epoch 185/400\n",
            "8/8 [==============================] - 1s 178ms/step - loss: 0.0023 - dense_loss: 0.0017 - dense_1_loss: 0.5755 - dense_rmse: 0.0590 - dense_accuracy: 0.0000e+00 - dense_1_rmse: 0.0537 - dense_1_accuracy: 0.0000e+00 - val_loss: 0.0043 - val_dense_loss: 0.0037 - val_dense_1_loss: 0.6615 - val_dense_rmse: 0.0855 - val_dense_accuracy: 0.0000e+00 - val_dense_1_rmse: 0.0679 - val_dense_1_accuracy: 0.0000e+00\n",
            "Epoch 186/400\n",
            "8/8 [==============================] - 1s 179ms/step - loss: 0.0023 - dense_loss: 0.0017 - dense_1_loss: 0.5758 - dense_rmse: 0.0586 - dense_accuracy: 0.0000e+00 - dense_1_rmse: 0.0555 - dense_1_accuracy: 0.0000e+00 - val_loss: 0.0042 - val_dense_loss: 0.0035 - val_dense_1_loss: 0.6600 - val_dense_rmse: 0.0836 - val_dense_accuracy: 0.0000e+00 - val_dense_1_rmse: 0.0648 - val_dense_1_accuracy: 0.0000e+00\n",
            "Epoch 187/400\n",
            "8/8 [==============================] - 1s 182ms/step - loss: 0.0023 - dense_loss: 0.0017 - dense_1_loss: 0.5753 - dense_rmse: 0.0581 - dense_accuracy: 0.0000e+00 - dense_1_rmse: 0.0535 - dense_1_accuracy: 0.0000e+00 - val_loss: 0.0045 - val_dense_loss: 0.0038 - val_dense_1_loss: 0.6630 - val_dense_rmse: 0.0874 - val_dense_accuracy: 0.0000e+00 - val_dense_1_rmse: 0.0716 - val_dense_1_accuracy: 0.0000e+00\n",
            "Epoch 188/400\n",
            "8/8 [==============================] - 1s 180ms/step - loss: 0.0026 - dense_loss: 0.0020 - dense_1_loss: 0.5758 - dense_rmse: 0.0630 - dense_accuracy: 0.0000e+00 - dense_1_rmse: 0.0557 - dense_1_accuracy: 0.0000e+00 - val_loss: 0.0042 - val_dense_loss: 0.0035 - val_dense_1_loss: 0.6643 - val_dense_rmse: 0.0836 - val_dense_accuracy: 0.0000e+00 - val_dense_1_rmse: 0.0756 - val_dense_1_accuracy: 0.0000e+00\n",
            "Epoch 189/400\n",
            "8/8 [==============================] - 1s 180ms/step - loss: 0.0024 - dense_loss: 0.0018 - dense_1_loss: 0.5758 - dense_rmse: 0.0605 - dense_accuracy: 0.0000e+00 - dense_1_rmse: 0.0551 - dense_1_accuracy: 0.0000e+00 - val_loss: 0.0043 - val_dense_loss: 0.0036 - val_dense_1_loss: 0.6599 - val_dense_rmse: 0.0853 - val_dense_accuracy: 0.0000e+00 - val_dense_1_rmse: 0.0649 - val_dense_1_accuracy: 0.0000e+00\n",
            "Epoch 190/400\n",
            "8/8 [==============================] - 1s 177ms/step - loss: 0.0021 - dense_loss: 0.0016 - dense_1_loss: 0.5758 - dense_rmse: 0.0561 - dense_accuracy: 0.0000e+00 - dense_1_rmse: 0.0547 - dense_1_accuracy: 0.0000e+00 - val_loss: 0.0041 - val_dense_loss: 0.0035 - val_dense_1_loss: 0.6623 - val_dense_rmse: 0.0832 - val_dense_accuracy: 0.0000e+00 - val_dense_1_rmse: 0.0712 - val_dense_1_accuracy: 0.0000e+00\n",
            "Epoch 191/400\n",
            "8/8 [==============================] - 1s 183ms/step - loss: 0.0021 - dense_loss: 0.0015 - dense_1_loss: 0.5844 - dense_rmse: 0.0548 - dense_accuracy: 0.0000e+00 - dense_1_rmse: 0.0807 - dense_1_accuracy: 0.0000e+00 - val_loss: 0.0043 - val_dense_loss: 0.0037 - val_dense_1_loss: 0.6726 - val_dense_rmse: 0.0857 - val_dense_accuracy: 0.0000e+00 - val_dense_1_rmse: 0.0930 - val_dense_1_accuracy: 0.0000e+00\n",
            "Epoch 192/400\n",
            "8/8 [==============================] - 1s 182ms/step - loss: 0.0022 - dense_loss: 0.0016 - dense_1_loss: 0.5825 - dense_rmse: 0.0573 - dense_accuracy: 0.0000e+00 - dense_1_rmse: 0.0757 - dense_1_accuracy: 0.0000e+00 - val_loss: 0.0045 - val_dense_loss: 0.0038 - val_dense_1_loss: 0.6673 - val_dense_rmse: 0.0877 - val_dense_accuracy: 0.0000e+00 - val_dense_1_rmse: 0.0815 - val_dense_1_accuracy: 0.0000e+00\n",
            "Epoch 193/400\n",
            "8/8 [==============================] - 1s 177ms/step - loss: 0.0025 - dense_loss: 0.0019 - dense_1_loss: 0.5854 - dense_rmse: 0.0615 - dense_accuracy: 0.0000e+00 - dense_1_rmse: 0.0825 - dense_1_accuracy: 0.0000e+00 - val_loss: 0.0040 - val_dense_loss: 0.0034 - val_dense_1_loss: 0.6641 - val_dense_rmse: 0.0819 - val_dense_accuracy: 0.0000e+00 - val_dense_1_rmse: 0.0780 - val_dense_1_accuracy: 0.0000e+00\n",
            "Epoch 194/400\n",
            "8/8 [==============================] - 1s 182ms/step - loss: 0.0023 - dense_loss: 0.0017 - dense_1_loss: 0.5815 - dense_rmse: 0.0585 - dense_accuracy: 0.0000e+00 - dense_1_rmse: 0.0712 - dense_1_accuracy: 0.0000e+00 - val_loss: 0.0039 - val_dense_loss: 0.0033 - val_dense_1_loss: 0.6638 - val_dense_rmse: 0.0809 - val_dense_accuracy: 0.0000e+00 - val_dense_1_rmse: 0.0750 - val_dense_1_accuracy: 0.0000e+00\n",
            "Epoch 195/400\n",
            "8/8 [==============================] - 1s 171ms/step - loss: 0.0022 - dense_loss: 0.0016 - dense_1_loss: 0.5782 - dense_rmse: 0.0569 - dense_accuracy: 0.0000e+00 - dense_1_rmse: 0.0630 - dense_1_accuracy: 0.0000e+00 - val_loss: 0.0037 - val_dense_loss: 0.0030 - val_dense_1_loss: 0.6607 - val_dense_rmse: 0.0781 - val_dense_accuracy: 0.0000e+00 - val_dense_1_rmse: 0.0671 - val_dense_1_accuracy: 0.0000e+00\n",
            "Epoch 196/400\n",
            "8/8 [==============================] - 1s 177ms/step - loss: 0.0019 - dense_loss: 0.0013 - dense_1_loss: 0.5762 - dense_rmse: 0.0512 - dense_accuracy: 0.0000e+00 - dense_1_rmse: 0.0560 - dense_1_accuracy: 0.0000e+00 - val_loss: 0.0035 - val_dense_loss: 0.0028 - val_dense_1_loss: 0.6605 - val_dense_rmse: 0.0748 - val_dense_accuracy: 0.0000e+00 - val_dense_1_rmse: 0.0660 - val_dense_1_accuracy: 0.0000e+00\n",
            "Epoch 197/400\n",
            "8/8 [==============================] - 1s 175ms/step - loss: 0.0018 - dense_loss: 0.0012 - dense_1_loss: 0.5757 - dense_rmse: 0.0487 - dense_accuracy: 0.0000e+00 - dense_1_rmse: 0.0548 - dense_1_accuracy: 0.0000e+00 - val_loss: 0.0034 - val_dense_loss: 0.0027 - val_dense_1_loss: 0.6619 - val_dense_rmse: 0.0734 - val_dense_accuracy: 0.0000e+00 - val_dense_1_rmse: 0.0695 - val_dense_1_accuracy: 0.0000e+00\n",
            "Epoch 198/400\n",
            "8/8 [==============================] - 1s 180ms/step - loss: 0.0018 - dense_loss: 0.0012 - dense_1_loss: 0.5750 - dense_rmse: 0.0496 - dense_accuracy: 0.0000e+00 - dense_1_rmse: 0.0525 - dense_1_accuracy: 0.0000e+00 - val_loss: 0.0035 - val_dense_loss: 0.0029 - val_dense_1_loss: 0.6598 - val_dense_rmse: 0.0757 - val_dense_accuracy: 0.0000e+00 - val_dense_1_rmse: 0.0638 - val_dense_1_accuracy: 0.0000e+00\n",
            "Epoch 199/400\n",
            "8/8 [==============================] - 1s 178ms/step - loss: 0.0018 - dense_loss: 0.0012 - dense_1_loss: 0.5745 - dense_rmse: 0.0493 - dense_accuracy: 0.0000e+00 - dense_1_rmse: 0.0509 - dense_1_accuracy: 0.0000e+00 - val_loss: 0.0033 - val_dense_loss: 0.0026 - val_dense_1_loss: 0.6639 - val_dense_rmse: 0.0727 - val_dense_accuracy: 0.0000e+00 - val_dense_1_rmse: 0.0749 - val_dense_1_accuracy: 0.0000e+00\n",
            "Epoch 200/400\n",
            "8/8 [==============================] - 1s 172ms/step - loss: 0.0016 - dense_loss: 0.0011 - dense_1_loss: 0.5745 - dense_rmse: 0.0463 - dense_accuracy: 0.0000e+00 - dense_1_rmse: 0.0509 - dense_1_accuracy: 0.0000e+00 - val_loss: 0.0032 - val_dense_loss: 0.0025 - val_dense_1_loss: 0.6595 - val_dense_rmse: 0.0708 - val_dense_accuracy: 0.0000e+00 - val_dense_1_rmse: 0.0630 - val_dense_1_accuracy: 0.0000e+00\n",
            "Epoch 201/400\n",
            "8/8 [==============================] - 1s 176ms/step - loss: 0.0016 - dense_loss: 0.0010 - dense_1_loss: 0.5743 - dense_rmse: 0.0455 - dense_accuracy: 0.0000e+00 - dense_1_rmse: 0.0504 - dense_1_accuracy: 0.0000e+00 - val_loss: 0.0032 - val_dense_loss: 0.0025 - val_dense_1_loss: 0.6602 - val_dense_rmse: 0.0706 - val_dense_accuracy: 0.0000e+00 - val_dense_1_rmse: 0.0652 - val_dense_1_accuracy: 0.0000e+00\n",
            "Epoch 202/400\n",
            "8/8 [==============================] - 1s 178ms/step - loss: 0.0018 - dense_loss: 0.0012 - dense_1_loss: 0.5749 - dense_rmse: 0.0488 - dense_accuracy: 0.0000e+00 - dense_1_rmse: 0.0512 - dense_1_accuracy: 0.0000e+00 - val_loss: 0.0028 - val_dense_loss: 0.0022 - val_dense_1_loss: 0.6595 - val_dense_rmse: 0.0661 - val_dense_accuracy: 0.0000e+00 - val_dense_1_rmse: 0.0623 - val_dense_1_accuracy: 0.0000e+00\n",
            "Epoch 203/400\n",
            "8/8 [==============================] - 1s 175ms/step - loss: 0.0017 - dense_loss: 0.0012 - dense_1_loss: 0.5744 - dense_rmse: 0.0484 - dense_accuracy: 0.0000e+00 - dense_1_rmse: 0.0502 - dense_1_accuracy: 0.0000e+00 - val_loss: 0.0032 - val_dense_loss: 0.0025 - val_dense_1_loss: 0.6611 - val_dense_rmse: 0.0709 - val_dense_accuracy: 0.0000e+00 - val_dense_1_rmse: 0.0677 - val_dense_1_accuracy: 0.0000e+00\n",
            "Epoch 204/400\n",
            "8/8 [==============================] - 1s 177ms/step - loss: 0.0020 - dense_loss: 0.0015 - dense_1_loss: 0.5740 - dense_rmse: 0.0540 - dense_accuracy: 0.0000e+00 - dense_1_rmse: 0.0493 - dense_1_accuracy: 0.0000e+00 - val_loss: 0.0030 - val_dense_loss: 0.0023 - val_dense_1_loss: 0.6594 - val_dense_rmse: 0.0680 - val_dense_accuracy: 0.0000e+00 - val_dense_1_rmse: 0.0626 - val_dense_1_accuracy: 0.0000e+00\n",
            "Epoch 205/400\n",
            "8/8 [==============================] - 1s 175ms/step - loss: 0.0022 - dense_loss: 0.0016 - dense_1_loss: 0.5747 - dense_rmse: 0.0566 - dense_accuracy: 0.0000e+00 - dense_1_rmse: 0.0515 - dense_1_accuracy: 0.0000e+00 - val_loss: 0.0033 - val_dense_loss: 0.0026 - val_dense_1_loss: 0.6589 - val_dense_rmse: 0.0727 - val_dense_accuracy: 0.0000e+00 - val_dense_1_rmse: 0.0611 - val_dense_1_accuracy: 0.0000e+00\n",
            "Epoch 206/400\n",
            "8/8 [==============================] - 1s 182ms/step - loss: 0.0024 - dense_loss: 0.0018 - dense_1_loss: 0.5744 - dense_rmse: 0.0604 - dense_accuracy: 0.0000e+00 - dense_1_rmse: 0.0502 - dense_1_accuracy: 0.0000e+00 - val_loss: 0.0034 - val_dense_loss: 0.0028 - val_dense_1_loss: 0.6617 - val_dense_rmse: 0.0746 - val_dense_accuracy: 0.0000e+00 - val_dense_1_rmse: 0.0684 - val_dense_1_accuracy: 0.0000e+00\n",
            "Epoch 207/400\n",
            "8/8 [==============================] - 1s 177ms/step - loss: 0.0021 - dense_loss: 0.0015 - dense_1_loss: 0.5739 - dense_rmse: 0.0547 - dense_accuracy: 0.0000e+00 - dense_1_rmse: 0.0491 - dense_1_accuracy: 0.0000e+00 - val_loss: 0.0032 - val_dense_loss: 0.0026 - val_dense_1_loss: 0.6593 - val_dense_rmse: 0.0719 - val_dense_accuracy: 0.0000e+00 - val_dense_1_rmse: 0.0625 - val_dense_1_accuracy: 0.0000e+00\n",
            "Epoch 208/400\n",
            "8/8 [==============================] - 1s 177ms/step - loss: 0.0020 - dense_loss: 0.0014 - dense_1_loss: 0.5740 - dense_rmse: 0.0527 - dense_accuracy: 0.0000e+00 - dense_1_rmse: 0.0490 - dense_1_accuracy: 0.0000e+00 - val_loss: 0.0031 - val_dense_loss: 0.0025 - val_dense_1_loss: 0.6591 - val_dense_rmse: 0.0702 - val_dense_accuracy: 0.0000e+00 - val_dense_1_rmse: 0.0619 - val_dense_1_accuracy: 0.0000e+00\n",
            "Epoch 209/400\n",
            "8/8 [==============================] - 1s 179ms/step - loss: 0.0018 - dense_loss: 0.0012 - dense_1_loss: 0.5734 - dense_rmse: 0.0497 - dense_accuracy: 0.0000e+00 - dense_1_rmse: 0.0464 - dense_1_accuracy: 0.0000e+00 - val_loss: 0.0034 - val_dense_loss: 0.0027 - val_dense_1_loss: 0.6586 - val_dense_rmse: 0.0735 - val_dense_accuracy: 0.0000e+00 - val_dense_1_rmse: 0.0598 - val_dense_1_accuracy: 0.0000e+00\n",
            "Epoch 210/400\n",
            "8/8 [==============================] - 1s 175ms/step - loss: 0.0019 - dense_loss: 0.0013 - dense_1_loss: 0.5742 - dense_rmse: 0.0509 - dense_accuracy: 0.0000e+00 - dense_1_rmse: 0.0491 - dense_1_accuracy: 0.0000e+00 - val_loss: 0.0032 - val_dense_loss: 0.0025 - val_dense_1_loss: 0.6604 - val_dense_rmse: 0.0709 - val_dense_accuracy: 0.0000e+00 - val_dense_1_rmse: 0.0650 - val_dense_1_accuracy: 0.0000e+00\n",
            "Epoch 211/400\n",
            "8/8 [==============================] - 1s 180ms/step - loss: 0.0016 - dense_loss: 0.0011 - dense_1_loss: 0.5736 - dense_rmse: 0.0463 - dense_accuracy: 0.0000e+00 - dense_1_rmse: 0.0476 - dense_1_accuracy: 0.0000e+00 - val_loss: 0.0033 - val_dense_loss: 0.0026 - val_dense_1_loss: 0.6597 - val_dense_rmse: 0.0725 - val_dense_accuracy: 0.0000e+00 - val_dense_1_rmse: 0.0641 - val_dense_1_accuracy: 0.0000e+00\n",
            "Epoch 212/400\n",
            "8/8 [==============================] - 1s 177ms/step - loss: 0.0019 - dense_loss: 0.0013 - dense_1_loss: 0.5735 - dense_rmse: 0.0509 - dense_accuracy: 0.0000e+00 - dense_1_rmse: 0.0472 - dense_1_accuracy: 0.0000e+00 - val_loss: 0.0028 - val_dense_loss: 0.0022 - val_dense_1_loss: 0.6605 - val_dense_rmse: 0.0660 - val_dense_accuracy: 0.0000e+00 - val_dense_1_rmse: 0.0658 - val_dense_1_accuracy: 0.0000e+00\n",
            "Epoch 213/400\n",
            "8/8 [==============================] - 1s 181ms/step - loss: 0.0020 - dense_loss: 0.0014 - dense_1_loss: 0.5743 - dense_rmse: 0.0531 - dense_accuracy: 0.0000e+00 - dense_1_rmse: 0.0490 - dense_1_accuracy: 0.0000e+00 - val_loss: 0.0028 - val_dense_loss: 0.0021 - val_dense_1_loss: 0.6600 - val_dense_rmse: 0.0653 - val_dense_accuracy: 0.0000e+00 - val_dense_1_rmse: 0.0643 - val_dense_1_accuracy: 0.0000e+00\n",
            "Epoch 214/400\n",
            "8/8 [==============================] - 1s 181ms/step - loss: 0.0019 - dense_loss: 0.0013 - dense_1_loss: 0.5741 - dense_rmse: 0.0513 - dense_accuracy: 0.0000e+00 - dense_1_rmse: 0.0505 - dense_1_accuracy: 0.0000e+00 - val_loss: 0.0032 - val_dense_loss: 0.0025 - val_dense_1_loss: 0.6575 - val_dense_rmse: 0.0710 - val_dense_accuracy: 0.0000e+00 - val_dense_1_rmse: 0.0558 - val_dense_1_accuracy: 0.0000e+00\n",
            "Epoch 215/400\n",
            "8/8 [==============================] - 1s 178ms/step - loss: 0.0017 - dense_loss: 0.0012 - dense_1_loss: 0.5734 - dense_rmse: 0.0481 - dense_accuracy: 0.0000e+00 - dense_1_rmse: 0.0475 - dense_1_accuracy: 0.0000e+00 - val_loss: 0.0029 - val_dense_loss: 0.0023 - val_dense_1_loss: 0.6584 - val_dense_rmse: 0.0677 - val_dense_accuracy: 0.0000e+00 - val_dense_1_rmse: 0.0599 - val_dense_1_accuracy: 0.0000e+00\n",
            "Epoch 216/400\n",
            "8/8 [==============================] - 1s 177ms/step - loss: 0.0016 - dense_loss: 0.0011 - dense_1_loss: 0.5742 - dense_rmse: 0.0462 - dense_accuracy: 0.0000e+00 - dense_1_rmse: 0.0496 - dense_1_accuracy: 0.0000e+00 - val_loss: 0.0024 - val_dense_loss: 0.0017 - val_dense_1_loss: 0.6583 - val_dense_rmse: 0.0591 - val_dense_accuracy: 0.0000e+00 - val_dense_1_rmse: 0.0588 - val_dense_1_accuracy: 0.0000e+00\n",
            "Epoch 217/400\n",
            "8/8 [==============================] - 1s 178ms/step - loss: 0.0015 - dense_loss: 9.1502e-04 - dense_1_loss: 0.5733 - dense_rmse: 0.0428 - dense_accuracy: 0.0000e+00 - dense_1_rmse: 0.0460 - dense_1_accuracy: 0.0000e+00 - val_loss: 0.0022 - val_dense_loss: 0.0015 - val_dense_1_loss: 0.6580 - val_dense_rmse: 0.0556 - val_dense_accuracy: 0.0000e+00 - val_dense_1_rmse: 0.0571 - val_dense_1_accuracy: 0.0000e+00\n",
            "Epoch 218/400\n",
            "8/8 [==============================] - 1s 179ms/step - loss: 0.0014 - dense_loss: 7.9640e-04 - dense_1_loss: 0.5731 - dense_rmse: 0.0399 - dense_accuracy: 0.0000e+00 - dense_1_rmse: 0.0455 - dense_1_accuracy: 0.0000e+00 - val_loss: 0.0026 - val_dense_loss: 0.0019 - val_dense_1_loss: 0.6584 - val_dense_rmse: 0.0618 - val_dense_accuracy: 0.0000e+00 - val_dense_1_rmse: 0.0593 - val_dense_1_accuracy: 0.0000e+00\n",
            "Epoch 219/400\n",
            "8/8 [==============================] - 1s 178ms/step - loss: 0.0014 - dense_loss: 8.5468e-04 - dense_1_loss: 0.5729 - dense_rmse: 0.0413 - dense_accuracy: 0.0000e+00 - dense_1_rmse: 0.0451 - dense_1_accuracy: 0.0000e+00 - val_loss: 0.0023 - val_dense_loss: 0.0017 - val_dense_1_loss: 0.6579 - val_dense_rmse: 0.0580 - val_dense_accuracy: 0.0000e+00 - val_dense_1_rmse: 0.0571 - val_dense_1_accuracy: 0.0000e+00\n",
            "Epoch 220/400\n",
            "8/8 [==============================] - 1s 184ms/step - loss: 0.0014 - dense_loss: 7.9475e-04 - dense_1_loss: 0.5726 - dense_rmse: 0.0399 - dense_accuracy: 0.0000e+00 - dense_1_rmse: 0.0439 - dense_1_accuracy: 0.0000e+00 - val_loss: 0.0020 - val_dense_loss: 0.0014 - val_dense_1_loss: 0.6584 - val_dense_rmse: 0.0528 - val_dense_accuracy: 0.0000e+00 - val_dense_1_rmse: 0.0587 - val_dense_1_accuracy: 0.0000e+00\n",
            "Epoch 221/400\n",
            "8/8 [==============================] - 1s 178ms/step - loss: 0.0014 - dense_loss: 7.9854e-04 - dense_1_loss: 0.5726 - dense_rmse: 0.0400 - dense_accuracy: 0.0000e+00 - dense_1_rmse: 0.0440 - dense_1_accuracy: 0.0000e+00 - val_loss: 0.0021 - val_dense_loss: 0.0015 - val_dense_1_loss: 0.6583 - val_dense_rmse: 0.0545 - val_dense_accuracy: 0.0000e+00 - val_dense_1_rmse: 0.0590 - val_dense_1_accuracy: 0.0000e+00\n",
            "Epoch 222/400\n",
            "8/8 [==============================] - 1s 176ms/step - loss: 0.0013 - dense_loss: 6.8343e-04 - dense_1_loss: 0.5728 - dense_rmse: 0.0370 - dense_accuracy: 0.0000e+00 - dense_1_rmse: 0.0447 - dense_1_accuracy: 0.0000e+00 - val_loss: 0.0021 - val_dense_loss: 0.0014 - val_dense_1_loss: 0.6583 - val_dense_rmse: 0.0536 - val_dense_accuracy: 0.0000e+00 - val_dense_1_rmse: 0.0590 - val_dense_1_accuracy: 0.0000e+00\n",
            "Epoch 223/400\n",
            "8/8 [==============================] - 1s 182ms/step - loss: 0.0012 - dense_loss: 6.6700e-04 - dense_1_loss: 0.5726 - dense_rmse: 0.0365 - dense_accuracy: 0.0000e+00 - dense_1_rmse: 0.0434 - dense_1_accuracy: 0.0000e+00 - val_loss: 0.0019 - val_dense_loss: 0.0012 - val_dense_1_loss: 0.6582 - val_dense_rmse: 0.0493 - val_dense_accuracy: 0.0000e+00 - val_dense_1_rmse: 0.0577 - val_dense_1_accuracy: 0.0000e+00\n",
            "Epoch 224/400\n",
            "8/8 [==============================] - 1s 182ms/step - loss: 0.0013 - dense_loss: 6.9237e-04 - dense_1_loss: 0.5725 - dense_rmse: 0.0372 - dense_accuracy: 0.0000e+00 - dense_1_rmse: 0.0435 - dense_1_accuracy: 0.0000e+00 - val_loss: 0.0021 - val_dense_loss: 0.0015 - val_dense_1_loss: 0.6573 - val_dense_rmse: 0.0544 - val_dense_accuracy: 0.0000e+00 - val_dense_1_rmse: 0.0547 - val_dense_1_accuracy: 0.0000e+00\n",
            "Epoch 225/400\n",
            "8/8 [==============================] - 1s 179ms/step - loss: 0.0012 - dense_loss: 6.6625e-04 - dense_1_loss: 0.5724 - dense_rmse: 0.0365 - dense_accuracy: 0.0000e+00 - dense_1_rmse: 0.0423 - dense_1_accuracy: 0.0000e+00 - val_loss: 0.0022 - val_dense_loss: 0.0016 - val_dense_1_loss: 0.6576 - val_dense_rmse: 0.0559 - val_dense_accuracy: 0.0000e+00 - val_dense_1_rmse: 0.0565 - val_dense_1_accuracy: 0.0000e+00\n",
            "Epoch 226/400\n",
            "8/8 [==============================] - 1s 179ms/step - loss: 0.0014 - dense_loss: 8.5725e-04 - dense_1_loss: 0.5729 - dense_rmse: 0.0414 - dense_accuracy: 0.0000e+00 - dense_1_rmse: 0.0441 - dense_1_accuracy: 0.0000e+00 - val_loss: 0.0033 - val_dense_loss: 0.0026 - val_dense_1_loss: 0.6580 - val_dense_rmse: 0.0728 - val_dense_accuracy: 0.0000e+00 - val_dense_1_rmse: 0.0576 - val_dense_1_accuracy: 0.0000e+00\n",
            "Epoch 227/400\n",
            "8/8 [==============================] - 1s 181ms/step - loss: 0.0020 - dense_loss: 0.0014 - dense_1_loss: 0.5727 - dense_rmse: 0.0533 - dense_accuracy: 0.0000e+00 - dense_1_rmse: 0.0437 - dense_1_accuracy: 0.0000e+00 - val_loss: 0.0030 - val_dense_loss: 0.0023 - val_dense_1_loss: 0.6575 - val_dense_rmse: 0.0679 - val_dense_accuracy: 0.0000e+00 - val_dense_1_rmse: 0.0555 - val_dense_1_accuracy: 0.0000e+00\n",
            "Epoch 228/400\n",
            "8/8 [==============================] - 1s 179ms/step - loss: 0.0018 - dense_loss: 0.0012 - dense_1_loss: 0.5736 - dense_rmse: 0.0487 - dense_accuracy: 0.0000e+00 - dense_1_rmse: 0.0455 - dense_1_accuracy: 0.0000e+00 - val_loss: 0.0037 - val_dense_loss: 0.0031 - val_dense_1_loss: 0.6607 - val_dense_rmse: 0.0783 - val_dense_accuracy: 0.0000e+00 - val_dense_1_rmse: 0.0675 - val_dense_1_accuracy: 0.0000e+00\n",
            "Epoch 229/400\n",
            "8/8 [==============================] - 1s 183ms/step - loss: 0.0018 - dense_loss: 0.0013 - dense_1_loss: 0.5738 - dense_rmse: 0.0500 - dense_accuracy: 0.0000e+00 - dense_1_rmse: 0.0485 - dense_1_accuracy: 0.0000e+00 - val_loss: 0.0025 - val_dense_loss: 0.0018 - val_dense_1_loss: 0.6611 - val_dense_rmse: 0.0607 - val_dense_accuracy: 0.0000e+00 - val_dense_1_rmse: 0.0701 - val_dense_1_accuracy: 0.0000e+00\n",
            "Epoch 230/400\n",
            "8/8 [==============================] - 1s 184ms/step - loss: 0.0016 - dense_loss: 9.8975e-04 - dense_1_loss: 0.5793 - dense_rmse: 0.0445 - dense_accuracy: 0.0000e+00 - dense_1_rmse: 0.0665 - dense_1_accuracy: 0.0000e+00 - val_loss: 0.0021 - val_dense_loss: 0.0014 - val_dense_1_loss: 0.6620 - val_dense_rmse: 0.0534 - val_dense_accuracy: 0.0000e+00 - val_dense_1_rmse: 0.0699 - val_dense_1_accuracy: 0.0000e+00\n",
            "Epoch 231/400\n",
            "8/8 [==============================] - 1s 177ms/step - loss: 0.0013 - dense_loss: 6.9801e-04 - dense_1_loss: 0.5761 - dense_rmse: 0.0374 - dense_accuracy: 0.0000e+00 - dense_1_rmse: 0.0547 - dense_1_accuracy: 0.0000e+00 - val_loss: 0.0017 - val_dense_loss: 0.0011 - val_dense_1_loss: 0.6578 - val_dense_rmse: 0.0458 - val_dense_accuracy: 0.0000e+00 - val_dense_1_rmse: 0.0564 - val_dense_1_accuracy: 0.0000e+00\n",
            "Epoch 232/400\n",
            "8/8 [==============================] - 1s 177ms/step - loss: 0.0012 - dense_loss: 6.0682e-04 - dense_1_loss: 0.5745 - dense_rmse: 0.0348 - dense_accuracy: 0.0000e+00 - dense_1_rmse: 0.0488 - dense_1_accuracy: 0.0000e+00 - val_loss: 0.0020 - val_dense_loss: 0.0013 - val_dense_1_loss: 0.6597 - val_dense_rmse: 0.0509 - val_dense_accuracy: 0.0000e+00 - val_dense_1_rmse: 0.0649 - val_dense_1_accuracy: 0.0000e+00\n",
            "Epoch 233/400\n",
            "8/8 [==============================] - 1s 184ms/step - loss: 0.0012 - dense_loss: 6.2176e-04 - dense_1_loss: 0.5741 - dense_rmse: 0.0353 - dense_accuracy: 0.0000e+00 - dense_1_rmse: 0.0490 - dense_1_accuracy: 0.0000e+00 - val_loss: 0.0019 - val_dense_loss: 0.0013 - val_dense_1_loss: 0.6586 - val_dense_rmse: 0.0500 - val_dense_accuracy: 0.0000e+00 - val_dense_1_rmse: 0.0599 - val_dense_1_accuracy: 0.0000e+00\n",
            "Epoch 234/400\n",
            "8/8 [==============================] - 1s 181ms/step - loss: 0.0011 - dense_loss: 4.9890e-04 - dense_1_loss: 0.5888 - dense_rmse: 0.0316 - dense_accuracy: 0.0000e+00 - dense_1_rmse: 0.0934 - dense_1_accuracy: 0.0000e+00 - val_loss: 0.0017 - val_dense_loss: 0.0011 - val_dense_1_loss: 0.6685 - val_dense_rmse: 0.0464 - val_dense_accuracy: 0.0000e+00 - val_dense_1_rmse: 0.0884 - val_dense_1_accuracy: 0.0000e+00\n",
            "Epoch 235/400\n",
            "8/8 [==============================] - 1s 177ms/step - loss: 0.0011 - dense_loss: 4.7756e-04 - dense_1_loss: 0.5961 - dense_rmse: 0.0309 - dense_accuracy: 0.0000e+00 - dense_1_rmse: 0.0982 - dense_1_accuracy: 0.0000e+00 - val_loss: 0.0017 - val_dense_loss: 0.0010 - val_dense_1_loss: 0.6707 - val_dense_rmse: 0.0448 - val_dense_accuracy: 0.0000e+00 - val_dense_1_rmse: 0.0960 - val_dense_1_accuracy: 0.0000e+00\n",
            "Epoch 236/400\n",
            "8/8 [==============================] - 1s 178ms/step - loss: 0.0012 - dense_loss: 6.5071e-04 - dense_1_loss: 0.5892 - dense_rmse: 0.0361 - dense_accuracy: 0.0000e+00 - dense_1_rmse: 0.0790 - dense_1_accuracy: 0.0000e+00 - val_loss: 0.0017 - val_dense_loss: 0.0011 - val_dense_1_loss: 0.6619 - val_dense_rmse: 0.0464 - val_dense_accuracy: 0.0000e+00 - val_dense_1_rmse: 0.0726 - val_dense_1_accuracy: 0.0000e+00\n",
            "Epoch 237/400\n",
            "8/8 [==============================] - 1s 174ms/step - loss: 0.0012 - dense_loss: 6.2284e-04 - dense_1_loss: 0.5787 - dense_rmse: 0.0353 - dense_accuracy: 0.0000e+00 - dense_1_rmse: 0.0631 - dense_1_accuracy: 0.0000e+00 - val_loss: 0.0017 - val_dense_loss: 0.0010 - val_dense_1_loss: 0.6598 - val_dense_rmse: 0.0451 - val_dense_accuracy: 0.0000e+00 - val_dense_1_rmse: 0.0647 - val_dense_1_accuracy: 0.0000e+00\n",
            "Epoch 238/400\n",
            "8/8 [==============================] - 1s 174ms/step - loss: 0.0011 - dense_loss: 5.6846e-04 - dense_1_loss: 0.5756 - dense_rmse: 0.0337 - dense_accuracy: 0.0000e+00 - dense_1_rmse: 0.0541 - dense_1_accuracy: 0.0000e+00 - val_loss: 0.0016 - val_dense_loss: 9.3312e-04 - val_dense_1_loss: 0.6586 - val_dense_rmse: 0.0432 - val_dense_accuracy: 0.0000e+00 - val_dense_1_rmse: 0.0598 - val_dense_1_accuracy: 0.0000e+00\n",
            "Epoch 239/400\n",
            "8/8 [==============================] - 1s 181ms/step - loss: 0.0012 - dense_loss: 6.1543e-04 - dense_1_loss: 0.5743 - dense_rmse: 0.0351 - dense_accuracy: 0.0000e+00 - dense_1_rmse: 0.0496 - dense_1_accuracy: 0.0000e+00 - val_loss: 0.0016 - val_dense_loss: 9.0876e-04 - val_dense_1_loss: 0.6577 - val_dense_rmse: 0.0426 - val_dense_accuracy: 0.0000e+00 - val_dense_1_rmse: 0.0565 - val_dense_1_accuracy: 0.0000e+00\n",
            "Epoch 240/400\n",
            "8/8 [==============================] - 1s 180ms/step - loss: 0.0010 - dense_loss: 4.7086e-04 - dense_1_loss: 0.5732 - dense_rmse: 0.0307 - dense_accuracy: 0.0000e+00 - dense_1_rmse: 0.0455 - dense_1_accuracy: 0.0000e+00 - val_loss: 0.0014 - val_dense_loss: 7.9095e-04 - val_dense_1_loss: 0.6578 - val_dense_rmse: 0.0398 - val_dense_accuracy: 0.0000e+00 - val_dense_1_rmse: 0.0571 - val_dense_1_accuracy: 0.0000e+00\n",
            "Epoch 241/400\n",
            "8/8 [==============================] - 1s 178ms/step - loss: 0.0010 - dense_loss: 4.6994e-04 - dense_1_loss: 0.5729 - dense_rmse: 0.0307 - dense_accuracy: 0.0000e+00 - dense_1_rmse: 0.0442 - dense_1_accuracy: 0.0000e+00 - val_loss: 0.0014 - val_dense_loss: 7.6529e-04 - val_dense_1_loss: 0.6570 - val_dense_rmse: 0.0391 - val_dense_accuracy: 0.0000e+00 - val_dense_1_rmse: 0.0538 - val_dense_1_accuracy: 0.0000e+00\n",
            "Epoch 242/400\n",
            "8/8 [==============================] - 1s 179ms/step - loss: 0.0011 - dense_loss: 5.1452e-04 - dense_1_loss: 0.5734 - dense_rmse: 0.0321 - dense_accuracy: 0.0000e+00 - dense_1_rmse: 0.0448 - dense_1_accuracy: 0.0000e+00 - val_loss: 0.0016 - val_dense_loss: 9.4189e-04 - val_dense_1_loss: 0.6578 - val_dense_rmse: 0.0434 - val_dense_accuracy: 0.0000e+00 - val_dense_1_rmse: 0.0561 - val_dense_1_accuracy: 0.0000e+00\n",
            "Epoch 243/400\n",
            "8/8 [==============================] - 1s 178ms/step - loss: 9.9148e-04 - dense_loss: 4.1934e-04 - dense_1_loss: 0.5726 - dense_rmse: 0.0290 - dense_accuracy: 0.0000e+00 - dense_1_rmse: 0.0420 - dense_1_accuracy: 0.0000e+00 - val_loss: 0.0017 - val_dense_loss: 0.0011 - val_dense_1_loss: 0.6574 - val_dense_rmse: 0.0463 - val_dense_accuracy: 0.0000e+00 - val_dense_1_rmse: 0.0549 - val_dense_1_accuracy: 0.0000e+00\n",
            "Epoch 244/400\n",
            "8/8 [==============================] - 1s 176ms/step - loss: 0.0011 - dense_loss: 4.9119e-04 - dense_1_loss: 0.5720 - dense_rmse: 0.0313 - dense_accuracy: 0.0000e+00 - dense_1_rmse: 0.0403 - dense_1_accuracy: 0.0000e+00 - val_loss: 0.0015 - val_dense_loss: 7.9375e-04 - val_dense_1_loss: 0.6573 - val_dense_rmse: 0.0398 - val_dense_accuracy: 0.0000e+00 - val_dense_1_rmse: 0.0546 - val_dense_1_accuracy: 0.0000e+00\n",
            "Epoch 245/400\n",
            "8/8 [==============================] - 1s 184ms/step - loss: 0.0010 - dense_loss: 4.6555e-04 - dense_1_loss: 0.5720 - dense_rmse: 0.0305 - dense_accuracy: 0.0000e+00 - dense_1_rmse: 0.0404 - dense_1_accuracy: 0.0000e+00 - val_loss: 0.0014 - val_dense_loss: 7.5463e-04 - val_dense_1_loss: 0.6567 - val_dense_rmse: 0.0388 - val_dense_accuracy: 0.0000e+00 - val_dense_1_rmse: 0.0522 - val_dense_1_accuracy: 0.0000e+00\n",
            "Epoch 246/400\n",
            "8/8 [==============================] - 1s 181ms/step - loss: 9.6282e-04 - dense_loss: 3.9137e-04 - dense_1_loss: 0.5718 - dense_rmse: 0.0280 - dense_accuracy: 0.0000e+00 - dense_1_rmse: 0.0401 - dense_1_accuracy: 0.0000e+00 - val_loss: 0.0014 - val_dense_loss: 7.6325e-04 - val_dense_1_loss: 0.6575 - val_dense_rmse: 0.0391 - val_dense_accuracy: 0.0000e+00 - val_dense_1_rmse: 0.0551 - val_dense_1_accuracy: 0.0000e+00\n",
            "Epoch 247/400\n",
            "8/8 [==============================] - 1s 180ms/step - loss: 0.0010 - dense_loss: 4.4030e-04 - dense_1_loss: 0.5718 - dense_rmse: 0.0297 - dense_accuracy: 0.0000e+00 - dense_1_rmse: 0.0393 - dense_1_accuracy: 0.0000e+00 - val_loss: 0.0017 - val_dense_loss: 0.0011 - val_dense_1_loss: 0.6569 - val_dense_rmse: 0.0461 - val_dense_accuracy: 0.0000e+00 - val_dense_1_rmse: 0.0529 - val_dense_1_accuracy: 0.0000e+00\n",
            "Epoch 248/400\n",
            "8/8 [==============================] - 1s 179ms/step - loss: 0.0011 - dense_loss: 5.4668e-04 - dense_1_loss: 0.5720 - dense_rmse: 0.0331 - dense_accuracy: 0.0000e+00 - dense_1_rmse: 0.0403 - dense_1_accuracy: 0.0000e+00 - val_loss: 0.0014 - val_dense_loss: 7.4090e-04 - val_dense_1_loss: 0.6574 - val_dense_rmse: 0.0385 - val_dense_accuracy: 0.0000e+00 - val_dense_1_rmse: 0.0548 - val_dense_1_accuracy: 0.0000e+00\n",
            "Epoch 249/400\n",
            "8/8 [==============================] - 1s 179ms/step - loss: 0.0011 - dense_loss: 4.9999e-04 - dense_1_loss: 0.5717 - dense_rmse: 0.0316 - dense_accuracy: 0.0000e+00 - dense_1_rmse: 0.0393 - dense_1_accuracy: 0.0000e+00 - val_loss: 0.0017 - val_dense_loss: 0.0011 - val_dense_1_loss: 0.6563 - val_dense_rmse: 0.0462 - val_dense_accuracy: 0.0000e+00 - val_dense_1_rmse: 0.0504 - val_dense_1_accuracy: 0.0000e+00\n",
            "Epoch 250/400\n",
            "8/8 [==============================] - 1s 180ms/step - loss: 0.0010 - dense_loss: 4.5427e-04 - dense_1_loss: 0.5715 - dense_rmse: 0.0301 - dense_accuracy: 0.0000e+00 - dense_1_rmse: 0.0388 - dense_1_accuracy: 0.0000e+00 - val_loss: 0.0014 - val_dense_loss: 7.9087e-04 - val_dense_1_loss: 0.6562 - val_dense_rmse: 0.0398 - val_dense_accuracy: 0.0000e+00 - val_dense_1_rmse: 0.0498 - val_dense_1_accuracy: 0.0000e+00\n",
            "Epoch 251/400\n",
            "8/8 [==============================] - 1s 179ms/step - loss: 9.9433e-04 - dense_loss: 4.2323e-04 - dense_1_loss: 0.5715 - dense_rmse: 0.0291 - dense_accuracy: 0.0000e+00 - dense_1_rmse: 0.0374 - dense_1_accuracy: 0.0000e+00 - val_loss: 0.0016 - val_dense_loss: 8.9664e-04 - val_dense_1_loss: 0.6562 - val_dense_rmse: 0.0423 - val_dense_accuracy: 0.0000e+00 - val_dense_1_rmse: 0.0503 - val_dense_1_accuracy: 0.0000e+00\n",
            "Epoch 252/400\n",
            "8/8 [==============================] - 1s 175ms/step - loss: 9.7363e-04 - dense_loss: 4.0262e-04 - dense_1_loss: 0.5714 - dense_rmse: 0.0284 - dense_accuracy: 0.0000e+00 - dense_1_rmse: 0.0379 - dense_1_accuracy: 0.0000e+00 - val_loss: 0.0013 - val_dense_loss: 6.4371e-04 - val_dense_1_loss: 0.6563 - val_dense_rmse: 0.0359 - val_dense_accuracy: 0.0000e+00 - val_dense_1_rmse: 0.0503 - val_dense_1_accuracy: 0.0000e+00\n",
            "Epoch 253/400\n",
            "8/8 [==============================] - 1s 180ms/step - loss: 9.1545e-04 - dense_loss: 3.4450e-04 - dense_1_loss: 0.5713 - dense_rmse: 0.0262 - dense_accuracy: 0.0000e+00 - dense_1_rmse: 0.0373 - dense_1_accuracy: 0.0000e+00 - val_loss: 0.0012 - val_dense_loss: 5.5335e-04 - val_dense_1_loss: 0.6566 - val_dense_rmse: 0.0333 - val_dense_accuracy: 0.0000e+00 - val_dense_1_rmse: 0.0518 - val_dense_1_accuracy: 0.0000e+00\n",
            "Epoch 254/400\n",
            "8/8 [==============================] - 1s 177ms/step - loss: 8.6331e-04 - dense_loss: 2.9242e-04 - dense_1_loss: 0.5712 - dense_rmse: 0.0242 - dense_accuracy: 0.0000e+00 - dense_1_rmse: 0.0369 - dense_1_accuracy: 0.0000e+00 - val_loss: 0.0012 - val_dense_loss: 5.8844e-04 - val_dense_1_loss: 0.6563 - val_dense_rmse: 0.0343 - val_dense_accuracy: 0.0000e+00 - val_dense_1_rmse: 0.0505 - val_dense_1_accuracy: 0.0000e+00\n",
            "Epoch 255/400\n",
            "8/8 [==============================] - 1s 176ms/step - loss: 8.9105e-04 - dense_loss: 3.2012e-04 - dense_1_loss: 0.5713 - dense_rmse: 0.0253 - dense_accuracy: 0.0000e+00 - dense_1_rmse: 0.0372 - dense_1_accuracy: 0.0000e+00 - val_loss: 0.0013 - val_dense_loss: 5.9535e-04 - val_dense_1_loss: 0.6559 - val_dense_rmse: 0.0345 - val_dense_accuracy: 0.0000e+00 - val_dense_1_rmse: 0.0486 - val_dense_1_accuracy: 0.0000e+00\n",
            "Epoch 256/400\n",
            "8/8 [==============================] - 1s 176ms/step - loss: 9.3304e-04 - dense_loss: 3.6178e-04 - dense_1_loss: 0.5716 - dense_rmse: 0.0269 - dense_accuracy: 0.0000e+00 - dense_1_rmse: 0.0380 - dense_1_accuracy: 0.0000e+00 - val_loss: 0.0014 - val_dense_loss: 7.9420e-04 - val_dense_1_loss: 0.6564 - val_dense_rmse: 0.0399 - val_dense_accuracy: 0.0000e+00 - val_dense_1_rmse: 0.0506 - val_dense_1_accuracy: 0.0000e+00\n",
            "Epoch 257/400\n",
            "8/8 [==============================] - 1s 175ms/step - loss: 9.5322e-04 - dense_loss: 3.8227e-04 - dense_1_loss: 0.5713 - dense_rmse: 0.0277 - dense_accuracy: 0.0000e+00 - dense_1_rmse: 0.0371 - dense_1_accuracy: 0.0000e+00 - val_loss: 0.0012 - val_dense_loss: 5.8980e-04 - val_dense_1_loss: 0.6560 - val_dense_rmse: 0.0343 - val_dense_accuracy: 0.0000e+00 - val_dense_1_rmse: 0.0490 - val_dense_1_accuracy: 0.0000e+00\n",
            "Epoch 258/400\n",
            "8/8 [==============================] - 1s 174ms/step - loss: 9.4052e-04 - dense_loss: 3.6950e-04 - dense_1_loss: 0.5714 - dense_rmse: 0.0272 - dense_accuracy: 0.0000e+00 - dense_1_rmse: 0.0374 - dense_1_accuracy: 0.0000e+00 - val_loss: 0.0013 - val_dense_loss: 6.3399e-04 - val_dense_1_loss: 0.6561 - val_dense_rmse: 0.0356 - val_dense_accuracy: 0.0000e+00 - val_dense_1_rmse: 0.0498 - val_dense_1_accuracy: 0.0000e+00\n",
            "Epoch 259/400\n",
            "8/8 [==============================] - 1s 175ms/step - loss: 9.6355e-04 - dense_loss: 3.9247e-04 - dense_1_loss: 0.5715 - dense_rmse: 0.0280 - dense_accuracy: 0.0000e+00 - dense_1_rmse: 0.0380 - dense_1_accuracy: 0.0000e+00 - val_loss: 0.0012 - val_dense_loss: 5.2230e-04 - val_dense_1_loss: 0.6573 - val_dense_rmse: 0.0323 - val_dense_accuracy: 0.0000e+00 - val_dense_1_rmse: 0.0540 - val_dense_1_accuracy: 0.0000e+00\n",
            "Epoch 260/400\n",
            "8/8 [==============================] - 1s 181ms/step - loss: 8.7171e-04 - dense_loss: 3.0035e-04 - dense_1_loss: 0.5717 - dense_rmse: 0.0245 - dense_accuracy: 0.0000e+00 - dense_1_rmse: 0.0393 - dense_1_accuracy: 0.0000e+00 - val_loss: 0.0011 - val_dense_loss: 4.9255e-04 - val_dense_1_loss: 0.6561 - val_dense_rmse: 0.0314 - val_dense_accuracy: 0.0000e+00 - val_dense_1_rmse: 0.0494 - val_dense_1_accuracy: 0.0000e+00\n",
            "Epoch 261/400\n",
            "8/8 [==============================] - 1s 182ms/step - loss: 8.8860e-04 - dense_loss: 3.1746e-04 - dense_1_loss: 0.5715 - dense_rmse: 0.0252 - dense_accuracy: 0.0000e+00 - dense_1_rmse: 0.0381 - dense_1_accuracy: 0.0000e+00 - val_loss: 0.0012 - val_dense_loss: 5.0027e-04 - val_dense_1_loss: 0.6562 - val_dense_rmse: 0.0316 - val_dense_accuracy: 0.0000e+00 - val_dense_1_rmse: 0.0502 - val_dense_1_accuracy: 0.0000e+00\n",
            "Epoch 262/400\n",
            "8/8 [==============================] - 1s 177ms/step - loss: 8.7700e-04 - dense_loss: 3.0616e-04 - dense_1_loss: 0.5711 - dense_rmse: 0.0247 - dense_accuracy: 0.0000e+00 - dense_1_rmse: 0.0361 - dense_1_accuracy: 0.0000e+00 - val_loss: 0.0013 - val_dense_loss: 5.9715e-04 - val_dense_1_loss: 0.6563 - val_dense_rmse: 0.0346 - val_dense_accuracy: 0.0000e+00 - val_dense_1_rmse: 0.0504 - val_dense_1_accuracy: 0.0000e+00\n",
            "Epoch 263/400\n",
            "8/8 [==============================] - 1s 179ms/step - loss: 8.6358e-04 - dense_loss: 2.9282e-04 - dense_1_loss: 0.5711 - dense_rmse: 0.0242 - dense_accuracy: 0.0000e+00 - dense_1_rmse: 0.0364 - dense_1_accuracy: 0.0000e+00 - val_loss: 0.0012 - val_dense_loss: 5.8362e-04 - val_dense_1_loss: 0.6563 - val_dense_rmse: 0.0342 - val_dense_accuracy: 0.0000e+00 - val_dense_1_rmse: 0.0500 - val_dense_1_accuracy: 0.0000e+00\n",
            "Epoch 264/400\n",
            "8/8 [==============================] - 1s 180ms/step - loss: 8.5988e-04 - dense_loss: 2.8908e-04 - dense_1_loss: 0.5711 - dense_rmse: 0.0240 - dense_accuracy: 0.0000e+00 - dense_1_rmse: 0.0360 - dense_1_accuracy: 0.0000e+00 - val_loss: 0.0011 - val_dense_loss: 4.7345e-04 - val_dense_1_loss: 0.6553 - val_dense_rmse: 0.0308 - val_dense_accuracy: 0.0000e+00 - val_dense_1_rmse: 0.0460 - val_dense_1_accuracy: 0.0000e+00\n",
            "Epoch 265/400\n",
            "8/8 [==============================] - 1s 177ms/step - loss: 8.5463e-04 - dense_loss: 2.8418e-04 - dense_1_loss: 0.5707 - dense_rmse: 0.0238 - dense_accuracy: 0.0000e+00 - dense_1_rmse: 0.0347 - dense_1_accuracy: 0.0000e+00 - val_loss: 0.0012 - val_dense_loss: 5.7525e-04 - val_dense_1_loss: 0.6558 - val_dense_rmse: 0.0339 - val_dense_accuracy: 0.0000e+00 - val_dense_1_rmse: 0.0481 - val_dense_1_accuracy: 0.0000e+00\n",
            "Epoch 266/400\n",
            "8/8 [==============================] - 1s 180ms/step - loss: 9.4224e-04 - dense_loss: 3.7174e-04 - dense_1_loss: 0.5709 - dense_rmse: 0.0273 - dense_accuracy: 0.0000e+00 - dense_1_rmse: 0.0355 - dense_1_accuracy: 0.0000e+00 - val_loss: 0.0011 - val_dense_loss: 4.0676e-04 - val_dense_1_loss: 0.6561 - val_dense_rmse: 0.0285 - val_dense_accuracy: 0.0000e+00 - val_dense_1_rmse: 0.0492 - val_dense_1_accuracy: 0.0000e+00\n",
            "Epoch 267/400\n",
            "8/8 [==============================] - 1s 180ms/step - loss: 9.0287e-04 - dense_loss: 3.3223e-04 - dense_1_loss: 0.5710 - dense_rmse: 0.0258 - dense_accuracy: 0.0000e+00 - dense_1_rmse: 0.0357 - dense_1_accuracy: 0.0000e+00 - val_loss: 0.0011 - val_dense_loss: 4.4297e-04 - val_dense_1_loss: 0.6555 - val_dense_rmse: 0.0298 - val_dense_accuracy: 0.0000e+00 - val_dense_1_rmse: 0.0466 - val_dense_1_accuracy: 0.0000e+00\n",
            "Epoch 268/400\n",
            "8/8 [==============================] - 1s 177ms/step - loss: 9.8430e-04 - dense_loss: 4.1343e-04 - dense_1_loss: 0.5713 - dense_rmse: 0.0288 - dense_accuracy: 0.0000e+00 - dense_1_rmse: 0.0365 - dense_1_accuracy: 0.0000e+00 - val_loss: 0.0013 - val_dense_loss: 6.9178e-04 - val_dense_1_loss: 0.6559 - val_dense_rmse: 0.0372 - val_dense_accuracy: 0.0000e+00 - val_dense_1_rmse: 0.0487 - val_dense_1_accuracy: 0.0000e+00\n",
            "Epoch 269/400\n",
            "8/8 [==============================] - 1s 175ms/step - loss: 0.0013 - dense_loss: 6.9755e-04 - dense_1_loss: 0.5712 - dense_rmse: 0.0374 - dense_accuracy: 0.0000e+00 - dense_1_rmse: 0.0364 - dense_1_accuracy: 0.0000e+00 - val_loss: 0.0016 - val_dense_loss: 9.5054e-04 - val_dense_1_loss: 0.6559 - val_dense_rmse: 0.0436 - val_dense_accuracy: 0.0000e+00 - val_dense_1_rmse: 0.0488 - val_dense_1_accuracy: 0.0000e+00\n",
            "Epoch 270/400\n",
            "8/8 [==============================] - 1s 177ms/step - loss: 0.0014 - dense_loss: 8.2767e-04 - dense_1_loss: 0.5709 - dense_rmse: 0.0407 - dense_accuracy: 0.0000e+00 - dense_1_rmse: 0.0352 - dense_1_accuracy: 0.0000e+00 - val_loss: 0.0017 - val_dense_loss: 0.0011 - val_dense_1_loss: 0.6558 - val_dense_rmse: 0.0463 - val_dense_accuracy: 0.0000e+00 - val_dense_1_rmse: 0.0482 - val_dense_1_accuracy: 0.0000e+00\n",
            "Epoch 271/400\n",
            "8/8 [==============================] - 1s 175ms/step - loss: 0.0015 - dense_loss: 9.0229e-04 - dense_1_loss: 0.5713 - dense_rmse: 0.0425 - dense_accuracy: 0.0000e+00 - dense_1_rmse: 0.0367 - dense_1_accuracy: 0.0000e+00 - val_loss: 0.0021 - val_dense_loss: 0.0015 - val_dense_1_loss: 0.6555 - val_dense_rmse: 0.0542 - val_dense_accuracy: 0.0000e+00 - val_dense_1_rmse: 0.0465 - val_dense_1_accuracy: 0.0000e+00\n",
            "Epoch 272/400\n",
            "8/8 [==============================] - 1s 174ms/step - loss: 0.0016 - dense_loss: 9.9692e-04 - dense_1_loss: 0.5712 - dense_rmse: 0.0447 - dense_accuracy: 0.0000e+00 - dense_1_rmse: 0.0363 - dense_1_accuracy: 0.0000e+00 - val_loss: 0.0026 - val_dense_loss: 0.0020 - val_dense_1_loss: 0.6567 - val_dense_rmse: 0.0628 - val_dense_accuracy: 0.0000e+00 - val_dense_1_rmse: 0.0517 - val_dense_1_accuracy: 0.0000e+00\n",
            "Epoch 273/400\n",
            "8/8 [==============================] - 1s 175ms/step - loss: 0.0016 - dense_loss: 0.0010 - dense_1_loss: 0.5715 - dense_rmse: 0.0456 - dense_accuracy: 0.0000e+00 - dense_1_rmse: 0.0370 - dense_1_accuracy: 0.0000e+00 - val_loss: 0.0030 - val_dense_loss: 0.0023 - val_dense_1_loss: 0.6576 - val_dense_rmse: 0.0682 - val_dense_accuracy: 0.0000e+00 - val_dense_1_rmse: 0.0553 - val_dense_1_accuracy: 0.0000e+00\n",
            "Epoch 274/400\n",
            "8/8 [==============================] - 1s 174ms/step - loss: 0.0015 - dense_loss: 9.3491e-04 - dense_1_loss: 0.5712 - dense_rmse: 0.0432 - dense_accuracy: 0.0000e+00 - dense_1_rmse: 0.0373 - dense_1_accuracy: 0.0000e+00 - val_loss: 0.0017 - val_dense_loss: 0.0010 - val_dense_1_loss: 0.6557 - val_dense_rmse: 0.0454 - val_dense_accuracy: 0.0000e+00 - val_dense_1_rmse: 0.0477 - val_dense_1_accuracy: 0.0000e+00\n",
            "Epoch 275/400\n",
            "8/8 [==============================] - 1s 175ms/step - loss: 0.0013 - dense_loss: 7.3517e-04 - dense_1_loss: 0.5717 - dense_rmse: 0.0383 - dense_accuracy: 0.0000e+00 - dense_1_rmse: 0.0377 - dense_1_accuracy: 0.0000e+00 - val_loss: 0.0015 - val_dense_loss: 8.8689e-04 - val_dense_1_loss: 0.6564 - val_dense_rmse: 0.0421 - val_dense_accuracy: 0.0000e+00 - val_dense_1_rmse: 0.0511 - val_dense_1_accuracy: 0.0000e+00\n",
            "Epoch 276/400\n",
            "8/8 [==============================] - 1s 176ms/step - loss: 0.0013 - dense_loss: 7.2356e-04 - dense_1_loss: 0.5718 - dense_rmse: 0.0380 - dense_accuracy: 0.0000e+00 - dense_1_rmse: 0.0399 - dense_1_accuracy: 0.0000e+00 - val_loss: 0.0020 - val_dense_loss: 0.0013 - val_dense_1_loss: 0.6583 - val_dense_rmse: 0.0509 - val_dense_accuracy: 0.0000e+00 - val_dense_1_rmse: 0.0581 - val_dense_1_accuracy: 0.0000e+00\n",
            "Epoch 277/400\n",
            "8/8 [==============================] - 1s 178ms/step - loss: 0.0014 - dense_loss: 8.6763e-04 - dense_1_loss: 0.5722 - dense_rmse: 0.0417 - dense_accuracy: 0.0000e+00 - dense_1_rmse: 0.0402 - dense_1_accuracy: 0.0000e+00 - val_loss: 0.0021 - val_dense_loss: 0.0014 - val_dense_1_loss: 0.6557 - val_dense_rmse: 0.0531 - val_dense_accuracy: 0.0000e+00 - val_dense_1_rmse: 0.0479 - val_dense_1_accuracy: 0.0000e+00\n",
            "Epoch 278/400\n",
            "8/8 [==============================] - 1s 173ms/step - loss: 0.0013 - dense_loss: 7.2780e-04 - dense_1_loss: 0.5719 - dense_rmse: 0.0382 - dense_accuracy: 0.0000e+00 - dense_1_rmse: 0.0400 - dense_1_accuracy: 0.0000e+00 - val_loss: 0.0017 - val_dense_loss: 0.0010 - val_dense_1_loss: 0.6571 - val_dense_rmse: 0.0456 - val_dense_accuracy: 0.0000e+00 - val_dense_1_rmse: 0.0536 - val_dense_1_accuracy: 0.0000e+00\n",
            "Epoch 279/400\n",
            "8/8 [==============================] - 1s 175ms/step - loss: 0.0013 - dense_loss: 6.8766e-04 - dense_1_loss: 0.5720 - dense_rmse: 0.0371 - dense_accuracy: 0.0000e+00 - dense_1_rmse: 0.0395 - dense_1_accuracy: 0.0000e+00 - val_loss: 0.0015 - val_dense_loss: 8.3094e-04 - val_dense_1_loss: 0.6573 - val_dense_rmse: 0.0408 - val_dense_accuracy: 0.0000e+00 - val_dense_1_rmse: 0.0540 - val_dense_1_accuracy: 0.0000e+00\n",
            "Epoch 280/400\n",
            "8/8 [==============================] - 1s 182ms/step - loss: 0.0011 - dense_loss: 4.9741e-04 - dense_1_loss: 0.5717 - dense_rmse: 0.0315 - dense_accuracy: 0.0000e+00 - dense_1_rmse: 0.0383 - dense_1_accuracy: 0.0000e+00 - val_loss: 0.0013 - val_dense_loss: 6.3349e-04 - val_dense_1_loss: 0.6559 - val_dense_rmse: 0.0356 - val_dense_accuracy: 0.0000e+00 - val_dense_1_rmse: 0.0484 - val_dense_1_accuracy: 0.0000e+00\n",
            "Epoch 281/400\n",
            "8/8 [==============================] - 1s 186ms/step - loss: 0.0012 - dense_loss: 6.5702e-04 - dense_1_loss: 0.5718 - dense_rmse: 0.0362 - dense_accuracy: 0.0000e+00 - dense_1_rmse: 0.0382 - dense_1_accuracy: 0.0000e+00 - val_loss: 0.0014 - val_dense_loss: 7.4850e-04 - val_dense_1_loss: 0.6560 - val_dense_rmse: 0.0387 - val_dense_accuracy: 0.0000e+00 - val_dense_1_rmse: 0.0493 - val_dense_1_accuracy: 0.0000e+00\n",
            "Epoch 282/400\n",
            "8/8 [==============================] - 1s 177ms/step - loss: 0.0011 - dense_loss: 5.7764e-04 - dense_1_loss: 0.5721 - dense_rmse: 0.0340 - dense_accuracy: 0.0000e+00 - dense_1_rmse: 0.0390 - dense_1_accuracy: 0.0000e+00 - val_loss: 0.0013 - val_dense_loss: 6.0546e-04 - val_dense_1_loss: 0.6551 - val_dense_rmse: 0.0348 - val_dense_accuracy: 0.0000e+00 - val_dense_1_rmse: 0.0450 - val_dense_1_accuracy: 0.0000e+00\n",
            "Epoch 283/400\n",
            "8/8 [==============================] - 1s 177ms/step - loss: 0.0011 - dense_loss: 5.6498e-04 - dense_1_loss: 0.5721 - dense_rmse: 0.0336 - dense_accuracy: 0.0000e+00 - dense_1_rmse: 0.0408 - dense_1_accuracy: 0.0000e+00 - val_loss: 0.0011 - val_dense_loss: 4.8614e-04 - val_dense_1_loss: 0.6582 - val_dense_rmse: 0.0312 - val_dense_accuracy: 0.0000e+00 - val_dense_1_rmse: 0.0574 - val_dense_1_accuracy: 0.0000e+00\n",
            "Epoch 284/400\n",
            "8/8 [==============================] - 1s 177ms/step - loss: 0.0010 - dense_loss: 4.3663e-04 - dense_1_loss: 0.5727 - dense_rmse: 0.0296 - dense_accuracy: 0.0000e+00 - dense_1_rmse: 0.0412 - dense_1_accuracy: 0.0000e+00 - val_loss: 0.0013 - val_dense_loss: 6.4482e-04 - val_dense_1_loss: 0.6562 - val_dense_rmse: 0.0359 - val_dense_accuracy: 0.0000e+00 - val_dense_1_rmse: 0.0501 - val_dense_1_accuracy: 0.0000e+00\n",
            "Epoch 285/400\n",
            "8/8 [==============================] - 1s 184ms/step - loss: 0.0010 - dense_loss: 4.2898e-04 - dense_1_loss: 0.5720 - dense_rmse: 0.0293 - dense_accuracy: 0.0000e+00 - dense_1_rmse: 0.0403 - dense_1_accuracy: 0.0000e+00 - val_loss: 0.0013 - val_dense_loss: 6.0216e-04 - val_dense_1_loss: 0.6567 - val_dense_rmse: 0.0347 - val_dense_accuracy: 0.0000e+00 - val_dense_1_rmse: 0.0523 - val_dense_1_accuracy: 0.0000e+00\n",
            "Epoch 286/400\n",
            "8/8 [==============================] - 1s 183ms/step - loss: 9.9056e-04 - dense_loss: 4.1913e-04 - dense_1_loss: 0.5719 - dense_rmse: 0.0290 - dense_accuracy: 0.0000e+00 - dense_1_rmse: 0.0388 - dense_1_accuracy: 0.0000e+00 - val_loss: 0.0011 - val_dense_loss: 4.8670e-04 - val_dense_1_loss: 0.6568 - val_dense_rmse: 0.0312 - val_dense_accuracy: 0.0000e+00 - val_dense_1_rmse: 0.0519 - val_dense_1_accuracy: 0.0000e+00\n",
            "Epoch 287/400\n",
            "8/8 [==============================] - 1s 180ms/step - loss: 9.7325e-04 - dense_loss: 4.0208e-04 - dense_1_loss: 0.5716 - dense_rmse: 0.0284 - dense_accuracy: 0.0000e+00 - dense_1_rmse: 0.0380 - dense_1_accuracy: 0.0000e+00 - val_loss: 0.0013 - val_dense_loss: 6.6445e-04 - val_dense_1_loss: 0.6554 - val_dense_rmse: 0.0365 - val_dense_accuracy: 0.0000e+00 - val_dense_1_rmse: 0.0459 - val_dense_1_accuracy: 0.0000e+00\n",
            "Epoch 288/400\n",
            "8/8 [==============================] - 1s 180ms/step - loss: 9.8968e-04 - dense_loss: 4.1890e-04 - dense_1_loss: 0.5712 - dense_rmse: 0.0289 - dense_accuracy: 0.0000e+00 - dense_1_rmse: 0.0360 - dense_1_accuracy: 0.0000e+00 - val_loss: 0.0016 - val_dense_loss: 9.0130e-04 - val_dense_1_loss: 0.6556 - val_dense_rmse: 0.0425 - val_dense_accuracy: 0.0000e+00 - val_dense_1_rmse: 0.0476 - val_dense_1_accuracy: 0.0000e+00\n",
            "Epoch 289/400\n",
            "8/8 [==============================] - 1s 182ms/step - loss: 9.7935e-04 - dense_loss: 4.0876e-04 - dense_1_loss: 0.5710 - dense_rmse: 0.0286 - dense_accuracy: 0.0000e+00 - dense_1_rmse: 0.0344 - dense_1_accuracy: 0.0000e+00 - val_loss: 0.0012 - val_dense_loss: 4.9639e-04 - val_dense_1_loss: 0.6558 - val_dense_rmse: 0.0315 - val_dense_accuracy: 0.0000e+00 - val_dense_1_rmse: 0.0476 - val_dense_1_accuracy: 0.0000e+00\n",
            "Epoch 290/400\n",
            "8/8 [==============================] - 1s 184ms/step - loss: 8.7584e-04 - dense_loss: 3.0523e-04 - dense_1_loss: 0.5709 - dense_rmse: 0.0247 - dense_accuracy: 0.0000e+00 - dense_1_rmse: 0.0347 - dense_1_accuracy: 0.0000e+00 - val_loss: 0.0013 - val_dense_loss: 6.5860e-04 - val_dense_1_loss: 0.6551 - val_dense_rmse: 0.0363 - val_dense_accuracy: 0.0000e+00 - val_dense_1_rmse: 0.0448 - val_dense_1_accuracy: 0.0000e+00\n",
            "Epoch 291/400\n",
            "8/8 [==============================] - 1s 180ms/step - loss: 8.7467e-04 - dense_loss: 3.0430e-04 - dense_1_loss: 0.5707 - dense_rmse: 0.0247 - dense_accuracy: 0.0000e+00 - dense_1_rmse: 0.0332 - dense_1_accuracy: 0.0000e+00 - val_loss: 0.0013 - val_dense_loss: 6.1410e-04 - val_dense_1_loss: 0.6550 - val_dense_rmse: 0.0350 - val_dense_accuracy: 0.0000e+00 - val_dense_1_rmse: 0.0441 - val_dense_1_accuracy: 0.0000e+00\n",
            "Epoch 292/400\n",
            "8/8 [==============================] - 1s 178ms/step - loss: 8.9509e-04 - dense_loss: 3.2457e-04 - dense_1_loss: 0.5709 - dense_rmse: 0.0255 - dense_accuracy: 0.0000e+00 - dense_1_rmse: 0.0341 - dense_1_accuracy: 0.0000e+00 - val_loss: 0.0010 - val_dense_loss: 3.6638e-04 - val_dense_1_loss: 0.6583 - val_dense_rmse: 0.0271 - val_dense_accuracy: 0.0000e+00 - val_dense_1_rmse: 0.0598 - val_dense_1_accuracy: 0.0000e+00\n",
            "Epoch 293/400\n",
            "8/8 [==============================] - 1s 177ms/step - loss: 8.5900e-04 - dense_loss: 2.6693e-04 - dense_1_loss: 0.5923 - dense_rmse: 0.0231 - dense_accuracy: 0.0000e+00 - dense_1_rmse: 0.1019 - dense_1_accuracy: 0.0000e+00 - val_loss: 9.8673e-04 - val_dense_loss: 3.1754e-04 - val_dense_1_loss: 0.6695 - val_dense_rmse: 0.0252 - val_dense_accuracy: 0.0000e+00 - val_dense_1_rmse: 0.0914 - val_dense_1_accuracy: 0.0000e+00\n",
            "Epoch 294/400\n",
            "8/8 [==============================] - 1s 177ms/step - loss: 7.9903e-04 - dense_loss: 2.0876e-04 - dense_1_loss: 0.5905 - dense_rmse: 0.0204 - dense_accuracy: 0.0000e+00 - dense_1_rmse: 0.0934 - dense_1_accuracy: 0.0000e+00 - val_loss: 0.0010 - val_dense_loss: 3.4998e-04 - val_dense_1_loss: 0.6655 - val_dense_rmse: 0.0265 - val_dense_accuracy: 0.0000e+00 - val_dense_1_rmse: 0.0770 - val_dense_1_accuracy: 0.0000e+00\n",
            "Epoch 295/400\n",
            "8/8 [==============================] - 1s 182ms/step - loss: 7.7049e-04 - dense_loss: 1.8742e-04 - dense_1_loss: 0.5833 - dense_rmse: 0.0194 - dense_accuracy: 0.0000e+00 - dense_1_rmse: 0.0729 - dense_1_accuracy: 0.0000e+00 - val_loss: 9.3020e-04 - val_dense_loss: 2.7172e-04 - val_dense_1_loss: 0.6588 - val_dense_rmse: 0.0233 - val_dense_accuracy: 0.0000e+00 - val_dense_1_rmse: 0.0601 - val_dense_1_accuracy: 0.0000e+00\n",
            "Epoch 296/400\n",
            "6/8 [=====================>........] - ETA: 0s - loss: 7.7620e-04 - dense_loss: 2.0087e-04 - dense_1_loss: 0.5755 - dense_rmse: 0.0200 - dense_accuracy: 0.0000e+00 - dense_1_rmse: 0.0584 - dense_1_accuracy: 0.0000e+00"
          ]
        }
      ]
    },
    {
      "cell_type": "code",
      "metadata": {
        "id": "EXyZUSIKSdfu",
        "colab": {
          "base_uri": "https://localhost:8080/",
          "height": 295
        },
        "outputId": "cada76cf-eacf-47aa-adc2-8068f928fb76"
      },
      "source": [
        "import matplotlib.pyplot as plt\n",
        "\n",
        "plt.plot(history_peak.history['dense_rmse'])\n",
        "plt.plot(history_peak.history['val_dense_rmse'])\n",
        "plt.title(\"Model Loss\")\n",
        "plt.xlabel('Epochs')\n",
        "plt.ylabel('Loss')\n",
        "plt.legend(['Train', 'Valid'])\n",
        "plt.show()"
      ],
      "execution_count": null,
      "outputs": [
        {
          "output_type": "display_data",
          "data": {
            "image/png": "[encoded data removed]",
            "text/plain": [
              "<Figure size 432x288 with 1 Axes>"
            ]
          },
          "metadata": {
            "needs_background": "light"
          }
        }
      ]
    },
    {
      "cell_type": "code",
      "metadata": {
        "id": "Z2qNONpwZM4H"
      },
      "source": [
        "Y_pred = model.predict(X_test)\n",
        "np.sqrt(np.mean(np.square(Y_pred[0][:,0]-Y_test[:,0,0])))"
      ],
      "execution_count": null,
      "outputs": []
    }
  ]
}